{
 "cells": [
  {
   "cell_type": "code",
   "execution_count": 2,
   "metadata": {},
   "outputs": [
    {
     "name": "stdout",
     "output_type": "stream",
     "text": [
      "Wrapping items from pack_books with kraft\n",
      "We'll pack books: ('Alice in Wonderland', 'Winnie the Pooh')\n",
      "\n",
      "Wrapping items from pack_toys with foil\n",
      "We'll pack toys: ('doll', 'car')\n",
      "\n",
      "Wrapping items from pack_fruits with cardboard\n",
      "We'll pack fruits: ('plum', 'pear')\n",
      "\n"
     ]
    }
   ],
   "source": [
    "def warehouse_decorator(material): #super decorator take parameter\n",
    "    def wrapper(our_function): #inner decorator take function\n",
    "        def internal_wrapper(*args):  #To handle args or/and kwargs passed to the function to be decorated\n",
    "            print('Wrapping items from {} with {}'.format(our_function.__name__, material))\n",
    "            our_function(*args)\n",
    "            print()\n",
    "        return internal_wrapper #return the wrapper function to finish arg handling with closure technique\n",
    "    return wrapper #Complete super decorator as return inner decorator and construct closure\n",
    "\n",
    "\n",
    "@warehouse_decorator('kraft') # Simple syntax ; syntactic sugar for foo = my_decorator(foo)\n",
    "def pack_books(*args):\n",
    "    print(\"We'll pack books:\", args)\n",
    "\n",
    "\n",
    "@warehouse_decorator('foil')\n",
    "def pack_toys(*args):\n",
    "    print(\"We'll pack toys:\", args)\n",
    "\n",
    "\n",
    "@warehouse_decorator('cardboard')\n",
    "def pack_fruits(*args):\n",
    "    print(\"We'll pack fruits:\", args)\n",
    "\n",
    "\n",
    "pack_books('Alice in Wonderland', 'Winnie the Pooh')\n",
    "pack_toys('doll', 'car')\n",
    "pack_fruits('plum', 'pear')"
   ]
  },
  {
   "cell_type": "code",
   "execution_count": null,
   "metadata": {},
   "outputs": [],
   "source": [
    "'''stack structure of decorator'''\n",
    "\n",
    "def big_container(collective_material):\n",
    "    def wrapper(our_function):\n",
    "        def internal_wrapper(*args):\n",
    "            our_function(*args)\n",
    "            print('<strong>*</strong> The whole order would be packed with', collective_material)\n",
    "            print()\n",
    "        return internal_wrapper\n",
    "    return wrapper\n",
    "\n",
    "def warehouse_decorator(material):\n",
    "    def wrapper(our_function):\n",
    "        def internal_wrapper(*args):\n",
    "            our_function(*args)\n",
    "            print('<strong>*</strong> Wrapping items from {} with {}'.format(our_function.__name__, material))\n",
    "        return internal_wrapper\n",
    "    return wrapper\n",
    "\n",
    "@big_container('plain cardboard')\n",
    "@warehouse_decorator('bubble foil')\n",
    "def pack_books(*args):\n",
    "    print(\"We'll pack books:\", args)\n",
    "\n",
    "@big_container('colourful cardboard')\n",
    "@warehouse_decorator('foil')\n",
    "def pack_toys(*args):\n",
    "    print(\"We'll pack toys:\", args)\n",
    "\n",
    "@big_container('strong cardboard')\n",
    "@warehouse_decorator('cardboard')\n",
    "def pack_fruits(*args):\n",
    "    print(\"We'll pack fruits:\", args)\n",
    "\n",
    "\n",
    "pack_books('Alice in Wonderland', 'Winnie the Pooh')\n",
    "pack_toys('doll', 'car')\n",
    "pack_fruits('plum', 'pear')\n"
   ]
  },
  {
   "cell_type": "code",
   "execution_count": 3,
   "metadata": {},
   "outputs": [
    {
     "name": "stdout",
     "output_type": "stream",
     "text": [
      "\"combiner\" was called with the following arguments\n",
      "\t('a', 'b')\n",
      "\t{'exec': 'yes'}\n",
      "\n",
      "\tHello from the decorated function; received arguments: ('a', 'b') {'exec': 'yes'}\n",
      "Decorator is still operating\n"
     ]
    }
   ],
   "source": [
    "'''Take class as decorator'''\n",
    "\n",
    "class SimpleDecorator:\n",
    "    def __init__(self, own_function):\n",
    "        self.func = own_function\n",
    "\n",
    "    def __call__(self, *args, **kwargs):\n",
    "        print('\"{}\" was called with the following arguments'.format(self.func.__name__))\n",
    "        print('\\t{}\\n\\t{}\\n'.format(args, kwargs))\n",
    "        self.func(*args, **kwargs)\n",
    "        print('Decorator is still operating')\n",
    "\n",
    "\n",
    "@SimpleDecorator\n",
    "def combiner(*args, **kwargs):\n",
    "    print(\"\\tHello from the decorated function; received arguments:\", args, kwargs)\n",
    "\n",
    "\n",
    "combiner('a', 'b', exec='yes')\n"
   ]
  },
  {
   "cell_type": "code",
   "execution_count": 4,
   "metadata": {},
   "outputs": [
    {
     "name": "stdout",
     "output_type": "stream",
     "text": [
      "We noticed that the mileage attribute was read\n",
      "The mileage is 0\n",
      "The VIN is ABC123\n"
     ]
    }
   ],
   "source": [
    "'''Application of decorator : object attribute alert'''\n",
    "\n",
    "def object_counter(class_):\n",
    "    class_.__getattr__orig = class_.__getattribute__\n",
    "\n",
    "    def new_getattr(self, name):\n",
    "        if name == 'mileage':\n",
    "            print('We noticed that the mileage attribute was read')\n",
    "        return class_.__getattr__orig(self, name)\n",
    "\n",
    "    class_.__getattribute__ = new_getattr\n",
    "    return class_\n",
    "\n",
    "@object_counter\n",
    "class Car:\n",
    "    def __init__(self, VIN):\n",
    "        self.mileage = 0\n",
    "        self.VIN = VIN\n",
    "    \n",
    "car = Car('ABC123')\n",
    "print('The mileage is', car.mileage)\n",
    "print('The VIN is', car.VIN)"
   ]
  }
 ],
 "metadata": {
  "kernelspec": {
   "display_name": "Python 3",
   "language": "python",
   "name": "python3"
  },
  "language_info": {
   "codemirror_mode": {
    "name": "ipython",
    "version": 3
   },
   "file_extension": ".py",
   "mimetype": "text/x-python",
   "name": "python",
   "nbconvert_exporter": "python",
   "pygments_lexer": "ipython3",
   "version": "3.8.5"
  }
 },
 "nbformat": 4,
 "nbformat_minor": 4
}
