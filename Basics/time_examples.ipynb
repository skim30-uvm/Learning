{
 "cells": [
  {
   "cell_type": "code",
   "execution_count": 1,
   "metadata": {
    "scrolled": true
   },
   "outputs": [
    {
     "name": "stdout",
     "output_type": "stream",
     "text": [
      "Today: 2021-07-18\n",
      "Year: 2021\n",
      "Month: 7\n",
      "Day: 18\n",
      "2019-11-04\n",
      "1992-01-16\n",
      "3\n",
      "4\n"
     ]
    }
   ],
   "source": [
    "from datetime import date\n",
    "# To create a date object, you must pass the year, month, and day parameters\n",
    "# today() method read current time.\n",
    "\n",
    "today = date.today()\n",
    "\n",
    "print(\"Today:\", today)\n",
    "print(\"Year:\", today.year)\n",
    "print(\"Month:\", today.month)\n",
    "print(\"Day:\", today.day)\n",
    "\n",
    "# fromisoformat method takes a date in the YYYY-MM-DD format\n",
    "d = date.fromisoformat('2019-11-04')\n",
    "print(d)\n",
    "# replace method replace the year, month, or day with a different value\n",
    "d = d.replace(year=1992, month=1, day=16)\n",
    "print(d)\n",
    "# weekday method returns the day of the week as an integer, where 0 is Monday and 6 is Sunday. \n",
    "print(d.weekday())\n",
    "# similarly, isoweekday returns the day of the week as an integer, but 1 is Monday, and 7 is Sunday.\n",
    "print(d.isoweekday())"
   ]
  },
  {
   "cell_type": "code",
   "execution_count": 15,
   "metadata": {},
   "outputs": [
    {
     "name": "stdout",
     "output_type": "stream",
     "text": [
      "Time: 14:53:20.000001\n",
      "Hour: 14\n",
      "Minute: 53\n",
      "Second: 20\n",
      "Microsecond: 1\n",
      "14:39:00\n"
     ]
    }
   ],
   "source": [
    "from datetime import time\n",
    "# time(hour, minute, second, microsecond, tzinfo, fold)\n",
    "t = time(14, 53, 20, 1)\n",
    "\n",
    "print(\"Time:\", t)\n",
    "print(\"Hour:\", t.hour)\n",
    "print(\"Minute:\", t.minute)\n",
    "print(\"Second:\", t.second)\n",
    "print(\"Microsecond:\", t.microsecond)\n",
    "\n",
    "t = time(14, 39)\n",
    "print(t.strftime(\"%H:%M:%S\"))"
   ]
  },
  {
   "cell_type": "code",
   "execution_count": 11,
   "metadata": {},
   "outputs": [
    {
     "name": "stdout",
     "output_type": "stream",
     "text": [
      "Datetime: 2019-11-04 14:53:00\n",
      "Date: 2019-11-04\n",
      "Time: 14:53:00\n",
      "today: 2021-07-18 18:14:29.163813\n",
      "now: 2021-07-18 18:14:29.163887\n",
      "utcnow: 2021-07-18 18:14:29.163929\n",
      "Timestamp: 1572879180.0\n",
      "1992/01/16\n"
     ]
    }
   ],
   "source": [
    "from datetime import datetime\n",
    "# datetime object\n",
    "# datetime(year, month, day, hour, minute, second, microsecond, tzinfo, fold)\n",
    "dt = datetime(2019, 11, 4, 14, 53)\n",
    "\n",
    "print(\"Datetime:\", dt)\n",
    "print(\"Date:\", dt.date())\n",
    "print(\"Time:\", dt.time())\n",
    "# Methods for current time\n",
    "print(\"today:\", datetime.today())\n",
    "print(\"now:\", datetime.now())\n",
    "print(\"utcnow:\", datetime.utcnow())\n",
    "# Timestamp\n",
    "print(\"Timestamp:\", dt.timestamp())\n",
    "\n",
    "# strftime method\n",
    "#A directive is a string consisting of the character % and a lowercase or uppercase letter\n",
    "# %Y means the year with the century as a decimal number.\n",
    "print(d.strftime('%Y/%m/%d'))\n",
    "# other directives: https://docs.python.org/3/library/datetime.html#strftime-and-strptime-format-codes"
   ]
  },
  {
   "cell_type": "code",
   "execution_count": 13,
   "metadata": {},
   "outputs": [
    {
     "name": "stdout",
     "output_type": "stream",
     "text": [
      "14:53:00\n",
      "20/November/04 14:53:00\n"
     ]
    }
   ],
   "source": [
    "# More examples\n",
    "from datetime import time\n",
    "from datetime import datetime\n",
    "\n",
    "t = time(14, 53)\n",
    "print(t.strftime(\"%H:%M:%S\"))\n",
    "\n",
    "dt = datetime(2020, 11, 4, 14, 53)\n",
    "print(dt.strftime(\"%y/%B/%d %H:%M:%S\"))"
   ]
  },
  {
   "cell_type": "code",
   "execution_count": 14,
   "metadata": {},
   "outputs": [
    {
     "name": "stdout",
     "output_type": "stream",
     "text": [
      "2019-11-04 14:53:00\n"
     ]
    }
   ],
   "source": [
    "# The strptime() method\n",
    "print(datetime.strptime(\"2019/11/04 14:53:00\", \"%Y/%m/%d %H:%M:%S\"))\n",
    "\n",
    "#Note: In the time module, you can find a function called strptime, \n",
    "#which parses a string representing a time to a struct_time object."
   ]
  },
  {
   "cell_type": "code",
   "execution_count": 16,
   "metadata": {},
   "outputs": [
    {
     "name": "stdout",
     "output_type": "stream",
     "text": [
      "366 days, 0:00:00\n",
      "365 days, 9:07:00\n",
      "16 days, 3:00:00\n",
      "32 days, 6:00:00\n",
      "2019-11-05\n",
      "2019-11-05 20:53:00\n"
     ]
    }
   ],
   "source": [
    "# date and datetime module object can do subtraction\n",
    "d1 = date(2020, 11, 4)\n",
    "d2 = date(2019, 11, 4)\n",
    "\n",
    "print(d1 - d2)\n",
    "\n",
    "dt1 = datetime(2020, 11, 4, 0, 0, 0)\n",
    "dt2 = datetime(2019, 11, 4, 14, 53, 0)\n",
    "\n",
    "print(dt1 - dt2)\n",
    "\n",
    "# timedelta objects\n",
    "from datetime import timedelta\n",
    "\n",
    "delta = timedelta(weeks=2, days=2, hours=3)\n",
    "print(delta)\n",
    "# timedelta object only stores days, seconds, and microseconds internally.\n",
    "# delta objects can be multiplied, added.\n",
    "delta2 = delta * 2\n",
    "print(delta2)\n",
    "d = date(2019, 10, 4) + delta2\n",
    "print(d)\n",
    "dt = datetime(2019, 10, 4, 14, 53) + delta2\n",
    "print(dt)"
   ]
  },
  {
   "cell_type": "code",
   "execution_count": 8,
   "metadata": {},
   "outputs": [
    {
     "name": "stdout",
     "output_type": "stream",
     "text": [
      "Timestamp: 1626631338.101117\n",
      "Date: 2021-07-18\n",
      "Mon Nov  4 14:53:00 2019\n",
      "time.struct_time(tm_year=2019, tm_mon=11, tm_mday=4, tm_hour=14, tm_min=53, tm_sec=0, tm_wday=0, tm_yday=308, tm_isdst=0)\n",
      "time.struct_time(tm_year=2019, tm_mon=11, tm_mday=4, tm_hour=14, tm_min=53, tm_sec=0, tm_wday=0, tm_yday=308, tm_isdst=0)\n",
      "Mon Nov  4 14:53:00 2019\n",
      "1572879180.0\n"
     ]
    }
   ],
   "source": [
    "# The time module\n",
    "import time\n",
    "\n",
    "# time method returns the timestamp \n",
    "# which expresses the number of seconds since January 1, 1970, 00:00:00 (UTC). \n",
    "# This date is called the Unix epoch\n",
    "\n",
    "timestamp = time.time()\n",
    "print(\"Timestamp:\", timestamp)\n",
    "\n",
    "d2 = date.fromtimestamp(timestamp)\n",
    "print(\"Date:\", d2)\n",
    "\n",
    "# ctime converts the timestamp to a string.\n",
    "timestamp = 1572879180\n",
    "print(time.ctime(timestamp))\n",
    "\n",
    "# struct_time classes\n",
    "print(time.gmtime(timestamp))\n",
    "print(time.localtime(timestamp))\n",
    "\n",
    "# asctime converts a struct_time object or a tuple to a string.\n",
    "st = time.gmtime(timestamp)\n",
    "print(time.asctime(st))\n",
    "# mktime converts a struct_time object or a tuple that expresses the local time to timestamp\n",
    "print(time.mktime((2019, 11, 4, 14, 53, 0, 0, 308, 0)))"
   ]
  },
  {
   "cell_type": "code",
   "execution_count": 12,
   "metadata": {},
   "outputs": [
    {
     "name": "stdout",
     "output_type": "stream",
     "text": [
      "2019/11/04 14:53:00\n",
      "2021/07/18 18:18:31\n"
     ]
    }
   ],
   "source": [
    "# The strftime() function in the time module\n",
    "import time\n",
    "\n",
    "timestamp = 1572879180\n",
    "st = time.gmtime(timestamp)\n",
    "\n",
    "print(time.strftime(\"%Y/%m/%d %H:%M:%S\", st))\n",
    "print(time.strftime(\"%Y/%m/%d %H:%M:%S\"))\n",
    "\n",
    "#https://docs.python.org/3/library/time.html#time.strftime"
   ]
  },
  {
   "cell_type": "code",
   "execution_count": null,
   "metadata": {},
   "outputs": [],
   "source": [
    "# sleep\n",
    "class Student:\n",
    "    def take_nap(self, seconds):\n",
    "        print(\"I'm very tired. I have to take a nap. See you later.\")\n",
    "        time.sleep(seconds)\n",
    "        print(\"I slept well! I feel great!\")\n",
    "\n",
    "student = Student()\n",
    "student.take_nap(5)"
   ]
  },
  {
   "cell_type": "code",
   "execution_count": 8,
   "metadata": {
    "scrolled": true
   },
   "outputs": [
    {
     "name": "stdout",
     "output_type": "stream",
     "text": [
      "   December 2020\n",
      "Su Mo Tu We Th Fr Sa\n",
      "       1  2  3  4  5\n",
      " 6  7  8  9 10 11 12\n",
      "13 14 15 16 17 18 19\n",
      "20 21 22 23 24 25 26\n",
      "27 28 29 30 31\n",
      "Su Mo Tu We Th Fr Sa\n",
      "True\n",
      "3\n",
      "   November 2019\n",
      "Mo Tu We Th Fr Sa Su\n",
      "             1  2  3\n",
      " 4  5  6  7  8  9 10\n",
      "11 12 13 14 15 16 17\n",
      "18 19 20 21 22 23 24\n",
      "25 26 27 28 29 30\n"
     ]
    }
   ],
   "source": [
    "# calendar module\n",
    "import calendar\n",
    "#print(calendar.calendar(2020))\n",
    "#calendar.prcal(2020)\n",
    "calendar.setfirstweekday(calendar.SUNDAY)\n",
    "calendar.prmonth(2020, 12)\n",
    "# weekday 0-6 Mon-Sun\n",
    "print(calendar.weekheader(2))\n",
    "print(calendar.isleap(2020))\n",
    "print(calendar.leapdays(2010, 2021))  # Up to but not including 2021.\n",
    "\n",
    "calendar.setfirstweekday(0)\n",
    "calendar.prmonth(2019, 11)"
   ]
  },
  {
   "cell_type": "code",
   "execution_count": 6,
   "metadata": {},
   "outputs": [
    {
     "name": "stdout",
     "output_type": "stream",
     "text": [
      "6 0 1 2 3 4 5 2019-10-28 2019-10-29 2019-10-30 2019-10-31 2019-11-01 2019-11-02 2019-11-03 2019-11-04 2019-11-05 2019-11-06 2019-11-07 2019-11-08 2019-11-09 2019-11-10 2019-11-11 2019-11-12 2019-11-13 2019-11-14 2019-11-15 2019-11-16 2019-11-17 2019-11-18 2019-11-19 2019-11-20 2019-11-21 2019-11-22 2019-11-23 2019-11-24 2019-11-25 2019-11-26 2019-11-27 2019-11-28 2019-11-29 2019-11-30 2019-12-01 "
     ]
    }
   ],
   "source": [
    "c = calendar.Calendar(calendar.SUNDAY)\n",
    "\n",
    "for weekday in c.iterweekdays():\n",
    "    print(weekday, end=\" \")\n",
    "c = calendar.Calendar()\n",
    "\n",
    "for date in c.itermonthdates(2019, 11):\n",
    "    print(date, end=\" \")\n",
    "    #each week should be completed (Mon-Sun)\n",
    "    \n",
    "for iter in c.itermonthdays(2019, 11):\n",
    "    print(iter, end=\" \")\n",
    "    \n",
    "for data in c.monthdays2calendar(2020, 12):\n",
    "    print(data)"
   ]
  }
 ],
 "metadata": {
  "kernelspec": {
   "display_name": "Python 3",
   "language": "python",
   "name": "python3"
  },
  "language_info": {
   "codemirror_mode": {
    "name": "ipython",
    "version": 3
   },
   "file_extension": ".py",
   "mimetype": "text/x-python",
   "name": "python",
   "nbconvert_exporter": "python",
   "pygments_lexer": "ipython3",
   "version": "3.8.5"
  }
 },
 "nbformat": 4,
 "nbformat_minor": 4
}
