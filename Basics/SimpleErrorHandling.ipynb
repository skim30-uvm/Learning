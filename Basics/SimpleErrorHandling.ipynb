{
 "cells": [
  {
   "cell_type": "markdown",
   "metadata": {},
   "source": [
    "# Experiment for exception class"
   ]
  },
  {
   "cell_type": "code",
   "execution_count": 1,
   "metadata": {},
   "outputs": [
    {
     "name": "stdout",
     "output_type": "stream",
     "text": [
      "Enter a number from -10 to 10: 100\n",
      "Error: not within range\n",
      "Enter a number from -10 to 10: tt\n",
      "Error: wrong input\n",
      "Enter a number from -10 to 10: 7\n",
      "The number is: 7\n"
     ]
    }
   ],
   "source": [
    "def read_int(prompt, min, max):\n",
    "    #\n",
    "    rule1 = 1\n",
    "    while rule1:\n",
    "        try:\n",
    "            num = input(prompt)\n",
    "            num = int(num)\n",
    "            assert num>min and num<max\n",
    "            rule1 = 0\n",
    "            return num\n",
    "        except ValueError:\n",
    "            print('Error: wrong input')\n",
    "            \n",
    "        except:\n",
    "            print('Error: not within range')\n",
    "            \n",
    "    #\n",
    "\n",
    "\n",
    "v = read_int(\"Enter a number from -10 to 10: \", -10, 10)\n",
    "\n",
    "print(\"The number is:\", v)"
   ]
  },
  {
   "cell_type": "code",
   "execution_count": 2,
   "metadata": {},
   "outputs": [
    {
     "name": "stdout",
     "output_type": "stream",
     "text": [
      "I/O error occurred:  No such file or directory\n"
     ]
    }
   ],
   "source": [
    "from os import strerror\n",
    "\n",
    "try:\n",
    "    cnt = 0\n",
    "    s = open('text.txt', \"rt\")\n",
    "    content = s.read()\n",
    "    for ch in content:\n",
    "        print(ch, end='')\n",
    "        cnt += 1\n",
    "    s.close()\n",
    "    print(\"\\n\\nCharacters in file:\", cnt)\n",
    "except IOError as e:\n",
    "    print(\"I/O error occurred: \", strerror(e.errno))\n"
   ]
  },
  {
   "cell_type": "code",
   "execution_count": 3,
   "metadata": {},
   "outputs": [
    {
     "name": "stdout",
     "output_type": "stream",
     "text": [
      "exexex\n"
     ]
    }
   ],
   "source": [
    "class Ex(Exception):\n",
    "    def __init__(self,msg):\n",
    "        Exception.__init__(self,msg+msg+msg)\n",
    "#         self.arg = (msg,)\n",
    "        \n",
    "        \n",
    "try:\n",
    "    raise Ex('ex')\n",
    "except Ex as e:\n",
    "    print(e)\n",
    "except Exception as e:\n",
    "    print(e)"
   ]
  },
  {
   "cell_type": "code",
   "execution_count": 14,
   "metadata": {},
   "outputs": [
    {
     "ename": "Ex",
     "evalue": "wrong is wrong",
     "output_type": "error",
     "traceback": [
      "\u001b[0;31m---------------------------------------------------------------------------\u001b[0m",
      "\u001b[0;31mEx\u001b[0m                                        Traceback (most recent call last)",
      "\u001b[0;32m<ipython-input-14-8c74cf8f9bf7>\u001b[0m in \u001b[0;36m<module>\u001b[0;34m\u001b[0m\n\u001b[1;32m      8\u001b[0m \u001b[0;31m# except Ex:\u001b[0m\u001b[0;34m\u001b[0m\u001b[0;34m\u001b[0m\u001b[0;34m\u001b[0m\u001b[0m\n\u001b[1;32m      9\u001b[0m \u001b[0;31m#     print(Ex)\u001b[0m\u001b[0;34m\u001b[0m\u001b[0;34m\u001b[0m\u001b[0;34m\u001b[0m\u001b[0m\n\u001b[0;32m---> 10\u001b[0;31m \u001b[0;32mraise\u001b[0m \u001b[0mEx\u001b[0m\u001b[0;34m(\u001b[0m\u001b[0;34m'wrong'\u001b[0m\u001b[0;34m)\u001b[0m\u001b[0;34m\u001b[0m\u001b[0;34m\u001b[0m\u001b[0m\n\u001b[0m",
      "\u001b[0;31mEx\u001b[0m: wrong is wrong"
     ]
    }
   ],
   "source": [
    "class Ex(Exception):\n",
    "    def __init__(self,msg):\n",
    "#         self.msg = msg+msg\n",
    "        Exception.__init__(self,msg+\" is wrong\")\n",
    "\n",
    "# try:\n",
    "#     raise Ex('wrong')\n",
    "# except Ex:\n",
    "#     print(Ex)\n",
    "raise Ex('wrong')"
   ]
  }
 ],
 "metadata": {
  "kernelspec": {
   "display_name": "Python 3",
   "language": "python",
   "name": "python3"
  },
  "language_info": {
   "codemirror_mode": {
    "name": "ipython",
    "version": 3
   },
   "file_extension": ".py",
   "mimetype": "text/x-python",
   "name": "python",
   "nbconvert_exporter": "python",
   "pygments_lexer": "ipython3",
   "version": "3.8.5"
  }
 },
 "nbformat": 4,
 "nbformat_minor": 4
}
