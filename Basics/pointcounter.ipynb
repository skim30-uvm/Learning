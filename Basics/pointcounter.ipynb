{
 "cells": [
  {
   "cell_type": "markdown",
   "metadata": {},
   "source": [
    "# Counting points from scratch\n",
    "# An example of error handling"
   ]
  },
  {
   "cell_type": "code",
   "execution_count": 1,
   "metadata": {},
   "outputs": [
    {
     "name": "stdout",
     "output_type": "stream",
     "text": [
      "71\n"
     ]
    }
   ],
   "source": [
    "#sample file\n",
    "try:\n",
    "    src = open(\"scores.txt\", 'wt')\n",
    "except IOError as e:\n",
    "    print(\"Cannot open the source file: \", strerror(e.errno))\n",
    "    exit(e.errno)\n",
    "\n",
    "dc = src.write(\"\"\"John Smith 5\n",
    "Anna Boleyn 4.5\n",
    "John Smith 2\n",
    "Anna Boleyn 11\n",
    "Andrew Cox 1.5\"\"\")\n",
    "src.close\n",
    "print(dc)"
   ]
  },
  {
   "cell_type": "code",
   "execution_count": 2,
   "metadata": {},
   "outputs": [
    {
     "name": "stdout",
     "output_type": "stream",
     "text": [
      "The text has bad line(s) with wrong format\n",
      "The file is empty\n"
     ]
    }
   ],
   "source": [
    "# Possible exceptions\n",
    "class StudentsDataException(Exception):\n",
    "    pass\n",
    "\n",
    "\n",
    "class BadLine(StudentsDataException):\n",
    "    print(\"The text has bad line(s) with wrong format\")\n",
    "\n",
    "\n",
    "class FileEmpty(StudentsDataException):\n",
    "    print(\"The file is empty\")"
   ]
  },
  {
   "cell_type": "code",
   "execution_count": 3,
   "metadata": {},
   "outputs": [
    {
     "name": "stdout",
     "output_type": "stream",
     "text": [
      "This code accept text file with [first] [last] [point] format\n",
      "Enter the source file name: scores.txt\n",
      "Process success\n",
      "{'Anna Boleyn': 15.5, 'John Smith': 2.0, 'Andrew Cox': 1.5}\n"
     ]
    }
   ],
   "source": [
    "# In case the text file is too large, read one char by char(100).\n",
    "from os import strerror\n",
    "print(\"This code accept text file with [first] [last] [point] format\")\n",
    "srcname = input(\"Enter the source file name: \")\n",
    "try:\n",
    "    src = open(srcname, 'rt')\n",
    "except IOError as e:\n",
    "    print(\"Cannot open the source file: \", strerror(e.errno))\n",
    "    exit(e.errno)\n",
    "\n",
    "if src.readline() == \"\":\n",
    "    raise FileEmpty\n",
    "\n",
    "dic = {}\n",
    "for l in src:\n",
    "    lcontent = l.split(\" \")\n",
    "    if len(lcontent) != 3:\n",
    "        raise BadLine\n",
    "    name = lcontent[0]+\" \"+lcontent[1]\n",
    "    try: \n",
    "        dic[name] += float(lcontent[2])\n",
    "    except KeyError:\n",
    "        dic[name] = float(lcontent[2])\n",
    "    except:\n",
    "        print(\"unidentified error\")\n",
    "    else:\n",
    "        print(\"Process success\")\n",
    "\n",
    "print(dic)"
   ]
  },
  {
   "cell_type": "code",
   "execution_count": 4,
   "metadata": {},
   "outputs": [
    {
     "name": "stdout",
     "output_type": "stream",
     "text": [
      "Andrew Cox 1.5\n",
      "Anna Boleyn 15.5\n",
      "John Smith 2.0\n"
     ]
    }
   ],
   "source": [
    "#sort names by first name\n",
    "\n",
    "sort_orders = sorted(dic.items(), key=lambda x: x[0])\n",
    "\n",
    "for i in sort_orders:\n",
    "    print(i[0], i[1])"
   ]
  }
 ],
 "metadata": {
  "kernelspec": {
   "display_name": "Python 3",
   "language": "python",
   "name": "python3"
  },
  "language_info": {
   "codemirror_mode": {
    "name": "ipython",
    "version": 3
   },
   "file_extension": ".py",
   "mimetype": "text/x-python",
   "name": "python",
   "nbconvert_exporter": "python",
   "pygments_lexer": "ipython3",
   "version": "3.8.5"
  }
 },
 "nbformat": 4,
 "nbformat_minor": 4
}
