{
 "cells": [
  {
   "cell_type": "code",
   "execution_count": 12,
   "metadata": {},
   "outputs": [],
   "source": [
    "#create sample text\n",
    "import random\n",
    "fi = open('sample.txt','wt')\n",
    "for i in range(100):\n",
    "    c = chr(ord('a')+random.randint(0,25))\n",
    "    fi.write(c)\n",
    "fi.close()"
   ]
  },
  {
   "cell_type": "code",
   "execution_count": 13,
   "metadata": {},
   "outputs": [
    {
     "name": "stdout",
     "output_type": "stream",
     "text": [
      "Enter the source file name: sample.txt\n",
      "{'a': 3, 'b': 1, 'c': 3, 'd': 3, 'e': 6, 'f': 3, 'g': 4, 'h': 5, 'i': 8, 'j': 4, 'k': 4, 'l': 3, 'm': 4, 'n': 3, 'o': 5, 'p': 1, 'q': 3, 'r': 4, 's': 3, 't': 7, 'u': 1, 'v': 1, 'w': 2, 'x': 6, 'y': 5, 'z': 8}\n"
     ]
    }
   ],
   "source": [
    "# In case the text file is not too big, use whole content\n",
    "def lettercounter(string):\n",
    "    dic = {}\n",
    "    for i in range(26):\n",
    "        c = chr(ord('a')+i)\n",
    "        dic[c] = 0\n",
    "    sample = string.lower()\n",
    "    for ch in sample:\n",
    "        dic[ch] += 1\n",
    "    return dic\n",
    "\n",
    "from os import strerror\n",
    "\n",
    "srcname = input(\"Enter the source file name: \")\n",
    "try:\n",
    "    src = open(srcname, 'rt')\n",
    "except IOError as e:\n",
    "    print(\"Cannot open the source file: \", strerror(e.errno))\n",
    "    exit(e.errno)\n",
    "\n",
    "content = src.read()\n",
    "result = lettercounter(content)\n",
    "print(result)"
   ]
  },
  {
   "cell_type": "code",
   "execution_count": 15,
   "metadata": {},
   "outputs": [
    {
     "name": "stdout",
     "output_type": "stream",
     "text": [
      "Enter the source file name: sample.txt\n",
      "{'a': 3, 'b': 1, 'c': 3, 'd': 3, 'e': 6, 'f': 3, 'g': 4, 'h': 5, 'i': 8, 'j': 4, 'k': 4, 'l': 3, 'm': 4, 'n': 3, 'o': 5, 'p': 1, 'q': 3, 'r': 4, 's': 3, 't': 7, 'u': 1, 'v': 1, 'w': 2, 'x': 6, 'y': 5, 'z': 8}\n"
     ]
    }
   ],
   "source": [
    "# In case the text file is too large, read one char by char(100).\n",
    "from os import strerror\n",
    "\n",
    "srcname = input(\"Enter the source file name: \")\n",
    "try:\n",
    "    src = open(srcname, 'rt')\n",
    "except IOError as e:\n",
    "    print(\"Cannot open the source file: \", strerror(e.errno))\n",
    "    exit(e.errno)\n",
    "\n",
    "dic = {}\n",
    "for i in range(26):\n",
    "    c = chr(ord('a')+i)\n",
    "    dic[c] = 0\n",
    "for i in range(100):\n",
    "    ch = src.read(1)\n",
    "    dic[ch] += 1\n",
    "\n",
    "print(dic)"
   ]
  },
  {
   "cell_type": "code",
   "execution_count": 16,
   "metadata": {},
   "outputs": [
    {
     "name": "stdout",
     "output_type": "stream",
     "text": [
      "i 8\n",
      "z 8\n",
      "t 7\n",
      "e 6\n",
      "x 6\n",
      "h 5\n",
      "o 5\n",
      "y 5\n",
      "g 4\n",
      "j 4\n",
      "k 4\n",
      "m 4\n",
      "r 4\n",
      "a 3\n",
      "c 3\n",
      "d 3\n",
      "f 3\n",
      "l 3\n",
      "n 3\n",
      "q 3\n",
      "s 3\n",
      "w 2\n",
      "b 1\n",
      "p 1\n",
      "u 1\n",
      "v 1\n"
     ]
    }
   ],
   "source": [
    "#show result in decending order\n",
    "\n",
    "sort_orders = sorted(dic.items(), key=lambda x: x[1], reverse=True)\n",
    "\n",
    "for i in sort_orders:\n",
    "    print(i[0], i[1])"
   ]
  }
 ],
 "metadata": {
  "kernelspec": {
   "display_name": "Python 3",
   "language": "python",
   "name": "python3"
  },
  "language_info": {
   "codemirror_mode": {
    "name": "ipython",
    "version": 3
   },
   "file_extension": ".py",
   "mimetype": "text/x-python",
   "name": "python",
   "nbconvert_exporter": "python",
   "pygments_lexer": "ipython3",
   "version": "3.8.5"
  }
 },
 "nbformat": 4,
 "nbformat_minor": 4
}
