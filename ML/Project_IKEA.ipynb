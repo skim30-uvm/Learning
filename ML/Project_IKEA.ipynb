{
 "cells": [
  {
   "cell_type": "markdown",
   "metadata": {},
   "source": [
    "# This notebook is ML project for personal education purpose\n",
    "\n",
    "## copyright : Sang Wook Kim 2022"
   ]
  },
  {
   "cell_type": "code",
   "execution_count": 1,
   "metadata": {},
   "outputs": [
    {
     "name": "stdout",
     "output_type": "stream",
     "text": [
      "Imported modules.\n"
     ]
    }
   ],
   "source": [
    "# Import relevant modules\n",
    "import numpy as np\n",
    "import pandas as pd\n",
    "import tensorflow as tf\n",
    "from tensorflow.keras import layers\n",
    "from matplotlib import pyplot as plt\n",
    "import seaborn as sns\n",
    "\n",
    "# The following lines adjust the granularity of reporting. \n",
    "pd.options.display.max_rows = 10\n",
    "pd.options.display.float_format = \"{:.3f}\".format\n",
    "\n",
    "print(\"Imported modules.\")"
   ]
  },
  {
   "cell_type": "code",
   "execution_count": 2,
   "metadata": {},
   "outputs": [
    {
     "data": {
      "text/html": [
       "<div>\n",
       "<style scoped>\n",
       "    .dataframe tbody tr th:only-of-type {\n",
       "        vertical-align: middle;\n",
       "    }\n",
       "\n",
       "    .dataframe tbody tr th {\n",
       "        vertical-align: top;\n",
       "    }\n",
       "\n",
       "    .dataframe thead th {\n",
       "        text-align: right;\n",
       "    }\n",
       "</style>\n",
       "<table border=\"1\" class=\"dataframe\">\n",
       "  <thead>\n",
       "    <tr style=\"text-align: right;\">\n",
       "      <th></th>\n",
       "      <th>Unnamed: 0</th>\n",
       "      <th>item_id</th>\n",
       "      <th>name</th>\n",
       "      <th>category</th>\n",
       "      <th>price</th>\n",
       "      <th>old_price</th>\n",
       "      <th>sellable_online</th>\n",
       "      <th>link</th>\n",
       "      <th>other_colors</th>\n",
       "      <th>short_description</th>\n",
       "      <th>designer</th>\n",
       "      <th>depth</th>\n",
       "      <th>height</th>\n",
       "      <th>width</th>\n",
       "    </tr>\n",
       "  </thead>\n",
       "  <tbody>\n",
       "    <tr>\n",
       "      <th>0</th>\n",
       "      <td>0</td>\n",
       "      <td>90420332</td>\n",
       "      <td>FREKVENS</td>\n",
       "      <td>Bar furniture</td>\n",
       "      <td>265.000</td>\n",
       "      <td>No old price</td>\n",
       "      <td>True</td>\n",
       "      <td>https://www.ikea.com/sa/en/p/frekvens-bar-tabl...</td>\n",
       "      <td>No</td>\n",
       "      <td>Bar table, in/outdoor,          51x51 cm</td>\n",
       "      <td>Nicholai Wiig Hansen</td>\n",
       "      <td>nan</td>\n",
       "      <td>99.000</td>\n",
       "      <td>51.000</td>\n",
       "    </tr>\n",
       "    <tr>\n",
       "      <th>1</th>\n",
       "      <td>1</td>\n",
       "      <td>368814</td>\n",
       "      <td>NORDVIKEN</td>\n",
       "      <td>Bar furniture</td>\n",
       "      <td>995.000</td>\n",
       "      <td>No old price</td>\n",
       "      <td>False</td>\n",
       "      <td>https://www.ikea.com/sa/en/p/nordviken-bar-tab...</td>\n",
       "      <td>No</td>\n",
       "      <td>Bar table,          140x80 cm</td>\n",
       "      <td>Francis Cayouette</td>\n",
       "      <td>nan</td>\n",
       "      <td>105.000</td>\n",
       "      <td>80.000</td>\n",
       "    </tr>\n",
       "    <tr>\n",
       "      <th>2</th>\n",
       "      <td>2</td>\n",
       "      <td>9333523</td>\n",
       "      <td>NORDVIKEN / NORDVIKEN</td>\n",
       "      <td>Bar furniture</td>\n",
       "      <td>2095.000</td>\n",
       "      <td>No old price</td>\n",
       "      <td>False</td>\n",
       "      <td>https://www.ikea.com/sa/en/p/nordviken-nordvik...</td>\n",
       "      <td>No</td>\n",
       "      <td>Bar table and 4 bar stools</td>\n",
       "      <td>Francis Cayouette</td>\n",
       "      <td>nan</td>\n",
       "      <td>nan</td>\n",
       "      <td>nan</td>\n",
       "    </tr>\n",
       "    <tr>\n",
       "      <th>3</th>\n",
       "      <td>3</td>\n",
       "      <td>80155205</td>\n",
       "      <td>STIG</td>\n",
       "      <td>Bar furniture</td>\n",
       "      <td>69.000</td>\n",
       "      <td>No old price</td>\n",
       "      <td>True</td>\n",
       "      <td>https://www.ikea.com/sa/en/p/stig-bar-stool-wi...</td>\n",
       "      <td>Yes</td>\n",
       "      <td>Bar stool with backrest,          74 cm</td>\n",
       "      <td>Henrik Preutz</td>\n",
       "      <td>50.000</td>\n",
       "      <td>100.000</td>\n",
       "      <td>60.000</td>\n",
       "    </tr>\n",
       "    <tr>\n",
       "      <th>4</th>\n",
       "      <td>4</td>\n",
       "      <td>30180504</td>\n",
       "      <td>NORBERG</td>\n",
       "      <td>Bar furniture</td>\n",
       "      <td>225.000</td>\n",
       "      <td>No old price</td>\n",
       "      <td>True</td>\n",
       "      <td>https://www.ikea.com/sa/en/p/norberg-wall-moun...</td>\n",
       "      <td>No</td>\n",
       "      <td>Wall-mounted drop-leaf table,         ...</td>\n",
       "      <td>Marcus Arvonen</td>\n",
       "      <td>60.000</td>\n",
       "      <td>43.000</td>\n",
       "      <td>74.000</td>\n",
       "    </tr>\n",
       "  </tbody>\n",
       "</table>\n",
       "</div>"
      ],
      "text/plain": [
       "   Unnamed: 0   item_id                   name       category    price  \\\n",
       "0           0  90420332               FREKVENS  Bar furniture  265.000   \n",
       "1           1    368814              NORDVIKEN  Bar furniture  995.000   \n",
       "2           2   9333523  NORDVIKEN / NORDVIKEN  Bar furniture 2095.000   \n",
       "3           3  80155205                   STIG  Bar furniture   69.000   \n",
       "4           4  30180504                NORBERG  Bar furniture  225.000   \n",
       "\n",
       "      old_price  sellable_online  \\\n",
       "0  No old price             True   \n",
       "1  No old price            False   \n",
       "2  No old price            False   \n",
       "3  No old price             True   \n",
       "4  No old price             True   \n",
       "\n",
       "                                                link other_colors  \\\n",
       "0  https://www.ikea.com/sa/en/p/frekvens-bar-tabl...           No   \n",
       "1  https://www.ikea.com/sa/en/p/nordviken-bar-tab...           No   \n",
       "2  https://www.ikea.com/sa/en/p/nordviken-nordvik...           No   \n",
       "3  https://www.ikea.com/sa/en/p/stig-bar-stool-wi...          Yes   \n",
       "4  https://www.ikea.com/sa/en/p/norberg-wall-moun...           No   \n",
       "\n",
       "                                   short_description              designer  \\\n",
       "0           Bar table, in/outdoor,          51x51 cm  Nicholai Wiig Hansen   \n",
       "1                      Bar table,          140x80 cm     Francis Cayouette   \n",
       "2                         Bar table and 4 bar stools     Francis Cayouette   \n",
       "3            Bar stool with backrest,          74 cm         Henrik Preutz   \n",
       "4          Wall-mounted drop-leaf table,         ...        Marcus Arvonen   \n",
       "\n",
       "   depth  height  width  \n",
       "0    nan  99.000 51.000  \n",
       "1    nan 105.000 80.000  \n",
       "2    nan     nan    nan  \n",
       "3 50.000 100.000 60.000  \n",
       "4 60.000  43.000 74.000  "
      ]
     },
     "execution_count": 2,
     "metadata": {},
     "output_type": "execute_result"
    }
   ],
   "source": [
    "# Import database. Since this is practice, I will look a whole dataset first.\n",
    "base_df = pd.read_csv(\"../../database/IKEA/IKEA_SA_Furniture_Web_Scrapings_sss.csv\")\n",
    "base_df.head()"
   ]
  },
  {
   "cell_type": "code",
   "execution_count": 3,
   "metadata": {},
   "outputs": [
    {
     "data": {
      "text/plain": [
       "(3694, 14)"
      ]
     },
     "execution_count": 3,
     "metadata": {},
     "output_type": "execute_result"
    }
   ],
   "source": [
    "base_df.shape"
   ]
  },
  {
   "cell_type": "code",
   "execution_count": 4,
   "metadata": {},
   "outputs": [],
   "source": [
    "# Drop unnecessary component\n",
    "base_df = base_df.drop([\"Unnamed: 0\",\"link\"],axis=1)"
   ]
  },
  {
   "cell_type": "code",
   "execution_count": 5,
   "metadata": {},
   "outputs": [
    {
     "data": {
      "text/html": [
       "<div>\n",
       "<style scoped>\n",
       "    .dataframe tbody tr th:only-of-type {\n",
       "        vertical-align: middle;\n",
       "    }\n",
       "\n",
       "    .dataframe tbody tr th {\n",
       "        vertical-align: top;\n",
       "    }\n",
       "\n",
       "    .dataframe thead th {\n",
       "        text-align: right;\n",
       "    }\n",
       "</style>\n",
       "<table border=\"1\" class=\"dataframe\">\n",
       "  <thead>\n",
       "    <tr style=\"text-align: right;\">\n",
       "      <th></th>\n",
       "      <th>item_id</th>\n",
       "      <th>name</th>\n",
       "      <th>category</th>\n",
       "      <th>price</th>\n",
       "      <th>old_price</th>\n",
       "      <th>sellable_online</th>\n",
       "      <th>other_colors</th>\n",
       "      <th>short_description</th>\n",
       "      <th>designer</th>\n",
       "      <th>depth</th>\n",
       "      <th>height</th>\n",
       "      <th>width</th>\n",
       "    </tr>\n",
       "  </thead>\n",
       "  <tbody>\n",
       "    <tr>\n",
       "      <th>0</th>\n",
       "      <td>90420332</td>\n",
       "      <td>FREKVENS</td>\n",
       "      <td>Bar furniture</td>\n",
       "      <td>265.000</td>\n",
       "      <td>No old price</td>\n",
       "      <td>True</td>\n",
       "      <td>No</td>\n",
       "      <td>Bar table, in/outdoor,          51x51 cm</td>\n",
       "      <td>Nicholai Wiig Hansen</td>\n",
       "      <td>nan</td>\n",
       "      <td>99.000</td>\n",
       "      <td>51.000</td>\n",
       "    </tr>\n",
       "    <tr>\n",
       "      <th>1</th>\n",
       "      <td>368814</td>\n",
       "      <td>NORDVIKEN</td>\n",
       "      <td>Bar furniture</td>\n",
       "      <td>995.000</td>\n",
       "      <td>No old price</td>\n",
       "      <td>False</td>\n",
       "      <td>No</td>\n",
       "      <td>Bar table,          140x80 cm</td>\n",
       "      <td>Francis Cayouette</td>\n",
       "      <td>nan</td>\n",
       "      <td>105.000</td>\n",
       "      <td>80.000</td>\n",
       "    </tr>\n",
       "    <tr>\n",
       "      <th>2</th>\n",
       "      <td>9333523</td>\n",
       "      <td>NORDVIKEN / NORDVIKEN</td>\n",
       "      <td>Bar furniture</td>\n",
       "      <td>2095.000</td>\n",
       "      <td>No old price</td>\n",
       "      <td>False</td>\n",
       "      <td>No</td>\n",
       "      <td>Bar table and 4 bar stools</td>\n",
       "      <td>Francis Cayouette</td>\n",
       "      <td>nan</td>\n",
       "      <td>nan</td>\n",
       "      <td>nan</td>\n",
       "    </tr>\n",
       "    <tr>\n",
       "      <th>3</th>\n",
       "      <td>80155205</td>\n",
       "      <td>STIG</td>\n",
       "      <td>Bar furniture</td>\n",
       "      <td>69.000</td>\n",
       "      <td>No old price</td>\n",
       "      <td>True</td>\n",
       "      <td>Yes</td>\n",
       "      <td>Bar stool with backrest,          74 cm</td>\n",
       "      <td>Henrik Preutz</td>\n",
       "      <td>50.000</td>\n",
       "      <td>100.000</td>\n",
       "      <td>60.000</td>\n",
       "    </tr>\n",
       "    <tr>\n",
       "      <th>4</th>\n",
       "      <td>30180504</td>\n",
       "      <td>NORBERG</td>\n",
       "      <td>Bar furniture</td>\n",
       "      <td>225.000</td>\n",
       "      <td>No old price</td>\n",
       "      <td>True</td>\n",
       "      <td>No</td>\n",
       "      <td>Wall-mounted drop-leaf table,         ...</td>\n",
       "      <td>Marcus Arvonen</td>\n",
       "      <td>60.000</td>\n",
       "      <td>43.000</td>\n",
       "      <td>74.000</td>\n",
       "    </tr>\n",
       "    <tr>\n",
       "      <th>5</th>\n",
       "      <td>10122647</td>\n",
       "      <td>INGOLF</td>\n",
       "      <td>Bar furniture</td>\n",
       "      <td>345.000</td>\n",
       "      <td>No old price</td>\n",
       "      <td>True</td>\n",
       "      <td>No</td>\n",
       "      <td>Bar stool with backrest,          63 cm</td>\n",
       "      <td>Carina Bengs</td>\n",
       "      <td>45.000</td>\n",
       "      <td>91.000</td>\n",
       "      <td>40.000</td>\n",
       "    </tr>\n",
       "    <tr>\n",
       "      <th>6</th>\n",
       "      <td>70404875</td>\n",
       "      <td>FRANKLIN</td>\n",
       "      <td>Bar furniture</td>\n",
       "      <td>129.000</td>\n",
       "      <td>No old price</td>\n",
       "      <td>True</td>\n",
       "      <td>No</td>\n",
       "      <td>Bar stool with backrest, foldable,    ...</td>\n",
       "      <td>K Hagberg/M Hagberg</td>\n",
       "      <td>44.000</td>\n",
       "      <td>95.000</td>\n",
       "      <td>50.000</td>\n",
       "    </tr>\n",
       "  </tbody>\n",
       "</table>\n",
       "</div>"
      ],
      "text/plain": [
       "    item_id                   name       category    price     old_price  \\\n",
       "0  90420332               FREKVENS  Bar furniture  265.000  No old price   \n",
       "1    368814              NORDVIKEN  Bar furniture  995.000  No old price   \n",
       "2   9333523  NORDVIKEN / NORDVIKEN  Bar furniture 2095.000  No old price   \n",
       "3  80155205                   STIG  Bar furniture   69.000  No old price   \n",
       "4  30180504                NORBERG  Bar furniture  225.000  No old price   \n",
       "5  10122647                 INGOLF  Bar furniture  345.000  No old price   \n",
       "6  70404875               FRANKLIN  Bar furniture  129.000  No old price   \n",
       "\n",
       "   sellable_online other_colors  \\\n",
       "0             True           No   \n",
       "1            False           No   \n",
       "2            False           No   \n",
       "3             True          Yes   \n",
       "4             True           No   \n",
       "5             True           No   \n",
       "6             True           No   \n",
       "\n",
       "                                   short_description              designer  \\\n",
       "0           Bar table, in/outdoor,          51x51 cm  Nicholai Wiig Hansen   \n",
       "1                      Bar table,          140x80 cm     Francis Cayouette   \n",
       "2                         Bar table and 4 bar stools     Francis Cayouette   \n",
       "3            Bar stool with backrest,          74 cm         Henrik Preutz   \n",
       "4          Wall-mounted drop-leaf table,         ...        Marcus Arvonen   \n",
       "5            Bar stool with backrest,          63 cm          Carina Bengs   \n",
       "6          Bar stool with backrest, foldable,    ...   K Hagberg/M Hagberg   \n",
       "\n",
       "   depth  height  width  \n",
       "0    nan  99.000 51.000  \n",
       "1    nan 105.000 80.000  \n",
       "2    nan     nan    nan  \n",
       "3 50.000 100.000 60.000  \n",
       "4 60.000  43.000 74.000  \n",
       "5 45.000  91.000 40.000  \n",
       "6 44.000  95.000 50.000  "
      ]
     },
     "execution_count": 5,
     "metadata": {},
     "output_type": "execute_result"
    }
   ],
   "source": [
    "base_df.iloc[0:7]"
   ]
  },
  {
   "cell_type": "code",
   "execution_count": 6,
   "metadata": {},
   "outputs": [
    {
     "data": {
      "text/plain": [
       "Index(['item_id', 'name', 'category', 'price', 'old_price', 'sellable_online',\n",
       "       'other_colors', 'short_description', 'designer', 'depth', 'height',\n",
       "       'width'],\n",
       "      dtype='object')"
      ]
     },
     "execution_count": 6,
     "metadata": {},
     "output_type": "execute_result"
    }
   ],
   "source": [
    "base_df.columns"
   ]
  },
  {
   "cell_type": "code",
   "execution_count": 7,
   "metadata": {},
   "outputs": [
    {
     "name": "stdout",
     "output_type": "stream",
     "text": [
      "3694\n",
      "3694\n",
      "3694\n",
      "3694\n",
      "3694\n",
      "3694\n",
      "3694\n",
      "3694\n",
      "3694\n",
      "2231\n",
      "2706\n",
      "3105\n"
     ]
    }
   ],
   "source": [
    "# Are there missing feature values for a large number of observations?\n",
    "for line in base_df.count():\n",
    "    print(line)"
   ]
  },
  {
   "cell_type": "code",
   "execution_count": 8,
   "metadata": {},
   "outputs": [
    {
     "name": "stdout",
     "output_type": "stream",
     "text": [
      "{False, True} {'No', 'Yes'}\n"
     ]
    }
   ],
   "source": [
    "# Are there any unexpected values?\n",
    "print(set(base_df['sellable_online']), set(base_df['other_colors']))"
   ]
  },
  {
   "cell_type": "code",
   "execution_count": 9,
   "metadata": {},
   "outputs": [
    {
     "data": {
      "text/html": [
       "<div>\n",
       "<style scoped>\n",
       "    .dataframe tbody tr th:only-of-type {\n",
       "        vertical-align: middle;\n",
       "    }\n",
       "\n",
       "    .dataframe tbody tr th {\n",
       "        vertical-align: top;\n",
       "    }\n",
       "\n",
       "    .dataframe thead th {\n",
       "        text-align: right;\n",
       "    }\n",
       "</style>\n",
       "<table border=\"1\" class=\"dataframe\">\n",
       "  <thead>\n",
       "    <tr style=\"text-align: right;\">\n",
       "      <th></th>\n",
       "      <th>sellable_online</th>\n",
       "      <th>other_colors</th>\n",
       "    </tr>\n",
       "  </thead>\n",
       "  <tbody>\n",
       "    <tr>\n",
       "      <th>3</th>\n",
       "      <td>1</td>\n",
       "      <td>1</td>\n",
       "    </tr>\n",
       "    <tr>\n",
       "      <th>4</th>\n",
       "      <td>1</td>\n",
       "      <td>0</td>\n",
       "    </tr>\n",
       "    <tr>\n",
       "      <th>5</th>\n",
       "      <td>1</td>\n",
       "      <td>0</td>\n",
       "    </tr>\n",
       "    <tr>\n",
       "      <th>6</th>\n",
       "      <td>1</td>\n",
       "      <td>0</td>\n",
       "    </tr>\n",
       "    <tr>\n",
       "      <th>8</th>\n",
       "      <td>1</td>\n",
       "      <td>0</td>\n",
       "    </tr>\n",
       "    <tr>\n",
       "      <th>...</th>\n",
       "      <td>...</td>\n",
       "      <td>...</td>\n",
       "    </tr>\n",
       "    <tr>\n",
       "      <th>3683</th>\n",
       "      <td>1</td>\n",
       "      <td>1</td>\n",
       "    </tr>\n",
       "    <tr>\n",
       "      <th>3684</th>\n",
       "      <td>1</td>\n",
       "      <td>0</td>\n",
       "    </tr>\n",
       "    <tr>\n",
       "      <th>3685</th>\n",
       "      <td>1</td>\n",
       "      <td>1</td>\n",
       "    </tr>\n",
       "    <tr>\n",
       "      <th>3686</th>\n",
       "      <td>1</td>\n",
       "      <td>0</td>\n",
       "    </tr>\n",
       "    <tr>\n",
       "      <th>3688</th>\n",
       "      <td>1</td>\n",
       "      <td>0</td>\n",
       "    </tr>\n",
       "  </tbody>\n",
       "</table>\n",
       "<p>1899 rows × 2 columns</p>\n",
       "</div>"
      ],
      "text/plain": [
       "      sellable_online  other_colors\n",
       "3                   1             1\n",
       "4                   1             0\n",
       "5                   1             0\n",
       "6                   1             0\n",
       "8                   1             0\n",
       "...               ...           ...\n",
       "3683                1             1\n",
       "3684                1             0\n",
       "3685                1             1\n",
       "3686                1             0\n",
       "3688                1             0\n",
       "\n",
       "[1899 rows x 2 columns]"
      ]
     },
     "execution_count": 9,
     "metadata": {},
     "output_type": "execute_result"
    }
   ],
   "source": [
    "# I will drop rows with nan for now\n",
    "target_df = base_df.dropna()\n",
    "dummy = target_df[['sellable_online', 'other_colors']]\n",
    "dummy = dummy.applymap(lambda x: 1 if x == 'Yes' or x == True else 0)\n",
    "dummy\n",
    "\n",
    "# target_df.loc[:, ('sellable_online', 'other_colors')] = \\\n",
    "#     target_df.loc[:, ('sellable_online', 'other_colors')].applymap(lambda x: 1 if x == 'Yes' or x == True else 0)"
   ]
  },
  {
   "cell_type": "code",
   "execution_count": 10,
   "metadata": {},
   "outputs": [
    {
     "name": "stderr",
     "output_type": "stream",
     "text": [
      "/home/sang/anaconda3/lib/python3.8/site-packages/pandas/core/frame.py:3065: SettingWithCopyWarning: \n",
      "A value is trying to be set on a copy of a slice from a DataFrame.\n",
      "Try using .loc[row_indexer,col_indexer] = value instead\n",
      "\n",
      "See the caveats in the documentation: https://pandas.pydata.org/pandas-docs/stable/user_guide/indexing.html#returning-a-view-versus-a-copy\n",
      "  self[k1] = value[k2]\n"
     ]
    }
   ],
   "source": [
    "target_df[['sellable_online', 'other_colors']] = dummy[['sellable_online', 'other_colors']]"
   ]
  },
  {
   "cell_type": "code",
   "execution_count": 11,
   "metadata": {
    "scrolled": true
   },
   "outputs": [
    {
     "data": {
      "text/html": [
       "<div>\n",
       "<style scoped>\n",
       "    .dataframe tbody tr th:only-of-type {\n",
       "        vertical-align: middle;\n",
       "    }\n",
       "\n",
       "    .dataframe tbody tr th {\n",
       "        vertical-align: top;\n",
       "    }\n",
       "\n",
       "    .dataframe thead th {\n",
       "        text-align: right;\n",
       "    }\n",
       "</style>\n",
       "<table border=\"1\" class=\"dataframe\">\n",
       "  <thead>\n",
       "    <tr style=\"text-align: right;\">\n",
       "      <th></th>\n",
       "      <th>item_id</th>\n",
       "      <th>name</th>\n",
       "      <th>category</th>\n",
       "      <th>price</th>\n",
       "      <th>old_price</th>\n",
       "      <th>sellable_online</th>\n",
       "      <th>other_colors</th>\n",
       "      <th>short_description</th>\n",
       "      <th>designer</th>\n",
       "      <th>depth</th>\n",
       "      <th>height</th>\n",
       "      <th>width</th>\n",
       "    </tr>\n",
       "  </thead>\n",
       "  <tbody>\n",
       "    <tr>\n",
       "      <th>3</th>\n",
       "      <td>80155205</td>\n",
       "      <td>STIG</td>\n",
       "      <td>Bar furniture</td>\n",
       "      <td>69.000</td>\n",
       "      <td>No old price</td>\n",
       "      <td>1</td>\n",
       "      <td>1</td>\n",
       "      <td>Bar stool with backrest,          74 cm</td>\n",
       "      <td>Henrik Preutz</td>\n",
       "      <td>50.000</td>\n",
       "      <td>100.000</td>\n",
       "      <td>60.000</td>\n",
       "    </tr>\n",
       "    <tr>\n",
       "      <th>4</th>\n",
       "      <td>30180504</td>\n",
       "      <td>NORBERG</td>\n",
       "      <td>Bar furniture</td>\n",
       "      <td>225.000</td>\n",
       "      <td>No old price</td>\n",
       "      <td>1</td>\n",
       "      <td>0</td>\n",
       "      <td>Wall-mounted drop-leaf table,         ...</td>\n",
       "      <td>Marcus Arvonen</td>\n",
       "      <td>60.000</td>\n",
       "      <td>43.000</td>\n",
       "      <td>74.000</td>\n",
       "    </tr>\n",
       "    <tr>\n",
       "      <th>5</th>\n",
       "      <td>10122647</td>\n",
       "      <td>INGOLF</td>\n",
       "      <td>Bar furniture</td>\n",
       "      <td>345.000</td>\n",
       "      <td>No old price</td>\n",
       "      <td>1</td>\n",
       "      <td>0</td>\n",
       "      <td>Bar stool with backrest,          63 cm</td>\n",
       "      <td>Carina Bengs</td>\n",
       "      <td>45.000</td>\n",
       "      <td>91.000</td>\n",
       "      <td>40.000</td>\n",
       "    </tr>\n",
       "    <tr>\n",
       "      <th>6</th>\n",
       "      <td>70404875</td>\n",
       "      <td>FRANKLIN</td>\n",
       "      <td>Bar furniture</td>\n",
       "      <td>129.000</td>\n",
       "      <td>No old price</td>\n",
       "      <td>1</td>\n",
       "      <td>0</td>\n",
       "      <td>Bar stool with backrest, foldable,    ...</td>\n",
       "      <td>K Hagberg/M Hagberg</td>\n",
       "      <td>44.000</td>\n",
       "      <td>95.000</td>\n",
       "      <td>50.000</td>\n",
       "    </tr>\n",
       "    <tr>\n",
       "      <th>8</th>\n",
       "      <td>50406465</td>\n",
       "      <td>FRANKLIN</td>\n",
       "      <td>Bar furniture</td>\n",
       "      <td>129.000</td>\n",
       "      <td>No old price</td>\n",
       "      <td>1</td>\n",
       "      <td>0</td>\n",
       "      <td>Bar stool with backrest, foldable,    ...</td>\n",
       "      <td>K Hagberg/M Hagberg</td>\n",
       "      <td>44.000</td>\n",
       "      <td>95.000</td>\n",
       "      <td>50.000</td>\n",
       "    </tr>\n",
       "    <tr>\n",
       "      <th>...</th>\n",
       "      <td>...</td>\n",
       "      <td>...</td>\n",
       "      <td>...</td>\n",
       "      <td>...</td>\n",
       "      <td>...</td>\n",
       "      <td>...</td>\n",
       "      <td>...</td>\n",
       "      <td>...</td>\n",
       "      <td>...</td>\n",
       "      <td>...</td>\n",
       "      <td>...</td>\n",
       "      <td>...</td>\n",
       "    </tr>\n",
       "    <tr>\n",
       "      <th>3683</th>\n",
       "      <td>39329299</td>\n",
       "      <td>PAX / FORSAND/VIKEDAL</td>\n",
       "      <td>Wardrobes</td>\n",
       "      <td>1260.000</td>\n",
       "      <td>No old price</td>\n",
       "      <td>1</td>\n",
       "      <td>1</td>\n",
       "      <td>Wardrobe combination,          75x60x2...</td>\n",
       "      <td>Ehlén Johansson/IKEA of Sweden</td>\n",
       "      <td>60.000</td>\n",
       "      <td>201.000</td>\n",
       "      <td>75.000</td>\n",
       "    </tr>\n",
       "    <tr>\n",
       "      <th>3684</th>\n",
       "      <td>49157565</td>\n",
       "      <td>ELVARLI</td>\n",
       "      <td>Wardrobes</td>\n",
       "      <td>1245.000</td>\n",
       "      <td>SR 1,735</td>\n",
       "      <td>1</td>\n",
       "      <td>0</td>\n",
       "      <td>2 sections,          165x55x216 cm</td>\n",
       "      <td>Ehlén Johansson/IKEA of Sweden</td>\n",
       "      <td>55.000</td>\n",
       "      <td>216.000</td>\n",
       "      <td>164.000</td>\n",
       "    </tr>\n",
       "    <tr>\n",
       "      <th>3685</th>\n",
       "      <td>59324936</td>\n",
       "      <td>PAX / FORSAND</td>\n",
       "      <td>Wardrobes</td>\n",
       "      <td>2100.000</td>\n",
       "      <td>No old price</td>\n",
       "      <td>1</td>\n",
       "      <td>1</td>\n",
       "      <td>Wardrobe combination,          100x60x...</td>\n",
       "      <td>IKEA of Sweden/Ehlén Johansson</td>\n",
       "      <td>60.000</td>\n",
       "      <td>236.000</td>\n",
       "      <td>100.000</td>\n",
       "    </tr>\n",
       "    <tr>\n",
       "      <th>3686</th>\n",
       "      <td>69330475</td>\n",
       "      <td>PAX / HOKKSUND</td>\n",
       "      <td>Wardrobes</td>\n",
       "      <td>3985.000</td>\n",
       "      <td>No old price</td>\n",
       "      <td>1</td>\n",
       "      <td>0</td>\n",
       "      <td>Wardrobe combination,          150x66x...</td>\n",
       "      <td>IKEA of Sweden/Ehlén Johansson</td>\n",
       "      <td>66.000</td>\n",
       "      <td>236.000</td>\n",
       "      <td>150.000</td>\n",
       "    </tr>\n",
       "    <tr>\n",
       "      <th>3688</th>\n",
       "      <td>89330653</td>\n",
       "      <td>PAX / MEHAMN/AULI</td>\n",
       "      <td>Wardrobes</td>\n",
       "      <td>2045.000</td>\n",
       "      <td>No old price</td>\n",
       "      <td>1</td>\n",
       "      <td>0</td>\n",
       "      <td>Wardrobe combination,          200x66x...</td>\n",
       "      <td>IKEA of Sweden/Ehlén Johansson</td>\n",
       "      <td>66.000</td>\n",
       "      <td>236.000</td>\n",
       "      <td>200.000</td>\n",
       "    </tr>\n",
       "  </tbody>\n",
       "</table>\n",
       "<p>1899 rows × 12 columns</p>\n",
       "</div>"
      ],
      "text/plain": [
       "       item_id                   name       category    price     old_price  \\\n",
       "3     80155205                   STIG  Bar furniture   69.000  No old price   \n",
       "4     30180504                NORBERG  Bar furniture  225.000  No old price   \n",
       "5     10122647                 INGOLF  Bar furniture  345.000  No old price   \n",
       "6     70404875               FRANKLIN  Bar furniture  129.000  No old price   \n",
       "8     50406465               FRANKLIN  Bar furniture  129.000  No old price   \n",
       "...        ...                    ...            ...      ...           ...   \n",
       "3683  39329299  PAX / FORSAND/VIKEDAL      Wardrobes 1260.000  No old price   \n",
       "3684  49157565                ELVARLI      Wardrobes 1245.000      SR 1,735   \n",
       "3685  59324936          PAX / FORSAND      Wardrobes 2100.000  No old price   \n",
       "3686  69330475         PAX / HOKKSUND      Wardrobes 3985.000  No old price   \n",
       "3688  89330653      PAX / MEHAMN/AULI      Wardrobes 2045.000  No old price   \n",
       "\n",
       "      sellable_online  other_colors  \\\n",
       "3                   1             1   \n",
       "4                   1             0   \n",
       "5                   1             0   \n",
       "6                   1             0   \n",
       "8                   1             0   \n",
       "...               ...           ...   \n",
       "3683                1             1   \n",
       "3684                1             0   \n",
       "3685                1             1   \n",
       "3686                1             0   \n",
       "3688                1             0   \n",
       "\n",
       "                                      short_description  \\\n",
       "3               Bar stool with backrest,          74 cm   \n",
       "4             Wall-mounted drop-leaf table,         ...   \n",
       "5               Bar stool with backrest,          63 cm   \n",
       "6             Bar stool with backrest, foldable,    ...   \n",
       "8             Bar stool with backrest, foldable,    ...   \n",
       "...                                                 ...   \n",
       "3683          Wardrobe combination,          75x60x2...   \n",
       "3684                 2 sections,          165x55x216 cm   \n",
       "3685          Wardrobe combination,          100x60x...   \n",
       "3686          Wardrobe combination,          150x66x...   \n",
       "3688          Wardrobe combination,          200x66x...   \n",
       "\n",
       "                            designer  depth  height   width  \n",
       "3                      Henrik Preutz 50.000 100.000  60.000  \n",
       "4                     Marcus Arvonen 60.000  43.000  74.000  \n",
       "5                       Carina Bengs 45.000  91.000  40.000  \n",
       "6                K Hagberg/M Hagberg 44.000  95.000  50.000  \n",
       "8                K Hagberg/M Hagberg 44.000  95.000  50.000  \n",
       "...                              ...    ...     ...     ...  \n",
       "3683  Ehlén Johansson/IKEA of Sweden 60.000 201.000  75.000  \n",
       "3684  Ehlén Johansson/IKEA of Sweden 55.000 216.000 164.000  \n",
       "3685  IKEA of Sweden/Ehlén Johansson 60.000 236.000 100.000  \n",
       "3686  IKEA of Sweden/Ehlén Johansson 66.000 236.000 150.000  \n",
       "3688  IKEA of Sweden/Ehlén Johansson 66.000 236.000 200.000  \n",
       "\n",
       "[1899 rows x 12 columns]"
      ]
     },
     "execution_count": 11,
     "metadata": {},
     "output_type": "execute_result"
    }
   ],
   "source": [
    "target_df"
   ]
  },
  {
   "cell_type": "code",
   "execution_count": 12,
   "metadata": {},
   "outputs": [
    {
     "name": "stdout",
     "output_type": "stream",
     "text": [
      "{0, 1} {0, 1}\n"
     ]
    }
   ],
   "source": [
    "# sanity check\n",
    "print(set(target_df['sellable_online']), set(target_df['other_colors']))"
   ]
  },
  {
   "cell_type": "code",
   "execution_count": 13,
   "metadata": {},
   "outputs": [
    {
     "data": {
      "text/html": [
       "<script src=\"https://cdnjs.cloudflare.com/ajax/libs/webcomponentsjs/1.3.3/webcomponents-lite.js\"></script>\n",
       "        <link rel=\"import\" href=\"https://raw.githubusercontent.com/PAIR-code/facets/1.0.0/facets-dist/facets-jupyter.html\">\n",
       "        <facets-overview id=\"elem\"></facets-overview>\n",
       "        <script>\n",
       "          document.querySelector(\"#elem\").protoInput = \"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\";\n",
       "        </script>"
      ],
      "text/plain": [
       "<IPython.core.display.HTML object>"
      ]
     },
     "metadata": {},
     "output_type": "display_data"
    }
   ],
   "source": [
    "# For facets\n",
    "from IPython.core.display import display, HTML\n",
    "import base64\n",
    "# !pip install facets-overview==1.0.0\n",
    "from facets_overview.feature_statistics_generator import FeatureStatisticsGenerator\n",
    "\n",
    "# Visualize the Data in Facets\n",
    "fsg = FeatureStatisticsGenerator()\n",
    "dataframes = [\n",
    "    {'table': target_df, 'name': 'Data'}]\n",
    "censusProto = fsg.ProtoFromDataFrames(dataframes)\n",
    "protostr = base64.b64encode(censusProto.SerializeToString()).decode(\"utf-8\")\n",
    "\n",
    "\n",
    "HTML_TEMPLATE = \"\"\"<script src=\"https://cdnjs.cloudflare.com/ajax/libs/webcomponentsjs/1.3.3/webcomponents-lite.js\"></script>\n",
    "        <link rel=\"import\" href=\"https://raw.githubusercontent.com/PAIR-code/facets/1.0.0/facets-dist/facets-jupyter.html\">\n",
    "        <facets-overview id=\"elem\"></facets-overview>\n",
    "        <script>\n",
    "          document.querySelector(\"#elem\").protoInput = \"{protostr}\";\n",
    "        </script>\"\"\"\n",
    "html = HTML_TEMPLATE.format(protostr=protostr)\n",
    "display(HTML(html))"
   ]
  },
  {
   "cell_type": "markdown",
   "metadata": {},
   "source": [
    "### 'price' is highly asymmetric. 'sellable_online' has only 0.68% of zero. 'depth' might have to be clipped.\n",
    "### Possible new feature 'volumn' : depth * height * width\n",
    "### 'short_description' has 992 unique values. I should not blindly use the feature.\n",
    "### using old_price as feature is risky (label leakage)"
   ]
  },
  {
   "cell_type": "code",
   "execution_count": 14,
   "metadata": {},
   "outputs": [
    {
     "data": {
      "text/plain": [
       "<AxesSubplot:>"
      ]
     },
     "execution_count": 14,
     "metadata": {},
     "output_type": "execute_result"
    },
    {
     "data": {
      "image/png": "[encoded data removed]",
      "text/plain": [
       "<Figure size 432x288 with 1 Axes>"
      ]
     },
     "metadata": {
      "needs_background": "light"
     },
     "output_type": "display_data"
    }
   ],
   "source": [
    "target_df['price'].hist()"
   ]
  },
  {
   "cell_type": "code",
   "execution_count": 15,
   "metadata": {},
   "outputs": [
    {
     "data": {
      "text/plain": [
       "<AxesSubplot:>"
      ]
     },
     "execution_count": 15,
     "metadata": {},
     "output_type": "execute_result"
    },
    {
     "data": {
      "image/png": "[encoded data removed]",
      "text/plain": [
       "<Figure size 432x288 with 1 Axes>"
      ]
     },
     "metadata": {
      "needs_background": "light"
     },
     "output_type": "display_data"
    }
   ],
   "source": [
    "import math\n",
    "logprice = target_df['price'].apply(lambda x: math.log(x))\n",
    "logprice.hist()"
   ]
  },
  {
   "cell_type": "code",
   "execution_count": 16,
   "metadata": {},
   "outputs": [
    {
     "name": "stderr",
     "output_type": "stream",
     "text": [
      "<ipython-input-16-90512806ba61>:1: SettingWithCopyWarning: \n",
      "A value is trying to be set on a copy of a slice from a DataFrame.\n",
      "Try using .loc[row_indexer,col_indexer] = value instead\n",
      "\n",
      "See the caveats in the documentation: https://pandas.pydata.org/pandas-docs/stable/user_guide/indexing.html#returning-a-view-versus-a-copy\n",
      "  target_df['price'] = logprice\n"
     ]
    },
    {
     "data": {
      "text/html": [
       "<div>\n",
       "<style scoped>\n",
       "    .dataframe tbody tr th:only-of-type {\n",
       "        vertical-align: middle;\n",
       "    }\n",
       "\n",
       "    .dataframe tbody tr th {\n",
       "        vertical-align: top;\n",
       "    }\n",
       "\n",
       "    .dataframe thead th {\n",
       "        text-align: right;\n",
       "    }\n",
       "</style>\n",
       "<table border=\"1\" class=\"dataframe\">\n",
       "  <thead>\n",
       "    <tr style=\"text-align: right;\">\n",
       "      <th></th>\n",
       "      <th>item_id</th>\n",
       "      <th>name</th>\n",
       "      <th>category</th>\n",
       "      <th>price</th>\n",
       "      <th>old_price</th>\n",
       "      <th>sellable_online</th>\n",
       "      <th>other_colors</th>\n",
       "      <th>short_description</th>\n",
       "      <th>designer</th>\n",
       "      <th>depth</th>\n",
       "      <th>height</th>\n",
       "      <th>width</th>\n",
       "    </tr>\n",
       "  </thead>\n",
       "  <tbody>\n",
       "    <tr>\n",
       "      <th>3</th>\n",
       "      <td>80155205</td>\n",
       "      <td>STIG</td>\n",
       "      <td>Bar furniture</td>\n",
       "      <td>4.234</td>\n",
       "      <td>No old price</td>\n",
       "      <td>1</td>\n",
       "      <td>1</td>\n",
       "      <td>Bar stool with backrest,          74 cm</td>\n",
       "      <td>Henrik Preutz</td>\n",
       "      <td>50.000</td>\n",
       "      <td>100.000</td>\n",
       "      <td>60.000</td>\n",
       "    </tr>\n",
       "    <tr>\n",
       "      <th>4</th>\n",
       "      <td>30180504</td>\n",
       "      <td>NORBERG</td>\n",
       "      <td>Bar furniture</td>\n",
       "      <td>5.416</td>\n",
       "      <td>No old price</td>\n",
       "      <td>1</td>\n",
       "      <td>0</td>\n",
       "      <td>Wall-mounted drop-leaf table,         ...</td>\n",
       "      <td>Marcus Arvonen</td>\n",
       "      <td>60.000</td>\n",
       "      <td>43.000</td>\n",
       "      <td>74.000</td>\n",
       "    </tr>\n",
       "    <tr>\n",
       "      <th>5</th>\n",
       "      <td>10122647</td>\n",
       "      <td>INGOLF</td>\n",
       "      <td>Bar furniture</td>\n",
       "      <td>5.844</td>\n",
       "      <td>No old price</td>\n",
       "      <td>1</td>\n",
       "      <td>0</td>\n",
       "      <td>Bar stool with backrest,          63 cm</td>\n",
       "      <td>Carina Bengs</td>\n",
       "      <td>45.000</td>\n",
       "      <td>91.000</td>\n",
       "      <td>40.000</td>\n",
       "    </tr>\n",
       "    <tr>\n",
       "      <th>6</th>\n",
       "      <td>70404875</td>\n",
       "      <td>FRANKLIN</td>\n",
       "      <td>Bar furniture</td>\n",
       "      <td>4.860</td>\n",
       "      <td>No old price</td>\n",
       "      <td>1</td>\n",
       "      <td>0</td>\n",
       "      <td>Bar stool with backrest, foldable,    ...</td>\n",
       "      <td>K Hagberg/M Hagberg</td>\n",
       "      <td>44.000</td>\n",
       "      <td>95.000</td>\n",
       "      <td>50.000</td>\n",
       "    </tr>\n",
       "    <tr>\n",
       "      <th>8</th>\n",
       "      <td>50406465</td>\n",
       "      <td>FRANKLIN</td>\n",
       "      <td>Bar furniture</td>\n",
       "      <td>4.860</td>\n",
       "      <td>No old price</td>\n",
       "      <td>1</td>\n",
       "      <td>0</td>\n",
       "      <td>Bar stool with backrest, foldable,    ...</td>\n",
       "      <td>K Hagberg/M Hagberg</td>\n",
       "      <td>44.000</td>\n",
       "      <td>95.000</td>\n",
       "      <td>50.000</td>\n",
       "    </tr>\n",
       "    <tr>\n",
       "      <th>...</th>\n",
       "      <td>...</td>\n",
       "      <td>...</td>\n",
       "      <td>...</td>\n",
       "      <td>...</td>\n",
       "      <td>...</td>\n",
       "      <td>...</td>\n",
       "      <td>...</td>\n",
       "      <td>...</td>\n",
       "      <td>...</td>\n",
       "      <td>...</td>\n",
       "      <td>...</td>\n",
       "      <td>...</td>\n",
       "    </tr>\n",
       "    <tr>\n",
       "      <th>3683</th>\n",
       "      <td>39329299</td>\n",
       "      <td>PAX / FORSAND/VIKEDAL</td>\n",
       "      <td>Wardrobes</td>\n",
       "      <td>7.139</td>\n",
       "      <td>No old price</td>\n",
       "      <td>1</td>\n",
       "      <td>1</td>\n",
       "      <td>Wardrobe combination,          75x60x2...</td>\n",
       "      <td>Ehlén Johansson/IKEA of Sweden</td>\n",
       "      <td>60.000</td>\n",
       "      <td>201.000</td>\n",
       "      <td>75.000</td>\n",
       "    </tr>\n",
       "    <tr>\n",
       "      <th>3684</th>\n",
       "      <td>49157565</td>\n",
       "      <td>ELVARLI</td>\n",
       "      <td>Wardrobes</td>\n",
       "      <td>7.127</td>\n",
       "      <td>SR 1,735</td>\n",
       "      <td>1</td>\n",
       "      <td>0</td>\n",
       "      <td>2 sections,          165x55x216 cm</td>\n",
       "      <td>Ehlén Johansson/IKEA of Sweden</td>\n",
       "      <td>55.000</td>\n",
       "      <td>216.000</td>\n",
       "      <td>164.000</td>\n",
       "    </tr>\n",
       "    <tr>\n",
       "      <th>3685</th>\n",
       "      <td>59324936</td>\n",
       "      <td>PAX / FORSAND</td>\n",
       "      <td>Wardrobes</td>\n",
       "      <td>7.650</td>\n",
       "      <td>No old price</td>\n",
       "      <td>1</td>\n",
       "      <td>1</td>\n",
       "      <td>Wardrobe combination,          100x60x...</td>\n",
       "      <td>IKEA of Sweden/Ehlén Johansson</td>\n",
       "      <td>60.000</td>\n",
       "      <td>236.000</td>\n",
       "      <td>100.000</td>\n",
       "    </tr>\n",
       "    <tr>\n",
       "      <th>3686</th>\n",
       "      <td>69330475</td>\n",
       "      <td>PAX / HOKKSUND</td>\n",
       "      <td>Wardrobes</td>\n",
       "      <td>8.290</td>\n",
       "      <td>No old price</td>\n",
       "      <td>1</td>\n",
       "      <td>0</td>\n",
       "      <td>Wardrobe combination,          150x66x...</td>\n",
       "      <td>IKEA of Sweden/Ehlén Johansson</td>\n",
       "      <td>66.000</td>\n",
       "      <td>236.000</td>\n",
       "      <td>150.000</td>\n",
       "    </tr>\n",
       "    <tr>\n",
       "      <th>3688</th>\n",
       "      <td>89330653</td>\n",
       "      <td>PAX / MEHAMN/AULI</td>\n",
       "      <td>Wardrobes</td>\n",
       "      <td>7.623</td>\n",
       "      <td>No old price</td>\n",
       "      <td>1</td>\n",
       "      <td>0</td>\n",
       "      <td>Wardrobe combination,          200x66x...</td>\n",
       "      <td>IKEA of Sweden/Ehlén Johansson</td>\n",
       "      <td>66.000</td>\n",
       "      <td>236.000</td>\n",
       "      <td>200.000</td>\n",
       "    </tr>\n",
       "  </tbody>\n",
       "</table>\n",
       "<p>1899 rows × 12 columns</p>\n",
       "</div>"
      ],
      "text/plain": [
       "       item_id                   name       category  price     old_price  \\\n",
       "3     80155205                   STIG  Bar furniture  4.234  No old price   \n",
       "4     30180504                NORBERG  Bar furniture  5.416  No old price   \n",
       "5     10122647                 INGOLF  Bar furniture  5.844  No old price   \n",
       "6     70404875               FRANKLIN  Bar furniture  4.860  No old price   \n",
       "8     50406465               FRANKLIN  Bar furniture  4.860  No old price   \n",
       "...        ...                    ...            ...    ...           ...   \n",
       "3683  39329299  PAX / FORSAND/VIKEDAL      Wardrobes  7.139  No old price   \n",
       "3684  49157565                ELVARLI      Wardrobes  7.127      SR 1,735   \n",
       "3685  59324936          PAX / FORSAND      Wardrobes  7.650  No old price   \n",
       "3686  69330475         PAX / HOKKSUND      Wardrobes  8.290  No old price   \n",
       "3688  89330653      PAX / MEHAMN/AULI      Wardrobes  7.623  No old price   \n",
       "\n",
       "      sellable_online  other_colors  \\\n",
       "3                   1             1   \n",
       "4                   1             0   \n",
       "5                   1             0   \n",
       "6                   1             0   \n",
       "8                   1             0   \n",
       "...               ...           ...   \n",
       "3683                1             1   \n",
       "3684                1             0   \n",
       "3685                1             1   \n",
       "3686                1             0   \n",
       "3688                1             0   \n",
       "\n",
       "                                      short_description  \\\n",
       "3               Bar stool with backrest,          74 cm   \n",
       "4             Wall-mounted drop-leaf table,         ...   \n",
       "5               Bar stool with backrest,          63 cm   \n",
       "6             Bar stool with backrest, foldable,    ...   \n",
       "8             Bar stool with backrest, foldable,    ...   \n",
       "...                                                 ...   \n",
       "3683          Wardrobe combination,          75x60x2...   \n",
       "3684                 2 sections,          165x55x216 cm   \n",
       "3685          Wardrobe combination,          100x60x...   \n",
       "3686          Wardrobe combination,          150x66x...   \n",
       "3688          Wardrobe combination,          200x66x...   \n",
       "\n",
       "                            designer  depth  height   width  \n",
       "3                      Henrik Preutz 50.000 100.000  60.000  \n",
       "4                     Marcus Arvonen 60.000  43.000  74.000  \n",
       "5                       Carina Bengs 45.000  91.000  40.000  \n",
       "6                K Hagberg/M Hagberg 44.000  95.000  50.000  \n",
       "8                K Hagberg/M Hagberg 44.000  95.000  50.000  \n",
       "...                              ...    ...     ...     ...  \n",
       "3683  Ehlén Johansson/IKEA of Sweden 60.000 201.000  75.000  \n",
       "3684  Ehlén Johansson/IKEA of Sweden 55.000 216.000 164.000  \n",
       "3685  IKEA of Sweden/Ehlén Johansson 60.000 236.000 100.000  \n",
       "3686  IKEA of Sweden/Ehlén Johansson 66.000 236.000 150.000  \n",
       "3688  IKEA of Sweden/Ehlén Johansson 66.000 236.000 200.000  \n",
       "\n",
       "[1899 rows x 12 columns]"
      ]
     },
     "execution_count": 16,
     "metadata": {},
     "output_type": "execute_result"
    }
   ],
   "source": [
    "target_df['price'] = logprice\n",
    "target_df"
   ]
  },
  {
   "cell_type": "code",
   "execution_count": 17,
   "metadata": {},
   "outputs": [
    {
     "data": {
      "text/plain": [
       "<AxesSubplot:>"
      ]
     },
     "execution_count": 17,
     "metadata": {},
     "output_type": "execute_result"
    },
    {
     "data": {
      "image/png": "[encoded data removed]",
      "text/plain": [
       "<Figure size 432x288 with 1 Axes>"
      ]
     },
     "metadata": {
      "needs_background": "light"
     },
     "output_type": "display_data"
    }
   ],
   "source": [
    "import math\n",
    "vol = target_df['depth']*target_df['height']*target_df['width']\n",
    "vol = vol.apply(lambda x: math.log(x))\n",
    "vol.hist()"
   ]
  },
  {
   "cell_type": "code",
   "execution_count": 18,
   "metadata": {},
   "outputs": [
    {
     "data": {
      "text/plain": [
       "count   1899.000\n",
       "mean      13.031\n",
       "std        1.348\n",
       "min        3.689\n",
       "25%       12.219\n",
       "50%       13.055\n",
       "75%       14.078\n",
       "max       16.428\n",
       "dtype: float64"
      ]
     },
     "execution_count": 18,
     "metadata": {},
     "output_type": "execute_result"
    }
   ],
   "source": [
    "vol.describe()"
   ]
  },
  {
   "cell_type": "code",
   "execution_count": 19,
   "metadata": {},
   "outputs": [
    {
     "name": "stderr",
     "output_type": "stream",
     "text": [
      "<ipython-input-19-39e61f6e6d24>:1: SettingWithCopyWarning: \n",
      "A value is trying to be set on a copy of a slice from a DataFrame.\n",
      "Try using .loc[row_indexer,col_indexer] = value instead\n",
      "\n",
      "See the caveats in the documentation: https://pandas.pydata.org/pandas-docs/stable/user_guide/indexing.html#returning-a-view-versus-a-copy\n",
      "  target_df['volumn'] = vol\n"
     ]
    },
    {
     "data": {
      "text/html": [
       "<div>\n",
       "<style scoped>\n",
       "    .dataframe tbody tr th:only-of-type {\n",
       "        vertical-align: middle;\n",
       "    }\n",
       "\n",
       "    .dataframe tbody tr th {\n",
       "        vertical-align: top;\n",
       "    }\n",
       "\n",
       "    .dataframe thead th {\n",
       "        text-align: right;\n",
       "    }\n",
       "</style>\n",
       "<table border=\"1\" class=\"dataframe\">\n",
       "  <thead>\n",
       "    <tr style=\"text-align: right;\">\n",
       "      <th></th>\n",
       "      <th>item_id</th>\n",
       "      <th>name</th>\n",
       "      <th>category</th>\n",
       "      <th>price</th>\n",
       "      <th>old_price</th>\n",
       "      <th>sellable_online</th>\n",
       "      <th>other_colors</th>\n",
       "      <th>short_description</th>\n",
       "      <th>designer</th>\n",
       "      <th>depth</th>\n",
       "      <th>height</th>\n",
       "      <th>width</th>\n",
       "      <th>volumn</th>\n",
       "    </tr>\n",
       "  </thead>\n",
       "  <tbody>\n",
       "    <tr>\n",
       "      <th>3</th>\n",
       "      <td>80155205</td>\n",
       "      <td>STIG</td>\n",
       "      <td>Bar furniture</td>\n",
       "      <td>4.234</td>\n",
       "      <td>No old price</td>\n",
       "      <td>1</td>\n",
       "      <td>1</td>\n",
       "      <td>Bar stool with backrest,          74 cm</td>\n",
       "      <td>Henrik Preutz</td>\n",
       "      <td>50.000</td>\n",
       "      <td>100.000</td>\n",
       "      <td>60.000</td>\n",
       "      <td>12.612</td>\n",
       "    </tr>\n",
       "    <tr>\n",
       "      <th>4</th>\n",
       "      <td>30180504</td>\n",
       "      <td>NORBERG</td>\n",
       "      <td>Bar furniture</td>\n",
       "      <td>5.416</td>\n",
       "      <td>No old price</td>\n",
       "      <td>1</td>\n",
       "      <td>0</td>\n",
       "      <td>Wall-mounted drop-leaf table,         ...</td>\n",
       "      <td>Marcus Arvonen</td>\n",
       "      <td>60.000</td>\n",
       "      <td>43.000</td>\n",
       "      <td>74.000</td>\n",
       "      <td>12.160</td>\n",
       "    </tr>\n",
       "    <tr>\n",
       "      <th>5</th>\n",
       "      <td>10122647</td>\n",
       "      <td>INGOLF</td>\n",
       "      <td>Bar furniture</td>\n",
       "      <td>5.844</td>\n",
       "      <td>No old price</td>\n",
       "      <td>1</td>\n",
       "      <td>0</td>\n",
       "      <td>Bar stool with backrest,          63 cm</td>\n",
       "      <td>Carina Bengs</td>\n",
       "      <td>45.000</td>\n",
       "      <td>91.000</td>\n",
       "      <td>40.000</td>\n",
       "      <td>12.006</td>\n",
       "    </tr>\n",
       "    <tr>\n",
       "      <th>6</th>\n",
       "      <td>70404875</td>\n",
       "      <td>FRANKLIN</td>\n",
       "      <td>Bar furniture</td>\n",
       "      <td>4.860</td>\n",
       "      <td>No old price</td>\n",
       "      <td>1</td>\n",
       "      <td>0</td>\n",
       "      <td>Bar stool with backrest, foldable,    ...</td>\n",
       "      <td>K Hagberg/M Hagberg</td>\n",
       "      <td>44.000</td>\n",
       "      <td>95.000</td>\n",
       "      <td>50.000</td>\n",
       "      <td>12.250</td>\n",
       "    </tr>\n",
       "    <tr>\n",
       "      <th>8</th>\n",
       "      <td>50406465</td>\n",
       "      <td>FRANKLIN</td>\n",
       "      <td>Bar furniture</td>\n",
       "      <td>4.860</td>\n",
       "      <td>No old price</td>\n",
       "      <td>1</td>\n",
       "      <td>0</td>\n",
       "      <td>Bar stool with backrest, foldable,    ...</td>\n",
       "      <td>K Hagberg/M Hagberg</td>\n",
       "      <td>44.000</td>\n",
       "      <td>95.000</td>\n",
       "      <td>50.000</td>\n",
       "      <td>12.250</td>\n",
       "    </tr>\n",
       "    <tr>\n",
       "      <th>...</th>\n",
       "      <td>...</td>\n",
       "      <td>...</td>\n",
       "      <td>...</td>\n",
       "      <td>...</td>\n",
       "      <td>...</td>\n",
       "      <td>...</td>\n",
       "      <td>...</td>\n",
       "      <td>...</td>\n",
       "      <td>...</td>\n",
       "      <td>...</td>\n",
       "      <td>...</td>\n",
       "      <td>...</td>\n",
       "      <td>...</td>\n",
       "    </tr>\n",
       "    <tr>\n",
       "      <th>3683</th>\n",
       "      <td>39329299</td>\n",
       "      <td>PAX / FORSAND/VIKEDAL</td>\n",
       "      <td>Wardrobes</td>\n",
       "      <td>7.139</td>\n",
       "      <td>No old price</td>\n",
       "      <td>1</td>\n",
       "      <td>1</td>\n",
       "      <td>Wardrobe combination,          75x60x2...</td>\n",
       "      <td>Ehlén Johansson/IKEA of Sweden</td>\n",
       "      <td>60.000</td>\n",
       "      <td>201.000</td>\n",
       "      <td>75.000</td>\n",
       "      <td>13.715</td>\n",
       "    </tr>\n",
       "    <tr>\n",
       "      <th>3684</th>\n",
       "      <td>49157565</td>\n",
       "      <td>ELVARLI</td>\n",
       "      <td>Wardrobes</td>\n",
       "      <td>7.127</td>\n",
       "      <td>SR 1,735</td>\n",
       "      <td>1</td>\n",
       "      <td>0</td>\n",
       "      <td>2 sections,          165x55x216 cm</td>\n",
       "      <td>Ehlén Johansson/IKEA of Sweden</td>\n",
       "      <td>55.000</td>\n",
       "      <td>216.000</td>\n",
       "      <td>164.000</td>\n",
       "      <td>14.482</td>\n",
       "    </tr>\n",
       "    <tr>\n",
       "      <th>3685</th>\n",
       "      <td>59324936</td>\n",
       "      <td>PAX / FORSAND</td>\n",
       "      <td>Wardrobes</td>\n",
       "      <td>7.650</td>\n",
       "      <td>No old price</td>\n",
       "      <td>1</td>\n",
       "      <td>1</td>\n",
       "      <td>Wardrobe combination,          100x60x...</td>\n",
       "      <td>IKEA of Sweden/Ehlén Johansson</td>\n",
       "      <td>60.000</td>\n",
       "      <td>236.000</td>\n",
       "      <td>100.000</td>\n",
       "      <td>14.163</td>\n",
       "    </tr>\n",
       "    <tr>\n",
       "      <th>3686</th>\n",
       "      <td>69330475</td>\n",
       "      <td>PAX / HOKKSUND</td>\n",
       "      <td>Wardrobes</td>\n",
       "      <td>8.290</td>\n",
       "      <td>No old price</td>\n",
       "      <td>1</td>\n",
       "      <td>0</td>\n",
       "      <td>Wardrobe combination,          150x66x...</td>\n",
       "      <td>IKEA of Sweden/Ehlén Johansson</td>\n",
       "      <td>66.000</td>\n",
       "      <td>236.000</td>\n",
       "      <td>150.000</td>\n",
       "      <td>14.664</td>\n",
       "    </tr>\n",
       "    <tr>\n",
       "      <th>3688</th>\n",
       "      <td>89330653</td>\n",
       "      <td>PAX / MEHAMN/AULI</td>\n",
       "      <td>Wardrobes</td>\n",
       "      <td>7.623</td>\n",
       "      <td>No old price</td>\n",
       "      <td>1</td>\n",
       "      <td>0</td>\n",
       "      <td>Wardrobe combination,          200x66x...</td>\n",
       "      <td>IKEA of Sweden/Ehlén Johansson</td>\n",
       "      <td>66.000</td>\n",
       "      <td>236.000</td>\n",
       "      <td>200.000</td>\n",
       "      <td>14.952</td>\n",
       "    </tr>\n",
       "  </tbody>\n",
       "</table>\n",
       "<p>1899 rows × 13 columns</p>\n",
       "</div>"
      ],
      "text/plain": [
       "       item_id                   name       category  price     old_price  \\\n",
       "3     80155205                   STIG  Bar furniture  4.234  No old price   \n",
       "4     30180504                NORBERG  Bar furniture  5.416  No old price   \n",
       "5     10122647                 INGOLF  Bar furniture  5.844  No old price   \n",
       "6     70404875               FRANKLIN  Bar furniture  4.860  No old price   \n",
       "8     50406465               FRANKLIN  Bar furniture  4.860  No old price   \n",
       "...        ...                    ...            ...    ...           ...   \n",
       "3683  39329299  PAX / FORSAND/VIKEDAL      Wardrobes  7.139  No old price   \n",
       "3684  49157565                ELVARLI      Wardrobes  7.127      SR 1,735   \n",
       "3685  59324936          PAX / FORSAND      Wardrobes  7.650  No old price   \n",
       "3686  69330475         PAX / HOKKSUND      Wardrobes  8.290  No old price   \n",
       "3688  89330653      PAX / MEHAMN/AULI      Wardrobes  7.623  No old price   \n",
       "\n",
       "      sellable_online  other_colors  \\\n",
       "3                   1             1   \n",
       "4                   1             0   \n",
       "5                   1             0   \n",
       "6                   1             0   \n",
       "8                   1             0   \n",
       "...               ...           ...   \n",
       "3683                1             1   \n",
       "3684                1             0   \n",
       "3685                1             1   \n",
       "3686                1             0   \n",
       "3688                1             0   \n",
       "\n",
       "                                      short_description  \\\n",
       "3               Bar stool with backrest,          74 cm   \n",
       "4             Wall-mounted drop-leaf table,         ...   \n",
       "5               Bar stool with backrest,          63 cm   \n",
       "6             Bar stool with backrest, foldable,    ...   \n",
       "8             Bar stool with backrest, foldable,    ...   \n",
       "...                                                 ...   \n",
       "3683          Wardrobe combination,          75x60x2...   \n",
       "3684                 2 sections,          165x55x216 cm   \n",
       "3685          Wardrobe combination,          100x60x...   \n",
       "3686          Wardrobe combination,          150x66x...   \n",
       "3688          Wardrobe combination,          200x66x...   \n",
       "\n",
       "                            designer  depth  height   width  volumn  \n",
       "3                      Henrik Preutz 50.000 100.000  60.000  12.612  \n",
       "4                     Marcus Arvonen 60.000  43.000  74.000  12.160  \n",
       "5                       Carina Bengs 45.000  91.000  40.000  12.006  \n",
       "6                K Hagberg/M Hagberg 44.000  95.000  50.000  12.250  \n",
       "8                K Hagberg/M Hagberg 44.000  95.000  50.000  12.250  \n",
       "...                              ...    ...     ...     ...     ...  \n",
       "3683  Ehlén Johansson/IKEA of Sweden 60.000 201.000  75.000  13.715  \n",
       "3684  Ehlén Johansson/IKEA of Sweden 55.000 216.000 164.000  14.482  \n",
       "3685  IKEA of Sweden/Ehlén Johansson 60.000 236.000 100.000  14.163  \n",
       "3686  IKEA of Sweden/Ehlén Johansson 66.000 236.000 150.000  14.664  \n",
       "3688  IKEA of Sweden/Ehlén Johansson 66.000 236.000 200.000  14.952  \n",
       "\n",
       "[1899 rows x 13 columns]"
      ]
     },
     "execution_count": 19,
     "metadata": {},
     "output_type": "execute_result"
    }
   ],
   "source": [
    "target_df['volumn'] = vol\n",
    "target_df"
   ]
  },
  {
   "cell_type": "code",
   "execution_count": 20,
   "metadata": {},
   "outputs": [],
   "source": [
    "def pandas_to_numpy(data):\n",
    "    '''Convert a pandas DataFrame into a Numpy array'''\n",
    "    # Drop empty rows.\n",
    "    data = data.dropna(how=\"any\", axis=0)\n",
    "\n",
    "    # Separate DataFrame into two Numpy arrays\"\n",
    "    labels = np.array(data['price'])\n",
    "    features = data.drop('price', axis=1)\n",
    "    features = {name:np.array(value) for name, value in features.items()}\n",
    "\n",
    "    return features, labels"
   ]
  },
  {
   "cell_type": "code",
   "execution_count": 21,
   "metadata": {},
   "outputs": [],
   "source": [
    "# Creating a train data with 70% of original dataframe\n",
    "df_train = target_df.sample(frac = 0.7)\n",
    " \n",
    "# Creating a test data with the rest of the 30%\n",
    "df_test = target_df.drop(df_train.index)"
   ]
  },
  {
   "cell_type": "markdown",
   "metadata": {},
   "source": [
    "## First, try train with simple numeric column \"other_colors\" and \"volumn\""
   ]
  },
  {
   "cell_type": "code",
   "execution_count": 22,
   "metadata": {},
   "outputs": [
    {
     "data": {
      "text/html": [
       "<div>\n",
       "<style scoped>\n",
       "    .dataframe tbody tr th:only-of-type {\n",
       "        vertical-align: middle;\n",
       "    }\n",
       "\n",
       "    .dataframe tbody tr th {\n",
       "        vertical-align: top;\n",
       "    }\n",
       "\n",
       "    .dataframe thead th {\n",
       "        text-align: right;\n",
       "    }\n",
       "</style>\n",
       "<table border=\"1\" class=\"dataframe\">\n",
       "  <thead>\n",
       "    <tr style=\"text-align: right;\">\n",
       "      <th></th>\n",
       "      <th>other_colors</th>\n",
       "      <th>volumn</th>\n",
       "      <th>price</th>\n",
       "    </tr>\n",
       "  </thead>\n",
       "  <tbody>\n",
       "    <tr>\n",
       "      <th>other_colors</th>\n",
       "      <td>1.000</td>\n",
       "      <td>0.117</td>\n",
       "      <td>0.211</td>\n",
       "    </tr>\n",
       "    <tr>\n",
       "      <th>volumn</th>\n",
       "      <td>0.117</td>\n",
       "      <td>1.000</td>\n",
       "      <td>0.833</td>\n",
       "    </tr>\n",
       "    <tr>\n",
       "      <th>price</th>\n",
       "      <td>0.211</td>\n",
       "      <td>0.833</td>\n",
       "      <td>1.000</td>\n",
       "    </tr>\n",
       "  </tbody>\n",
       "</table>\n",
       "</div>"
      ],
      "text/plain": [
       "              other_colors  volumn  price\n",
       "other_colors         1.000   0.117  0.211\n",
       "volumn               0.117   1.000  0.833\n",
       "price                0.211   0.833  1.000"
      ]
     },
     "execution_count": 22,
     "metadata": {},
     "output_type": "execute_result"
    }
   ],
   "source": [
    "train1 = df_train[['other_colors','volumn','price']]\n",
    "train1.corr()"
   ]
  },
  {
   "cell_type": "code",
   "execution_count": 23,
   "metadata": {},
   "outputs": [
    {
     "data": {
      "text/plain": [
       "<matplotlib.collections.PathCollection at 0x7fb861efb850>"
      ]
     },
     "execution_count": 23,
     "metadata": {},
     "output_type": "execute_result"
    },
    {
     "data": {
      "image/png": "[encoded data removed]",
      "text/plain": [
       "<Figure size 432x288 with 1 Axes>"
      ]
     },
     "metadata": {
      "needs_background": "light"
     },
     "output_type": "display_data"
    }
   ],
   "source": [
    "plt.scatter(train1['volumn'],train1['price'])"
   ]
  },
  {
   "cell_type": "markdown",
   "metadata": {},
   "source": [
    "volumn and price has a correlation 0.837 and expected to be a good linear regression problem"
   ]
  },
  {
   "cell_type": "code",
   "execution_count": 24,
   "metadata": {},
   "outputs": [
    {
     "name": "stdout",
     "output_type": "stream",
     "text": [
      "Defined create_model and train_model\n"
     ]
    }
   ],
   "source": [
    "# Define the functions that build and train a model\n",
    "def build_model_1(my_learning_rate):\n",
    "    \"\"\"Create and compile a simple linear regression model\"\"\"\n",
    "    # Most simple tf.keras models are sequential. \n",
    "    # A sequential model contains one or more layers.\n",
    "    model = tf.keras.models.Sequential()\n",
    "\n",
    "    # Describe the topography of the model.\n",
    "    # The topography of a simple linear regression model\n",
    "    # is a single node in a single layer. \n",
    "    model.add(tf.keras.layers.Dense(units=1, \n",
    "                                  input_shape=(1,)))\n",
    "\n",
    "    # Compile the model topography into code that \n",
    "    # TensorFlow can efficiently execute. Configure \n",
    "    # training to minimize the model's mean squared error. \n",
    "    model.compile(optimizer=tf.keras.optimizers.RMSprop(learning_rate=my_learning_rate),\n",
    "                loss=\"mean_squared_error\",\n",
    "                metrics=[tf.keras.metrics.RootMeanSquaredError()])\n",
    "\n",
    "    return model           \n",
    "\n",
    "\n",
    "def train_model_1(model, feature, label, epochs, batch_size):\n",
    "    \"\"\"Train the model by feeding it data.\"\"\"\n",
    "\n",
    "    # Feed the feature values and the label values to the \n",
    "    # model. The model will train for the specified number \n",
    "    # of epochs, gradually learning how the feature values\n",
    "    # relate to the label values. \n",
    "    history = model.fit(x=feature,\n",
    "                      y=label,\n",
    "                      batch_size=batch_size,\n",
    "                      epochs=epochs)\n",
    "    # you can also shuffle = True or False\n",
    "\n",
    "    # Gather the trained model's weight and bias.\n",
    "    trained_weight = model.get_weights()[0]\n",
    "    trained_bias = model.get_weights()[1]\n",
    "\n",
    "    # The list of epochs is stored separately from the rest of history.\n",
    "    epochs = history.epoch\n",
    "\n",
    "    # Gather the history (a snapshot) of each epoch.\n",
    "    hist = pd.DataFrame(history.history)\n",
    "\n",
    "    # Specifically gather the model's root mean \n",
    "    #squared error at each epoch. \n",
    "    rmse = hist[\"root_mean_squared_error\"]\n",
    "\n",
    "    return trained_weight, trained_bias, epochs, rmse\n",
    "\n",
    "print(\"Defined create_model and train_model\")"
   ]
  },
  {
   "cell_type": "code",
   "execution_count": 25,
   "metadata": {},
   "outputs": [
    {
     "name": "stdout",
     "output_type": "stream",
     "text": [
      "Defined the plot_the_model and plot_the_loss_curve functions.\n"
     ]
    }
   ],
   "source": [
    "# Define the plotting functions\n",
    "def plot_the_model(trained_weight, trained_bias, feature, label):\n",
    "    \"\"\"Plot the trained model against the training feature and label.\"\"\"\n",
    "\n",
    "    # Label the axes.\n",
    "    plt.xlabel(\"feature\")\n",
    "    plt.ylabel(\"label\")\n",
    "\n",
    "    # Plot the feature values vs. label values.\n",
    "    plt.scatter(feature, label)\n",
    "\n",
    "    # Create a red line representing the model. The red line starts\n",
    "    # at coordinates (x0, y0) and ends at coordinates (x1, y1).\n",
    "    x0 = feature.min()\n",
    "    y0 = trained_bias + (trained_weight * x0)\n",
    "    x1 = feature.max()\n",
    "    y1 = trained_bias + (trained_weight * x1)\n",
    "\n",
    "    plt.plot([x0, x1], [y0, y1], c='r')\n",
    "\n",
    "    # Render the scatter plot and the red line.\n",
    "    plt.show()\n",
    "\n",
    "def plot_the_loss_curve(epochs, rmse):\n",
    "    \"\"\"Plot the loss curve, which shows loss vs. epoch.\"\"\"\n",
    "\n",
    "    plt.figure()\n",
    "    plt.xlabel(\"Epoch\")\n",
    "    plt.ylabel(\"Root Mean Squared Error\")\n",
    "\n",
    "    plt.plot(epochs, rmse, label=\"Loss\")\n",
    "    plt.legend()\n",
    "    plt.ylim([rmse.min()*0.97, rmse.max()])\n",
    "    plt.show()\n",
    "\n",
    "print(\"Defined the plot_the_model and plot_the_loss_curve functions.\")"
   ]
  },
  {
   "cell_type": "code",
   "execution_count": 26,
   "metadata": {},
   "outputs": [],
   "source": [
    "feature_1, label_1 = pandas_to_numpy(train1[['volumn','price']])"
   ]
  },
  {
   "cell_type": "code",
   "execution_count": 28,
   "metadata": {},
   "outputs": [
    {
     "name": "stdout",
     "output_type": "stream",
     "text": [
      "Epoch 1/50\n",
      "1329/1329 [==============================] - 1s 297us/step - loss: 21.3664 - root_mean_squared_error: 4.6224\n",
      "Epoch 2/50\n",
      "1329/1329 [==============================] - 0s 284us/step - loss: 0.7407 - root_mean_squared_error: 0.8606\n",
      "Epoch 3/50\n",
      "1329/1329 [==============================] - 0s 296us/step - loss: 0.6866 - root_mean_squared_error: 0.8286\n",
      "Epoch 4/50\n",
      "1329/1329 [==============================] - 0s 298us/step - loss: 0.6529 - root_mean_squared_error: 0.8080\n",
      "Epoch 5/50\n",
      "1329/1329 [==============================] - 0s 300us/step - loss: 0.6242 - root_mean_squared_error: 0.7901\n",
      "Epoch 6/50\n",
      "1329/1329 [==============================] - 0s 299us/step - loss: 0.6033 - root_mean_squared_error: 0.7767\n",
      "Epoch 7/50\n",
      "1329/1329 [==============================] - 0s 295us/step - loss: 0.5754 - root_mean_squared_error: 0.7585\n",
      "Epoch 8/50\n",
      "1329/1329 [==============================] - 0s 295us/step - loss: 0.5613 - root_mean_squared_error: 0.7492\n",
      "Epoch 9/50\n",
      "1329/1329 [==============================] - 0s 292us/step - loss: 0.5517 - root_mean_squared_error: 0.7428\n",
      "Epoch 10/50\n",
      "1329/1329 [==============================] - 0s 309us/step - loss: 0.5420 - root_mean_squared_error: 0.7362\n",
      "Epoch 11/50\n",
      "1329/1329 [==============================] - 0s 308us/step - loss: 0.5402 - root_mean_squared_error: 0.7350\n",
      "Epoch 12/50\n",
      "1329/1329 [==============================] - 0s 298us/step - loss: 0.5275 - root_mean_squared_error: 0.7263\n",
      "Epoch 13/50\n",
      "1329/1329 [==============================] - 0s 345us/step - loss: 0.5311 - root_mean_squared_error: 0.7288\n",
      "Epoch 14/50\n",
      "1329/1329 [==============================] - 0s 301us/step - loss: 0.5300 - root_mean_squared_error: 0.7280\n",
      "Epoch 15/50\n",
      "1329/1329 [==============================] - 0s 301us/step - loss: 0.5281 - root_mean_squared_error: 0.7267\n",
      "Epoch 16/50\n",
      "1329/1329 [==============================] - 0s 304us/step - loss: 0.5258 - root_mean_squared_error: 0.7252\n",
      "Epoch 17/50\n",
      "1329/1329 [==============================] - 0s 304us/step - loss: 0.5299 - root_mean_squared_error: 0.7279\n",
      "Epoch 18/50\n",
      "1329/1329 [==============================] - 0s 305us/step - loss: 0.5286 - root_mean_squared_error: 0.7270\n",
      "Epoch 19/50\n",
      "1329/1329 [==============================] - 0s 305us/step - loss: 0.5267 - root_mean_squared_error: 0.7258\n",
      "Epoch 20/50\n",
      "1329/1329 [==============================] - 0s 297us/step - loss: 0.5187 - root_mean_squared_error: 0.7202\n",
      "Epoch 21/50\n",
      "1329/1329 [==============================] - 0s 308us/step - loss: 0.5300 - root_mean_squared_error: 0.7280\n",
      "Epoch 22/50\n",
      "1329/1329 [==============================] - 0s 339us/step - loss: 0.5203 - root_mean_squared_error: 0.7213\n",
      "Epoch 23/50\n",
      "1329/1329 [==============================] - 0s 324us/step - loss: 0.5282 - root_mean_squared_error: 0.7268\n",
      "Epoch 24/50\n",
      "1329/1329 [==============================] - 0s 340us/step - loss: 0.5245 - root_mean_squared_error: 0.7242\n",
      "Epoch 25/50\n",
      "1329/1329 [==============================] - 0s 333us/step - loss: 0.5258 - root_mean_squared_error: 0.7251\n",
      "Epoch 26/50\n",
      "1329/1329 [==============================] - 0s 298us/step - loss: 0.5279 - root_mean_squared_error: 0.7266\n",
      "Epoch 27/50\n",
      "1329/1329 [==============================] - 0s 342us/step - loss: 0.5323 - root_mean_squared_error: 0.7296\n",
      "Epoch 28/50\n",
      "1329/1329 [==============================] - 0s 295us/step - loss: 0.5289 - root_mean_squared_error: 0.7273\n",
      "Epoch 29/50\n",
      "1329/1329 [==============================] - 0s 308us/step - loss: 0.5223 - root_mean_squared_error: 0.7227\n",
      "Epoch 30/50\n",
      "1329/1329 [==============================] - 0s 305us/step - loss: 0.5264 - root_mean_squared_error: 0.7255\n",
      "Epoch 31/50\n",
      "1329/1329 [==============================] - 0s 308us/step - loss: 0.5300 - root_mean_squared_error: 0.7280\n",
      "Epoch 32/50\n",
      "1329/1329 [==============================] - 0s 322us/step - loss: 0.5298 - root_mean_squared_error: 0.7278\n",
      "Epoch 33/50\n",
      "1329/1329 [==============================] - 0s 312us/step - loss: 0.5172 - root_mean_squared_error: 0.7192\n",
      "Epoch 34/50\n",
      "1329/1329 [==============================] - 0s 310us/step - loss: 0.5232 - root_mean_squared_error: 0.7233\n",
      "Epoch 35/50\n",
      "1329/1329 [==============================] - 0s 311us/step - loss: 0.5325 - root_mean_squared_error: 0.7297\n",
      "Epoch 36/50\n",
      "1329/1329 [==============================] - 0s 326us/step - loss: 0.5193 - root_mean_squared_error: 0.7206\n",
      "Epoch 37/50\n",
      "1329/1329 [==============================] - 0s 354us/step - loss: 0.5257 - root_mean_squared_error: 0.7251\n",
      "Epoch 38/50\n",
      "1329/1329 [==============================] - 0s 309us/step - loss: 0.5239 - root_mean_squared_error: 0.7238\n",
      "Epoch 39/50\n",
      "1329/1329 [==============================] - 0s 300us/step - loss: 0.5277 - root_mean_squared_error: 0.7264\n",
      "Epoch 40/50\n",
      "1329/1329 [==============================] - 0s 359us/step - loss: 0.5177 - root_mean_squared_error: 0.7195\n",
      "Epoch 41/50\n",
      "1329/1329 [==============================] - 0s 357us/step - loss: 0.5335 - root_mean_squared_error: 0.7304\n",
      "Epoch 42/50\n",
      "1329/1329 [==============================] - 0s 310us/step - loss: 0.5171 - root_mean_squared_error: 0.7191\n",
      "Epoch 43/50\n",
      "1329/1329 [==============================] - 0s 311us/step - loss: 0.5284 - root_mean_squared_error: 0.7269\n",
      "Epoch 44/50\n",
      "1329/1329 [==============================] - 0s 305us/step - loss: 0.5236 - root_mean_squared_error: 0.7236\n",
      "Epoch 45/50\n",
      "1329/1329 [==============================] - 0s 298us/step - loss: 0.5295 - root_mean_squared_error: 0.7277\n",
      "Epoch 46/50\n",
      "1329/1329 [==============================] - 0s 350us/step - loss: 0.5235 - root_mean_squared_error: 0.7235\n",
      "Epoch 47/50\n",
      "1329/1329 [==============================] - 0s 307us/step - loss: 0.5191 - root_mean_squared_error: 0.7205\n",
      "Epoch 48/50\n",
      "1329/1329 [==============================] - 0s 306us/step - loss: 0.5285 - root_mean_squared_error: 0.7270\n",
      "Epoch 49/50\n",
      "1329/1329 [==============================] - 0s 304us/step - loss: 0.5306 - root_mean_squared_error: 0.7284\n",
      "Epoch 50/50\n",
      "1329/1329 [==============================] - 0s 340us/step - loss: 0.5270 - root_mean_squared_error: 0.7260\n"
     ]
    },
    {
     "data": {
      "image/png": "[encoded data removed]",
      "text/plain": [
       "<Figure size 432x288 with 1 Axes>"
      ]
     },
     "metadata": {
      "needs_background": "light"
     },
     "output_type": "display_data"
    },
    {
     "data": {
      "image/png": "[encoded data removed]",
      "text/plain": [
       "<Figure size 432x288 with 1 Axes>"
      ]
     },
     "metadata": {
      "needs_background": "light"
     },
     "output_type": "display_data"
    }
   ],
   "source": [
    "# set hyperparameters\n",
    "learning_rate=0.01\n",
    "epochs=50\n",
    "my_batch_size=1 \n",
    "\n",
    "my_model_1 = build_model_1(learning_rate)\n",
    "trained_weight, trained_bias, epochs, rmse = train_model_1(my_model_1, feature_1['volumn'], \n",
    "                                                           label_1, epochs,\n",
    "                                                           my_batch_size)\n",
    "plot_the_model(float(trained_weight), float(trained_bias), feature_1['volumn'], label_1)\n",
    "plot_the_loss_curve(epochs, rmse)"
   ]
  },
  {
   "cell_type": "code",
   "execution_count": 30,
   "metadata": {},
   "outputs": [
    {
     "data": {
      "image/png": "[encoded data removed]",
      "text/plain": [
       "<Figure size 432x288 with 1 Axes>"
      ]
     },
     "metadata": {
      "needs_background": "light"
     },
     "output_type": "display_data"
    }
   ],
   "source": [
    "plot_the_loss_curve(epochs[-20:], rmse[-20:])"
   ]
  },
  {
   "cell_type": "code",
   "execution_count": 65,
   "metadata": {},
   "outputs": [],
   "source": [
    "# Check the prediction values\n",
    "def predict_house_values_1(n, feature, label):\n",
    "    \"\"\"Predict house values based on a feature.\"\"\"\n",
    "\n",
    "    batch = np.array(df_test[feature])\n",
    "    predicted_values = my_model_1.predict_on_batch(x=batch)\n",
    "    \n",
    "    print(\"feature   label          predicted\")\n",
    "    print(\"  value   value          value\")\n",
    "    print(\"          in original   in original\")\n",
    "    print(\"--------------------------------------\")\n",
    "    for i in range(n):\n",
    "        print (\"%.3f %6.0f %15.0f\" % (batch[i],\n",
    "                                       math.exp(np.array(df_test[label])[i]),\n",
    "                                       math.exp(predicted_values[i][0]) ))"
   ]
  },
  {
   "cell_type": "code",
   "execution_count": 68,
   "metadata": {},
   "outputs": [
    {
     "name": "stdout",
     "output_type": "stream",
     "text": [
      "570/570 [==============================] - 0s 297us/step - loss: 0.5217 - root_mean_squared_error: 0.7223\n"
     ]
    },
    {
     "data": {
      "text/plain": [
       "[0.5216860771179199, 0.7222784161567688]"
      ]
     },
     "execution_count": 68,
     "metadata": {},
     "output_type": "execute_result"
    }
   ],
   "source": [
    "my_model_1.evaluate(x = np.array(df_test['volumn']), y = np.array(df_test['price']), batch_size=my_batch_size)"
   ]
  },
  {
   "cell_type": "code",
   "execution_count": 66,
   "metadata": {},
   "outputs": [
    {
     "name": "stdout",
     "output_type": "stream",
     "text": [
      "feature   label          predicted\n",
      "  value   value          value\n",
      "          in original   in original\n",
      "--------------------------------------\n",
      "12.370    149             304\n",
      "11.652    595             175\n",
      "12.429    345             318\n",
      "12.246    435             277\n",
      "11.712    175             184\n",
      "13.254    895             600\n",
      "11.968    575             224\n",
      "13.651    399             814\n",
      "12.185   2290             264\n",
      "11.574    100             165\n",
      "14.373   1470            1416\n",
      "11.246   1395             128\n",
      "12.651    200             378\n",
      "12.392   1195             309\n",
      "12.090   1260             245\n",
      "12.399   2905             311\n",
      "12.794   1160             421\n",
      "12.399   2164             311\n",
      "14.175   1995            1216\n",
      "14.598   2295            1682\n",
      "11.653    295             175\n",
      "13.947   1991            1021\n",
      "15.020   2995            2326\n",
      "14.168   1596            1209\n",
      "14.373   1520            1416\n",
      "10.469    300              71\n",
      "14.894   7785            2112\n",
      "14.079   2945            1130\n",
      "14.384   2932            1428\n",
      "14.817   4390            1991\n"
     ]
    }
   ],
   "source": [
    "predict_house_values_1(30, 'volumn', 'price')"
   ]
  },
  {
   "cell_type": "code",
   "execution_count": 33,
   "metadata": {},
   "outputs": [
    {
     "data": {
      "image/png": "[encoded data removed]",
      "text/plain": [
       "<Figure size 432x288 with 1 Axes>"
      ]
     },
     "metadata": {
      "needs_background": "light"
     },
     "output_type": "display_data"
    }
   ],
   "source": [
    "plot_the_model(float(trained_weight), float(trained_bias), np.array(df_test['volumn']), np.array(df_test['price']))"
   ]
  },
  {
   "cell_type": "markdown",
   "metadata": {},
   "source": [
    "## Not bad, but it's very poor when it represent the price in original scale\n",
    "## Let's include categorical features and other color"
   ]
  },
  {
   "cell_type": "code",
   "execution_count": 71,
   "metadata": {},
   "outputs": [
    {
     "data": {
      "text/plain": [
       "Index(['item_id', 'name', 'category', 'price', 'old_price', 'sellable_online',\n",
       "       'other_colors', 'short_description', 'designer', 'depth', 'height',\n",
       "       'width', 'volumn'],\n",
       "      dtype='object')"
      ]
     },
     "execution_count": 71,
     "metadata": {},
     "output_type": "execute_result"
    }
   ],
   "source": [
    "target_df.columns"
   ]
  },
  {
   "cell_type": "code",
   "execution_count": 38,
   "metadata": {},
   "outputs": [
    {
     "data": {
      "text/plain": [
       "['Bar furniture',\n",
       " 'Beds',\n",
       " 'Bookcases & shelving units',\n",
       " 'Cabinets & cupboards',\n",
       " 'Café furniture',\n",
       " 'Chairs',\n",
       " 'Chests of drawers & drawer units',\n",
       " \"Children's furniture\",\n",
       " 'Nursery furniture',\n",
       " 'Outdoor furniture',\n",
       " 'Room dividers',\n",
       " 'Sideboards, buffets & console tables',\n",
       " 'Sofas & armchairs',\n",
       " 'Tables & desks',\n",
       " 'Trolleys',\n",
       " 'TV & media furniture',\n",
       " 'Wardrobes']"
      ]
     },
     "execution_count": 38,
     "metadata": {},
     "output_type": "execute_result"
    }
   ],
   "source": [
    "category_list = list(pd.unique(target_df['category']))\n",
    "category_list"
   ]
  },
  {
   "cell_type": "code",
   "execution_count": 72,
   "metadata": {},
   "outputs": [],
   "source": [
    "# Create categorical feature columns\n",
    "\n",
    "# Let's explore categorical features. 'category' has 17 unique values.'designer' has 191 unique values.\n",
    "# 'name' and 'short_description' have too many unique values.\n",
    "\n",
    "# Since we don't know the full range of possible values with 'designer',\n",
    "# we'll use categorical_column_with_hash_bucket() to help map\n",
    "# each feature string into an integer ID.\n",
    "designer = tf.feature_column.categorical_column_with_hash_bucket(\n",
    "    \"designer\", hash_bucket_size=191)\n",
    "\n",
    "category = tf.feature_column.categorical_column_with_vocabulary_list(\n",
    "    \"category\", category_list)"
   ]
  },
  {
   "cell_type": "code",
   "execution_count": 42,
   "metadata": {},
   "outputs": [
    {
     "data": {
      "text/plain": [
       "<AxesSubplot:>"
      ]
     },
     "execution_count": 42,
     "metadata": {},
     "output_type": "execute_result"
    },
    {
     "data": {
      "image/png": "[encoded data removed]",
      "text/plain": [
       "<Figure size 432x288 with 1 Axes>"
      ]
     },
     "metadata": {
      "needs_background": "light"
     },
     "output_type": "display_data"
    }
   ],
   "source": [
    "# We might have to normalize the numeric features.\n",
    "# Numeric features we will use are 'depth', 'height', 'width'\n",
    "depth_re = target_df['depth']/200\n",
    "depth_re.hist()"
   ]
  },
  {
   "cell_type": "code",
   "execution_count": 45,
   "metadata": {},
   "outputs": [
    {
     "data": {
      "text/plain": [
       "<AxesSubplot:>"
      ]
     },
     "execution_count": 45,
     "metadata": {},
     "output_type": "execute_result"
    },
    {
     "data": {
      "image/png": "[encoded data removed]",
      "text/plain": [
       "<Figure size 432x288 with 1 Axes>"
      ]
     },
     "metadata": {
      "needs_background": "light"
     },
     "output_type": "display_data"
    }
   ],
   "source": [
    "height_re = target_df['height']/250\n",
    "height_re.hist()"
   ]
  },
  {
   "cell_type": "code",
   "execution_count": 49,
   "metadata": {},
   "outputs": [
    {
     "data": {
      "text/plain": [
       "<AxesSubplot:>"
      ]
     },
     "execution_count": 49,
     "metadata": {},
     "output_type": "execute_result"
    },
    {
     "data": {
      "image/png": "[encoded data removed]",
      "text/plain": [
       "<Figure size 432x288 with 1 Axes>"
      ]
     },
     "metadata": {
      "needs_background": "light"
     },
     "output_type": "display_data"
    }
   ],
   "source": [
    "width_re = target_df['width']/400\n",
    "width_re.hist()"
   ]
  },
  {
   "cell_type": "code",
   "execution_count": 52,
   "metadata": {},
   "outputs": [],
   "source": [
    "# I will use fixed linear scale (which isn't always the best)\n",
    "dimensional_rescale = [200, 250, 400]\n",
    "df_train['depth'] = df_train['depth']/dimensional_rescale[0]\n",
    "df_train['height'] = df_train['height']/dimensional_rescale[1]\n",
    "df_train['width'] = df_train['width']/dimensional_rescale[2]"
   ]
  },
  {
   "cell_type": "code",
   "execution_count": 128,
   "metadata": {},
   "outputs": [],
   "source": [
    "# I will use fixed linear scale (which isn't always the best)\n",
    "dimensional_rescale = [200, 250, 400]\n",
    "df_test['depth'] = df_test['depth']/dimensional_rescale[0]\n",
    "df_test['height'] = df_test['height']/dimensional_rescale[1]\n",
    "df_test['width'] = df_test['width']/dimensional_rescale[2]"
   ]
  },
  {
   "cell_type": "code",
   "execution_count": 130,
   "metadata": {},
   "outputs": [],
   "source": [
    "# Create numeric feature columns\n",
    "# For Numeric features, we can just call on feature_column.numeric_column()\n",
    "# to use its raw value instead of having to create a map between value and ID.\n",
    "other_colors = tf.feature_column.numeric_column(\"other_colors\")\n",
    "depth = tf.feature_column.numeric_column(\"depth\")\n",
    "height = tf.feature_column.numeric_column(\"height\")\n",
    "width = tf.feature_column.numeric_column(\"width\")"
   ]
  },
  {
   "cell_type": "code",
   "execution_count": 138,
   "metadata": {},
   "outputs": [],
   "source": [
    "# Deep columns required to define the input layer of the model\n",
    "deep_columns = [\n",
    "#     tf.feature_column.embedding_column(designer, dimension=3),\n",
    "#     tf.feature_column.embedding_column(category, dimension=3),\n",
    "    other_colors,\n",
    "    depth,\n",
    "    height,\n",
    "    width\n",
    "]\n",
    "\n",
    "my_feature_layer = tf.keras.layers.DenseFeatures(deep_columns)\n",
    "\n",
    "# Parameters from form fill-ins\n",
    "HIDDEN_UNITS_LAYER_01 = 32 #@param\n",
    "HIDDEN_UNITS_LAYER_02 = 16 #@param\n",
    "LEARNING_RATE = 0.005 #@param\n",
    "L1_REGULARIZATION_STRENGTH = 0.001 #@param\n",
    "L2_REGULARIZATION_STRENGTH = 0.001 #@param\n",
    "\n",
    "RANDOM_SEED = 512\n",
    "tf.random.set_seed(RANDOM_SEED)\n",
    "\n",
    "regularizer = tf.keras.regularizers.l1_l2(\n",
    "    l1=L1_REGULARIZATION_STRENGTH, l2=L2_REGULARIZATION_STRENGTH)\n",
    "model = None\n",
    "\n",
    "# model = tf.keras.Sequential([\n",
    "#     layers.DenseFeatures(deep_columns),\n",
    "#     layers.Dense(HIDDEN_UNITS_LAYER_01, activation='relu', kernel_regularizer=regularizer),\n",
    "#     layers.Dropout(rate=0.25),\n",
    "#     layers.Dense(HIDDEN_UNITS_LAYER_02, activation='relu', kernel_regularizer=regularizer),\n",
    "#     layers.Dense(1)\n",
    "#     ])\n",
    "\n",
    "model = tf.keras.Sequential()\n",
    "model.add(my_feature_layer)\n",
    "model.add(tf.keras.layers.Dense(4))\n",
    "model.add(tf.keras.layers.Dense(4))\n",
    "model.add(tf.keras.layers.Dense(1))\n",
    "\n",
    "model.compile(optimizer=tf.keras.optimizers.Adam(learning_rate = LEARNING_RATE),  \n",
    "              loss=\"mean_squared_error\",\n",
    "              metrics=[tf.keras.metrics.MeanSquaredError()]\n",
    "             )"
   ]
  },
  {
   "cell_type": "code",
   "execution_count": 139,
   "metadata": {},
   "outputs": [
    {
     "name": "stdout",
     "output_type": "stream",
     "text": [
      "Epoch 1/20\n",
      "WARNING:tensorflow:Layers in a Sequential model should only have a single input tensor, but we receive a <class 'dict'> input: {'other_colors': <tf.Tensor 'ExpandDims_2:0' shape=(None, 1) dtype=int64>, 'depth': <tf.Tensor 'ExpandDims:0' shape=(None, 1) dtype=float32>, 'height': <tf.Tensor 'ExpandDims_1:0' shape=(None, 1) dtype=float32>, 'width': <tf.Tensor 'ExpandDims_3:0' shape=(None, 1) dtype=float32>}\n",
      "Consider rewriting this model with the Functional API.\n",
      "WARNING:tensorflow:Layers in a Sequential model should only have a single input tensor, but we receive a <class 'dict'> input: {'other_colors': <tf.Tensor 'ExpandDims_2:0' shape=(None, 1) dtype=int64>, 'depth': <tf.Tensor 'ExpandDims:0' shape=(None, 1) dtype=float32>, 'height': <tf.Tensor 'ExpandDims_1:0' shape=(None, 1) dtype=float32>, 'width': <tf.Tensor 'ExpandDims_3:0' shape=(None, 1) dtype=float32>}\n",
      "Consider rewriting this model with the Functional API.\n",
      "67/67 [==============================] - 0s 443us/step - loss: 18.7029 - mean_squared_error: 18.7029\n",
      "Epoch 2/20\n",
      "67/67 [==============================] - 0s 464us/step - loss: 1.0685 - mean_squared_error: 1.0685\n",
      "Epoch 3/20\n",
      "67/67 [==============================] - 0s 498us/step - loss: 0.6786 - mean_squared_error: 0.6786\n",
      "Epoch 4/20\n",
      "67/67 [==============================] - 0s 605us/step - loss: 0.5675 - mean_squared_error: 0.5675\n",
      "Epoch 5/20\n",
      "67/67 [==============================] - 0s 517us/step - loss: 0.5296 - mean_squared_error: 0.5296\n",
      "Epoch 6/20\n",
      "67/67 [==============================] - 0s 568us/step - loss: 0.5099 - mean_squared_error: 0.5099\n",
      "Epoch 7/20\n",
      "67/67 [==============================] - 0s 479us/step - loss: 0.4994 - mean_squared_error: 0.4994\n",
      "Epoch 8/20\n",
      "67/67 [==============================] - 0s 494us/step - loss: 0.4932 - mean_squared_error: 0.4932\n",
      "Epoch 9/20\n",
      "67/67 [==============================] - 0s 547us/step - loss: 0.4891 - mean_squared_error: 0.4891\n",
      "Epoch 10/20\n",
      "67/67 [==============================] - 0s 628us/step - loss: 0.4875 - mean_squared_error: 0.4875\n",
      "Epoch 11/20\n",
      "67/67 [==============================] - 0s 572us/step - loss: 0.4839 - mean_squared_error: 0.4839\n",
      "Epoch 12/20\n",
      "67/67 [==============================] - 0s 540us/step - loss: 0.4867 - mean_squared_error: 0.4867\n",
      "Epoch 13/20\n",
      "67/67 [==============================] - 0s 581us/step - loss: 0.4909 - mean_squared_error: 0.4909\n",
      "Epoch 14/20\n",
      "67/67 [==============================] - 0s 552us/step - loss: 0.4890 - mean_squared_error: 0.4890\n",
      "Epoch 15/20\n",
      "67/67 [==============================] - 0s 497us/step - loss: 0.4811 - mean_squared_error: 0.4811\n",
      "Epoch 16/20\n",
      "67/67 [==============================] - 0s 510us/step - loss: 0.4824 - mean_squared_error: 0.4824\n",
      "Epoch 17/20\n",
      "67/67 [==============================] - 0s 502us/step - loss: 0.4926 - mean_squared_error: 0.4926\n",
      "Epoch 18/20\n",
      "67/67 [==============================] - 0s 494us/step - loss: 0.4829 - mean_squared_error: 0.4829\n",
      "Epoch 19/20\n",
      "67/67 [==============================] - 0s 495us/step - loss: 0.4866 - mean_squared_error: 0.4866\n",
      "Epoch 20/20\n",
      "67/67 [==============================] - 0s 481us/step - loss: 0.4851 - mean_squared_error: 0.4851\n"
     ]
    },
    {
     "data": {
      "text/plain": [
       "<keras.callbacks.History at 0x7fb7b5fb5490>"
      ]
     },
     "execution_count": 139,
     "metadata": {},
     "output_type": "execute_result"
    }
   ],
   "source": [
    "# Fit Deep Neural Net Model to the Adult Training Dataset\n",
    "\n",
    "EPOCHS = 20 #@param\n",
    "BATCH_SIZE = 20 #@param\n",
    "\n",
    "# to_train = df_train[['category', 'price',\n",
    "#        'other_colors', 'designer', 'depth', 'height',\n",
    "#        'width']]\n",
    "\n",
    "to_train = df_train[['price',\n",
    "       'other_colors', 'depth', 'height',\n",
    "       'width']]\n",
    "\n",
    "features, labels = pandas_to_numpy(to_train)\n",
    "model.fit(x=features, y=labels, epochs=EPOCHS, batch_size=BATCH_SIZE)"
   ]
  },
  {
   "cell_type": "code",
   "execution_count": 140,
   "metadata": {},
   "outputs": [
    {
     "name": "stdout",
     "output_type": "stream",
     "text": [
      "WARNING:tensorflow:Layers in a Sequential model should only have a single input tensor, but we receive a <class 'dict'> input: {'other_colors': <tf.Tensor 'ExpandDims_2:0' shape=(None, 1) dtype=int64>, 'depth': <tf.Tensor 'ExpandDims:0' shape=(None, 1) dtype=float32>, 'height': <tf.Tensor 'ExpandDims_1:0' shape=(None, 1) dtype=float32>, 'width': <tf.Tensor 'ExpandDims_3:0' shape=(None, 1) dtype=float32>}\n",
      "Consider rewriting this model with the Functional API.\n",
      "29/29 [==============================] - 0s 466us/step - loss: 0.4373 - mean_squared_error: 0.4373\n"
     ]
    }
   ],
   "source": [
    "# Evaluate Deep Neural Net Performance\n",
    "# to_test = df_test[['category', 'price',\n",
    "#        'other_colors', 'designer', 'depth', 'height',\n",
    "#        'width']]\n",
    "\n",
    "to_test = df_test[['price',\n",
    "       'other_colors', 'depth', 'height',\n",
    "       'width']]\n",
    "\n",
    "features_test, labels_test = pandas_to_numpy(to_test)\n",
    "\n",
    "model.evaluate(x=features_test, y=labels_test, batch_size=BATCH_SIZE);"
   ]
  },
  {
   "cell_type": "code",
   "execution_count": 141,
   "metadata": {},
   "outputs": [],
   "source": [
    "# Deep columns required to define the input layer of the model\n",
    "deep_columns = [\n",
    "    tf.feature_column.embedding_column(designer, dimension=8),\n",
    "    tf.feature_column.embedding_column(category, dimension=3),\n",
    "    other_colors,\n",
    "    depth,\n",
    "    height,\n",
    "    width\n",
    "]\n",
    "\n",
    "# my_feature_layer = tf.keras.layers.DenseFeatures(deep_columns)\n",
    "\n",
    "# Parameters from form fill-ins\n",
    "HIDDEN_UNITS_LAYER_01 = 32 #@param\n",
    "HIDDEN_UNITS_LAYER_02 = 16 #@param\n",
    "LEARNING_RATE = 0.005 #@param\n",
    "L1_REGULARIZATION_STRENGTH = 0.001 #@param\n",
    "L2_REGULARIZATION_STRENGTH = 0.001 #@param\n",
    "\n",
    "RANDOM_SEED = 512\n",
    "tf.random.set_seed(RANDOM_SEED)\n",
    "\n",
    "regularizer = tf.keras.regularizers.l1_l2(\n",
    "    l1=L1_REGULARIZATION_STRENGTH, l2=L2_REGULARIZATION_STRENGTH)\n",
    "model = None\n",
    "\n",
    "model = tf.keras.Sequential([\n",
    "    layers.DenseFeatures(deep_columns),\n",
    "    layers.Dense(HIDDEN_UNITS_LAYER_01, activation='relu', kernel_regularizer=regularizer),\n",
    "    layers.Dropout(rate=0.20),\n",
    "    layers.Dense(HIDDEN_UNITS_LAYER_02, activation='relu', kernel_regularizer=regularizer),\n",
    "    layers.Dense(1)\n",
    "    ])\n",
    "\n",
    "# model = tf.keras.Sequential()\n",
    "# model.add(my_feature_layer)\n",
    "# model.add(tf.keras.layers.Dense(4))\n",
    "# model.add(tf.keras.layers.Dense(4))\n",
    "# model.add(tf.keras.layers.Dense(1))\n",
    "\n",
    "model.compile(optimizer=tf.keras.optimizers.Adam(learning_rate = LEARNING_RATE),  \n",
    "              loss=\"mean_squared_error\",\n",
    "              metrics=[tf.keras.metrics.MeanSquaredError()]\n",
    "             )"
   ]
  },
  {
   "cell_type": "code",
   "execution_count": 143,
   "metadata": {},
   "outputs": [
    {
     "name": "stdout",
     "output_type": "stream",
     "text": [
      "Epoch 1/30\n",
      "67/67 [==============================] - 0s 798us/step - loss: 0.5826 - mean_squared_error: 0.4818\n",
      "Epoch 2/30\n",
      "67/67 [==============================] - 0s 729us/step - loss: 0.5363 - mean_squared_error: 0.4390\n",
      "Epoch 3/30\n",
      "67/67 [==============================] - 0s 744us/step - loss: 0.5444 - mean_squared_error: 0.4500\n",
      "Epoch 4/30\n",
      "67/67 [==============================] - 0s 734us/step - loss: 0.5262 - mean_squared_error: 0.4343\n",
      "Epoch 5/30\n",
      "67/67 [==============================] - 0s 789us/step - loss: 0.5340 - mean_squared_error: 0.4449\n",
      "Epoch 6/30\n",
      "67/67 [==============================] - 0s 671us/step - loss: 0.4932 - mean_squared_error: 0.4064\n",
      "Epoch 7/30\n",
      "67/67 [==============================] - 0s 772us/step - loss: 0.5138 - mean_squared_error: 0.4288\n",
      "Epoch 8/30\n",
      "67/67 [==============================] - 0s 708us/step - loss: 0.5021 - mean_squared_error: 0.4192\n",
      "Epoch 9/30\n",
      "67/67 [==============================] - 0s 823us/step - loss: 0.4892 - mean_squared_error: 0.4083\n",
      "Epoch 10/30\n",
      "67/67 [==============================] - 0s 898us/step - loss: 0.4865 - mean_squared_error: 0.4075\n",
      "Epoch 11/30\n",
      "67/67 [==============================] - 0s 687us/step - loss: 0.4648 - mean_squared_error: 0.3871\n",
      "Epoch 12/30\n",
      "67/67 [==============================] - 0s 816us/step - loss: 0.4669 - mean_squared_error: 0.3912\n",
      "Epoch 13/30\n",
      "67/67 [==============================] - 0s 705us/step - loss: 0.4743 - mean_squared_error: 0.3997\n",
      "Epoch 14/30\n",
      "67/67 [==============================] - 0s 817us/step - loss: 0.4678 - mean_squared_error: 0.3946\n",
      "Epoch 15/30\n",
      "67/67 [==============================] - 0s 700us/step - loss: 0.4576 - mean_squared_error: 0.3851\n",
      "Epoch 16/30\n",
      "67/67 [==============================] - 0s 849us/step - loss: 0.4629 - mean_squared_error: 0.3920\n",
      "Epoch 17/30\n",
      "67/67 [==============================] - 0s 720us/step - loss: 0.4773 - mean_squared_error: 0.4068\n",
      "Epoch 18/30\n",
      "67/67 [==============================] - 0s 835us/step - loss: 0.4605 - mean_squared_error: 0.3907\n",
      "Epoch 19/30\n",
      "67/67 [==============================] - 0s 872us/step - loss: 0.4733 - mean_squared_error: 0.4042\n",
      "Epoch 20/30\n",
      "67/67 [==============================] - 0s 835us/step - loss: 0.4617 - mean_squared_error: 0.3937\n",
      "Epoch 21/30\n",
      "67/67 [==============================] - 0s 929us/step - loss: 0.4558 - mean_squared_error: 0.3885\n",
      "Epoch 22/30\n",
      "67/67 [==============================] - 0s 1ms/step - loss: 0.4531 - mean_squared_error: 0.3861\n",
      "Epoch 23/30\n",
      "67/67 [==============================] - 0s 917us/step - loss: 0.4541 - mean_squared_error: 0.3872\n",
      "Epoch 24/30\n",
      "67/67 [==============================] - 0s 1ms/step - loss: 0.4617 - mean_squared_error: 0.3950\n",
      "Epoch 25/30\n",
      "67/67 [==============================] - 0s 1ms/step - loss: 0.4552 - mean_squared_error: 0.3895\n",
      "Epoch 26/30\n",
      "67/67 [==============================] - 0s 818us/step - loss: 0.4854 - mean_squared_error: 0.4199\n",
      "Epoch 27/30\n",
      "67/67 [==============================] - 0s 790us/step - loss: 0.4443 - mean_squared_error: 0.3789\n",
      "Epoch 28/30\n",
      "67/67 [==============================] - 0s 953us/step - loss: 0.4509 - mean_squared_error: 0.3861\n",
      "Epoch 29/30\n",
      "67/67 [==============================] - 0s 994us/step - loss: 0.4673 - mean_squared_error: 0.4030\n",
      "Epoch 30/30\n",
      "67/67 [==============================] - 0s 984us/step - loss: 0.4518 - mean_squared_error: 0.3879\n"
     ]
    },
    {
     "data": {
      "text/plain": [
       "<keras.callbacks.History at 0x7fb7b46abe50>"
      ]
     },
     "execution_count": 143,
     "metadata": {},
     "output_type": "execute_result"
    }
   ],
   "source": [
    "# Fit Deep Neural Net Model to the Adult Training Dataset\n",
    "\n",
    "EPOCHS = 30 #@param\n",
    "BATCH_SIZE = 20 #@param\n",
    "\n",
    "to_train = df_train[['category', 'price',\n",
    "       'other_colors', 'designer', 'depth', 'height',\n",
    "       'width']]\n",
    "\n",
    "# to_train = df_train[['price',\n",
    "#        'other_colors', 'depth', 'height',\n",
    "#        'width']]\n",
    "\n",
    "features, labels = pandas_to_numpy(to_train)\n",
    "model.fit(x=features, y=labels, epochs=EPOCHS, batch_size=BATCH_SIZE)"
   ]
  },
  {
   "cell_type": "code",
   "execution_count": 144,
   "metadata": {},
   "outputs": [
    {
     "name": "stdout",
     "output_type": "stream",
     "text": [
      "WARNING:tensorflow:Layers in a Sequential model should only have a single input tensor, but we receive a <class 'dict'> input: {'category': <tf.Tensor 'ExpandDims:0' shape=(None, 1) dtype=string>, 'other_colors': <tf.Tensor 'ExpandDims_4:0' shape=(None, 1) dtype=int64>, 'designer': <tf.Tensor 'ExpandDims_2:0' shape=(None, 1) dtype=string>, 'depth': <tf.Tensor 'ExpandDims_1:0' shape=(None, 1) dtype=float32>, 'height': <tf.Tensor 'ExpandDims_3:0' shape=(None, 1) dtype=float32>, 'width': <tf.Tensor 'ExpandDims_5:0' shape=(None, 1) dtype=float32>}\n",
      "Consider rewriting this model with the Functional API.\n",
      "29/29 [==============================] - 0s 518us/step - loss: 0.4246 - mean_squared_error: 0.3615\n"
     ]
    }
   ],
   "source": [
    "# Evaluate Deep Neural Net Performance\n",
    "to_test = df_test[['category', 'price',\n",
    "       'other_colors', 'designer', 'depth', 'height',\n",
    "       'width']]\n",
    "\n",
    "# to_test = df_test[['price',\n",
    "#        'other_colors', 'depth', 'height',\n",
    "#        'width']]\n",
    "\n",
    "features_test, labels_test = pandas_to_numpy(to_test)\n",
    "\n",
    "model.evaluate(x=features_test, y=labels_test, batch_size=BATCH_SIZE);"
   ]
  },
  {
   "cell_type": "code",
   "execution_count": 147,
   "metadata": {},
   "outputs": [],
   "source": [
    "predicted_values2 = model.predict_on_batch(x=features_test)"
   ]
  },
  {
   "cell_type": "code",
   "execution_count": null,
   "metadata": {},
   "outputs": [],
   "source": [
    "print (\"%.3f %6.0f %15.0f\" % (batch[i],\n",
    "                                       math.exp(np.array(df_test[label])[i]),\n",
    "                                       math.exp(predicted_values[i][0]) ))"
   ]
  },
  {
   "cell_type": "code",
   "execution_count": 1,
   "metadata": {},
   "outputs": [
    {
     "name": "stdout",
     "output_type": "stream",
     "text": [
      "label          predicted\n",
      "value          value\n",
      "in original   in original\n",
      "--------------------------------------\n"
     ]
    },
    {
     "ename": "NameError",
     "evalue": "name 'math' is not defined",
     "output_type": "error",
     "traceback": [
      "\u001b[0;31m---------------------------------------------------------------------------\u001b[0m",
      "\u001b[0;31mNameError\u001b[0m                                 Traceback (most recent call last)",
      "\u001b[0;32m<ipython-input-1-4f0d045b7937>\u001b[0m in \u001b[0;36m<module>\u001b[0;34m\u001b[0m\n\u001b[1;32m      5\u001b[0m \u001b[0;34m\u001b[0m\u001b[0m\n\u001b[1;32m      6\u001b[0m \u001b[0;32mfor\u001b[0m \u001b[0mi\u001b[0m \u001b[0;32min\u001b[0m \u001b[0mrange\u001b[0m\u001b[0;34m(\u001b[0m\u001b[0;36m5\u001b[0m\u001b[0;34m)\u001b[0m\u001b[0;34m:\u001b[0m\u001b[0;34m\u001b[0m\u001b[0;34m\u001b[0m\u001b[0m\n\u001b[0;32m----> 7\u001b[0;31m     print (\"%f %f\" % ( math.exp(labels_test[i]),\n\u001b[0m\u001b[1;32m      8\u001b[0m                                    math.exp(predicted_values2[i][0]) ))\n",
      "\u001b[0;31mNameError\u001b[0m: name 'math' is not defined"
     ]
    }
   ],
   "source": [
    "print(\"label          predicted\")\n",
    "print(\"value          value\")\n",
    "print(\"in original   in original\")\n",
    "print(\"--------------------------------------\")\n",
    "\n",
    "for i in range(30):\n",
    "    print (\"%6.0f %15.0f\" % ( math.exp(labels_test[i]),\n",
    "                                   math.exp(predicted_values2[i][0]) ))"
   ]
  },
  {
   "cell_type": "markdown",
   "metadata": {},
   "source": [
    "# I got better results with neural nets with categorical&numeric feature"
   ]
  }
 ],
 "metadata": {
  "kernelspec": {
   "display_name": "Python 3",
   "language": "python",
   "name": "python3"
  },
  "language_info": {
   "codemirror_mode": {
    "name": "ipython",
    "version": 3
   },
   "file_extension": ".py",
   "mimetype": "text/x-python",
   "name": "python",
   "nbconvert_exporter": "python",
   "pygments_lexer": "ipython3",
   "version": "3.8.5"
  }
 },
 "nbformat": 4,
 "nbformat_minor": 4
}
