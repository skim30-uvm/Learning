{
 "cells": [
  {
   "cell_type": "markdown",
   "metadata": {},
   "source": [
    "# This notebook is ML project for personal practice\n",
    "\n",
    "## copyright : Sang Wook Kim 2022"
   ]
  },
  {
   "cell_type": "code",
   "execution_count": 73,
   "metadata": {},
   "outputs": [
    {
     "name": "stdout",
     "output_type": "stream",
     "text": [
      "Imported modules.\n"
     ]
    }
   ],
   "source": [
    "# Import relevant modules\n",
    "import numpy as np\n",
    "import pandas as pd\n",
    "import tensorflow as tf\n",
    "from tensorflow import keras\n",
    "from tensorflow.keras import layers\n",
    "from matplotlib import pyplot as plt\n",
    "\n",
    "# The following lines adjust the granularity of reporting. \n",
    "pd.options.display.max_rows = 10\n",
    "pd.options.display.float_format = \"{:.3f}\".format\n",
    "\n",
    "print(\"Imported modules.\")"
   ]
  },
  {
   "cell_type": "code",
   "execution_count": 2,
   "metadata": {},
   "outputs": [
    {
     "data": {
      "text/html": [
       "<div>\n",
       "<style scoped>\n",
       "    .dataframe tbody tr th:only-of-type {\n",
       "        vertical-align: middle;\n",
       "    }\n",
       "\n",
       "    .dataframe tbody tr th {\n",
       "        vertical-align: top;\n",
       "    }\n",
       "\n",
       "    .dataframe thead th {\n",
       "        text-align: right;\n",
       "    }\n",
       "</style>\n",
       "<table border=\"1\" class=\"dataframe\">\n",
       "  <thead>\n",
       "    <tr style=\"text-align: right;\">\n",
       "      <th></th>\n",
       "      <th>Unnamed: 0</th>\n",
       "      <th>item_id</th>\n",
       "      <th>name</th>\n",
       "      <th>category</th>\n",
       "      <th>price</th>\n",
       "      <th>old_price</th>\n",
       "      <th>sellable_online</th>\n",
       "      <th>link</th>\n",
       "      <th>other_colors</th>\n",
       "      <th>short_description</th>\n",
       "      <th>designer</th>\n",
       "      <th>depth</th>\n",
       "      <th>height</th>\n",
       "      <th>width</th>\n",
       "    </tr>\n",
       "  </thead>\n",
       "  <tbody>\n",
       "    <tr>\n",
       "      <th>0</th>\n",
       "      <td>0</td>\n",
       "      <td>90420332</td>\n",
       "      <td>FREKVENS</td>\n",
       "      <td>Bar furniture</td>\n",
       "      <td>265.000</td>\n",
       "      <td>No old price</td>\n",
       "      <td>True</td>\n",
       "      <td>https://www.ikea.com/sa/en/p/frekvens-bar-tabl...</td>\n",
       "      <td>No</td>\n",
       "      <td>Bar table, in/outdoor,          51x51 cm</td>\n",
       "      <td>Nicholai Wiig Hansen</td>\n",
       "      <td>nan</td>\n",
       "      <td>99.000</td>\n",
       "      <td>51.000</td>\n",
       "    </tr>\n",
       "    <tr>\n",
       "      <th>1</th>\n",
       "      <td>1</td>\n",
       "      <td>368814</td>\n",
       "      <td>NORDVIKEN</td>\n",
       "      <td>Bar furniture</td>\n",
       "      <td>995.000</td>\n",
       "      <td>No old price</td>\n",
       "      <td>False</td>\n",
       "      <td>https://www.ikea.com/sa/en/p/nordviken-bar-tab...</td>\n",
       "      <td>No</td>\n",
       "      <td>Bar table,          140x80 cm</td>\n",
       "      <td>Francis Cayouette</td>\n",
       "      <td>nan</td>\n",
       "      <td>105.000</td>\n",
       "      <td>80.000</td>\n",
       "    </tr>\n",
       "    <tr>\n",
       "      <th>2</th>\n",
       "      <td>2</td>\n",
       "      <td>9333523</td>\n",
       "      <td>NORDVIKEN / NORDVIKEN</td>\n",
       "      <td>Bar furniture</td>\n",
       "      <td>2095.000</td>\n",
       "      <td>No old price</td>\n",
       "      <td>False</td>\n",
       "      <td>https://www.ikea.com/sa/en/p/nordviken-nordvik...</td>\n",
       "      <td>No</td>\n",
       "      <td>Bar table and 4 bar stools</td>\n",
       "      <td>Francis Cayouette</td>\n",
       "      <td>nan</td>\n",
       "      <td>nan</td>\n",
       "      <td>nan</td>\n",
       "    </tr>\n",
       "    <tr>\n",
       "      <th>3</th>\n",
       "      <td>3</td>\n",
       "      <td>80155205</td>\n",
       "      <td>STIG</td>\n",
       "      <td>Bar furniture</td>\n",
       "      <td>69.000</td>\n",
       "      <td>No old price</td>\n",
       "      <td>True</td>\n",
       "      <td>https://www.ikea.com/sa/en/p/stig-bar-stool-wi...</td>\n",
       "      <td>Yes</td>\n",
       "      <td>Bar stool with backrest,          74 cm</td>\n",
       "      <td>Henrik Preutz</td>\n",
       "      <td>50.000</td>\n",
       "      <td>100.000</td>\n",
       "      <td>60.000</td>\n",
       "    </tr>\n",
       "    <tr>\n",
       "      <th>4</th>\n",
       "      <td>4</td>\n",
       "      <td>30180504</td>\n",
       "      <td>NORBERG</td>\n",
       "      <td>Bar furniture</td>\n",
       "      <td>225.000</td>\n",
       "      <td>No old price</td>\n",
       "      <td>True</td>\n",
       "      <td>https://www.ikea.com/sa/en/p/norberg-wall-moun...</td>\n",
       "      <td>No</td>\n",
       "      <td>Wall-mounted drop-leaf table,         ...</td>\n",
       "      <td>Marcus Arvonen</td>\n",
       "      <td>60.000</td>\n",
       "      <td>43.000</td>\n",
       "      <td>74.000</td>\n",
       "    </tr>\n",
       "  </tbody>\n",
       "</table>\n",
       "</div>"
      ],
      "text/plain": [
       "   Unnamed: 0   item_id                   name       category    price  \\\n",
       "0           0  90420332               FREKVENS  Bar furniture  265.000   \n",
       "1           1    368814              NORDVIKEN  Bar furniture  995.000   \n",
       "2           2   9333523  NORDVIKEN / NORDVIKEN  Bar furniture 2095.000   \n",
       "3           3  80155205                   STIG  Bar furniture   69.000   \n",
       "4           4  30180504                NORBERG  Bar furniture  225.000   \n",
       "\n",
       "      old_price  sellable_online  \\\n",
       "0  No old price             True   \n",
       "1  No old price            False   \n",
       "2  No old price            False   \n",
       "3  No old price             True   \n",
       "4  No old price             True   \n",
       "\n",
       "                                                link other_colors  \\\n",
       "0  https://www.ikea.com/sa/en/p/frekvens-bar-tabl...           No   \n",
       "1  https://www.ikea.com/sa/en/p/nordviken-bar-tab...           No   \n",
       "2  https://www.ikea.com/sa/en/p/nordviken-nordvik...           No   \n",
       "3  https://www.ikea.com/sa/en/p/stig-bar-stool-wi...          Yes   \n",
       "4  https://www.ikea.com/sa/en/p/norberg-wall-moun...           No   \n",
       "\n",
       "                                   short_description              designer  \\\n",
       "0           Bar table, in/outdoor,          51x51 cm  Nicholai Wiig Hansen   \n",
       "1                      Bar table,          140x80 cm     Francis Cayouette   \n",
       "2                         Bar table and 4 bar stools     Francis Cayouette   \n",
       "3            Bar stool with backrest,          74 cm         Henrik Preutz   \n",
       "4          Wall-mounted drop-leaf table,         ...        Marcus Arvonen   \n",
       "\n",
       "   depth  height  width  \n",
       "0    nan  99.000 51.000  \n",
       "1    nan 105.000 80.000  \n",
       "2    nan     nan    nan  \n",
       "3 50.000 100.000 60.000  \n",
       "4 60.000  43.000 74.000  "
      ]
     },
     "execution_count": 2,
     "metadata": {},
     "output_type": "execute_result"
    }
   ],
   "source": [
    "# Import database. Since this is practice, I will look a whole dataset first.\n",
    "base_df = pd.read_csv(\"./database/IKEA/IKEA_SA_Furniture_Web_Scrapings_sss.csv\")\n",
    "base_df.head()"
   ]
  },
  {
   "cell_type": "code",
   "execution_count": 3,
   "metadata": {},
   "outputs": [
    {
     "data": {
      "text/plain": [
       "(3694, 14)"
      ]
     },
     "execution_count": 3,
     "metadata": {},
     "output_type": "execute_result"
    }
   ],
   "source": [
    "base_df.shape"
   ]
  },
  {
   "cell_type": "code",
   "execution_count": 4,
   "metadata": {},
   "outputs": [],
   "source": [
    "# replace nan to empty string \n",
    "copy_df = base_df.replace(np.nan, '', regex=True)"
   ]
  },
  {
   "cell_type": "code",
   "execution_count": 5,
   "metadata": {},
   "outputs": [
    {
     "name": "stdout",
     "output_type": "stream",
     "text": [
      "1795\n"
     ]
    }
   ],
   "source": [
    "# find the rows with empty string in depth, height, width\n",
    "i_no_dim = []\n",
    "for i in range(copy_df.shape[0]):\n",
    "    if copy_df['depth'].iloc[i] == '' or copy_df['height'].iloc[i] == '' or copy_df['width'].iloc[i] == '':\n",
    "        i_no_dim.append(i)\n",
    "print(len(i_no_dim))"
   ]
  },
  {
   "cell_type": "code",
   "execution_count": 6,
   "metadata": {},
   "outputs": [
    {
     "name": "stdout",
     "output_type": "stream",
     "text": [
      "1213\n"
     ]
    }
   ],
   "source": [
    "# see if I can fill them with description\n",
    "i_dim_included = []\n",
    "for i in i_no_dim:\n",
    "    if 'cm' in copy_df['short_description'].iloc[i]:\n",
    "        i_dim_included.append(i)\n",
    "print(len(i_dim_included))"
   ]
  },
  {
   "cell_type": "code",
   "execution_count": 7,
   "metadata": {},
   "outputs": [
    {
     "data": {
      "text/html": [
       "<div>\n",
       "<style scoped>\n",
       "    .dataframe tbody tr th:only-of-type {\n",
       "        vertical-align: middle;\n",
       "    }\n",
       "\n",
       "    .dataframe tbody tr th {\n",
       "        vertical-align: top;\n",
       "    }\n",
       "\n",
       "    .dataframe thead th {\n",
       "        text-align: right;\n",
       "    }\n",
       "</style>\n",
       "<table border=\"1\" class=\"dataframe\">\n",
       "  <thead>\n",
       "    <tr style=\"text-align: right;\">\n",
       "      <th></th>\n",
       "      <th>short_description</th>\n",
       "      <th>depth</th>\n",
       "      <th>height</th>\n",
       "      <th>width</th>\n",
       "    </tr>\n",
       "  </thead>\n",
       "  <tbody>\n",
       "    <tr>\n",
       "      <th>0</th>\n",
       "      <td>Bar table, in/outdoor,          51x51 cm</td>\n",
       "      <td></td>\n",
       "      <td>99.000</td>\n",
       "      <td>51.000</td>\n",
       "    </tr>\n",
       "    <tr>\n",
       "      <th>1</th>\n",
       "      <td>Bar table,          140x80 cm</td>\n",
       "      <td></td>\n",
       "      <td>105.000</td>\n",
       "      <td>80.000</td>\n",
       "    </tr>\n",
       "    <tr>\n",
       "      <th>7</th>\n",
       "      <td>Bar stool,          63-74 cm</td>\n",
       "      <td>50.000</td>\n",
       "      <td></td>\n",
       "      <td>50.000</td>\n",
       "    </tr>\n",
       "    <tr>\n",
       "      <th>15</th>\n",
       "      <td>Table,          130x70/105 cm</td>\n",
       "      <td></td>\n",
       "      <td>105.000</td>\n",
       "      <td>70.000</td>\n",
       "    </tr>\n",
       "    <tr>\n",
       "      <th>20</th>\n",
       "      <td>Bar table,          120x80 cm</td>\n",
       "      <td></td>\n",
       "      <td>105.000</td>\n",
       "      <td>80.000</td>\n",
       "    </tr>\n",
       "    <tr>\n",
       "      <th>...</th>\n",
       "      <td>...</td>\n",
       "      <td>...</td>\n",
       "      <td>...</td>\n",
       "      <td>...</td>\n",
       "    </tr>\n",
       "    <tr>\n",
       "      <th>3689</th>\n",
       "      <td>1 section,          92x51x222-350 cm</td>\n",
       "      <td>50.000</td>\n",
       "      <td></td>\n",
       "      <td>91.000</td>\n",
       "    </tr>\n",
       "    <tr>\n",
       "      <th>3690</th>\n",
       "      <td>2 sections,          135x51x222-350 cm</td>\n",
       "      <td>50.000</td>\n",
       "      <td></td>\n",
       "      <td>135.000</td>\n",
       "    </tr>\n",
       "    <tr>\n",
       "      <th>3691</th>\n",
       "      <td>2 sections,          175x51x222-350 cm</td>\n",
       "      <td>50.000</td>\n",
       "      <td></td>\n",
       "      <td>175.000</td>\n",
       "    </tr>\n",
       "    <tr>\n",
       "      <th>3692</th>\n",
       "      <td>3 sections,          178x51x222-350 cm</td>\n",
       "      <td>50.000</td>\n",
       "      <td></td>\n",
       "      <td>178.000</td>\n",
       "    </tr>\n",
       "    <tr>\n",
       "      <th>3693</th>\n",
       "      <td>2 sections,          175x51x222-350 cm</td>\n",
       "      <td>50.000</td>\n",
       "      <td></td>\n",
       "      <td>175.000</td>\n",
       "    </tr>\n",
       "  </tbody>\n",
       "</table>\n",
       "<p>1213 rows × 4 columns</p>\n",
       "</div>"
      ],
      "text/plain": [
       "                                     short_description  depth  height   width\n",
       "0             Bar table, in/outdoor,          51x51 cm         99.000  51.000\n",
       "1                        Bar table,          140x80 cm        105.000  80.000\n",
       "7                         Bar stool,          63-74 cm 50.000          50.000\n",
       "15                       Table,          130x70/105 cm        105.000  70.000\n",
       "20                       Bar table,          120x80 cm        105.000  80.000\n",
       "...                                                ...    ...     ...     ...\n",
       "3689              1 section,          92x51x222-350 cm 50.000          91.000\n",
       "3690            2 sections,          135x51x222-350 cm 50.000         135.000\n",
       "3691            2 sections,          175x51x222-350 cm 50.000         175.000\n",
       "3692            3 sections,          178x51x222-350 cm 50.000         178.000\n",
       "3693            2 sections,          175x51x222-350 cm 50.000         175.000\n",
       "\n",
       "[1213 rows x 4 columns]"
      ]
     },
     "execution_count": 7,
     "metadata": {},
     "output_type": "execute_result"
    }
   ],
   "source": [
    "# look the rows\n",
    "copy_df[['short_description','depth','height','width']].iloc[i_dim_included]"
   ]
  },
  {
   "cell_type": "code",
   "execution_count": 12,
   "metadata": {},
   "outputs": [],
   "source": [
    "# fill them if I can\n",
    "def spliter(x):\n",
    "    layer1 = x.split(',')[-1]\n",
    "    if 'cm' in layer1:\n",
    "        layer1 = layer1[:layer1.index('cm')]\n",
    "        layer2 = layer1.split('x')\n",
    "        if len(layer2) == 2:\n",
    "            try:\n",
    "                d, w = float(layer2[0]), float(layer2[1])\n",
    "                h = 0\n",
    "                return d, w, h\n",
    "            except:\n",
    "                return 0, 0, 0\n",
    "        elif len(layer2) == 3:\n",
    "            layer2[2] = layer2[2][:layer2[2].find('-')]\n",
    "            try:\n",
    "                d, w, h = float(layer2[0]), float(layer2[1]), float(layer2[2])\n",
    "                return d, w, h\n",
    "            except:\n",
    "                return 0, 0, 0\n",
    "        else:\n",
    "            return 0, 0, 0\n",
    "    else:\n",
    "        return 0, 0, 0\n"
   ]
  },
  {
   "cell_type": "code",
   "execution_count": 20,
   "metadata": {},
   "outputs": [],
   "source": [
    "# making list of them\n",
    "reading = [spliter(dscrp) for dscrp in copy_df['short_description'].iloc[i_dim_included]]"
   ]
  },
  {
   "cell_type": "code",
   "execution_count": 21,
   "metadata": {},
   "outputs": [
    {
     "name": "stderr",
     "output_type": "stream",
     "text": [
      "/home/sang/anaconda3/lib/python3.8/site-packages/pandas/core/indexing.py:670: SettingWithCopyWarning: \n",
      "A value is trying to be set on a copy of a slice from a DataFrame\n",
      "\n",
      "See the caveats in the documentation: https://pandas.pydata.org/pandas-docs/stable/user_guide/indexing.html#returning-a-view-versus-a-copy\n",
      "  iloc._setitem_with_indexer(indexer, value)\n"
     ]
    },
    {
     "data": {
      "text/html": [
       "<div>\n",
       "<style scoped>\n",
       "    .dataframe tbody tr th:only-of-type {\n",
       "        vertical-align: middle;\n",
       "    }\n",
       "\n",
       "    .dataframe tbody tr th {\n",
       "        vertical-align: top;\n",
       "    }\n",
       "\n",
       "    .dataframe thead th {\n",
       "        text-align: right;\n",
       "    }\n",
       "</style>\n",
       "<table border=\"1\" class=\"dataframe\">\n",
       "  <thead>\n",
       "    <tr style=\"text-align: right;\">\n",
       "      <th></th>\n",
       "      <th>Unnamed: 0</th>\n",
       "      <th>item_id</th>\n",
       "      <th>name</th>\n",
       "      <th>category</th>\n",
       "      <th>price</th>\n",
       "      <th>old_price</th>\n",
       "      <th>sellable_online</th>\n",
       "      <th>link</th>\n",
       "      <th>other_colors</th>\n",
       "      <th>short_description</th>\n",
       "      <th>designer</th>\n",
       "      <th>depth</th>\n",
       "      <th>height</th>\n",
       "      <th>width</th>\n",
       "    </tr>\n",
       "  </thead>\n",
       "  <tbody>\n",
       "    <tr>\n",
       "      <th>0</th>\n",
       "      <td>0</td>\n",
       "      <td>90420332</td>\n",
       "      <td>FREKVENS</td>\n",
       "      <td>Bar furniture</td>\n",
       "      <td>265.000</td>\n",
       "      <td>No old price</td>\n",
       "      <td>True</td>\n",
       "      <td>https://www.ikea.com/sa/en/p/frekvens-bar-tabl...</td>\n",
       "      <td>No</td>\n",
       "      <td>Bar table, in/outdoor,          51x51 cm</td>\n",
       "      <td>Nicholai Wiig Hansen</td>\n",
       "      <td>51.000</td>\n",
       "      <td>99.000</td>\n",
       "      <td>51.000</td>\n",
       "    </tr>\n",
       "    <tr>\n",
       "      <th>1</th>\n",
       "      <td>1</td>\n",
       "      <td>368814</td>\n",
       "      <td>NORDVIKEN</td>\n",
       "      <td>Bar furniture</td>\n",
       "      <td>995.000</td>\n",
       "      <td>No old price</td>\n",
       "      <td>False</td>\n",
       "      <td>https://www.ikea.com/sa/en/p/nordviken-bar-tab...</td>\n",
       "      <td>No</td>\n",
       "      <td>Bar table,          140x80 cm</td>\n",
       "      <td>Francis Cayouette</td>\n",
       "      <td>140.000</td>\n",
       "      <td>105.000</td>\n",
       "      <td>80.000</td>\n",
       "    </tr>\n",
       "    <tr>\n",
       "      <th>2</th>\n",
       "      <td>2</td>\n",
       "      <td>9333523</td>\n",
       "      <td>NORDVIKEN / NORDVIKEN</td>\n",
       "      <td>Bar furniture</td>\n",
       "      <td>2095.000</td>\n",
       "      <td>No old price</td>\n",
       "      <td>False</td>\n",
       "      <td>https://www.ikea.com/sa/en/p/nordviken-nordvik...</td>\n",
       "      <td>No</td>\n",
       "      <td>Bar table and 4 bar stools</td>\n",
       "      <td>Francis Cayouette</td>\n",
       "      <td>nan</td>\n",
       "      <td>nan</td>\n",
       "      <td>nan</td>\n",
       "    </tr>\n",
       "    <tr>\n",
       "      <th>3</th>\n",
       "      <td>3</td>\n",
       "      <td>80155205</td>\n",
       "      <td>STIG</td>\n",
       "      <td>Bar furniture</td>\n",
       "      <td>69.000</td>\n",
       "      <td>No old price</td>\n",
       "      <td>True</td>\n",
       "      <td>https://www.ikea.com/sa/en/p/stig-bar-stool-wi...</td>\n",
       "      <td>Yes</td>\n",
       "      <td>Bar stool with backrest,          74 cm</td>\n",
       "      <td>Henrik Preutz</td>\n",
       "      <td>50.000</td>\n",
       "      <td>100.000</td>\n",
       "      <td>60.000</td>\n",
       "    </tr>\n",
       "    <tr>\n",
       "      <th>4</th>\n",
       "      <td>4</td>\n",
       "      <td>30180504</td>\n",
       "      <td>NORBERG</td>\n",
       "      <td>Bar furniture</td>\n",
       "      <td>225.000</td>\n",
       "      <td>No old price</td>\n",
       "      <td>True</td>\n",
       "      <td>https://www.ikea.com/sa/en/p/norberg-wall-moun...</td>\n",
       "      <td>No</td>\n",
       "      <td>Wall-mounted drop-leaf table,         ...</td>\n",
       "      <td>Marcus Arvonen</td>\n",
       "      <td>60.000</td>\n",
       "      <td>43.000</td>\n",
       "      <td>74.000</td>\n",
       "    </tr>\n",
       "  </tbody>\n",
       "</table>\n",
       "</div>"
      ],
      "text/plain": [
       "   Unnamed: 0   item_id                   name       category    price  \\\n",
       "0           0  90420332               FREKVENS  Bar furniture  265.000   \n",
       "1           1    368814              NORDVIKEN  Bar furniture  995.000   \n",
       "2           2   9333523  NORDVIKEN / NORDVIKEN  Bar furniture 2095.000   \n",
       "3           3  80155205                   STIG  Bar furniture   69.000   \n",
       "4           4  30180504                NORBERG  Bar furniture  225.000   \n",
       "\n",
       "      old_price  sellable_online  \\\n",
       "0  No old price             True   \n",
       "1  No old price            False   \n",
       "2  No old price            False   \n",
       "3  No old price             True   \n",
       "4  No old price             True   \n",
       "\n",
       "                                                link other_colors  \\\n",
       "0  https://www.ikea.com/sa/en/p/frekvens-bar-tabl...           No   \n",
       "1  https://www.ikea.com/sa/en/p/nordviken-bar-tab...           No   \n",
       "2  https://www.ikea.com/sa/en/p/nordviken-nordvik...           No   \n",
       "3  https://www.ikea.com/sa/en/p/stig-bar-stool-wi...          Yes   \n",
       "4  https://www.ikea.com/sa/en/p/norberg-wall-moun...           No   \n",
       "\n",
       "                                   short_description              designer  \\\n",
       "0           Bar table, in/outdoor,          51x51 cm  Nicholai Wiig Hansen   \n",
       "1                      Bar table,          140x80 cm     Francis Cayouette   \n",
       "2                         Bar table and 4 bar stools     Francis Cayouette   \n",
       "3            Bar stool with backrest,          74 cm         Henrik Preutz   \n",
       "4          Wall-mounted drop-leaf table,         ...        Marcus Arvonen   \n",
       "\n",
       "    depth  height  width  \n",
       "0  51.000  99.000 51.000  \n",
       "1 140.000 105.000 80.000  \n",
       "2     nan     nan    nan  \n",
       "3  50.000 100.000 60.000  \n",
       "4  60.000  43.000 74.000  "
      ]
     },
     "execution_count": 21,
     "metadata": {},
     "output_type": "execute_result"
    }
   ],
   "source": [
    "for i in range(len(i_dim_included)):\n",
    "    if reading[i][0]:\n",
    "        base_df['depth'].iloc[i_dim_included[i]] = reading[i][0]\n",
    "    if reading[i][1]:\n",
    "        base_df['width'].iloc[i_dim_included[i]] = reading[i][1]\n",
    "    if reading[i][2]:\n",
    "        base_df['height'].iloc[i_dim_included[i]] = reading[i][2]\n",
    "\n",
    "base_df.head()"
   ]
  },
  {
   "cell_type": "code",
   "execution_count": 22,
   "metadata": {},
   "outputs": [
    {
     "data": {
      "text/html": [
       "<div>\n",
       "<style scoped>\n",
       "    .dataframe tbody tr th:only-of-type {\n",
       "        vertical-align: middle;\n",
       "    }\n",
       "\n",
       "    .dataframe tbody tr th {\n",
       "        vertical-align: top;\n",
       "    }\n",
       "\n",
       "    .dataframe thead th {\n",
       "        text-align: right;\n",
       "    }\n",
       "</style>\n",
       "<table border=\"1\" class=\"dataframe\">\n",
       "  <thead>\n",
       "    <tr style=\"text-align: right;\">\n",
       "      <th></th>\n",
       "      <th>short_description</th>\n",
       "      <th>depth</th>\n",
       "      <th>height</th>\n",
       "      <th>width</th>\n",
       "    </tr>\n",
       "  </thead>\n",
       "  <tbody>\n",
       "    <tr>\n",
       "      <th>0</th>\n",
       "      <td>Bar table, in/outdoor,          51x51 cm</td>\n",
       "      <td>51.000</td>\n",
       "      <td>99.000</td>\n",
       "      <td>51.000</td>\n",
       "    </tr>\n",
       "    <tr>\n",
       "      <th>1</th>\n",
       "      <td>Bar table,          140x80 cm</td>\n",
       "      <td>140.000</td>\n",
       "      <td>105.000</td>\n",
       "      <td>80.000</td>\n",
       "    </tr>\n",
       "    <tr>\n",
       "      <th>7</th>\n",
       "      <td>Bar stool,          63-74 cm</td>\n",
       "      <td>50.000</td>\n",
       "      <td>nan</td>\n",
       "      <td>50.000</td>\n",
       "    </tr>\n",
       "    <tr>\n",
       "      <th>15</th>\n",
       "      <td>Table,          130x70/105 cm</td>\n",
       "      <td>nan</td>\n",
       "      <td>105.000</td>\n",
       "      <td>70.000</td>\n",
       "    </tr>\n",
       "    <tr>\n",
       "      <th>20</th>\n",
       "      <td>Bar table,          120x80 cm</td>\n",
       "      <td>120.000</td>\n",
       "      <td>105.000</td>\n",
       "      <td>80.000</td>\n",
       "    </tr>\n",
       "    <tr>\n",
       "      <th>...</th>\n",
       "      <td>...</td>\n",
       "      <td>...</td>\n",
       "      <td>...</td>\n",
       "      <td>...</td>\n",
       "    </tr>\n",
       "    <tr>\n",
       "      <th>3689</th>\n",
       "      <td>1 section,          92x51x222-350 cm</td>\n",
       "      <td>92.000</td>\n",
       "      <td>222.000</td>\n",
       "      <td>51.000</td>\n",
       "    </tr>\n",
       "    <tr>\n",
       "      <th>3690</th>\n",
       "      <td>2 sections,          135x51x222-350 cm</td>\n",
       "      <td>135.000</td>\n",
       "      <td>222.000</td>\n",
       "      <td>51.000</td>\n",
       "    </tr>\n",
       "    <tr>\n",
       "      <th>3691</th>\n",
       "      <td>2 sections,          175x51x222-350 cm</td>\n",
       "      <td>175.000</td>\n",
       "      <td>222.000</td>\n",
       "      <td>51.000</td>\n",
       "    </tr>\n",
       "    <tr>\n",
       "      <th>3692</th>\n",
       "      <td>3 sections,          178x51x222-350 cm</td>\n",
       "      <td>178.000</td>\n",
       "      <td>222.000</td>\n",
       "      <td>51.000</td>\n",
       "    </tr>\n",
       "    <tr>\n",
       "      <th>3693</th>\n",
       "      <td>2 sections,          175x51x222-350 cm</td>\n",
       "      <td>175.000</td>\n",
       "      <td>222.000</td>\n",
       "      <td>51.000</td>\n",
       "    </tr>\n",
       "  </tbody>\n",
       "</table>\n",
       "<p>1213 rows × 4 columns</p>\n",
       "</div>"
      ],
      "text/plain": [
       "                                     short_description   depth  height  width\n",
       "0             Bar table, in/outdoor,          51x51 cm  51.000  99.000 51.000\n",
       "1                        Bar table,          140x80 cm 140.000 105.000 80.000\n",
       "7                         Bar stool,          63-74 cm  50.000     nan 50.000\n",
       "15                       Table,          130x70/105 cm     nan 105.000 70.000\n",
       "20                       Bar table,          120x80 cm 120.000 105.000 80.000\n",
       "...                                                ...     ...     ...    ...\n",
       "3689              1 section,          92x51x222-350 cm  92.000 222.000 51.000\n",
       "3690            2 sections,          135x51x222-350 cm 135.000 222.000 51.000\n",
       "3691            2 sections,          175x51x222-350 cm 175.000 222.000 51.000\n",
       "3692            3 sections,          178x51x222-350 cm 178.000 222.000 51.000\n",
       "3693            2 sections,          175x51x222-350 cm 175.000 222.000 51.000\n",
       "\n",
       "[1213 rows x 4 columns]"
      ]
     },
     "execution_count": 22,
     "metadata": {},
     "output_type": "execute_result"
    }
   ],
   "source": [
    "# check if it worked\n",
    "base_df[['short_description','depth','height','width']].iloc[i_dim_included]"
   ]
  },
  {
   "cell_type": "code",
   "execution_count": 23,
   "metadata": {},
   "outputs": [],
   "source": [
    "# Now we don't need the copy_df and replace it with clean df\n",
    "copy_df = base_df.dropna()"
   ]
  },
  {
   "cell_type": "code",
   "execution_count": 24,
   "metadata": {},
   "outputs": [
    {
     "name": "stdout",
     "output_type": "stream",
     "text": [
      "{False, True} {'Yes', 'No'}\n"
     ]
    }
   ],
   "source": [
    "# Are there any unexpected values?\n",
    "print(set(copy_df['sellable_online']), set(copy_df['other_colors']))"
   ]
  },
  {
   "cell_type": "code",
   "execution_count": 33,
   "metadata": {},
   "outputs": [],
   "source": [
    "# divide them into categorical, numerical df\n",
    "# I don't want to use 'old_price'\n",
    "df_cate = copy_df[['name', 'category', 'sellable_online', 'other_colors', 'short_description', 'designer']]\n",
    "df_nume = copy_df[['depth', 'height', 'width', 'price']]"
   ]
  },
  {
   "cell_type": "code",
   "execution_count": 29,
   "metadata": {},
   "outputs": [
    {
     "name": "stdout",
     "output_type": "stream",
     "text": [
      "# of unique values for name 404 \n",
      " # of unique values for category 17 \n",
      " # of unique values for designer 260 \n",
      "\n"
     ]
    }
   ],
   "source": [
    "print(\n",
    "    '# of unique values for name', len(df_cate['name'].unique()) , '\\n',\n",
    "    '# of unique values for category', len(df_cate['category'].unique()) , '\\n',\n",
    "    '# of unique values for designer', len(df_cate['designer'].unique()) , '\\n',)"
   ]
  },
  {
   "cell_type": "code",
   "execution_count": 36,
   "metadata": {},
   "outputs": [
    {
     "name": "stderr",
     "output_type": "stream",
     "text": [
      "<ipython-input-36-4d5ee3b1bdce>:2: SettingWithCopyWarning: \n",
      "A value is trying to be set on a copy of a slice from a DataFrame.\n",
      "Try using .loc[row_indexer,col_indexer] = value instead\n",
      "\n",
      "See the caveats in the documentation: https://pandas.pydata.org/pandas-docs/stable/user_guide/indexing.html#returning-a-view-versus-a-copy\n",
      "  df_cate['sellable_online'] = df_cate['sellable_online'].apply(lambda x: 1 if x == True else 0)\n",
      "<ipython-input-36-4d5ee3b1bdce>:3: SettingWithCopyWarning: \n",
      "A value is trying to be set on a copy of a slice from a DataFrame.\n",
      "Try using .loc[row_indexer,col_indexer] = value instead\n",
      "\n",
      "See the caveats in the documentation: https://pandas.pydata.org/pandas-docs/stable/user_guide/indexing.html#returning-a-view-versus-a-copy\n",
      "  df_cate['other_colors'] = df_cate['other_colors'].apply(lambda x: 1 if x == 'Yes' else 0)\n"
     ]
    }
   ],
   "source": [
    "# 1 for True & Yes, 0 for False & No\n",
    "df_cate['sellable_online'] = df_cate['sellable_online'].apply(lambda x: 1 if x == True else 0)\n",
    "df_cate['other_colors'] = df_cate['other_colors'].apply(lambda x: 1 if x == 'Yes' else 0)"
   ]
  },
  {
   "cell_type": "code",
   "execution_count": 88,
   "metadata": {
    "scrolled": true
   },
   "outputs": [
    {
     "data": {
      "text/html": [
       "<div>\n",
       "<style scoped>\n",
       "    .dataframe tbody tr th:only-of-type {\n",
       "        vertical-align: middle;\n",
       "    }\n",
       "\n",
       "    .dataframe tbody tr th {\n",
       "        vertical-align: top;\n",
       "    }\n",
       "\n",
       "    .dataframe thead th {\n",
       "        text-align: right;\n",
       "    }\n",
       "</style>\n",
       "<table border=\"1\" class=\"dataframe\">\n",
       "  <thead>\n",
       "    <tr style=\"text-align: right;\">\n",
       "      <th></th>\n",
       "      <th>name</th>\n",
       "      <th>category</th>\n",
       "      <th>designer</th>\n",
       "      <th>depth</th>\n",
       "      <th>height</th>\n",
       "      <th>width</th>\n",
       "      <th>price</th>\n",
       "    </tr>\n",
       "  </thead>\n",
       "  <tbody>\n",
       "    <tr>\n",
       "      <th>0</th>\n",
       "      <td>FREKVENS</td>\n",
       "      <td>Bar furniture</td>\n",
       "      <td>Nicholai Wiig Hansen</td>\n",
       "      <td>51.000</td>\n",
       "      <td>99.000</td>\n",
       "      <td>51.000</td>\n",
       "      <td>265.000</td>\n",
       "    </tr>\n",
       "    <tr>\n",
       "      <th>1</th>\n",
       "      <td>NORDVIKEN</td>\n",
       "      <td>Bar furniture</td>\n",
       "      <td>Francis Cayouette</td>\n",
       "      <td>140.000</td>\n",
       "      <td>105.000</td>\n",
       "      <td>80.000</td>\n",
       "      <td>995.000</td>\n",
       "    </tr>\n",
       "    <tr>\n",
       "      <th>3</th>\n",
       "      <td>STIG</td>\n",
       "      <td>Bar furniture</td>\n",
       "      <td>Henrik Preutz</td>\n",
       "      <td>50.000</td>\n",
       "      <td>100.000</td>\n",
       "      <td>60.000</td>\n",
       "      <td>69.000</td>\n",
       "    </tr>\n",
       "    <tr>\n",
       "      <th>4</th>\n",
       "      <td>NORBERG</td>\n",
       "      <td>Bar furniture</td>\n",
       "      <td>Marcus Arvonen</td>\n",
       "      <td>60.000</td>\n",
       "      <td>43.000</td>\n",
       "      <td>74.000</td>\n",
       "      <td>225.000</td>\n",
       "    </tr>\n",
       "    <tr>\n",
       "      <th>5</th>\n",
       "      <td>INGOLF</td>\n",
       "      <td>Bar furniture</td>\n",
       "      <td>Carina Bengs</td>\n",
       "      <td>45.000</td>\n",
       "      <td>91.000</td>\n",
       "      <td>40.000</td>\n",
       "      <td>345.000</td>\n",
       "    </tr>\n",
       "  </tbody>\n",
       "</table>\n",
       "</div>"
      ],
      "text/plain": [
       "        name       category              designer   depth  height  width  \\\n",
       "0   FREKVENS  Bar furniture  Nicholai Wiig Hansen  51.000  99.000 51.000   \n",
       "1  NORDVIKEN  Bar furniture     Francis Cayouette 140.000 105.000 80.000   \n",
       "3       STIG  Bar furniture         Henrik Preutz  50.000 100.000 60.000   \n",
       "4    NORBERG  Bar furniture        Marcus Arvonen  60.000  43.000 74.000   \n",
       "5     INGOLF  Bar furniture          Carina Bengs  45.000  91.000 40.000   \n",
       "\n",
       "    price  \n",
       "0 265.000  \n",
       "1 995.000  \n",
       "3  69.000  \n",
       "4 225.000  \n",
       "5 345.000  "
      ]
     },
     "execution_count": 88,
     "metadata": {},
     "output_type": "execute_result"
    }
   ],
   "source": [
    "target_df = df_cate[['name','category','designer']].join(df_nume)\n",
    "target_df.head()"
   ]
  },
  {
   "cell_type": "code",
   "execution_count": 89,
   "metadata": {},
   "outputs": [
    {
     "data": {
      "text/html": [
       "<script src=\"https://cdnjs.cloudflare.com/ajax/libs/webcomponentsjs/1.3.3/webcomponents-lite.js\"></script>\n",
       "        <link rel=\"import\" href=\"https://raw.githubusercontent.com/PAIR-code/facets/1.0.0/facets-dist/facets-jupyter.html\">\n",
       "        <facets-overview id=\"elem\"></facets-overview>\n",
       "        <script>\n",
       "          document.querySelector(\"#elem\").protoInput = \"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\";\n",
       "        </script>"
      ],
      "text/plain": [
       "<IPython.core.display.HTML object>"
      ]
     },
     "metadata": {},
     "output_type": "display_data"
    }
   ],
   "source": [
    "# For facets\n",
    "from IPython.core.display import display, HTML\n",
    "import base64\n",
    "# !pip install facets-overview==1.0.0\n",
    "from facets_overview.feature_statistics_generator import FeatureStatisticsGenerator\n",
    "\n",
    "# Visualize the Data in Facets\n",
    "fsg = FeatureStatisticsGenerator()\n",
    "dataframes = [\n",
    "    {'table': target_df, 'name': 'Data'}]\n",
    "censusProto = fsg.ProtoFromDataFrames(dataframes)\n",
    "protostr = base64.b64encode(censusProto.SerializeToString()).decode(\"utf-8\")\n",
    "\n",
    "\n",
    "HTML_TEMPLATE = \"\"\"<script src=\"https://cdnjs.cloudflare.com/ajax/libs/webcomponentsjs/1.3.3/webcomponents-lite.js\"></script>\n",
    "        <link rel=\"import\" href=\"https://raw.githubusercontent.com/PAIR-code/facets/1.0.0/facets-dist/facets-jupyter.html\">\n",
    "        <facets-overview id=\"elem\"></facets-overview>\n",
    "        <script>\n",
    "          document.querySelector(\"#elem\").protoInput = \"{protostr}\";\n",
    "        </script>\"\"\"\n",
    "html = HTML_TEMPLATE.format(protostr=protostr)\n",
    "display(HTML(html))"
   ]
  },
  {
   "cell_type": "code",
   "execution_count": 90,
   "metadata": {},
   "outputs": [
    {
     "data": {
      "text/plain": [
       "<AxesSubplot:>"
      ]
     },
     "execution_count": 90,
     "metadata": {},
     "output_type": "execute_result"
    },
    {
     "data": {
      "image/png": "[encoded data removed]",
      "text/plain": [
       "<Figure size 432x288 with 1 Axes>"
      ]
     },
     "metadata": {
      "needs_background": "light"
     },
     "output_type": "display_data"
    }
   ],
   "source": [
    "target_df['price'].hist()"
   ]
  },
  {
   "cell_type": "code",
   "execution_count": 91,
   "metadata": {},
   "outputs": [
    {
     "data": {
      "text/plain": [
       "count   2462.000\n",
       "mean       6.375\n",
       "std        1.274\n",
       "min        1.609\n",
       "25%        5.541\n",
       "50%        6.412\n",
       "75%        7.325\n",
       "max        9.168\n",
       "Name: price, dtype: float64"
      ]
     },
     "execution_count": 91,
     "metadata": {},
     "output_type": "execute_result"
    },
    {
     "data": {
      "image/png": "[encoded data removed]",
      "text/plain": [
       "<Figure size 432x288 with 1 Axes>"
      ]
     },
     "metadata": {
      "needs_background": "light"
     },
     "output_type": "display_data"
    }
   ],
   "source": [
    "# Is log(price) useful?\n",
    "import math\n",
    "logprice = target_df['price'].apply(lambda x: math.log(x))\n",
    "logprice.hist()\n",
    "logprice.describe()"
   ]
  },
  {
   "cell_type": "markdown",
   "metadata": {},
   "source": [
    "### Is the volume of item related to price?"
   ]
  },
  {
   "cell_type": "code",
   "execution_count": 52,
   "metadata": {},
   "outputs": [
    {
     "data": {
      "text/plain": [
       "<matplotlib.collections.PathCollection at 0x7efb31341b50>"
      ]
     },
     "execution_count": 52,
     "metadata": {},
     "output_type": "execute_result"
    },
    {
     "data": {
      "image/png": "[encoded data removed]",
      "text/plain": [
       "<Figure size 432x288 with 1 Axes>"
      ]
     },
     "metadata": {
      "needs_background": "light"
     },
     "output_type": "display_data"
    }
   ],
   "source": [
    "import math\n",
    "vol = target_df['depth']*target_df['height']*target_df['width']\n",
    "logvol = vol.apply(lambda x: math.log(x))\n",
    "plt.scatter(logvol,logprice)"
   ]
  },
  {
   "cell_type": "code",
   "execution_count": 61,
   "metadata": {},
   "outputs": [
    {
     "data": {
      "text/html": [
       "<div>\n",
       "<style scoped>\n",
       "    .dataframe tbody tr th:only-of-type {\n",
       "        vertical-align: middle;\n",
       "    }\n",
       "\n",
       "    .dataframe tbody tr th {\n",
       "        vertical-align: top;\n",
       "    }\n",
       "\n",
       "    .dataframe thead th {\n",
       "        text-align: right;\n",
       "    }\n",
       "</style>\n",
       "<table border=\"1\" class=\"dataframe\">\n",
       "  <thead>\n",
       "    <tr style=\"text-align: right;\">\n",
       "      <th></th>\n",
       "      <th>logvol</th>\n",
       "      <th>logprice</th>\n",
       "    </tr>\n",
       "  </thead>\n",
       "  <tbody>\n",
       "    <tr>\n",
       "      <th>logvol</th>\n",
       "      <td>1.000</td>\n",
       "      <td>0.819</td>\n",
       "    </tr>\n",
       "    <tr>\n",
       "      <th>logprice</th>\n",
       "      <td>0.819</td>\n",
       "      <td>1.000</td>\n",
       "    </tr>\n",
       "  </tbody>\n",
       "</table>\n",
       "</div>"
      ],
      "text/plain": [
       "          logvol  logprice\n",
       "logvol     1.000     0.819\n",
       "logprice   0.819     1.000"
      ]
     },
     "execution_count": 61,
     "metadata": {},
     "output_type": "execute_result"
    }
   ],
   "source": [
    "twofactor = pd.DataFrame({'logvol': logvol, 'logprice': logprice})\n",
    "twofactor.corr()"
   ]
  },
  {
   "cell_type": "markdown",
   "metadata": {},
   "source": [
    "### highly corrrelated"
   ]
  },
  {
   "cell_type": "markdown",
   "metadata": {},
   "source": [
    "## Create data array"
   ]
  },
  {
   "cell_type": "code",
   "execution_count": 94,
   "metadata": {},
   "outputs": [
    {
     "data": {
      "text/html": [
       "<div>\n",
       "<style scoped>\n",
       "    .dataframe tbody tr th:only-of-type {\n",
       "        vertical-align: middle;\n",
       "    }\n",
       "\n",
       "    .dataframe tbody tr th {\n",
       "        vertical-align: top;\n",
       "    }\n",
       "\n",
       "    .dataframe thead th {\n",
       "        text-align: right;\n",
       "    }\n",
       "</style>\n",
       "<table border=\"1\" class=\"dataframe\">\n",
       "  <thead>\n",
       "    <tr style=\"text-align: right;\">\n",
       "      <th></th>\n",
       "      <th>name</th>\n",
       "      <th>category</th>\n",
       "      <th>designer</th>\n",
       "      <th>depth</th>\n",
       "      <th>height</th>\n",
       "      <th>width</th>\n",
       "      <th>price</th>\n",
       "    </tr>\n",
       "  </thead>\n",
       "  <tbody>\n",
       "    <tr>\n",
       "      <th>0</th>\n",
       "      <td>FREKVENS</td>\n",
       "      <td>Bar furniture</td>\n",
       "      <td>Nicholai Wiig Hansen</td>\n",
       "      <td>51.000</td>\n",
       "      <td>99.000</td>\n",
       "      <td>51.000</td>\n",
       "      <td>5.580</td>\n",
       "    </tr>\n",
       "    <tr>\n",
       "      <th>1</th>\n",
       "      <td>NORDVIKEN</td>\n",
       "      <td>Bar furniture</td>\n",
       "      <td>Francis Cayouette</td>\n",
       "      <td>140.000</td>\n",
       "      <td>105.000</td>\n",
       "      <td>80.000</td>\n",
       "      <td>6.903</td>\n",
       "    </tr>\n",
       "    <tr>\n",
       "      <th>3</th>\n",
       "      <td>STIG</td>\n",
       "      <td>Bar furniture</td>\n",
       "      <td>Henrik Preutz</td>\n",
       "      <td>50.000</td>\n",
       "      <td>100.000</td>\n",
       "      <td>60.000</td>\n",
       "      <td>4.234</td>\n",
       "    </tr>\n",
       "    <tr>\n",
       "      <th>4</th>\n",
       "      <td>NORBERG</td>\n",
       "      <td>Bar furniture</td>\n",
       "      <td>Marcus Arvonen</td>\n",
       "      <td>60.000</td>\n",
       "      <td>43.000</td>\n",
       "      <td>74.000</td>\n",
       "      <td>5.416</td>\n",
       "    </tr>\n",
       "    <tr>\n",
       "      <th>5</th>\n",
       "      <td>INGOLF</td>\n",
       "      <td>Bar furniture</td>\n",
       "      <td>Carina Bengs</td>\n",
       "      <td>45.000</td>\n",
       "      <td>91.000</td>\n",
       "      <td>40.000</td>\n",
       "      <td>5.844</td>\n",
       "    </tr>\n",
       "    <tr>\n",
       "      <th>...</th>\n",
       "      <td>...</td>\n",
       "      <td>...</td>\n",
       "      <td>...</td>\n",
       "      <td>...</td>\n",
       "      <td>...</td>\n",
       "      <td>...</td>\n",
       "      <td>...</td>\n",
       "    </tr>\n",
       "    <tr>\n",
       "      <th>3689</th>\n",
       "      <td>ELVARLI</td>\n",
       "      <td>Wardrobes</td>\n",
       "      <td>Ehlén Johansson</td>\n",
       "      <td>92.000</td>\n",
       "      <td>222.000</td>\n",
       "      <td>51.000</td>\n",
       "      <td>6.620</td>\n",
       "    </tr>\n",
       "    <tr>\n",
       "      <th>3690</th>\n",
       "      <td>ELVARLI</td>\n",
       "      <td>Wardrobes</td>\n",
       "      <td>Ehlén Johansson</td>\n",
       "      <td>135.000</td>\n",
       "      <td>222.000</td>\n",
       "      <td>51.000</td>\n",
       "      <td>7.360</td>\n",
       "    </tr>\n",
       "    <tr>\n",
       "      <th>3691</th>\n",
       "      <td>ELVARLI</td>\n",
       "      <td>Wardrobes</td>\n",
       "      <td>Ehlén Johansson</td>\n",
       "      <td>175.000</td>\n",
       "      <td>222.000</td>\n",
       "      <td>51.000</td>\n",
       "      <td>6.829</td>\n",
       "    </tr>\n",
       "    <tr>\n",
       "      <th>3692</th>\n",
       "      <td>ELVARLI</td>\n",
       "      <td>Wardrobes</td>\n",
       "      <td>Ehlén Johansson</td>\n",
       "      <td>178.000</td>\n",
       "      <td>222.000</td>\n",
       "      <td>51.000</td>\n",
       "      <td>7.918</td>\n",
       "    </tr>\n",
       "    <tr>\n",
       "      <th>3693</th>\n",
       "      <td>ELVARLI</td>\n",
       "      <td>Wardrobes</td>\n",
       "      <td>Ehlén Johansson</td>\n",
       "      <td>175.000</td>\n",
       "      <td>222.000</td>\n",
       "      <td>51.000</td>\n",
       "      <td>7.116</td>\n",
       "    </tr>\n",
       "  </tbody>\n",
       "</table>\n",
       "<p>2462 rows × 7 columns</p>\n",
       "</div>"
      ],
      "text/plain": [
       "           name       category              designer   depth  height  width  \\\n",
       "0      FREKVENS  Bar furniture  Nicholai Wiig Hansen  51.000  99.000 51.000   \n",
       "1     NORDVIKEN  Bar furniture     Francis Cayouette 140.000 105.000 80.000   \n",
       "3          STIG  Bar furniture         Henrik Preutz  50.000 100.000 60.000   \n",
       "4       NORBERG  Bar furniture        Marcus Arvonen  60.000  43.000 74.000   \n",
       "5        INGOLF  Bar furniture          Carina Bengs  45.000  91.000 40.000   \n",
       "...         ...            ...                   ...     ...     ...    ...   \n",
       "3689    ELVARLI      Wardrobes       Ehlén Johansson  92.000 222.000 51.000   \n",
       "3690    ELVARLI      Wardrobes       Ehlén Johansson 135.000 222.000 51.000   \n",
       "3691    ELVARLI      Wardrobes       Ehlén Johansson 175.000 222.000 51.000   \n",
       "3692    ELVARLI      Wardrobes       Ehlén Johansson 178.000 222.000 51.000   \n",
       "3693    ELVARLI      Wardrobes       Ehlén Johansson 175.000 222.000 51.000   \n",
       "\n",
       "      price  \n",
       "0     5.580  \n",
       "1     6.903  \n",
       "3     4.234  \n",
       "4     5.416  \n",
       "5     5.844  \n",
       "...     ...  \n",
       "3689  6.620  \n",
       "3690  7.360  \n",
       "3691  6.829  \n",
       "3692  7.918  \n",
       "3693  7.116  \n",
       "\n",
       "[2462 rows x 7 columns]"
      ]
     },
     "execution_count": 94,
     "metadata": {},
     "output_type": "execute_result"
    }
   ],
   "source": [
    "target_df2 = target_df.drop('price', axis = 1).join(logprice)\n",
    "target_df2"
   ]
  },
  {
   "cell_type": "code",
   "execution_count": 95,
   "metadata": {},
   "outputs": [],
   "source": [
    "def pandas_to_numpy(data):\n",
    "    '''Convert a pandas DataFrame into a Numpy array'''\n",
    "    # Drop empty rows.\n",
    "    data = data.dropna(how=\"any\", axis=0)\n",
    "\n",
    "    # Separate DataFrame into two Numpy arrays\"\n",
    "    labels = np.array(data['price'])\n",
    "    features = data.drop('price', axis=1)\n",
    "    features = {name:np.array(value) for name, value in features.items()}\n",
    "\n",
    "    return features, labels"
   ]
  },
  {
   "cell_type": "code",
   "execution_count": 96,
   "metadata": {},
   "outputs": [
    {
     "name": "stdout",
     "output_type": "stream",
     "text": [
      "1723 739\n"
     ]
    }
   ],
   "source": [
    "# Creating a train data with 70% of original dataframe\n",
    "df_train = target_df2.sample(frac = 0.7)\n",
    " \n",
    "# Creating a test data with the rest of the 30%\n",
    "df_test = target_df2.drop(df_train.index)\n",
    "\n",
    "print(len(df_train), len(df_test))"
   ]
  },
  {
   "cell_type": "markdown",
   "metadata": {},
   "source": [
    "## build model"
   ]
  },
  {
   "cell_type": "code",
   "execution_count": 81,
   "metadata": {},
   "outputs": [],
   "source": [
    "# Define the functions that build and train a model\n",
    "def build_model(feature_layer, lr):\n",
    "    # Discard any pre-existing version of the model.\n",
    "    model = None\n",
    "    \n",
    "    # Most simple tf.keras models are sequential. \n",
    "    model = keras.Sequential()\n",
    "    model.add(layers.DenseFeatures(feature_layer))\n",
    "    model.add(layers.Dense(20, activation=\"relu\", name='Hidden1'))\n",
    "    model.add(layers.Dropout(rate=0.25))\n",
    "    model.add(layers.Dense(10, activation=\"relu\", name='Hidden2'))\n",
    "    model.add(layers.Dropout(rate=0.25))\n",
    "    model.add(layers.Dense(1, activation=\"relu\", name='Output'))\n",
    "    \n",
    "    # Compile the model topography\n",
    "    # Configure training to minimize the model's mean squared error. \n",
    "    model.compile(optimizer=tf.keras.optimizers.Adam(learning_rate=lr),\n",
    "                loss=\"mean_squared_error\",\n",
    "                metrics=[tf.keras.metrics.RootMeanSquaredError()])\n",
    "\n",
    "    return model "
   ]
  },
  {
   "cell_type": "code",
   "execution_count": 99,
   "metadata": {},
   "outputs": [],
   "source": [
    "def train_model(model, dataset, epochs, label_name,\n",
    "                batch_size=None):\n",
    "\n",
    "    # Split the dataset into features and label.\n",
    "    features = {name:np.array(value) for name, value in dataset.items()}\n",
    "    label = np.array(features.pop(label_name))\n",
    "    history = model.fit(x=features, y=label, batch_size=batch_size,\n",
    "                      epochs=epochs, shuffle=True) \n",
    "\n",
    "    # The list of epochs is stored separately from the rest of history.\n",
    "    epochs = history.epoch\n",
    "\n",
    "    # To track the progression of training, gather a snapshot\n",
    "    # of the model's mean squared error at each epoch. \n",
    "    hist = pd.DataFrame(history.history)\n",
    "\n",
    "    return epochs, hist"
   ]
  },
  {
   "cell_type": "code",
   "execution_count": 78,
   "metadata": {},
   "outputs": [],
   "source": [
    "category_list = copy_df['category'].unique()"
   ]
  },
  {
   "cell_type": "code",
   "execution_count": 83,
   "metadata": {},
   "outputs": [],
   "source": [
    "# define features\n",
    "\n",
    "name = tf.feature_column.categorical_column_with_hash_bucket(\n",
    "    \"name\", hash_bucket_size=200)\n",
    "designer = tf.feature_column.categorical_column_with_hash_bucket(\n",
    "    \"designer\", hash_bucket_size=260)\n",
    "category = tf.feature_column.categorical_column_with_vocabulary_list(\n",
    "    \"category\", category_list)\n",
    "\n",
    "depth = tf.feature_column.numeric_column(\"depth\")\n",
    "height = tf.feature_column.numeric_column(\"height\")\n",
    "width = tf.feature_column.numeric_column(\"width\")\n",
    "\n",
    "deep_columns = [\n",
    "    tf.feature_column.embedding_column(name, dimension=9),\n",
    "    tf.feature_column.embedding_column(designer, dimension=6),\n",
    "    tf.feature_column.embedding_column(category, dimension=3),\n",
    "    depth,\n",
    "    height,\n",
    "    width\n",
    "]"
   ]
  },
  {
   "cell_type": "code",
   "execution_count": 100,
   "metadata": {},
   "outputs": [
    {
     "name": "stdout",
     "output_type": "stream",
     "text": [
      "Epoch 1/30\n",
      "WARNING:tensorflow:Layers in a Sequential model should only have a single input tensor, but we receive a <class 'dict'> input: {'name': <tf.Tensor 'IteratorGetNext:4' shape=(None,) dtype=string>, 'category': <tf.Tensor 'IteratorGetNext:0' shape=(None,) dtype=string>, 'designer': <tf.Tensor 'IteratorGetNext:2' shape=(None,) dtype=string>, 'depth': <tf.Tensor 'IteratorGetNext:1' shape=(None,) dtype=float32>, 'height': <tf.Tensor 'IteratorGetNext:3' shape=(None,) dtype=float32>, 'width': <tf.Tensor 'IteratorGetNext:5' shape=(None,) dtype=float32>}\n",
      "Consider rewriting this model with the Functional API.\n",
      "WARNING:tensorflow:Layers in a Sequential model should only have a single input tensor, but we receive a <class 'dict'> input: {'name': <tf.Tensor 'IteratorGetNext:4' shape=(None,) dtype=string>, 'category': <tf.Tensor 'IteratorGetNext:0' shape=(None,) dtype=string>, 'designer': <tf.Tensor 'IteratorGetNext:2' shape=(None,) dtype=string>, 'depth': <tf.Tensor 'IteratorGetNext:1' shape=(None,) dtype=float32>, 'height': <tf.Tensor 'IteratorGetNext:3' shape=(None,) dtype=float32>, 'width': <tf.Tensor 'IteratorGetNext:5' shape=(None,) dtype=float32>}\n",
      "Consider rewriting this model with the Functional API.\n",
      "173/173 [==============================] - 1s 680us/step - loss: 46.6181 - root_mean_squared_error: 6.8277\n",
      "Epoch 2/30\n",
      "173/173 [==============================] - 0s 677us/step - loss: 35.0194 - root_mean_squared_error: 5.9177\n",
      "Epoch 3/30\n",
      "173/173 [==============================] - 0s 687us/step - loss: 28.5041 - root_mean_squared_error: 5.3389\n",
      "Epoch 4/30\n",
      "173/173 [==============================] - 0s 717us/step - loss: 10.4993 - root_mean_squared_error: 3.2403\n",
      "Epoch 5/30\n",
      "173/173 [==============================] - 0s 700us/step - loss: 3.5121 - root_mean_squared_error: 1.8741\n",
      "Epoch 6/30\n",
      "173/173 [==============================] - 0s 695us/step - loss: 2.1645 - root_mean_squared_error: 1.4712\n",
      "Epoch 7/30\n",
      "173/173 [==============================] - 0s 692us/step - loss: 1.5254 - root_mean_squared_error: 1.2351\n",
      "Epoch 8/30\n",
      "173/173 [==============================] - 0s 702us/step - loss: 1.4954 - root_mean_squared_error: 1.2229\n",
      "Epoch 9/30\n",
      "173/173 [==============================] - 0s 694us/step - loss: 1.1889 - root_mean_squared_error: 1.0903\n",
      "Epoch 10/30\n",
      "173/173 [==============================] - 0s 685us/step - loss: 1.0546 - root_mean_squared_error: 1.0269\n",
      "Epoch 11/30\n",
      "173/173 [==============================] - 0s 697us/step - loss: 0.9746 - root_mean_squared_error: 0.9872\n",
      "Epoch 12/30\n",
      "173/173 [==============================] - 0s 703us/step - loss: 0.8681 - root_mean_squared_error: 0.9317\n",
      "Epoch 13/30\n",
      "173/173 [==============================] - 0s 700us/step - loss: 0.8565 - root_mean_squared_error: 0.9255\n",
      "Epoch 14/30\n",
      "173/173 [==============================] - 0s 694us/step - loss: 0.7720 - root_mean_squared_error: 0.8786\n",
      "Epoch 15/30\n",
      "173/173 [==============================] - 0s 696us/step - loss: 0.7211 - root_mean_squared_error: 0.8492\n",
      "Epoch 16/30\n",
      "173/173 [==============================] - 0s 691us/step - loss: 0.6683 - root_mean_squared_error: 0.8175\n",
      "Epoch 17/30\n",
      "173/173 [==============================] - 0s 696us/step - loss: 0.7048 - root_mean_squared_error: 0.8395\n",
      "Epoch 18/30\n",
      "173/173 [==============================] - 0s 698us/step - loss: 0.5801 - root_mean_squared_error: 0.7616\n",
      "Epoch 19/30\n",
      "173/173 [==============================] - 0s 694us/step - loss: 0.5971 - root_mean_squared_error: 0.7727\n",
      "Epoch 20/30\n",
      "173/173 [==============================] - 0s 691us/step - loss: 0.5582 - root_mean_squared_error: 0.7471\n",
      "Epoch 21/30\n",
      "173/173 [==============================] - 0s 698us/step - loss: 0.5311 - root_mean_squared_error: 0.7288\n",
      "Epoch 22/30\n",
      "173/173 [==============================] - 0s 693us/step - loss: 0.4861 - root_mean_squared_error: 0.6972\n",
      "Epoch 23/30\n",
      "173/173 [==============================] - 0s 697us/step - loss: 0.5225 - root_mean_squared_error: 0.7229\n",
      "Epoch 24/30\n",
      "173/173 [==============================] - 0s 695us/step - loss: 0.5193 - root_mean_squared_error: 0.7206\n",
      "Epoch 25/30\n",
      "173/173 [==============================] - 0s 700us/step - loss: 0.4490 - root_mean_squared_error: 0.6701\n",
      "Epoch 26/30\n",
      "173/173 [==============================] - 0s 701us/step - loss: 0.4528 - root_mean_squared_error: 0.6729\n",
      "Epoch 27/30\n",
      "173/173 [==============================] - 0s 696us/step - loss: 0.4898 - root_mean_squared_error: 0.6999\n",
      "Epoch 28/30\n",
      "173/173 [==============================] - 0s 703us/step - loss: 0.4654 - root_mean_squared_error: 0.6822\n",
      "Epoch 29/30\n",
      "173/173 [==============================] - 0s 692us/step - loss: 0.4643 - root_mean_squared_error: 0.6814\n",
      "Epoch 30/30\n",
      "173/173 [==============================] - 0s 697us/step - loss: 0.4351 - root_mean_squared_error: 0.6596\n"
     ]
    }
   ],
   "source": [
    "# The following variables are the hyperparameters.\n",
    "learning_rate = 0.007\n",
    "epochs = 30\n",
    "batch_size = 10\n",
    "\n",
    "label_name = \"price\"\n",
    "\n",
    "# Establish the model's topography.\n",
    "my_model = build_model(deep_columns, learning_rate)\n",
    "\n",
    "# Train the model on the normalized training set.\n",
    "epochs, hist = train_model(my_model, df_train, epochs, \n",
    "                          label_name, batch_size)\n",
    "# plot_the_loss_curve(epochs, mse)"
   ]
  },
  {
   "cell_type": "markdown",
   "metadata": {},
   "source": [
    "## Plot the loss, evaluate model, compare predicted vaules"
   ]
  },
  {
   "cell_type": "code",
   "execution_count": 102,
   "metadata": {},
   "outputs": [
    {
     "name": "stdout",
     "output_type": "stream",
     "text": [
      "Defined the plot_the_loss_curve function.\n"
     ]
    }
   ],
   "source": [
    "def plot_the_loss_curve(epochs, hist):\n",
    "    plt.figure()\n",
    "    plt.xlabel(\"Epoch\")\n",
    "    plt.ylabel(\"rmse\")\n",
    "    rmse = hist['root_mean_squared_error']\n",
    "    plt.plot(epochs, rmse, label=\"rmse\")\n",
    "    plt.legend()\n",
    "    plt.ylim([rmse.min()*0.95, rmse.max() * 1.03])\n",
    "    plt.show()  \n",
    "\n",
    "print(\"Defined the plot_the_loss_curve function.\")"
   ]
  },
  {
   "cell_type": "code",
   "execution_count": 103,
   "metadata": {},
   "outputs": [
    {
     "data": {
      "image/png": "[encoded data removed]",
      "text/plain": [
       "<Figure size 432x288 with 1 Axes>"
      ]
     },
     "metadata": {
      "needs_background": "light"
     },
     "output_type": "display_data"
    }
   ],
   "source": [
    "plot_the_loss_curve(epochs, hist)"
   ]
  },
  {
   "cell_type": "code",
   "execution_count": 104,
   "metadata": {},
   "outputs": [
    {
     "name": "stdout",
     "output_type": "stream",
     "text": [
      "\n",
      " Evaluate the new model against the test set:\n",
      "WARNING:tensorflow:Layers in a Sequential model should only have a single input tensor, but we receive a <class 'dict'> input: {'name': <tf.Tensor 'IteratorGetNext:4' shape=(None,) dtype=string>, 'category': <tf.Tensor 'IteratorGetNext:0' shape=(None,) dtype=string>, 'designer': <tf.Tensor 'IteratorGetNext:2' shape=(None,) dtype=string>, 'depth': <tf.Tensor 'IteratorGetNext:1' shape=(None,) dtype=float32>, 'height': <tf.Tensor 'IteratorGetNext:3' shape=(None,) dtype=float32>, 'width': <tf.Tensor 'IteratorGetNext:5' shape=(None,) dtype=float32>}\n",
      "Consider rewriting this model with the Functional API.\n",
      "74/74 [==============================] - 0s 543us/step - loss: 0.3969 - root_mean_squared_error: 0.6300\n"
     ]
    },
    {
     "data": {
      "text/plain": [
       "[0.3969099223613739, 0.6300078630447388]"
      ]
     },
     "execution_count": 104,
     "metadata": {},
     "output_type": "execute_result"
    }
   ],
   "source": [
    "test_features, test_label = pandas_to_numpy(df_test)\n",
    "# test_features = {name:np.array(value) for name, value in test_df_norm.items()}\n",
    "# test_label = np.array(test_features.pop(label_name)) # isolate the label\n",
    "print(\"\\n Evaluate the new model against the test set:\")\n",
    "my_model.evaluate(x = test_features, y = test_label, batch_size=batch_size) "
   ]
  },
  {
   "cell_type": "code",
   "execution_count": 106,
   "metadata": {},
   "outputs": [
    {
     "name": "stdout",
     "output_type": "stream",
     "text": [
      "WARNING:tensorflow:Layers in a Sequential model should only have a single input tensor, but we receive a <class 'dict'> input: {'name': <tf.Tensor 'IteratorGetNext:4' shape=(739,) dtype=string>, 'category': <tf.Tensor 'IteratorGetNext:0' shape=(739,) dtype=string>, 'designer': <tf.Tensor 'IteratorGetNext:2' shape=(739,) dtype=string>, 'depth': <tf.Tensor 'IteratorGetNext:1' shape=(739,) dtype=float32>, 'height': <tf.Tensor 'IteratorGetNext:3' shape=(739,) dtype=float32>, 'width': <tf.Tensor 'IteratorGetNext:5' shape=(739,) dtype=float32>}\n",
      "Consider rewriting this model with the Functional API.\n"
     ]
    }
   ],
   "source": [
    "predicted_values = my_model.predict_on_batch(x=test_features)"
   ]
  },
  {
   "cell_type": "code",
   "execution_count": 107,
   "metadata": {},
   "outputs": [
    {
     "name": "stdout",
     "output_type": "stream",
     "text": [
      "label          predicted\n",
      "value          value\n",
      "in original   in original\n",
      "--------------------------------------\n",
      "   225             220\n",
      "   345             433\n",
      "   129             167\n",
      "   395             468\n",
      "   345             466\n",
      "   595             339\n",
      "   149             167\n",
      "   796             629\n",
      "   395             439\n",
      "   895             678\n",
      "   545            2131\n",
      "  1729            1273\n",
      "   745            1984\n",
      "   295            1125\n",
      "   570             605\n",
      "   895            1150\n",
      "   480            1033\n",
      "   695             652\n",
      "   745             809\n",
      "   295             851\n",
      "   620             548\n",
      "  2425            1724\n",
      "  2185             602\n",
      "  1195             655\n",
      "  3339             832\n",
      "  1260             542\n",
      "  1445             960\n",
      "   849             976\n",
      "  2905             659\n",
      "  1400            3171\n"
     ]
    }
   ],
   "source": [
    "import math\n",
    "print(\"label          predicted\")\n",
    "print(\"value          value\")\n",
    "print(\"in original   in original\")\n",
    "print(\"--------------------------------------\")\n",
    "\n",
    "for i in range(30):\n",
    "    print (\"%6.0f %15.0f\" % ( math.exp(test_label[i]),\n",
    "                                   math.exp(predicted_values[i][0]) ))"
   ]
  }
 ],
 "metadata": {
  "kernelspec": {
   "display_name": "Python 3",
   "language": "python",
   "name": "python3"
  },
  "language_info": {
   "codemirror_mode": {
    "name": "ipython",
    "version": 3
   },
   "file_extension": ".py",
   "mimetype": "text/x-python",
   "name": "python",
   "nbconvert_exporter": "python",
   "pygments_lexer": "ipython3",
   "version": "3.8.5"
  }
 },
 "nbformat": 4,
 "nbformat_minor": 4
}
