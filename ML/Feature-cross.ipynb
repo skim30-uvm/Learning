{
 "cells": [
  {
   "cell_type": "markdown",
   "metadata": {},
   "source": [
    "# Copyright 2020 Google LLC.\n",
    " Licensed under the Apache License, Version 2.0 (the \"License\");\n",
    " you may not use this file except in compliance with the License.\n",
    " You may obtain a copy of the License at\n",
    "\n",
    " https://www.apache.org/licenses/LICENSE-2.0\n",
    "\n",
    " Unless required by applicable law or agreed to in writing, software\n",
    " distributed under the License is distributed on an \"AS IS\" BASIS,\n",
    " WITHOUT WARRANTIES OR CONDITIONS OF ANY KIND, either express or implied.\n",
    " See the License for the specific language governing permissions and\n",
    "| limitations under the License."
   ]
  },
  {
   "cell_type": "code",
   "execution_count": 2,
   "metadata": {},
   "outputs": [
    {
     "name": "stdout",
     "output_type": "stream",
     "text": [
      "Imported the modules.\n"
     ]
    }
   ],
   "source": [
    "# from __future__ import absolute_import, division, print_function, unicode_literals\n",
    "\n",
    "import numpy as np\n",
    "import pandas as pd\n",
    "import tensorflow as tf\n",
    "from tensorflow import feature_column\n",
    "from tensorflow.keras import layers\n",
    "\n",
    "from matplotlib import pyplot as plt\n",
    "\n",
    "# The following lines adjust the granularity of reporting.\n",
    "pd.options.display.max_rows = 10\n",
    "pd.options.display.float_format = \"{:.1f}\".format\n",
    "\n",
    "tf.keras.backend.set_floatx('float32')\n",
    "\n",
    "print(\"Imported the modules.\")"
   ]
  },
  {
   "cell_type": "code",
   "execution_count": 3,
   "metadata": {},
   "outputs": [],
   "source": [
    "# Load the dataset\n",
    "train_df = pd.read_csv(\"https://download.mlcc.google.com/mledu-datasets/california_housing_train.csv\")\n",
    "test_df = pd.read_csv(\"https://download.mlcc.google.com/mledu-datasets/california_housing_test.csv\")\n",
    "\n",
    "# Scale the labels\n",
    "scale_factor = 1000.0\n",
    "# Scale the training set's label.\n",
    "train_df[\"median_house_value\"] /= scale_factor \n",
    "\n",
    "# Scale the test set's label\n",
    "test_df[\"median_house_value\"] /= scale_factor\n",
    "\n",
    "# Shuffle the examples\n",
    "train_df = train_df.reindex(np.random.permutation(train_df.index))"
   ]
  },
  {
   "cell_type": "code",
   "execution_count": 4,
   "metadata": {},
   "outputs": [
    {
     "name": "stdout",
     "output_type": "stream",
     "text": [
      "Defined the create_model, train_model, and plot_the_loss_curve functions.\n"
     ]
    }
   ],
   "source": [
    "#@title Define functions to create and train a model, and a plotting function\n",
    "def create_model(my_learning_rate, feature_layer):\n",
    "    \"\"\"Create and compile a simple linear regression model.\"\"\"\n",
    "    # Most simple tf.keras models are sequential.\n",
    "    model = tf.keras.models.Sequential()\n",
    "\n",
    "    # Add the layer containing the feature columns to the model.\n",
    "    model.add(feature_layer)\n",
    "\n",
    "    # Add one linear layer to the model to yield a simple linear regressor.\n",
    "    model.add(tf.keras.layers.Dense(units=1, input_shape=(1,)))\n",
    "\n",
    "    # Construct the layers into a model that TensorFlow can execute.\n",
    "    model.compile(optimizer=tf.keras.optimizers.RMSprop(learning_rate=my_learning_rate),\n",
    "                loss=\"mean_squared_error\",\n",
    "                metrics=[tf.keras.metrics.RootMeanSquaredError()])\n",
    "\n",
    "    return model           \n",
    "\n",
    "\n",
    "def train_model(model, dataset, epochs, batch_size, label_name):\n",
    "    \"\"\"Feed a dataset into the model in order to train it.\"\"\"\n",
    "\n",
    "    # Question: Maybe we should pass a 1-d array (single feature) for this model?\n",
    "    features = {name:np.array(value) for name, value in dataset.items()}\n",
    "    label = np.array(features.pop(label_name))\n",
    "    history = model.fit(x=features, y=label, batch_size=batch_size,\n",
    "                      epochs=epochs, shuffle=True)\n",
    "\n",
    "    # The list of epochs is stored separately from the rest of history.\n",
    "    epochs = history.epoch\n",
    "\n",
    "    # Isolate the mean absolute error for each epoch.\n",
    "    hist = pd.DataFrame(history.history)\n",
    "    rmse = hist[\"root_mean_squared_error\"]\n",
    "\n",
    "    return epochs, rmse   \n",
    "\n",
    "\n",
    "def plot_the_loss_curve(epochs, rmse):\n",
    "    \"\"\"Plot a curve of loss vs. epoch.\"\"\"\n",
    "\n",
    "    plt.figure()\n",
    "    plt.xlabel(\"Epoch\")\n",
    "    plt.ylabel(\"Root Mean Squared Error\")\n",
    "\n",
    "    plt.plot(epochs, rmse, label=\"Loss\")\n",
    "    plt.legend()\n",
    "    plt.ylim([rmse.min()*0.94, rmse.max()* 1.05])\n",
    "    plt.show()  \n",
    "\n",
    "print(\"Defined the create_model, train_model, and plot_the_loss_curve functions.\")"
   ]
  },
  {
   "cell_type": "code",
   "execution_count": 16,
   "metadata": {},
   "outputs": [
    {
     "name": "stdout",
     "output_type": "stream",
     "text": [
      "{'longitude': array([-121.86, -117.75, -122.53, ..., -120.25, -122.32, -122.73]), 'latitude': array([37.32, 34.07, 37.98, ..., 37.04, 38.01, 38.42]), 'housing_median_age': array([13., 52., 32., ..., 21., 26., 26.]), 'total_rooms': array([2519., 1548., 2390., ..., 1724., 3054., 1446.]), 'total_bedrooms': array([581., 348., 336., ..., 317., 492., 296.]), 'population': array([2094., 1131.,  810., ..., 1006., 1495.,  884.]), 'households': array([530., 343., 354., ..., 290., 496., 295.]), 'median_income': array([4.3621, 2.63  , 8.5759, ..., 3.2868, 4.6944, 4.3523])}\n"
     ]
    }
   ],
   "source": [
    "features = {name:np.array(value) for name, value in train_df.items()}\n",
    "label = np.array(features.pop(label_name))\n",
    "print(features)"
   ]
  },
  {
   "cell_type": "markdown",
   "metadata": {},
   "source": [
    "The following code cell represents latitude and longitude in buckets (bins). Each bin represents all the neighborhoods within a single degree. For example, neighborhoods at latitude 35.4 and 35.8 are in the same bucket, but neighborhoods in latitude 35.4 and 36.2 are in different buckets.\n",
    "The model will learn a separate weight for each bucket. For example, the model will learn one weight for all the neighborhoods in the \"35\" bin\", a different weight for neighborhoods in the \"36\" bin, and so on. This representation will create approximately 20 buckets:\n",
    "\n",
    "10 buckets for latitude.\n",
    "10 buckets for longitude."
   ]
  },
  {
   "cell_type": "code",
   "execution_count": 5,
   "metadata": {},
   "outputs": [],
   "source": [
    "resolution_in_degrees = 1.0 \n",
    "\n",
    "# Create a new empty list that will eventually hold the generated feature column.\n",
    "feature_columns = []\n",
    "\n",
    "# Create a bucket feature column for latitude.\n",
    "latitude_as_a_numeric_column = tf.feature_column.numeric_column(\"latitude\")\n",
    "latitude_boundaries = list(np.arange(int(min(train_df['latitude'])), \n",
    "                                     int(max(train_df['latitude'])), \n",
    "                                     resolution_in_degrees))\n",
    "latitude = tf.feature_column.bucketized_column(latitude_as_a_numeric_column, \n",
    "                                               latitude_boundaries)\n",
    "feature_columns.append(latitude)\n",
    "\n",
    "# Create a bucket feature column for longitude.\n",
    "longitude_as_a_numeric_column = tf.feature_column.numeric_column(\"longitude\")\n",
    "longitude_boundaries = list(np.arange(int(min(train_df['longitude'])), \n",
    "                                      int(max(train_df['longitude'])), \n",
    "                                      resolution_in_degrees))\n",
    "longitude = tf.feature_column.bucketized_column(longitude_as_a_numeric_column, \n",
    "                                                longitude_boundaries)\n",
    "feature_columns.append(longitude)\n",
    "\n",
    "# Convert the list of feature columns into a layer that will ultimately become\n",
    "# part of the model. Understanding layers is not important right now.\n",
    "buckets_feature_layer = layers.DenseFeatures(feature_columns)"
   ]
  },
  {
   "cell_type": "code",
   "execution_count": 11,
   "metadata": {},
   "outputs": [
    {
     "name": "stdout",
     "output_type": "stream",
     "text": [
      "Epoch 1/35\n",
      "WARNING:tensorflow:Layers in a Sequential model should only have a single input tensor, but we receive a <class 'dict'> input: {'longitude': <tf.Tensor 'ExpandDims_3:0' shape=(100, 1) dtype=float32>, 'latitude': <tf.Tensor 'ExpandDims_2:0' shape=(100, 1) dtype=float32>, 'housing_median_age': <tf.Tensor 'ExpandDims_1:0' shape=(100, 1) dtype=float32>, 'total_rooms': <tf.Tensor 'ExpandDims_7:0' shape=(100, 1) dtype=float32>, 'total_bedrooms': <tf.Tensor 'ExpandDims_6:0' shape=(100, 1) dtype=float32>, 'population': <tf.Tensor 'ExpandDims_5:0' shape=(100, 1) dtype=float32>, 'households': <tf.Tensor 'ExpandDims:0' shape=(100, 1) dtype=float32>, 'median_income': <tf.Tensor 'ExpandDims_4:0' shape=(100, 1) dtype=float32>}\n",
      "Consider rewriting this model with the Functional API.\n",
      "WARNING:tensorflow:Layers in a Sequential model should only have a single input tensor, but we receive a <class 'dict'> input: {'longitude': <tf.Tensor 'ExpandDims_3:0' shape=(100, 1) dtype=float32>, 'latitude': <tf.Tensor 'ExpandDims_2:0' shape=(100, 1) dtype=float32>, 'housing_median_age': <tf.Tensor 'ExpandDims_1:0' shape=(100, 1) dtype=float32>, 'total_rooms': <tf.Tensor 'ExpandDims_7:0' shape=(100, 1) dtype=float32>, 'total_bedrooms': <tf.Tensor 'ExpandDims_6:0' shape=(100, 1) dtype=float32>, 'population': <tf.Tensor 'ExpandDims_5:0' shape=(100, 1) dtype=float32>, 'households': <tf.Tensor 'ExpandDims:0' shape=(100, 1) dtype=float32>, 'median_income': <tf.Tensor 'ExpandDims_4:0' shape=(100, 1) dtype=float32>}\n",
      "Consider rewriting this model with the Functional API.\n",
      "170/170 [==============================] - 0s 446us/step - loss: 52224.0820 - root_mean_squared_error: 228.5259\n",
      "Epoch 2/35\n",
      "170/170 [==============================] - 0s 498us/step - loss: 44815.6484 - root_mean_squared_error: 211.6971\n",
      "Epoch 3/35\n",
      "170/170 [==============================] - 0s 418us/step - loss: 38194.9102 - root_mean_squared_error: 195.4352\n",
      "Epoch 4/35\n",
      "170/170 [==============================] - 0s 445us/step - loss: 32402.9219 - root_mean_squared_error: 180.0081\n",
      "Epoch 5/35\n",
      "170/170 [==============================] - 0s 436us/step - loss: 27356.5547 - root_mean_squared_error: 165.3982\n",
      "Epoch 6/35\n",
      "170/170 [==============================] - 0s 470us/step - loss: 23090.7031 - root_mean_squared_error: 151.9563\n",
      "Epoch 7/35\n",
      "170/170 [==============================] - 0s 451us/step - loss: 19561.4785 - root_mean_squared_error: 139.8624\n",
      "Epoch 8/35\n",
      "170/170 [==============================] - 0s 450us/step - loss: 16731.3945 - root_mean_squared_error: 129.3499\n",
      "Epoch 9/35\n",
      "170/170 [==============================] - 0s 463us/step - loss: 14593.9434 - root_mean_squared_error: 120.8054\n",
      "Epoch 10/35\n",
      "170/170 [==============================] - 0s 469us/step - loss: 13013.3838 - root_mean_squared_error: 114.0762\n",
      "Epoch 11/35\n",
      "170/170 [==============================] - 0s 464us/step - loss: 11956.0078 - root_mean_squared_error: 109.3435\n",
      "Epoch 12/35\n",
      "170/170 [==============================] - 0s 462us/step - loss: 11333.1191 - root_mean_squared_error: 106.4571\n",
      "Epoch 13/35\n",
      "170/170 [==============================] - 0s 464us/step - loss: 10993.3672 - root_mean_squared_error: 104.8493\n",
      "Epoch 14/35\n",
      "170/170 [==============================] - 0s 512us/step - loss: 10800.5645 - root_mean_squared_error: 103.9258\n",
      "Epoch 15/35\n",
      "170/170 [==============================] - 0s 566us/step - loss: 10679.9844 - root_mean_squared_error: 103.3440\n",
      "Epoch 16/35\n",
      "170/170 [==============================] - 0s 585us/step - loss: 10603.5664 - root_mean_squared_error: 102.9736\n",
      "Epoch 17/35\n",
      "170/170 [==============================] - 0s 528us/step - loss: 10552.8604 - root_mean_squared_error: 102.7271\n",
      "Epoch 18/35\n",
      "170/170 [==============================] - 0s 428us/step - loss: 10520.2725 - root_mean_squared_error: 102.5684\n",
      "Epoch 19/35\n",
      "170/170 [==============================] - 0s 442us/step - loss: 10497.1807 - root_mean_squared_error: 102.4557\n",
      "Epoch 20/35\n",
      "170/170 [==============================] - 0s 461us/step - loss: 10479.4102 - root_mean_squared_error: 102.3690\n",
      "Epoch 21/35\n",
      "170/170 [==============================] - 0s 490us/step - loss: 10464.4141 - root_mean_squared_error: 102.2957\n",
      "Epoch 22/35\n",
      "170/170 [==============================] - 0s 410us/step - loss: 10451.5420 - root_mean_squared_error: 102.2328\n",
      "Epoch 23/35\n",
      "170/170 [==============================] - 0s 435us/step - loss: 10440.1357 - root_mean_squared_error: 102.1770\n",
      "Epoch 24/35\n",
      "170/170 [==============================] - 0s 464us/step - loss: 10429.4053 - root_mean_squared_error: 102.1245\n",
      "Epoch 25/35\n",
      "170/170 [==============================] - 0s 465us/step - loss: 10419.2002 - root_mean_squared_error: 102.0745\n",
      "Epoch 26/35\n",
      "170/170 [==============================] - 0s 455us/step - loss: 10410.1523 - root_mean_squared_error: 102.0302\n",
      "Epoch 27/35\n",
      "170/170 [==============================] - 0s 466us/step - loss: 10401.2793 - root_mean_squared_error: 101.9867\n",
      "Epoch 28/35\n",
      "170/170 [==============================] - 0s 416us/step - loss: 10393.2168 - root_mean_squared_error: 101.9471\n",
      "Epoch 29/35\n",
      "170/170 [==============================] - 0s 436us/step - loss: 10385.0518 - root_mean_squared_error: 101.9071\n",
      "Epoch 30/35\n",
      "170/170 [==============================] - 0s 427us/step - loss: 10377.6562 - root_mean_squared_error: 101.8708\n",
      "Epoch 31/35\n",
      "170/170 [==============================] - 0s 420us/step - loss: 10370.1719 - root_mean_squared_error: 101.8340\n",
      "Epoch 32/35\n",
      "170/170 [==============================] - 0s 478us/step - loss: 10362.4248 - root_mean_squared_error: 101.7960\n",
      "Epoch 33/35\n",
      "170/170 [==============================] - 0s 440us/step - loss: 10355.7607 - root_mean_squared_error: 101.7633\n",
      "Epoch 34/35\n",
      "170/170 [==============================] - 0s 441us/step - loss: 10348.5977 - root_mean_squared_error: 101.7281\n",
      "Epoch 35/35\n",
      "170/170 [==============================] - 0s 441us/step - loss: 10342.1533 - root_mean_squared_error: 101.6964\n"
     ]
    },
    {
     "data": {
      "image/png": "[encoded data removed]",
      "text/plain": [
       "<Figure size 432x288 with 1 Axes>"
      ]
     },
     "metadata": {
      "needs_background": "light"
     },
     "output_type": "display_data"
    },
    {
     "name": "stdout",
     "output_type": "stream",
     "text": [
      "\n",
      ": Evaluate the new model against the test set:\n",
      "WARNING:tensorflow:Layers in a Sequential model should only have a single input tensor, but we receive a <class 'dict'> input: {'longitude': <tf.Tensor 'ExpandDims_3:0' shape=(100, 1) dtype=float32>, 'latitude': <tf.Tensor 'ExpandDims_2:0' shape=(100, 1) dtype=float32>, 'housing_median_age': <tf.Tensor 'ExpandDims_1:0' shape=(100, 1) dtype=float32>, 'total_rooms': <tf.Tensor 'ExpandDims_7:0' shape=(100, 1) dtype=float32>, 'total_bedrooms': <tf.Tensor 'ExpandDims_6:0' shape=(100, 1) dtype=float32>, 'population': <tf.Tensor 'ExpandDims_5:0' shape=(100, 1) dtype=float32>, 'households': <tf.Tensor 'ExpandDims:0' shape=(100, 1) dtype=float32>, 'median_income': <tf.Tensor 'ExpandDims_4:0' shape=(100, 1) dtype=float32>}\n",
      "Consider rewriting this model with the Functional API.\n",
      "30/30 [==============================] - 0s 388us/step - loss: 10200.7520 - root_mean_squared_error: 100.9988\n"
     ]
    },
    {
     "data": {
      "text/plain": [
       "[10200.751953125, 100.99877166748047]"
      ]
     },
     "execution_count": 11,
     "metadata": {},
     "output_type": "execute_result"
    }
   ],
   "source": [
    "# The following variables are the hyperparameters.\n",
    "learning_rate = 0.04\n",
    "epochs = 35\n",
    "batch_size = 100\n",
    "label_name = 'median_house_value'\n",
    "\n",
    "# Build the model, this time passing in the buckets_feature_layer.\n",
    "my_model = create_model(learning_rate, buckets_feature_layer)\n",
    "\n",
    "# Train the model on the training set.\n",
    "epochs, rmse = train_model(my_model, train_df, epochs, batch_size, label_name)\n",
    "\n",
    "plot_the_loss_curve(epochs, rmse)\n",
    "\n",
    "print(\"\\n: Evaluate the new model against the test set:\")\n",
    "test_features = {name:np.array(value) for name, value in test_df.items()}\n",
    "test_label = np.array(test_features.pop(label_name))\n",
    "my_model.evaluate(x=test_features, y=test_label, batch_size=batch_size)"
   ]
  },
  {
   "cell_type": "markdown",
   "metadata": {},
   "source": [
    "Representing location as a feature cross should \n",
    "produce better results.\n",
    "\n",
    "In Task 2, you represented latitude in \n",
    "one-dimensional buckets and longitude in \n",
    "another series of one-dimensional buckets. \n",
    "Real-world locations, however, exist in \n",
    "two dimension. Therefore, you should\n",
    "represent location as a two-dimensional feature\n",
    "cross. That is, you'll cross the 10 or so latitude \n",
    "buckets with the 10 or so longitude buckets to \n",
    "create a grid of 100 cells. \n",
    "\n",
    "The model will learn separate weights for each \n",
    "of the cells."
   ]
  },
  {
   "cell_type": "code",
   "execution_count": 12,
   "metadata": {},
   "outputs": [],
   "source": [
    "resolution_in_degrees = 1.0 \n",
    "\n",
    "# Create a new empty list that will eventually hold the generated feature column.\n",
    "feature_columns = []\n",
    "\n",
    "# Create a bucket feature column for latitude.\n",
    "latitude_as_a_numeric_column = tf.feature_column.numeric_column(\"latitude\")\n",
    "latitude_boundaries = list(np.arange(int(min(train_df['latitude'])), int(max(train_df['latitude'])), resolution_in_degrees))\n",
    "latitude = tf.feature_column.bucketized_column(latitude_as_a_numeric_column, latitude_boundaries)\n",
    "\n",
    "# Create a bucket feature column for longitude.\n",
    "longitude_as_a_numeric_column = tf.feature_column.numeric_column(\"longitude\")\n",
    "longitude_boundaries = list(np.arange(int(min(train_df['longitude'])), int(max(train_df['longitude'])), resolution_in_degrees))\n",
    "longitude = tf.feature_column.bucketized_column(longitude_as_a_numeric_column, longitude_boundaries)\n",
    "\n",
    "# Create a feature cross of latitude and longitude.\n",
    "latitude_x_longitude = tf.feature_column.crossed_column([latitude, longitude], hash_bucket_size=100)\n",
    "crossed_feature = tf.feature_column.indicator_column(latitude_x_longitude)\n",
    "feature_columns.append(crossed_feature)\n",
    "\n",
    "# Convert the list of feature columns into a layer that will later be fed into\n",
    "# the model. \n",
    "feature_cross_feature_layer = layers.DenseFeatures(feature_columns)"
   ]
  },
  {
   "cell_type": "code",
   "execution_count": 14,
   "metadata": {},
   "outputs": [
    {
     "name": "stdout",
     "output_type": "stream",
     "text": [
      "Epoch 1/35\n",
      "WARNING:tensorflow:Layers in a Sequential model should only have a single input tensor, but we receive a <class 'dict'> input: {'longitude': <tf.Tensor 'ExpandDims_3:0' shape=(100, 1) dtype=float32>, 'latitude': <tf.Tensor 'ExpandDims_2:0' shape=(100, 1) dtype=float32>, 'housing_median_age': <tf.Tensor 'ExpandDims_1:0' shape=(100, 1) dtype=float32>, 'total_rooms': <tf.Tensor 'ExpandDims_7:0' shape=(100, 1) dtype=float32>, 'total_bedrooms': <tf.Tensor 'ExpandDims_6:0' shape=(100, 1) dtype=float32>, 'population': <tf.Tensor 'ExpandDims_5:0' shape=(100, 1) dtype=float32>, 'households': <tf.Tensor 'ExpandDims:0' shape=(100, 1) dtype=float32>, 'median_income': <tf.Tensor 'ExpandDims_4:0' shape=(100, 1) dtype=float32>}\n",
      "Consider rewriting this model with the Functional API.\n",
      "WARNING:tensorflow:Layers in a Sequential model should only have a single input tensor, but we receive a <class 'dict'> input: {'longitude': <tf.Tensor 'ExpandDims_3:0' shape=(100, 1) dtype=float32>, 'latitude': <tf.Tensor 'ExpandDims_2:0' shape=(100, 1) dtype=float32>, 'housing_median_age': <tf.Tensor 'ExpandDims_1:0' shape=(100, 1) dtype=float32>, 'total_rooms': <tf.Tensor 'ExpandDims_7:0' shape=(100, 1) dtype=float32>, 'total_bedrooms': <tf.Tensor 'ExpandDims_6:0' shape=(100, 1) dtype=float32>, 'population': <tf.Tensor 'ExpandDims_5:0' shape=(100, 1) dtype=float32>, 'households': <tf.Tensor 'ExpandDims:0' shape=(100, 1) dtype=float32>, 'median_income': <tf.Tensor 'ExpandDims_4:0' shape=(100, 1) dtype=float32>}\n",
      "Consider rewriting this model with the Functional API.\n",
      "170/170 [==============================] - 0s 514us/step - loss: 53547.0312 - root_mean_squared_error: 231.4023\n",
      "Epoch 2/35\n",
      "170/170 [==============================] - 0s 528us/step - loss: 48509.7188 - root_mean_squared_error: 220.2492\n",
      "Epoch 3/35\n",
      "170/170 [==============================] - 0s 500us/step - loss: 43829.1250 - root_mean_squared_error: 209.3541\n",
      "Epoch 4/35\n",
      "170/170 [==============================] - 0s 485us/step - loss: 39470.3906 - root_mean_squared_error: 198.6716\n",
      "Epoch 5/35\n",
      "170/170 [==============================] - 0s 559us/step - loss: 35455.5156 - root_mean_squared_error: 188.2964\n",
      "Epoch 6/35\n",
      "170/170 [==============================] - 0s 528us/step - loss: 31778.4023 - root_mean_squared_error: 178.2650\n",
      "Epoch 7/35\n",
      "170/170 [==============================] - 0s 515us/step - loss: 28418.6426 - root_mean_squared_error: 168.5783\n",
      "Epoch 8/35\n",
      "170/170 [==============================] - 0s 505us/step - loss: 25403.3613 - root_mean_squared_error: 159.3843\n",
      "Epoch 9/35\n",
      "170/170 [==============================] - 0s 490us/step - loss: 22684.6777 - root_mean_squared_error: 150.6143\n",
      "Epoch 10/35\n",
      "170/170 [==============================] - 0s 509us/step - loss: 20287.7227 - root_mean_squared_error: 142.4350\n",
      "Epoch 11/35\n",
      "170/170 [==============================] - 0s 505us/step - loss: 18182.0410 - root_mean_squared_error: 134.8408\n",
      "Epoch 12/35\n",
      "170/170 [==============================] - 0s 481us/step - loss: 16371.0117 - root_mean_squared_error: 127.9493\n",
      "Epoch 13/35\n",
      "170/170 [==============================] - 0s 507us/step - loss: 14810.2773 - root_mean_squared_error: 121.6975\n",
      "Epoch 14/35\n",
      "170/170 [==============================] - 0s 517us/step - loss: 13518.2207 - root_mean_squared_error: 116.2679\n",
      "Epoch 15/35\n",
      "170/170 [==============================] - 0s 512us/step - loss: 12470.7441 - root_mean_squared_error: 111.6725\n",
      "Epoch 16/35\n",
      "170/170 [==============================] - 0s 537us/step - loss: 11648.5527 - root_mean_squared_error: 107.9285\n",
      "Epoch 17/35\n",
      "170/170 [==============================] - 0s 478us/step - loss: 11035.5566 - root_mean_squared_error: 105.0503\n",
      "Epoch 18/35\n",
      "170/170 [==============================] - 0s 500us/step - loss: 10606.9932 - root_mean_squared_error: 102.9903\n",
      "Epoch 19/35\n",
      "170/170 [==============================] - 0s 506us/step - loss: 10318.8184 - root_mean_squared_error: 101.5816\n",
      "Epoch 20/35\n",
      "170/170 [==============================] - 0s 494us/step - loss: 10133.6455 - root_mean_squared_error: 100.6660\n",
      "Epoch 21/35\n",
      "170/170 [==============================] - 0s 489us/step - loss: 10003.2031 - root_mean_squared_error: 100.0160\n",
      "Epoch 22/35\n",
      "170/170 [==============================] - 0s 514us/step - loss: 9904.9619 - root_mean_squared_error: 99.5237\n",
      "Epoch 23/35\n",
      "170/170 [==============================] - 0s 489us/step - loss: 9830.5586 - root_mean_squared_error: 99.1492\n",
      "Epoch 24/35\n",
      "170/170 [==============================] - 0s 498us/step - loss: 9772.8330 - root_mean_squared_error: 98.8576\n",
      "Epoch 25/35\n",
      "170/170 [==============================] - 0s 530us/step - loss: 9730.6543 - root_mean_squared_error: 98.6441\n",
      "Epoch 26/35\n",
      "170/170 [==============================] - 0s 543us/step - loss: 9700.1650 - root_mean_squared_error: 98.4894\n",
      "Epoch 27/35\n",
      "170/170 [==============================] - 0s 536us/step - loss: 9677.3057 - root_mean_squared_error: 98.3733\n",
      "Epoch 28/35\n",
      "170/170 [==============================] - 0s 492us/step - loss: 9661.0000 - root_mean_squared_error: 98.2904\n",
      "Epoch 29/35\n",
      "170/170 [==============================] - 0s 471us/step - loss: 9648.8340 - root_mean_squared_error: 98.2285\n",
      "Epoch 30/35\n",
      "170/170 [==============================] - 0s 500us/step - loss: 9639.8203 - root_mean_squared_error: 98.1826\n",
      "Epoch 31/35\n",
      "170/170 [==============================] - 0s 486us/step - loss: 9632.6621 - root_mean_squared_error: 98.1461\n",
      "Epoch 32/35\n",
      "170/170 [==============================] - 0s 542us/step - loss: 9627.5234 - root_mean_squared_error: 98.1199\n",
      "Epoch 33/35\n",
      "170/170 [==============================] - 0s 507us/step - loss: 9623.3184 - root_mean_squared_error: 98.0985\n",
      "Epoch 34/35\n",
      "170/170 [==============================] - 0s 525us/step - loss: 9620.2607 - root_mean_squared_error: 98.0829\n",
      "Epoch 35/35\n",
      "170/170 [==============================] - 0s 544us/step - loss: 9617.7012 - root_mean_squared_error: 98.0699\n"
     ]
    },
    {
     "data": {
      "image/png": "[encoded data removed]",
      "text/plain": [
       "<Figure size 432x288 with 1 Axes>"
      ]
     },
     "metadata": {
      "needs_background": "light"
     },
     "output_type": "display_data"
    },
    {
     "name": "stdout",
     "output_type": "stream",
     "text": [
      "\n",
      ": Evaluate the new model against the test set:\n",
      "WARNING:tensorflow:Layers in a Sequential model should only have a single input tensor, but we receive a <class 'dict'> input: {'longitude': <tf.Tensor 'ExpandDims_3:0' shape=(100, 1) dtype=float32>, 'latitude': <tf.Tensor 'ExpandDims_2:0' shape=(100, 1) dtype=float32>, 'housing_median_age': <tf.Tensor 'ExpandDims_1:0' shape=(100, 1) dtype=float32>, 'total_rooms': <tf.Tensor 'ExpandDims_7:0' shape=(100, 1) dtype=float32>, 'total_bedrooms': <tf.Tensor 'ExpandDims_6:0' shape=(100, 1) dtype=float32>, 'population': <tf.Tensor 'ExpandDims_5:0' shape=(100, 1) dtype=float32>, 'households': <tf.Tensor 'ExpandDims:0' shape=(100, 1) dtype=float32>, 'median_income': <tf.Tensor 'ExpandDims_4:0' shape=(100, 1) dtype=float32>}\n",
      "Consider rewriting this model with the Functional API.\n",
      "30/30 [==============================] - 0s 473us/step - loss: 9520.9336 - root_mean_squared_error: 97.5753\n"
     ]
    },
    {
     "data": {
      "text/plain": [
       "[9520.93359375, 97.57527160644531]"
      ]
     },
     "execution_count": 14,
     "metadata": {},
     "output_type": "execute_result"
    }
   ],
   "source": [
    "# The following variables are the hyperparameters.\n",
    "learning_rate = 0.04\n",
    "epochs = 35\n",
    "label_name = 'median_house_value'\n",
    "\n",
    "# Build the model, this time passing in the feature_cross_feature_layer: \n",
    "my_model = create_model(learning_rate, feature_cross_feature_layer)\n",
    "\n",
    "# Train the model on the training set.\n",
    "epochs, rmse = train_model(my_model, train_df, epochs, batch_size, label_name)\n",
    "\n",
    "plot_the_loss_curve(epochs, rmse)\n",
    "\n",
    "print(\"\\n: Evaluate the new model against the test set:\")\n",
    "my_model.evaluate(x=test_features, y=test_label, batch_size=batch_size)"
   ]
  },
  {
   "cell_type": "markdown",
   "metadata": {},
   "source": [
    "A resolution of ~0.4 degree provides the best results."
   ]
  },
  {
   "cell_type": "code",
   "execution_count": null,
   "metadata": {},
   "outputs": [],
   "source": []
  }
 ],
 "metadata": {
  "kernelspec": {
   "display_name": "Python 3",
   "language": "python",
   "name": "python3"
  },
  "language_info": {
   "codemirror_mode": {
    "name": "ipython",
    "version": 3
   },
   "file_extension": ".py",
   "mimetype": "text/x-python",
   "name": "python",
   "nbconvert_exporter": "python",
   "pygments_lexer": "ipython3",
   "version": "3.8.5"
  }
 },
 "nbformat": 4,
 "nbformat_minor": 4
}
