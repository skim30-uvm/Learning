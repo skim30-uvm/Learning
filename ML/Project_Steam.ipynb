{
 "cells": [
  {
   "cell_type": "markdown",
   "metadata": {},
   "source": [
    "# This notebook is for self-learning\n",
    "## Copyright 2020 Sang Wook Kim\n",
    "## Data source: https://www.kaggle.com/nikdavis/steam-store-games?select=steam_media_data.csv"
   ]
  },
  {
   "cell_type": "code",
   "execution_count": 1,
   "metadata": {},
   "outputs": [
    {
     "name": "stdout",
     "output_type": "stream",
     "text": [
      "Imported modules.\n"
     ]
    }
   ],
   "source": [
    "# Import relevant modules\n",
    "import tensorflow as tf\n",
    "import numpy as np\n",
    "import pandas as pd\n",
    "from tensorflow import keras\n",
    "from tensorflow.keras import layers\n",
    "print(\"Imported modules.\")"
   ]
  },
  {
   "cell_type": "code",
   "execution_count": 2,
   "metadata": {},
   "outputs": [],
   "source": [
    "# Import database. Since this is practice, I will look a whole dataset first.\n",
    "df_steam = pd.read_csv(\"/home/sang/UVM/database/Steam/steam.csv\")"
   ]
  },
  {
   "cell_type": "code",
   "execution_count": 3,
   "metadata": {},
   "outputs": [
    {
     "data": {
      "text/html": [
       "<div>\n",
       "<style scoped>\n",
       "    .dataframe tbody tr th:only-of-type {\n",
       "        vertical-align: middle;\n",
       "    }\n",
       "\n",
       "    .dataframe tbody tr th {\n",
       "        vertical-align: top;\n",
       "    }\n",
       "\n",
       "    .dataframe thead th {\n",
       "        text-align: right;\n",
       "    }\n",
       "</style>\n",
       "<table border=\"1\" class=\"dataframe\">\n",
       "  <thead>\n",
       "    <tr style=\"text-align: right;\">\n",
       "      <th></th>\n",
       "      <th>appid</th>\n",
       "      <th>name</th>\n",
       "      <th>release_date</th>\n",
       "      <th>english</th>\n",
       "      <th>developer</th>\n",
       "      <th>publisher</th>\n",
       "      <th>platforms</th>\n",
       "      <th>required_age</th>\n",
       "      <th>categories</th>\n",
       "      <th>genres</th>\n",
       "      <th>steamspy_tags</th>\n",
       "      <th>achievements</th>\n",
       "      <th>positive_ratings</th>\n",
       "      <th>negative_ratings</th>\n",
       "      <th>average_playtime</th>\n",
       "      <th>median_playtime</th>\n",
       "      <th>owners</th>\n",
       "      <th>price</th>\n",
       "    </tr>\n",
       "  </thead>\n",
       "  <tbody>\n",
       "    <tr>\n",
       "      <th>0</th>\n",
       "      <td>10</td>\n",
       "      <td>Counter-Strike</td>\n",
       "      <td>2000-11-01</td>\n",
       "      <td>1</td>\n",
       "      <td>Valve</td>\n",
       "      <td>Valve</td>\n",
       "      <td>windows;mac;linux</td>\n",
       "      <td>0</td>\n",
       "      <td>Multi-player;Online Multi-Player;Local Multi-P...</td>\n",
       "      <td>Action</td>\n",
       "      <td>Action;FPS;Multiplayer</td>\n",
       "      <td>0</td>\n",
       "      <td>124534</td>\n",
       "      <td>3339</td>\n",
       "      <td>17612</td>\n",
       "      <td>317</td>\n",
       "      <td>10000000-20000000</td>\n",
       "      <td>7.19</td>\n",
       "    </tr>\n",
       "    <tr>\n",
       "      <th>1</th>\n",
       "      <td>20</td>\n",
       "      <td>Team Fortress Classic</td>\n",
       "      <td>1999-04-01</td>\n",
       "      <td>1</td>\n",
       "      <td>Valve</td>\n",
       "      <td>Valve</td>\n",
       "      <td>windows;mac;linux</td>\n",
       "      <td>0</td>\n",
       "      <td>Multi-player;Online Multi-Player;Local Multi-P...</td>\n",
       "      <td>Action</td>\n",
       "      <td>Action;FPS;Multiplayer</td>\n",
       "      <td>0</td>\n",
       "      <td>3318</td>\n",
       "      <td>633</td>\n",
       "      <td>277</td>\n",
       "      <td>62</td>\n",
       "      <td>5000000-10000000</td>\n",
       "      <td>3.99</td>\n",
       "    </tr>\n",
       "    <tr>\n",
       "      <th>2</th>\n",
       "      <td>30</td>\n",
       "      <td>Day of Defeat</td>\n",
       "      <td>2003-05-01</td>\n",
       "      <td>1</td>\n",
       "      <td>Valve</td>\n",
       "      <td>Valve</td>\n",
       "      <td>windows;mac;linux</td>\n",
       "      <td>0</td>\n",
       "      <td>Multi-player;Valve Anti-Cheat enabled</td>\n",
       "      <td>Action</td>\n",
       "      <td>FPS;World War II;Multiplayer</td>\n",
       "      <td>0</td>\n",
       "      <td>3416</td>\n",
       "      <td>398</td>\n",
       "      <td>187</td>\n",
       "      <td>34</td>\n",
       "      <td>5000000-10000000</td>\n",
       "      <td>3.99</td>\n",
       "    </tr>\n",
       "    <tr>\n",
       "      <th>3</th>\n",
       "      <td>40</td>\n",
       "      <td>Deathmatch Classic</td>\n",
       "      <td>2001-06-01</td>\n",
       "      <td>1</td>\n",
       "      <td>Valve</td>\n",
       "      <td>Valve</td>\n",
       "      <td>windows;mac;linux</td>\n",
       "      <td>0</td>\n",
       "      <td>Multi-player;Online Multi-Player;Local Multi-P...</td>\n",
       "      <td>Action</td>\n",
       "      <td>Action;FPS;Multiplayer</td>\n",
       "      <td>0</td>\n",
       "      <td>1273</td>\n",
       "      <td>267</td>\n",
       "      <td>258</td>\n",
       "      <td>184</td>\n",
       "      <td>5000000-10000000</td>\n",
       "      <td>3.99</td>\n",
       "    </tr>\n",
       "    <tr>\n",
       "      <th>4</th>\n",
       "      <td>50</td>\n",
       "      <td>Half-Life: Opposing Force</td>\n",
       "      <td>1999-11-01</td>\n",
       "      <td>1</td>\n",
       "      <td>Gearbox Software</td>\n",
       "      <td>Valve</td>\n",
       "      <td>windows;mac;linux</td>\n",
       "      <td>0</td>\n",
       "      <td>Single-player;Multi-player;Valve Anti-Cheat en...</td>\n",
       "      <td>Action</td>\n",
       "      <td>FPS;Action;Sci-fi</td>\n",
       "      <td>0</td>\n",
       "      <td>5250</td>\n",
       "      <td>288</td>\n",
       "      <td>624</td>\n",
       "      <td>415</td>\n",
       "      <td>5000000-10000000</td>\n",
       "      <td>3.99</td>\n",
       "    </tr>\n",
       "  </tbody>\n",
       "</table>\n",
       "</div>"
      ],
      "text/plain": [
       "   appid                       name release_date  english         developer  \\\n",
       "0     10             Counter-Strike   2000-11-01        1             Valve   \n",
       "1     20      Team Fortress Classic   1999-04-01        1             Valve   \n",
       "2     30              Day of Defeat   2003-05-01        1             Valve   \n",
       "3     40         Deathmatch Classic   2001-06-01        1             Valve   \n",
       "4     50  Half-Life: Opposing Force   1999-11-01        1  Gearbox Software   \n",
       "\n",
       "  publisher          platforms  required_age  \\\n",
       "0     Valve  windows;mac;linux             0   \n",
       "1     Valve  windows;mac;linux             0   \n",
       "2     Valve  windows;mac;linux             0   \n",
       "3     Valve  windows;mac;linux             0   \n",
       "4     Valve  windows;mac;linux             0   \n",
       "\n",
       "                                          categories  genres  \\\n",
       "0  Multi-player;Online Multi-Player;Local Multi-P...  Action   \n",
       "1  Multi-player;Online Multi-Player;Local Multi-P...  Action   \n",
       "2              Multi-player;Valve Anti-Cheat enabled  Action   \n",
       "3  Multi-player;Online Multi-Player;Local Multi-P...  Action   \n",
       "4  Single-player;Multi-player;Valve Anti-Cheat en...  Action   \n",
       "\n",
       "                  steamspy_tags  achievements  positive_ratings  \\\n",
       "0        Action;FPS;Multiplayer             0            124534   \n",
       "1        Action;FPS;Multiplayer             0              3318   \n",
       "2  FPS;World War II;Multiplayer             0              3416   \n",
       "3        Action;FPS;Multiplayer             0              1273   \n",
       "4             FPS;Action;Sci-fi             0              5250   \n",
       "\n",
       "   negative_ratings  average_playtime  median_playtime             owners  \\\n",
       "0              3339             17612              317  10000000-20000000   \n",
       "1               633               277               62   5000000-10000000   \n",
       "2               398               187               34   5000000-10000000   \n",
       "3               267               258              184   5000000-10000000   \n",
       "4               288               624              415   5000000-10000000   \n",
       "\n",
       "   price  \n",
       "0   7.19  \n",
       "1   3.99  \n",
       "2   3.99  \n",
       "3   3.99  \n",
       "4   3.99  "
      ]
     },
     "execution_count": 3,
     "metadata": {},
     "output_type": "execute_result"
    }
   ],
   "source": [
    "df_steam.head()"
   ]
  },
  {
   "cell_type": "code",
   "execution_count": 4,
   "metadata": {},
   "outputs": [
    {
     "data": {
      "text/html": [
       "<div>\n",
       "<style scoped>\n",
       "    .dataframe tbody tr th:only-of-type {\n",
       "        vertical-align: middle;\n",
       "    }\n",
       "\n",
       "    .dataframe tbody tr th {\n",
       "        vertical-align: top;\n",
       "    }\n",
       "\n",
       "    .dataframe thead th {\n",
       "        text-align: right;\n",
       "    }\n",
       "</style>\n",
       "<table border=\"1\" class=\"dataframe\">\n",
       "  <thead>\n",
       "    <tr style=\"text-align: right;\">\n",
       "      <th></th>\n",
       "      <th>release_date</th>\n",
       "      <th>english</th>\n",
       "      <th>developer</th>\n",
       "      <th>publisher</th>\n",
       "      <th>platforms</th>\n",
       "      <th>required_age</th>\n",
       "      <th>categories</th>\n",
       "      <th>genres</th>\n",
       "      <th>steamspy_tags</th>\n",
       "      <th>achievements</th>\n",
       "      <th>positive_ratings</th>\n",
       "      <th>negative_ratings</th>\n",
       "      <th>average_playtime</th>\n",
       "      <th>median_playtime</th>\n",
       "      <th>owners</th>\n",
       "      <th>price</th>\n",
       "    </tr>\n",
       "  </thead>\n",
       "  <tbody>\n",
       "    <tr>\n",
       "      <th>0</th>\n",
       "      <td>2000-11-01</td>\n",
       "      <td>1</td>\n",
       "      <td>Valve</td>\n",
       "      <td>Valve</td>\n",
       "      <td>windows;mac;linux</td>\n",
       "      <td>0</td>\n",
       "      <td>Multi-player;Online Multi-Player;Local Multi-P...</td>\n",
       "      <td>Action</td>\n",
       "      <td>Action;FPS;Multiplayer</td>\n",
       "      <td>0</td>\n",
       "      <td>124534</td>\n",
       "      <td>3339</td>\n",
       "      <td>17612</td>\n",
       "      <td>317</td>\n",
       "      <td>10000000-20000000</td>\n",
       "      <td>7.19</td>\n",
       "    </tr>\n",
       "    <tr>\n",
       "      <th>1</th>\n",
       "      <td>1999-04-01</td>\n",
       "      <td>1</td>\n",
       "      <td>Valve</td>\n",
       "      <td>Valve</td>\n",
       "      <td>windows;mac;linux</td>\n",
       "      <td>0</td>\n",
       "      <td>Multi-player;Online Multi-Player;Local Multi-P...</td>\n",
       "      <td>Action</td>\n",
       "      <td>Action;FPS;Multiplayer</td>\n",
       "      <td>0</td>\n",
       "      <td>3318</td>\n",
       "      <td>633</td>\n",
       "      <td>277</td>\n",
       "      <td>62</td>\n",
       "      <td>5000000-10000000</td>\n",
       "      <td>3.99</td>\n",
       "    </tr>\n",
       "    <tr>\n",
       "      <th>2</th>\n",
       "      <td>2003-05-01</td>\n",
       "      <td>1</td>\n",
       "      <td>Valve</td>\n",
       "      <td>Valve</td>\n",
       "      <td>windows;mac;linux</td>\n",
       "      <td>0</td>\n",
       "      <td>Multi-player;Valve Anti-Cheat enabled</td>\n",
       "      <td>Action</td>\n",
       "      <td>FPS;World War II;Multiplayer</td>\n",
       "      <td>0</td>\n",
       "      <td>3416</td>\n",
       "      <td>398</td>\n",
       "      <td>187</td>\n",
       "      <td>34</td>\n",
       "      <td>5000000-10000000</td>\n",
       "      <td>3.99</td>\n",
       "    </tr>\n",
       "    <tr>\n",
       "      <th>3</th>\n",
       "      <td>2001-06-01</td>\n",
       "      <td>1</td>\n",
       "      <td>Valve</td>\n",
       "      <td>Valve</td>\n",
       "      <td>windows;mac;linux</td>\n",
       "      <td>0</td>\n",
       "      <td>Multi-player;Online Multi-Player;Local Multi-P...</td>\n",
       "      <td>Action</td>\n",
       "      <td>Action;FPS;Multiplayer</td>\n",
       "      <td>0</td>\n",
       "      <td>1273</td>\n",
       "      <td>267</td>\n",
       "      <td>258</td>\n",
       "      <td>184</td>\n",
       "      <td>5000000-10000000</td>\n",
       "      <td>3.99</td>\n",
       "    </tr>\n",
       "    <tr>\n",
       "      <th>4</th>\n",
       "      <td>1999-11-01</td>\n",
       "      <td>1</td>\n",
       "      <td>Gearbox Software</td>\n",
       "      <td>Valve</td>\n",
       "      <td>windows;mac;linux</td>\n",
       "      <td>0</td>\n",
       "      <td>Single-player;Multi-player;Valve Anti-Cheat en...</td>\n",
       "      <td>Action</td>\n",
       "      <td>FPS;Action;Sci-fi</td>\n",
       "      <td>0</td>\n",
       "      <td>5250</td>\n",
       "      <td>288</td>\n",
       "      <td>624</td>\n",
       "      <td>415</td>\n",
       "      <td>5000000-10000000</td>\n",
       "      <td>3.99</td>\n",
       "    </tr>\n",
       "  </tbody>\n",
       "</table>\n",
       "</div>"
      ],
      "text/plain": [
       "  release_date  english         developer publisher          platforms  \\\n",
       "0   2000-11-01        1             Valve     Valve  windows;mac;linux   \n",
       "1   1999-04-01        1             Valve     Valve  windows;mac;linux   \n",
       "2   2003-05-01        1             Valve     Valve  windows;mac;linux   \n",
       "3   2001-06-01        1             Valve     Valve  windows;mac;linux   \n",
       "4   1999-11-01        1  Gearbox Software     Valve  windows;mac;linux   \n",
       "\n",
       "   required_age                                         categories  genres  \\\n",
       "0             0  Multi-player;Online Multi-Player;Local Multi-P...  Action   \n",
       "1             0  Multi-player;Online Multi-Player;Local Multi-P...  Action   \n",
       "2             0              Multi-player;Valve Anti-Cheat enabled  Action   \n",
       "3             0  Multi-player;Online Multi-Player;Local Multi-P...  Action   \n",
       "4             0  Single-player;Multi-player;Valve Anti-Cheat en...  Action   \n",
       "\n",
       "                  steamspy_tags  achievements  positive_ratings  \\\n",
       "0        Action;FPS;Multiplayer             0            124534   \n",
       "1        Action;FPS;Multiplayer             0              3318   \n",
       "2  FPS;World War II;Multiplayer             0              3416   \n",
       "3        Action;FPS;Multiplayer             0              1273   \n",
       "4             FPS;Action;Sci-fi             0              5250   \n",
       "\n",
       "   negative_ratings  average_playtime  median_playtime             owners  \\\n",
       "0              3339             17612              317  10000000-20000000   \n",
       "1               633               277               62   5000000-10000000   \n",
       "2               398               187               34   5000000-10000000   \n",
       "3               267               258              184   5000000-10000000   \n",
       "4               288               624              415   5000000-10000000   \n",
       "\n",
       "   price  \n",
       "0   7.19  \n",
       "1   3.99  \n",
       "2   3.99  \n",
       "3   3.99  \n",
       "4   3.99  "
      ]
     },
     "execution_count": 4,
     "metadata": {},
     "output_type": "execute_result"
    }
   ],
   "source": [
    "df_steam = df_steam.drop(labels =['appid','name'], axis = 1)\n",
    "df_steam.head()"
   ]
  },
  {
   "cell_type": "code",
   "execution_count": 5,
   "metadata": {},
   "outputs": [
    {
     "data": {
      "text/html": [
       "<div>\n",
       "<style scoped>\n",
       "    .dataframe tbody tr th:only-of-type {\n",
       "        vertical-align: middle;\n",
       "    }\n",
       "\n",
       "    .dataframe tbody tr th {\n",
       "        vertical-align: top;\n",
       "    }\n",
       "\n",
       "    .dataframe thead th {\n",
       "        text-align: right;\n",
       "    }\n",
       "</style>\n",
       "<table border=\"1\" class=\"dataframe\">\n",
       "  <thead>\n",
       "    <tr style=\"text-align: right;\">\n",
       "      <th></th>\n",
       "      <th>english</th>\n",
       "      <th>required_age</th>\n",
       "      <th>achievements</th>\n",
       "      <th>positive_ratings</th>\n",
       "      <th>negative_ratings</th>\n",
       "      <th>average_playtime</th>\n",
       "      <th>median_playtime</th>\n",
       "      <th>price</th>\n",
       "    </tr>\n",
       "  </thead>\n",
       "  <tbody>\n",
       "    <tr>\n",
       "      <th>count</th>\n",
       "      <td>27075.000000</td>\n",
       "      <td>27075.000000</td>\n",
       "      <td>27075.000000</td>\n",
       "      <td>2.707500e+04</td>\n",
       "      <td>27075.000000</td>\n",
       "      <td>27075.000000</td>\n",
       "      <td>27075.00000</td>\n",
       "      <td>27075.000000</td>\n",
       "    </tr>\n",
       "    <tr>\n",
       "      <th>mean</th>\n",
       "      <td>0.981127</td>\n",
       "      <td>0.354903</td>\n",
       "      <td>45.248864</td>\n",
       "      <td>1.000559e+03</td>\n",
       "      <td>211.027147</td>\n",
       "      <td>149.804949</td>\n",
       "      <td>146.05603</td>\n",
       "      <td>6.078193</td>\n",
       "    </tr>\n",
       "    <tr>\n",
       "      <th>std</th>\n",
       "      <td>0.136081</td>\n",
       "      <td>2.406044</td>\n",
       "      <td>352.670281</td>\n",
       "      <td>1.898872e+04</td>\n",
       "      <td>4284.938531</td>\n",
       "      <td>1827.038141</td>\n",
       "      <td>2353.88008</td>\n",
       "      <td>7.874922</td>\n",
       "    </tr>\n",
       "    <tr>\n",
       "      <th>min</th>\n",
       "      <td>0.000000</td>\n",
       "      <td>0.000000</td>\n",
       "      <td>0.000000</td>\n",
       "      <td>0.000000e+00</td>\n",
       "      <td>0.000000</td>\n",
       "      <td>0.000000</td>\n",
       "      <td>0.00000</td>\n",
       "      <td>0.000000</td>\n",
       "    </tr>\n",
       "    <tr>\n",
       "      <th>25%</th>\n",
       "      <td>1.000000</td>\n",
       "      <td>0.000000</td>\n",
       "      <td>0.000000</td>\n",
       "      <td>6.000000e+00</td>\n",
       "      <td>2.000000</td>\n",
       "      <td>0.000000</td>\n",
       "      <td>0.00000</td>\n",
       "      <td>1.690000</td>\n",
       "    </tr>\n",
       "    <tr>\n",
       "      <th>50%</th>\n",
       "      <td>1.000000</td>\n",
       "      <td>0.000000</td>\n",
       "      <td>7.000000</td>\n",
       "      <td>2.400000e+01</td>\n",
       "      <td>9.000000</td>\n",
       "      <td>0.000000</td>\n",
       "      <td>0.00000</td>\n",
       "      <td>3.990000</td>\n",
       "    </tr>\n",
       "    <tr>\n",
       "      <th>75%</th>\n",
       "      <td>1.000000</td>\n",
       "      <td>0.000000</td>\n",
       "      <td>23.000000</td>\n",
       "      <td>1.260000e+02</td>\n",
       "      <td>42.000000</td>\n",
       "      <td>0.000000</td>\n",
       "      <td>0.00000</td>\n",
       "      <td>7.190000</td>\n",
       "    </tr>\n",
       "    <tr>\n",
       "      <th>max</th>\n",
       "      <td>1.000000</td>\n",
       "      <td>18.000000</td>\n",
       "      <td>9821.000000</td>\n",
       "      <td>2.644404e+06</td>\n",
       "      <td>487076.000000</td>\n",
       "      <td>190625.000000</td>\n",
       "      <td>190625.00000</td>\n",
       "      <td>421.990000</td>\n",
       "    </tr>\n",
       "  </tbody>\n",
       "</table>\n",
       "</div>"
      ],
      "text/plain": [
       "            english  required_age  achievements  positive_ratings  \\\n",
       "count  27075.000000  27075.000000  27075.000000      2.707500e+04   \n",
       "mean       0.981127      0.354903     45.248864      1.000559e+03   \n",
       "std        0.136081      2.406044    352.670281      1.898872e+04   \n",
       "min        0.000000      0.000000      0.000000      0.000000e+00   \n",
       "25%        1.000000      0.000000      0.000000      6.000000e+00   \n",
       "50%        1.000000      0.000000      7.000000      2.400000e+01   \n",
       "75%        1.000000      0.000000     23.000000      1.260000e+02   \n",
       "max        1.000000     18.000000   9821.000000      2.644404e+06   \n",
       "\n",
       "       negative_ratings  average_playtime  median_playtime         price  \n",
       "count      27075.000000      27075.000000      27075.00000  27075.000000  \n",
       "mean         211.027147        149.804949        146.05603      6.078193  \n",
       "std         4284.938531       1827.038141       2353.88008      7.874922  \n",
       "min            0.000000          0.000000          0.00000      0.000000  \n",
       "25%            2.000000          0.000000          0.00000      1.690000  \n",
       "50%            9.000000          0.000000          0.00000      3.990000  \n",
       "75%           42.000000          0.000000          0.00000      7.190000  \n",
       "max       487076.000000     190625.000000     190625.00000    421.990000  "
      ]
     },
     "execution_count": 5,
     "metadata": {},
     "output_type": "execute_result"
    }
   ],
   "source": [
    "# Quick view\n",
    "df_steam.describe()"
   ]
  },
  {
   "cell_type": "markdown",
   "metadata": {},
   "source": [
    "# 1. Insights and data preperation\n",
    "## label : bucketized number of owners\n",
    "## features\n",
    "highly informative: 'categories', 'genres', 'steamspy_tags', 'positive_ratings', 'negative_ratings', 'price'\n",
    "\n",
    "less informative: 'english', 'platforms', 'required_age','achievements'\n",
    "\n",
    "bias risk: 'release_date', 'developer', 'publisher'\n",
    "\n",
    "questions\n",
    "\n",
    "1. \"Does the release_date has strong correlation with # of owners?\"\n",
    "\n",
    "2. \"Does developer or publisher independently affect # of owners?\" - Credit? PR?"
   ]
  },
  {
   "cell_type": "code",
   "execution_count": 6,
   "metadata": {},
   "outputs": [
    {
     "data": {
      "text/plain": [
       "['0-20000',\n",
       " '100000-200000',\n",
       " '1000000-2000000',\n",
       " '10000000-20000000',\n",
       " '100000000-200000000',\n",
       " '20000-50000',\n",
       " '200000-500000',\n",
       " '2000000-5000000',\n",
       " '20000000-50000000',\n",
       " '50000-100000',\n",
       " '500000-1000000',\n",
       " '5000000-10000000',\n",
       " '50000000-100000000']"
      ]
     },
     "execution_count": 6,
     "metadata": {},
     "output_type": "execute_result"
    }
   ],
   "source": [
    "bucketized_label = sorted(list(pd.unique(df_steam.owners)))\n",
    "bucketized_label"
   ]
  },
  {
   "cell_type": "code",
   "execution_count": 7,
   "metadata": {},
   "outputs": [],
   "source": [
    "# transfer labels to its boundary\n",
    "df_owners = df_steam['owners'].apply(lambda x: float(x.split('-')[1]))\n",
    "df_owners_log = df_steam['owners'].apply(lambda x: np.log(float(x.split('-')[1])))"
   ]
  },
  {
   "cell_type": "code",
   "execution_count": 8,
   "metadata": {},
   "outputs": [
    {
     "data": {
      "text/plain": [
       "array([16.81124283, 16.11809565, 15.42494847, 17.72753356, 19.11382792,\n",
       "       18.42068074, 10.81977828, 13.81551056, 12.20607265, 11.51292546,\n",
       "       14.50865774, 13.12236338,  9.90348755])"
      ]
     },
     "execution_count": 8,
     "metadata": {},
     "output_type": "execute_result"
    }
   ],
   "source": [
    "df_owners_log.unique()"
   ]
  },
  {
   "cell_type": "code",
   "execution_count": 9,
   "metadata": {},
   "outputs": [
    {
     "data": {
      "text/plain": [
       "array([ 8,  7,  6,  9, 10,  2,  5,  3,  4,  1])"
      ]
     },
     "execution_count": 9,
     "metadata": {},
     "output_type": "execute_result"
    }
   ],
   "source": [
    "df_owners_buckets = df_owners_log.apply(lambda x: round(x)-9)\n",
    "df_owners_buckets.unique()"
   ]
  },
  {
   "cell_type": "markdown",
   "metadata": {},
   "source": [
    "## To answer the first question, let's find the mean value of the dates\n",
    "(\"Does the release_date has strong correlation with # of owners?\")"
   ]
  },
  {
   "cell_type": "code",
   "execution_count": 10,
   "metadata": {},
   "outputs": [],
   "source": [
    "from datetime import datetime"
   ]
  },
  {
   "cell_type": "code",
   "execution_count": 11,
   "metadata": {},
   "outputs": [],
   "source": [
    "question1 = pd.concat(\n",
    "    [df_owners,df_steam.release_date.apply(lambda x: datetime.fromisoformat(x).timestamp())],\n",
    "    axis = 1,)"
   ]
  },
  {
   "cell_type": "code",
   "execution_count": 12,
   "metadata": {},
   "outputs": [
    {
     "data": {
      "text/html": [
       "<div>\n",
       "<style scoped>\n",
       "    .dataframe tbody tr th:only-of-type {\n",
       "        vertical-align: middle;\n",
       "    }\n",
       "\n",
       "    .dataframe tbody tr th {\n",
       "        vertical-align: top;\n",
       "    }\n",
       "\n",
       "    .dataframe thead th {\n",
       "        text-align: right;\n",
       "    }\n",
       "</style>\n",
       "<table border=\"1\" class=\"dataframe\">\n",
       "  <thead>\n",
       "    <tr style=\"text-align: right;\">\n",
       "      <th></th>\n",
       "      <th>release_date</th>\n",
       "      <th>release_date_format</th>\n",
       "    </tr>\n",
       "    <tr>\n",
       "      <th>owners</th>\n",
       "      <th></th>\n",
       "      <th></th>\n",
       "    </tr>\n",
       "  </thead>\n",
       "  <tbody>\n",
       "    <tr>\n",
       "      <th>20000.0</th>\n",
       "      <td>1.505201e+09</td>\n",
       "      <td>2017-09-12T03:23:00</td>\n",
       "    </tr>\n",
       "    <tr>\n",
       "      <th>50000.0</th>\n",
       "      <td>1.457225e+09</td>\n",
       "      <td>2016-03-05T19:40:01</td>\n",
       "    </tr>\n",
       "    <tr>\n",
       "      <th>100000.0</th>\n",
       "      <td>1.444877e+09</td>\n",
       "      <td>2015-10-14T22:45:07</td>\n",
       "    </tr>\n",
       "    <tr>\n",
       "      <th>200000.0</th>\n",
       "      <td>1.432374e+09</td>\n",
       "      <td>2015-05-23T05:36:47</td>\n",
       "    </tr>\n",
       "    <tr>\n",
       "      <th>500000.0</th>\n",
       "      <td>1.414970e+09</td>\n",
       "      <td>2014-11-02T18:18:37</td>\n",
       "    </tr>\n",
       "    <tr>\n",
       "      <th>1000000.0</th>\n",
       "      <td>1.392958e+09</td>\n",
       "      <td>2014-02-20T23:51:06</td>\n",
       "    </tr>\n",
       "    <tr>\n",
       "      <th>2000000.0</th>\n",
       "      <td>1.382017e+09</td>\n",
       "      <td>2013-10-17T09:29:10</td>\n",
       "    </tr>\n",
       "    <tr>\n",
       "      <th>5000000.0</th>\n",
       "      <td>1.379642e+09</td>\n",
       "      <td>2013-09-19T21:57:49</td>\n",
       "    </tr>\n",
       "    <tr>\n",
       "      <th>10000000.0</th>\n",
       "      <td>1.325347e+09</td>\n",
       "      <td>2011-12-31T10:50:52</td>\n",
       "    </tr>\n",
       "    <tr>\n",
       "      <th>20000000.0</th>\n",
       "      <td>1.296316e+09</td>\n",
       "      <td>2011-01-29T10:51:25</td>\n",
       "    </tr>\n",
       "    <tr>\n",
       "      <th>50000000.0</th>\n",
       "      <td>1.351858e+09</td>\n",
       "      <td>2012-11-02T08:00:00</td>\n",
       "    </tr>\n",
       "    <tr>\n",
       "      <th>100000000.0</th>\n",
       "      <td>1.429677e+09</td>\n",
       "      <td>2015-04-22T00:30:00</td>\n",
       "    </tr>\n",
       "    <tr>\n",
       "      <th>200000000.0</th>\n",
       "      <td>1.373342e+09</td>\n",
       "      <td>2013-07-09T00:00:00</td>\n",
       "    </tr>\n",
       "  </tbody>\n",
       "</table>\n",
       "</div>"
      ],
      "text/plain": [
       "             release_date  release_date_format\n",
       "owners                                        \n",
       "20000.0      1.505201e+09  2017-09-12T03:23:00\n",
       "50000.0      1.457225e+09  2016-03-05T19:40:01\n",
       "100000.0     1.444877e+09  2015-10-14T22:45:07\n",
       "200000.0     1.432374e+09  2015-05-23T05:36:47\n",
       "500000.0     1.414970e+09  2014-11-02T18:18:37\n",
       "1000000.0    1.392958e+09  2014-02-20T23:51:06\n",
       "2000000.0    1.382017e+09  2013-10-17T09:29:10\n",
       "5000000.0    1.379642e+09  2013-09-19T21:57:49\n",
       "10000000.0   1.325347e+09  2011-12-31T10:50:52\n",
       "20000000.0   1.296316e+09  2011-01-29T10:51:25\n",
       "50000000.0   1.351858e+09  2012-11-02T08:00:00\n",
       "100000000.0  1.429677e+09  2015-04-22T00:30:00\n",
       "200000000.0  1.373342e+09  2013-07-09T00:00:00"
      ]
     },
     "execution_count": 12,
     "metadata": {},
     "output_type": "execute_result"
    }
   ],
   "source": [
    "mean_date = question1.groupby('owners').mean()\n",
    "mean_date['release_date_format'] = mean_date.release_date.apply(\n",
    "    lambda x: datetime.fromtimestamp(int(x)).isoformat()\n",
    "    )\n",
    "mean_date"
   ]
  },
  {
   "cell_type": "markdown",
   "metadata": {},
   "source": [
    "## The release_date may be related to the target label, but it's not very useful."
   ]
  },
  {
   "cell_type": "markdown",
   "metadata": {},
   "source": [
    "# 2. data selection"
   ]
  },
  {
   "cell_type": "code",
   "execution_count": 13,
   "metadata": {},
   "outputs": [
    {
     "data": {
      "text/plain": [
       "count    27075.000000\n",
       "mean         1.663564\n",
       "std          1.188275\n",
       "min          1.000000\n",
       "25%          1.000000\n",
       "50%          1.000000\n",
       "75%          2.000000\n",
       "max         10.000000\n",
       "Name: owners, dtype: float64"
      ]
     },
     "execution_count": 13,
     "metadata": {},
     "output_type": "execute_result"
    }
   ],
   "source": [
    "# Our label again,\n",
    "df_owners_buckets.describe()"
   ]
  },
  {
   "cell_type": "code",
   "execution_count": 14,
   "metadata": {},
   "outputs": [],
   "source": [
    "# quick view of categorical features\n",
    "df_categs = df_steam[['platforms','genres','steamspy_tags']]"
   ]
  },
  {
   "cell_type": "code",
   "execution_count": 15,
   "metadata": {},
   "outputs": [],
   "source": [
    "def semicolon_spliter(x):\n",
    "    return np.array(x.split(';'))\n",
    "\n",
    "def voca_list(series):\n",
    "    voca = []\n",
    "    for items in series:\n",
    "        for item in items:\n",
    "            if item not in voca:\n",
    "                voca.append(item)\n",
    "    return voca"
   ]
  },
  {
   "cell_type": "code",
   "execution_count": 16,
   "metadata": {},
   "outputs": [],
   "source": [
    "# 'platforms','genres',and 'steamspy_tags' have one or more values\n",
    "split_platforms = df_categs['platforms'].apply(semicolon_spliter)\n",
    "split_genres = df_categs['genres'].apply(semicolon_spliter)\n",
    "split_steamspy_tags = df_categs['steamspy_tags'].apply(semicolon_spliter)"
   ]
  },
  {
   "cell_type": "code",
   "execution_count": 17,
   "metadata": {},
   "outputs": [
    {
     "data": {
      "text/plain": [
       "0        [windows, mac, linux]\n",
       "1        [windows, mac, linux]\n",
       "2        [windows, mac, linux]\n",
       "3        [windows, mac, linux]\n",
       "4        [windows, mac, linux]\n",
       "                 ...          \n",
       "27070                [windows]\n",
       "27071                [windows]\n",
       "27072                [windows]\n",
       "27073           [windows, mac]\n",
       "27074           [windows, mac]\n",
       "Name: platforms, Length: 27075, dtype: object"
      ]
     },
     "execution_count": 17,
     "metadata": {},
     "output_type": "execute_result"
    }
   ],
   "source": [
    "split_platforms"
   ]
  },
  {
   "cell_type": "code",
   "execution_count": 18,
   "metadata": {},
   "outputs": [
    {
     "name": "stdout",
     "output_type": "stream",
     "text": [
      "length of voca list:\n",
      "platforms : 3\n",
      "genres : 29\n",
      "steamspy tag : 339\n",
      "show voca list if its length is less than 5\n",
      "['windows', 'mac', 'linux']\n"
     ]
    }
   ],
   "source": [
    "list_platforms = voca_list(split_platforms)\n",
    "list_genres = voca_list(split_genres)\n",
    "list_steamspy_tags = voca_list(split_steamspy_tags)\n",
    "print('length of voca list:')\n",
    "print('platforms :', len(list_platforms))\n",
    "print('genres :', len(list_genres))\n",
    "print('steamspy tag :', len(list_steamspy_tags))\n",
    "print('show voca list if its length is less than 5')\n",
    "for lst in (list_platforms,list_genres,list_steamspy_tags):\n",
    "    if len(lst) < 5:\n",
    "        print(lst)"
   ]
  },
  {
   "cell_type": "markdown",
   "metadata": {},
   "source": [
    "### platform and tag are not single-value features. For simplicity, I will drop 'steamspy tag'"
   ]
  },
  {
   "cell_type": "code",
   "execution_count": 19,
   "metadata": {},
   "outputs": [],
   "source": [
    "# One way to encode this feature is generating new columns for each items in the list\n",
    "def indicator_df_from_series(series, item_list):\n",
    "    frame = {}\n",
    "    for item in tuple(item_list):\n",
    "        frame[item] = series.apply(lambda x: int(item in x))\n",
    "    result = pd.DataFrame(frame)\n",
    "    return result\n",
    "\n",
    "# Another way to encode platform feature\n",
    "def platforms_code(x):\n",
    "    if 'windows' in x:\n",
    "        if len(x) > 1:\n",
    "            return 'w+'\n",
    "        else:\n",
    "            return 'onlywin'\n",
    "    else:\n",
    "        return 'else'\n",
    "    \n",
    "# regularize dimension of data\n",
    "def regularize_data(x, voca_list):\n",
    "    counter = len(voca_list) - len(list(x))\n",
    "    x = list(x)\n",
    "    if counter < 0:\n",
    "        print('Invalid voca_list')\n",
    "        return x\n",
    "    else:\n",
    "        for i in range(counter):\n",
    "            x.append(0)\n",
    "        return x"
   ]
  },
  {
   "cell_type": "code",
   "execution_count": 20,
   "metadata": {},
   "outputs": [],
   "source": [
    "# 1. Use platforms_code and just select the first component of 'genres'\n",
    "df_platforms = split_platforms.apply(platforms_code)\n",
    "df_genres = split_genres.apply(lambda x: x[0])"
   ]
  },
  {
   "cell_type": "markdown",
   "metadata": {},
   "source": [
    "### Take home question: Is there any better configuration for these features?"
   ]
  },
  {
   "cell_type": "code",
   "execution_count": 21,
   "metadata": {},
   "outputs": [],
   "source": [
    "df_target = df_steam[['price','positive_ratings','negative_ratings',]]\n",
    "df_target = df_target.join(df_platforms)\n",
    "df_target = df_target.join(df_genres)\n",
    "df_target = df_target.join(df_owners_buckets)"
   ]
  },
  {
   "cell_type": "code",
   "execution_count": 22,
   "metadata": {},
   "outputs": [
    {
     "name": "stdout",
     "output_type": "stream",
     "text": [
      "We have 19493 samples for training, 4874 for validation, and 2708 for test\n"
     ]
    }
   ],
   "source": [
    "from sklearn.model_selection import train_test_split\n",
    "train, test = train_test_split(df_target, test_size=0.1)\n",
    "train, val = train_test_split(train, test_size=0.2)\n",
    "print(\n",
    "    \"We have %d samples for training, %d for validation, and %d for test\"\n",
    "    % (len(train), len(val), len(test))\n",
    ")"
   ]
  },
  {
   "cell_type": "code",
   "execution_count": 23,
   "metadata": {},
   "outputs": [],
   "source": [
    "def dataframe_to_dataset(dataframe):\n",
    "    dataframe = dataframe.copy()\n",
    "    labels = dataframe.pop(\"owners\")\n",
    "    ds = tf.data.Dataset.from_tensor_slices((dict(dataframe), labels))\n",
    "    ds = ds.shuffle(buffer_size=len(dataframe))\n",
    "    return ds\n",
    "\n",
    "\n",
    "train_ds = dataframe_to_dataset(train)\n",
    "val_ds = dataframe_to_dataset(val)"
   ]
  },
  {
   "cell_type": "code",
   "execution_count": 24,
   "metadata": {},
   "outputs": [],
   "source": [
    "train_ds = train_ds.batch(32)\n",
    "val_ds = val_ds.batch(32)"
   ]
  },
  {
   "cell_type": "code",
   "execution_count": 25,
   "metadata": {},
   "outputs": [],
   "source": [
    "from tensorflow.keras.layers import IntegerLookup\n",
    "from tensorflow.keras.layers import Normalization\n",
    "from tensorflow.keras.layers import StringLookup\n",
    "\n",
    "\n",
    "def encode_numerical_feature(feature, name, dataset):\n",
    "    # Create a Normalization layer for our feature\n",
    "    normalizer = Normalization()\n",
    "\n",
    "    # Prepare a Dataset that only yields our feature\n",
    "    feature_ds = dataset.map(lambda x, y: x[name])\n",
    "    feature_ds = feature_ds.map(lambda x: tf.expand_dims(x, -1))\n",
    "\n",
    "    # Learn the statistics of the data\n",
    "    normalizer.adapt(feature_ds)\n",
    "\n",
    "    # Normalize the input feature\n",
    "    encoded_feature = normalizer(feature)\n",
    "    return encoded_feature\n",
    "\n",
    "\n",
    "def encode_categorical_feature(feature, name, dataset, is_string):\n",
    "    lookup_class = StringLookup if is_string else IntegerLookup\n",
    "    # Create a lookup layer which will turn strings into integer indices\n",
    "    lookup = lookup_class(output_mode=\"binary\")\n",
    "\n",
    "    # Prepare a Dataset that only yields our feature\n",
    "    feature_ds = dataset.map(lambda x, y: x[name])\n",
    "    feature_ds = feature_ds.map(lambda x: tf.expand_dims(x, -1))\n",
    "\n",
    "    # Learn the set of possible string values and assign them a fixed integer index\n",
    "    lookup.adapt(feature_ds)\n",
    "\n",
    "    # Turn the string input into integer indices\n",
    "    encoded_feature = lookup(feature)\n",
    "    return encoded_feature"
   ]
  },
  {
   "cell_type": "code",
   "execution_count": 26,
   "metadata": {},
   "outputs": [
    {
     "name": "stdout",
     "output_type": "stream",
     "text": [
      "Index(['price', 'positive_ratings', 'negative_ratings', 'platforms', 'genres',\n",
      "       'owners'],\n",
      "      dtype='object')\n",
      "6\n"
     ]
    }
   ],
   "source": [
    "print(train.columns)\n",
    "print(len(train.columns))"
   ]
  },
  {
   "cell_type": "code",
   "execution_count": 27,
   "metadata": {},
   "outputs": [],
   "source": [
    "# Categorical features encoded as integers\n",
    "platforms = keras.Input(shape=(1,), name=\"platforms\", dtype=\"string\")\n",
    "genres = keras.Input(shape=(1,), name=\"genres\", dtype=\"string\")\n",
    "\n",
    "# Numerical features\n",
    "price = keras.Input(shape=(1,), name=\"price\")\n",
    "positive_ratings = keras.Input(shape=(1,), name=\"positive_ratings\")\n",
    "negative_ratings = keras.Input(shape=(1,), name=\"negative_ratings\")\n",
    "\n",
    "all_inputs = [\n",
    "    platforms,\n",
    "    genres,\n",
    "    price,\n",
    "    positive_ratings,\n",
    "    negative_ratings,\n",
    "]\n",
    "\n",
    "# Integer categorical features\n",
    "platforms_encoded = encode_categorical_feature(platforms, \"platforms\", train_ds, True)\n",
    "\n",
    "# String categorical features\n",
    "genres_encoded = encode_categorical_feature(genres, \"genres\", train_ds, True)\n",
    "\n",
    "# Numerical features\n",
    "price_encoded = encode_numerical_feature(price, \"price\", train_ds)\n",
    "positive_ratings_encoded = encode_numerical_feature(positive_ratings, \"positive_ratings\", train_ds)\n",
    "negative_ratings_encoded = encode_numerical_feature(negative_ratings, \"negative_ratings\", train_ds)\n",
    "\n",
    "all_features = layers.concatenate(\n",
    "    [\n",
    "        platforms_encoded,\n",
    "    genres_encoded,\n",
    "    price_encoded,\n",
    "    positive_ratings_encoded,\n",
    "    negative_ratings_encoded,\n",
    "    ]\n",
    ")"
   ]
  },
  {
   "cell_type": "code",
   "execution_count": 28,
   "metadata": {},
   "outputs": [
    {
     "data": {
      "text/plain": [
       "<KerasTensor: shape=(None, 33) dtype=float32 (created by layer 'concatenate')>"
      ]
     },
     "execution_count": 28,
     "metadata": {},
     "output_type": "execute_result"
    }
   ],
   "source": [
    "all_features"
   ]
  },
  {
   "cell_type": "code",
   "execution_count": 29,
   "metadata": {},
   "outputs": [],
   "source": [
    "x = None\n",
    "x = layers.Dense(8, activation=\"relu\")(all_features)\n",
    "x = layers.Dropout(0.5)(x)\n",
    "x = layers.Dense(8, activation=\"relu\")(x)\n",
    "x = layers.Dropout(0.5)(x)\n",
    "output = layers.Dense(1)(x)\n",
    "model = None\n",
    "model = keras.Model(all_inputs, output)"
   ]
  },
  {
   "cell_type": "code",
   "execution_count": 30,
   "metadata": {},
   "outputs": [],
   "source": [
    "LEARNING_RATE = 0.005 #@param\n",
    "model.compile(optimizer=tf.keras.optimizers.Adam(learning_rate = LEARNING_RATE),  \n",
    "              loss=\"mean_squared_error\",\n",
    "              metrics=[tf.keras.metrics.MeanSquaredError()]\n",
    "             )"
   ]
  },
  {
   "cell_type": "code",
   "execution_count": 31,
   "metadata": {},
   "outputs": [],
   "source": [
    "# keras.utils.plot_model(model, show_shapes=True)"
   ]
  },
  {
   "cell_type": "code",
   "execution_count": 32,
   "metadata": {},
   "outputs": [
    {
     "name": "stdout",
     "output_type": "stream",
     "text": [
      "Epoch 1/50\n",
      "610/610 [==============================] - 1s 795us/step - loss: 1.9465 - mean_squared_error: 1.9465 - val_loss: 1.2439 - val_mean_squared_error: 1.2439\n",
      "Epoch 2/50\n",
      "610/610 [==============================] - 0s 679us/step - loss: 1.3687 - mean_squared_error: 1.3687 - val_loss: 1.1091 - val_mean_squared_error: 1.1091\n",
      "Epoch 3/50\n",
      "610/610 [==============================] - 0s 699us/step - loss: 1.5157 - mean_squared_error: 1.5157 - val_loss: 1.2150 - val_mean_squared_error: 1.2150\n",
      "Epoch 4/50\n",
      "610/610 [==============================] - 0s 661us/step - loss: 1.3018 - mean_squared_error: 1.3018 - val_loss: 1.1438 - val_mean_squared_error: 1.1438\n",
      "Epoch 5/50\n",
      "610/610 [==============================] - 0s 670us/step - loss: 1.2460 - mean_squared_error: 1.2460 - val_loss: 1.0998 - val_mean_squared_error: 1.0998\n",
      "Epoch 6/50\n",
      "610/610 [==============================] - 0s 673us/step - loss: 1.5022 - mean_squared_error: 1.5022 - val_loss: 1.1307 - val_mean_squared_error: 1.1307\n",
      "Epoch 7/50\n",
      "610/610 [==============================] - 0s 685us/step - loss: 1.2722 - mean_squared_error: 1.2722 - val_loss: 1.1082 - val_mean_squared_error: 1.1082\n",
      "Epoch 8/50\n",
      "610/610 [==============================] - 0s 702us/step - loss: 1.2969 - mean_squared_error: 1.2969 - val_loss: 1.1263 - val_mean_squared_error: 1.1263\n",
      "Epoch 9/50\n",
      "610/610 [==============================] - 0s 701us/step - loss: 1.2695 - mean_squared_error: 1.2695 - val_loss: 1.0363 - val_mean_squared_error: 1.0363\n",
      "Epoch 10/50\n",
      "610/610 [==============================] - 0s 690us/step - loss: 1.2566 - mean_squared_error: 1.2566 - val_loss: 1.0775 - val_mean_squared_error: 1.0775\n",
      "Epoch 11/50\n",
      "610/610 [==============================] - 0s 682us/step - loss: 1.2285 - mean_squared_error: 1.2285 - val_loss: 1.0426 - val_mean_squared_error: 1.0426\n",
      "Epoch 12/50\n",
      "610/610 [==============================] - 0s 705us/step - loss: 1.3170 - mean_squared_error: 1.3170 - val_loss: 0.9926 - val_mean_squared_error: 0.9926\n",
      "Epoch 13/50\n",
      "610/610 [==============================] - 0s 704us/step - loss: 1.4439 - mean_squared_error: 1.4439 - val_loss: 1.3135 - val_mean_squared_error: 1.3135\n",
      "Epoch 14/50\n",
      "610/610 [==============================] - 0s 716us/step - loss: 1.3313 - mean_squared_error: 1.3313 - val_loss: 1.1308 - val_mean_squared_error: 1.1308\n",
      "Epoch 15/50\n",
      "610/610 [==============================] - 0s 679us/step - loss: 1.2841 - mean_squared_error: 1.2841 - val_loss: 1.0850 - val_mean_squared_error: 1.0850\n",
      "Epoch 16/50\n",
      "610/610 [==============================] - 0s 694us/step - loss: 1.3148 - mean_squared_error: 1.3148 - val_loss: 1.0897 - val_mean_squared_error: 1.0897\n",
      "Epoch 17/50\n",
      "610/610 [==============================] - 0s 696us/step - loss: 1.2550 - mean_squared_error: 1.2550 - val_loss: 1.0294 - val_mean_squared_error: 1.0294\n",
      "Epoch 18/50\n",
      "610/610 [==============================] - 0s 695us/step - loss: 1.2715 - mean_squared_error: 1.2715 - val_loss: 1.0266 - val_mean_squared_error: 1.0266\n",
      "Epoch 19/50\n",
      "610/610 [==============================] - 0s 678us/step - loss: 1.2902 - mean_squared_error: 1.2902 - val_loss: 1.0926 - val_mean_squared_error: 1.0926\n",
      "Epoch 20/50\n",
      "610/610 [==============================] - 0s 692us/step - loss: 1.2470 - mean_squared_error: 1.2470 - val_loss: 1.0009 - val_mean_squared_error: 1.0009\n",
      "Epoch 21/50\n",
      "610/610 [==============================] - 0s 683us/step - loss: 2.5483 - mean_squared_error: 2.5483 - val_loss: 1.2242 - val_mean_squared_error: 1.2242\n",
      "Epoch 22/50\n",
      "610/610 [==============================] - 0s 665us/step - loss: 1.3384 - mean_squared_error: 1.3384 - val_loss: 1.2079 - val_mean_squared_error: 1.2079\n",
      "Epoch 23/50\n",
      "610/610 [==============================] - 0s 697us/step - loss: 1.3216 - mean_squared_error: 1.3216 - val_loss: 1.1493 - val_mean_squared_error: 1.1493\n",
      "Epoch 24/50\n",
      "610/610 [==============================] - 0s 704us/step - loss: 1.3259 - mean_squared_error: 1.3259 - val_loss: 1.1679 - val_mean_squared_error: 1.1679\n",
      "Epoch 25/50\n",
      "610/610 [==============================] - 0s 702us/step - loss: 1.2699 - mean_squared_error: 1.2699 - val_loss: 1.0792 - val_mean_squared_error: 1.0792\n",
      "Epoch 26/50\n",
      "610/610 [==============================] - 0s 695us/step - loss: 1.5119 - mean_squared_error: 1.5119 - val_loss: 1.2790 - val_mean_squared_error: 1.2790\n",
      "Epoch 27/50\n",
      "610/610 [==============================] - 0s 706us/step - loss: 1.3222 - mean_squared_error: 1.3222 - val_loss: 1.0825 - val_mean_squared_error: 1.0825\n",
      "Epoch 28/50\n",
      "610/610 [==============================] - 0s 697us/step - loss: 2.1191 - mean_squared_error: 2.1191 - val_loss: 1.2828 - val_mean_squared_error: 1.2828\n",
      "Epoch 29/50\n",
      "610/610 [==============================] - 0s 684us/step - loss: 1.3832 - mean_squared_error: 1.3832 - val_loss: 1.2632 - val_mean_squared_error: 1.2632\n",
      "Epoch 30/50\n",
      "610/610 [==============================] - 0s 693us/step - loss: 1.3735 - mean_squared_error: 1.3735 - val_loss: 1.2390 - val_mean_squared_error: 1.2390\n",
      "Epoch 31/50\n",
      "610/610 [==============================] - 0s 664us/step - loss: 1.3646 - mean_squared_error: 1.3646 - val_loss: 1.2240 - val_mean_squared_error: 1.2240\n",
      "Epoch 32/50\n",
      "610/610 [==============================] - 0s 699us/step - loss: 1.3943 - mean_squared_error: 1.3943 - val_loss: 1.1570 - val_mean_squared_error: 1.1570\n",
      "Epoch 33/50\n",
      "610/610 [==============================] - 0s 707us/step - loss: 1.3092 - mean_squared_error: 1.3092 - val_loss: 1.1571 - val_mean_squared_error: 1.1571\n",
      "Epoch 34/50\n",
      "610/610 [==============================] - 0s 673us/step - loss: 1.2728 - mean_squared_error: 1.2728 - val_loss: 1.0486 - val_mean_squared_error: 1.0486\n",
      "Epoch 35/50\n",
      "610/610 [==============================] - 0s 704us/step - loss: 1.2742 - mean_squared_error: 1.2742 - val_loss: 1.1005 - val_mean_squared_error: 1.1005\n",
      "Epoch 36/50\n",
      "610/610 [==============================] - 0s 673us/step - loss: 1.3246 - mean_squared_error: 1.3246 - val_loss: 1.1106 - val_mean_squared_error: 1.1106\n",
      "Epoch 37/50\n",
      "610/610 [==============================] - 0s 688us/step - loss: 1.2697 - mean_squared_error: 1.2697 - val_loss: 1.1027 - val_mean_squared_error: 1.1027\n",
      "Epoch 38/50\n",
      "610/610 [==============================] - 0s 700us/step - loss: 1.2943 - mean_squared_error: 1.2943 - val_loss: 1.0924 - val_mean_squared_error: 1.0924\n",
      "Epoch 39/50\n",
      "610/610 [==============================] - 0s 682us/step - loss: 1.2920 - mean_squared_error: 1.2920 - val_loss: 1.0876 - val_mean_squared_error: 1.0876\n",
      "Epoch 40/50\n",
      "610/610 [==============================] - 0s 699us/step - loss: 1.2963 - mean_squared_error: 1.2963 - val_loss: 1.0467 - val_mean_squared_error: 1.0467\n",
      "Epoch 41/50\n",
      "610/610 [==============================] - 0s 681us/step - loss: 1.3443 - mean_squared_error: 1.3443 - val_loss: 1.1479 - val_mean_squared_error: 1.1479\n",
      "Epoch 42/50\n",
      "610/610 [==============================] - 0s 699us/step - loss: 1.5087 - mean_squared_error: 1.5087 - val_loss: 1.1557 - val_mean_squared_error: 1.1557\n",
      "Epoch 43/50\n",
      "610/610 [==============================] - 0s 677us/step - loss: 1.3349 - mean_squared_error: 1.3349 - val_loss: 1.1701 - val_mean_squared_error: 1.1701\n",
      "Epoch 44/50\n",
      "610/610 [==============================] - 0s 695us/step - loss: 1.3268 - mean_squared_error: 1.3268 - val_loss: 1.1783 - val_mean_squared_error: 1.1783\n",
      "Epoch 45/50\n",
      "610/610 [==============================] - 0s 690us/step - loss: 1.3157 - mean_squared_error: 1.3157 - val_loss: 1.1160 - val_mean_squared_error: 1.1160\n",
      "Epoch 46/50\n",
      "610/610 [==============================] - 0s 691us/step - loss: 1.3137 - mean_squared_error: 1.3137 - val_loss: 1.1422 - val_mean_squared_error: 1.1422\n",
      "Epoch 47/50\n",
      "610/610 [==============================] - 0s 711us/step - loss: 1.3122 - mean_squared_error: 1.3122 - val_loss: 1.1631 - val_mean_squared_error: 1.1631\n",
      "Epoch 48/50\n",
      "610/610 [==============================] - 0s 701us/step - loss: 1.3128 - mean_squared_error: 1.3128 - val_loss: 1.1923 - val_mean_squared_error: 1.1923\n",
      "Epoch 49/50\n",
      "610/610 [==============================] - 0s 687us/step - loss: 1.3367 - mean_squared_error: 1.3367 - val_loss: 1.1487 - val_mean_squared_error: 1.1487\n",
      "Epoch 50/50\n",
      "610/610 [==============================] - 0s 673us/step - loss: 1.3168 - mean_squared_error: 1.3168 - val_loss: 1.1453 - val_mean_squared_error: 1.1453\n"
     ]
    },
    {
     "data": {
      "text/plain": [
       "<keras.callbacks.History at 0x7f8920199c70>"
      ]
     },
     "execution_count": 32,
     "metadata": {},
     "output_type": "execute_result"
    }
   ],
   "source": [
    "model.fit(train_ds, epochs=50, validation_data=val_ds)"
   ]
  },
  {
   "cell_type": "markdown",
   "metadata": {},
   "source": [
    "# This is bad model\n",
    "# How can I improve it?"
   ]
  },
  {
   "cell_type": "code",
   "execution_count": 33,
   "metadata": {},
   "outputs": [],
   "source": [
    "import scipy.stats as stats"
   ]
  },
  {
   "cell_type": "code",
   "execution_count": 34,
   "metadata": {},
   "outputs": [],
   "source": [
    "vfunc = np.vectorize(lambda x : 1/(1 + np.exp(-x)))"
   ]
  },
  {
   "cell_type": "code",
   "execution_count": 35,
   "metadata": {},
   "outputs": [],
   "source": [
    "df_price = vfunc(stats.zscore(df_steam['price']))\n",
    "df_pr = vfunc(stats.zscore(df_steam['positive_ratings']))\n",
    "df_nr = vfunc(stats.zscore(df_steam['negative_ratings']))\n",
    "df_price = pd.Series(data=df_price, name='price', dtype=float,)\n",
    "df_pr = pd.Series(data=df_pr, name='positive_ratings', dtype=float,)\n",
    "df_nr = pd.Series(data=df_nr, name='negative_ratings', dtype=float,)"
   ]
  },
  {
   "cell_type": "code",
   "execution_count": 36,
   "metadata": {},
   "outputs": [],
   "source": [
    "df_platforms\n",
    "df_genres = split_genres.apply(lambda x: regularize_data(x, list_genres))\n",
    "df_genres_1 = df_genres.apply(lambda x: str(x[0]))\n",
    "df_genres_2 = df_genres.apply(lambda x: str(x[1]))\n",
    "df_genres_3 = df_genres.apply(lambda x: str(x[2]))\n",
    "df_genres_1 = df_genres_1.rename(\"genre_1\")\n",
    "df_genres_2 = df_genres_2.rename(\"genre_2\")\n",
    "df_genres_3 = df_genres_3.rename(\"genre_3\")"
   ]
  },
  {
   "cell_type": "code",
   "execution_count": 37,
   "metadata": {},
   "outputs": [],
   "source": [
    "labels = df_owners_buckets"
   ]
  },
  {
   "cell_type": "code",
   "execution_count": 38,
   "metadata": {},
   "outputs": [],
   "source": [
    "# df_target = pd.concat(\n",
    "#     [df_price,df_pr,df_nr,df_platforms,df_genres,labels,],\n",
    "#     axis = 1)\n",
    "\n",
    "df_target = pd.concat(\n",
    "    [df_price,df_pr,df_nr,df_platforms,df_genres_1,df_genres_2,df_genres_3,labels,],\n",
    "    axis = 1)"
   ]
  },
  {
   "cell_type": "code",
   "execution_count": 39,
   "metadata": {},
   "outputs": [
    {
     "data": {
      "text/html": [
       "<div>\n",
       "<style scoped>\n",
       "    .dataframe tbody tr th:only-of-type {\n",
       "        vertical-align: middle;\n",
       "    }\n",
       "\n",
       "    .dataframe tbody tr th {\n",
       "        vertical-align: top;\n",
       "    }\n",
       "\n",
       "    .dataframe thead th {\n",
       "        text-align: right;\n",
       "    }\n",
       "</style>\n",
       "<table border=\"1\" class=\"dataframe\">\n",
       "  <thead>\n",
       "    <tr style=\"text-align: right;\">\n",
       "      <th></th>\n",
       "      <th>price</th>\n",
       "      <th>positive_ratings</th>\n",
       "      <th>negative_ratings</th>\n",
       "      <th>platforms</th>\n",
       "      <th>genre_1</th>\n",
       "      <th>genre_2</th>\n",
       "      <th>genre_3</th>\n",
       "      <th>owners</th>\n",
       "    </tr>\n",
       "  </thead>\n",
       "  <tbody>\n",
       "    <tr>\n",
       "      <th>0</th>\n",
       "      <td>0.535238</td>\n",
       "      <td>0.998507</td>\n",
       "      <td>0.674807</td>\n",
       "      <td>w+</td>\n",
       "      <td>Action</td>\n",
       "      <td>0</td>\n",
       "      <td>0</td>\n",
       "      <td>8</td>\n",
       "    </tr>\n",
       "    <tr>\n",
       "      <th>1</th>\n",
       "      <td>0.434092</td>\n",
       "      <td>0.530474</td>\n",
       "      <td>0.524600</td>\n",
       "      <td>w+</td>\n",
       "      <td>Action</td>\n",
       "      <td>0</td>\n",
       "      <td>0</td>\n",
       "      <td>7</td>\n",
       "    </tr>\n",
       "    <tr>\n",
       "      <th>2</th>\n",
       "      <td>0.434092</td>\n",
       "      <td>0.531759</td>\n",
       "      <td>0.510907</td>\n",
       "      <td>w+</td>\n",
       "      <td>Action</td>\n",
       "      <td>0</td>\n",
       "      <td>0</td>\n",
       "      <td>7</td>\n",
       "    </tr>\n",
       "    <tr>\n",
       "      <th>3</th>\n",
       "      <td>0.434092</td>\n",
       "      <td>0.503587</td>\n",
       "      <td>0.503266</td>\n",
       "      <td>w+</td>\n",
       "      <td>Action</td>\n",
       "      <td>0</td>\n",
       "      <td>0</td>\n",
       "      <td>7</td>\n",
       "    </tr>\n",
       "    <tr>\n",
       "      <th>4</th>\n",
       "      <td>0.434092</td>\n",
       "      <td>0.555716</td>\n",
       "      <td>0.504491</td>\n",
       "      <td>w+</td>\n",
       "      <td>Action</td>\n",
       "      <td>0</td>\n",
       "      <td>0</td>\n",
       "      <td>7</td>\n",
       "    </tr>\n",
       "    <tr>\n",
       "      <th>...</th>\n",
       "      <td>...</td>\n",
       "      <td>...</td>\n",
       "      <td>...</td>\n",
       "      <td>...</td>\n",
       "      <td>...</td>\n",
       "      <td>...</td>\n",
       "      <td>...</td>\n",
       "      <td>...</td>\n",
       "    </tr>\n",
       "    <tr>\n",
       "      <th>27070</th>\n",
       "      <td>0.376026</td>\n",
       "      <td>0.486869</td>\n",
       "      <td>0.487690</td>\n",
       "      <td>onlywin</td>\n",
       "      <td>Adventure</td>\n",
       "      <td>Casual</td>\n",
       "      <td>Indie</td>\n",
       "      <td>1</td>\n",
       "    </tr>\n",
       "    <tr>\n",
       "      <th>27071</th>\n",
       "      <td>0.364185</td>\n",
       "      <td>0.486935</td>\n",
       "      <td>0.487748</td>\n",
       "      <td>onlywin</td>\n",
       "      <td>Action</td>\n",
       "      <td>Adventure</td>\n",
       "      <td>Indie</td>\n",
       "      <td>1</td>\n",
       "    </tr>\n",
       "    <tr>\n",
       "      <th>27072</th>\n",
       "      <td>0.434092</td>\n",
       "      <td>0.486830</td>\n",
       "      <td>0.487748</td>\n",
       "      <td>onlywin</td>\n",
       "      <td>Action</td>\n",
       "      <td>Casual</td>\n",
       "      <td>Indie</td>\n",
       "      <td>1</td>\n",
       "    </tr>\n",
       "    <tr>\n",
       "      <th>27073</th>\n",
       "      <td>0.471832</td>\n",
       "      <td>0.486856</td>\n",
       "      <td>0.487690</td>\n",
       "      <td>w+</td>\n",
       "      <td>Adventure</td>\n",
       "      <td>Casual</td>\n",
       "      <td>Indie</td>\n",
       "      <td>1</td>\n",
       "    </tr>\n",
       "    <tr>\n",
       "      <th>27074</th>\n",
       "      <td>0.471832</td>\n",
       "      <td>0.486882</td>\n",
       "      <td>0.487690</td>\n",
       "      <td>w+</td>\n",
       "      <td>Adventure</td>\n",
       "      <td>Casual</td>\n",
       "      <td>Indie</td>\n",
       "      <td>1</td>\n",
       "    </tr>\n",
       "  </tbody>\n",
       "</table>\n",
       "<p>27075 rows × 8 columns</p>\n",
       "</div>"
      ],
      "text/plain": [
       "          price  positive_ratings  negative_ratings platforms    genre_1  \\\n",
       "0      0.535238          0.998507          0.674807        w+     Action   \n",
       "1      0.434092          0.530474          0.524600        w+     Action   \n",
       "2      0.434092          0.531759          0.510907        w+     Action   \n",
       "3      0.434092          0.503587          0.503266        w+     Action   \n",
       "4      0.434092          0.555716          0.504491        w+     Action   \n",
       "...         ...               ...               ...       ...        ...   \n",
       "27070  0.376026          0.486869          0.487690   onlywin  Adventure   \n",
       "27071  0.364185          0.486935          0.487748   onlywin     Action   \n",
       "27072  0.434092          0.486830          0.487748   onlywin     Action   \n",
       "27073  0.471832          0.486856          0.487690        w+  Adventure   \n",
       "27074  0.471832          0.486882          0.487690        w+  Adventure   \n",
       "\n",
       "         genre_2 genre_3  owners  \n",
       "0              0       0       8  \n",
       "1              0       0       7  \n",
       "2              0       0       7  \n",
       "3              0       0       7  \n",
       "4              0       0       7  \n",
       "...          ...     ...     ...  \n",
       "27070     Casual   Indie       1  \n",
       "27071  Adventure   Indie       1  \n",
       "27072     Casual   Indie       1  \n",
       "27073     Casual   Indie       1  \n",
       "27074     Casual   Indie       1  \n",
       "\n",
       "[27075 rows x 8 columns]"
      ]
     },
     "execution_count": 39,
     "metadata": {},
     "output_type": "execute_result"
    }
   ],
   "source": [
    "df_target"
   ]
  },
  {
   "cell_type": "code",
   "execution_count": 40,
   "metadata": {},
   "outputs": [
    {
     "data": {
      "text/plain": [
       "'0'"
      ]
     },
     "execution_count": 40,
     "metadata": {},
     "output_type": "execute_result"
    }
   ],
   "source": [
    "df_target['genre_2'].iloc[0]"
   ]
  },
  {
   "cell_type": "code",
   "execution_count": 41,
   "metadata": {},
   "outputs": [
    {
     "name": "stdout",
     "output_type": "stream",
     "text": [
      "We have 19493 samples for training, 4874 for validation, and 2708 for test\n"
     ]
    }
   ],
   "source": [
    "train, test = train_test_split(df_target, test_size=0.1)\n",
    "train, val = train_test_split(train, test_size=0.2)\n",
    "print(\n",
    "    \"We have %d samples for training, %d for validation, and %d for test\"\n",
    "    % (len(train), len(val), len(test))\n",
    ")"
   ]
  },
  {
   "cell_type": "code",
   "execution_count": 42,
   "metadata": {},
   "outputs": [],
   "source": [
    "train_ds = dataframe_to_dataset(train)\n",
    "val_ds = dataframe_to_dataset(val)\n",
    "train_ds = train_ds.batch(32)\n",
    "val_ds = val_ds.batch(32)"
   ]
  },
  {
   "cell_type": "code",
   "execution_count": 43,
   "metadata": {},
   "outputs": [
    {
     "data": {
      "text/plain": [
       "<BatchDataset shapes: ({price: (None,), positive_ratings: (None,), negative_ratings: (None,), platforms: (None,), genre_1: (None,), genre_2: (None,), genre_3: (None,)}, (None,)), types: ({price: tf.float64, positive_ratings: tf.float64, negative_ratings: tf.float64, platforms: tf.string, genre_1: tf.string, genre_2: tf.string, genre_3: tf.string}, tf.int64)>"
      ]
     },
     "execution_count": 43,
     "metadata": {},
     "output_type": "execute_result"
    }
   ],
   "source": [
    "train_ds"
   ]
  },
  {
   "cell_type": "code",
   "execution_count": 44,
   "metadata": {},
   "outputs": [
    {
     "data": {
      "text/plain": [
       "29"
      ]
     },
     "execution_count": 44,
     "metadata": {},
     "output_type": "execute_result"
    }
   ],
   "source": [
    "len(df_genres[0])"
   ]
  },
  {
   "cell_type": "code",
   "execution_count": 45,
   "metadata": {},
   "outputs": [],
   "source": [
    "# Categorical features encoded as integers\n",
    "platforms = keras.Input(shape=(1,), name=\"platforms\", dtype=\"string\")\n",
    "# genres = keras.Input(shape=(1,), name=\"genres\")\n",
    "genre_1 = keras.Input(shape=(1,), name=\"genre_1\", dtype=\"string\")\n",
    "genre_2 = keras.Input(shape=(1,), name=\"genre_2\", dtype=\"string\")\n",
    "genre_3 = keras.Input(shape=(1,), name=\"genre_3\", dtype=\"string\")\n",
    "\n",
    "# Numerical features\n",
    "price = keras.Input(shape=(1,), name=\"price\")\n",
    "positive_ratings = keras.Input(shape=(1,), name=\"positive_ratings\")\n",
    "negative_ratings = keras.Input(shape=(1,), name=\"negative_ratings\")\n",
    "\n",
    "all_inputs = [\n",
    "    platforms,\n",
    "    genre_1,\n",
    "    genre_2,\n",
    "    genre_3,\n",
    "    price,\n",
    "    positive_ratings,\n",
    "    negative_ratings,\n",
    "]\n",
    "\n",
    "# # String categorical features\n",
    "# platforms_col = tf.feature_column.categorical_column_with_vocabulary_list(\n",
    "#       \"platforms\", ['w+', 'onlywin', 'else'])\n",
    "\n",
    "# platforms_encoded = tf.feature_column.indicator_column(platforms_col)\n",
    "\n",
    "# # String categorical features\n",
    "# genres_col = tf.feature_column.categorical_column_with_vocabulary_list(\n",
    "#       \"genres\", list_genres)\n",
    "\n",
    "# genres_encoded = tf.feature_column.indicator_column(genres_col)\n",
    "\n",
    "# # Numerical features\n",
    "# price_encoded = tf.feature_column.numeric_column(\"price\")\n",
    "# positive_ratings_encoded = tf.feature_column.numeric_column(\"positive_ratings\")\n",
    "# negative_ratings_encoded = tf.feature_column.numeric_column(\"negative_ratings\")\n",
    "\n",
    "# all_features = layers.DenseFeatures(\n",
    "#     [\n",
    "#         platforms_encoded,\n",
    "#     genres_encoded,\n",
    "#     price_encoded,\n",
    "#     positive_ratings_encoded,\n",
    "#     negative_ratings_encoded,\n",
    "#     ]\n",
    "# )\n",
    "\n",
    "# Integer categorical features\n",
    "platforms_encoded = encode_categorical_feature(platforms, \"platforms\", train_ds, True)\n",
    "\n",
    "# String categorical features\n",
    "genre_encoded_1 = encode_categorical_feature(genre_1, \"genre_1\", train_ds, True)\n",
    "genre_encoded_2 = encode_categorical_feature(genre_2, \"genre_2\", train_ds, True)\n",
    "genre_encoded_3 = encode_categorical_feature(genre_3, \"genre_3\", train_ds, True)\n",
    "\n",
    "\n",
    "# Numerical features\n",
    "price_encoded = encode_numerical_feature(price, \"price\", train_ds)\n",
    "positive_ratings_encoded = encode_numerical_feature(positive_ratings, \"positive_ratings\", train_ds)\n",
    "negative_ratings_encoded = encode_numerical_feature(negative_ratings, \"negative_ratings\", train_ds)\n",
    "\n",
    "all_features = layers.concatenate(\n",
    "    [\n",
    "        platforms_encoded,\n",
    "        genre_encoded_1,\n",
    "        genre_encoded_2,\n",
    "        genre_encoded_3,\n",
    "        price_encoded,\n",
    "        positive_ratings_encoded,\n",
    "        negative_ratings_encoded,\n",
    "    ]\n",
    ")"
   ]
  },
  {
   "cell_type": "code",
   "execution_count": 46,
   "metadata": {},
   "outputs": [
    {
     "data": {
      "text/plain": [
       "<KerasTensor: shape=(None, 86) dtype=float32 (created by layer 'concatenate_1')>"
      ]
     },
     "execution_count": 46,
     "metadata": {},
     "output_type": "execute_result"
    }
   ],
   "source": [
    "all_features"
   ]
  },
  {
   "cell_type": "code",
   "execution_count": 47,
   "metadata": {},
   "outputs": [],
   "source": [
    "x = all_features\n",
    "x = layers.Dense(32, activation=\"relu\")(x)\n",
    "x = layers.Dropout(0.5)(x)\n",
    "x = layers.Dense(16, activation=\"relu\")(x)\n",
    "x = layers.Dropout(0.5)(x)\n",
    "output = layers.Dense(1)(x)\n",
    "model = None\n",
    "model = keras.Model(all_inputs, output)"
   ]
  },
  {
   "cell_type": "code",
   "execution_count": 48,
   "metadata": {},
   "outputs": [],
   "source": [
    "LEARNING_RATE = 0.005 #@param\n",
    "model.compile(optimizer=tf.keras.optimizers.Adam(learning_rate = LEARNING_RATE),  \n",
    "              loss=\"mean_squared_error\",\n",
    "              metrics=[tf.keras.metrics.MeanSquaredError()]\n",
    "             )"
   ]
  },
  {
   "cell_type": "code",
   "execution_count": 49,
   "metadata": {},
   "outputs": [
    {
     "name": "stdout",
     "output_type": "stream",
     "text": [
      "Epoch 1/50\n",
      "610/610 [==============================] - 1s 920us/step - loss: 1.1289 - mean_squared_error: 1.1289 - val_loss: 0.4833 - val_mean_squared_error: 0.4833\n",
      "Epoch 2/50\n",
      "610/610 [==============================] - 1s 758us/step - loss: 0.6593 - mean_squared_error: 0.6593 - val_loss: 0.5162 - val_mean_squared_error: 0.5162\n",
      "Epoch 3/50\n",
      "610/610 [==============================] - 1s 779us/step - loss: 0.6015 - mean_squared_error: 0.6015 - val_loss: 0.4103 - val_mean_squared_error: 0.4103\n",
      "Epoch 4/50\n",
      "610/610 [==============================] - 1s 797us/step - loss: 0.5716 - mean_squared_error: 0.5716 - val_loss: 0.3918 - val_mean_squared_error: 0.3918\n",
      "Epoch 5/50\n",
      "610/610 [==============================] - 1s 768us/step - loss: 0.5548 - mean_squared_error: 0.5548 - val_loss: 0.3849 - val_mean_squared_error: 0.3849\n",
      "Epoch 6/50\n",
      "610/610 [==============================] - 1s 798us/step - loss: 0.5495 - mean_squared_error: 0.5495 - val_loss: 0.4369 - val_mean_squared_error: 0.4369\n",
      "Epoch 7/50\n",
      "610/610 [==============================] - 1s 763us/step - loss: 0.5524 - mean_squared_error: 0.5524 - val_loss: 0.4375 - val_mean_squared_error: 0.4375\n",
      "Epoch 8/50\n",
      "610/610 [==============================] - 1s 779us/step - loss: 0.5501 - mean_squared_error: 0.5501 - val_loss: 0.4557 - val_mean_squared_error: 0.4557\n",
      "Epoch 9/50\n",
      "610/610 [==============================] - 1s 797us/step - loss: 0.5143 - mean_squared_error: 0.5143 - val_loss: 0.3908 - val_mean_squared_error: 0.3908\n",
      "Epoch 10/50\n",
      "610/610 [==============================] - 1s 768us/step - loss: 0.5258 - mean_squared_error: 0.5258 - val_loss: 0.4265 - val_mean_squared_error: 0.4265\n",
      "Epoch 11/50\n",
      "610/610 [==============================] - 1s 776us/step - loss: 0.5009 - mean_squared_error: 0.5009 - val_loss: 0.3724 - val_mean_squared_error: 0.3724\n",
      "Epoch 12/50\n",
      "610/610 [==============================] - 1s 769us/step - loss: 0.4842 - mean_squared_error: 0.4842 - val_loss: 0.3547 - val_mean_squared_error: 0.3547\n",
      "Epoch 13/50\n",
      "610/610 [==============================] - 1s 779us/step - loss: 0.4883 - mean_squared_error: 0.4883 - val_loss: 0.3568 - val_mean_squared_error: 0.3568\n",
      "Epoch 14/50\n",
      "610/610 [==============================] - 1s 769us/step - loss: 0.4787 - mean_squared_error: 0.4787 - val_loss: 0.3633 - val_mean_squared_error: 0.3633\n",
      "Epoch 15/50\n",
      "610/610 [==============================] - 1s 789us/step - loss: 0.5029 - mean_squared_error: 0.5029 - val_loss: 0.3394 - val_mean_squared_error: 0.3394\n",
      "Epoch 16/50\n",
      "610/610 [==============================] - 1s 756us/step - loss: 0.4885 - mean_squared_error: 0.4885 - val_loss: 0.3520 - val_mean_squared_error: 0.3520\n",
      "Epoch 17/50\n",
      "610/610 [==============================] - 1s 825us/step - loss: 0.4799 - mean_squared_error: 0.4799 - val_loss: 0.3803 - val_mean_squared_error: 0.3803\n",
      "Epoch 18/50\n",
      "610/610 [==============================] - 1s 797us/step - loss: 0.4909 - mean_squared_error: 0.4909 - val_loss: 0.3602 - val_mean_squared_error: 0.3602\n",
      "Epoch 19/50\n",
      "610/610 [==============================] - 1s 789us/step - loss: 0.4720 - mean_squared_error: 0.4720 - val_loss: 0.3712 - val_mean_squared_error: 0.3712\n",
      "Epoch 20/50\n",
      "610/610 [==============================] - 1s 801us/step - loss: 0.4903 - mean_squared_error: 0.4903 - val_loss: 0.3425 - val_mean_squared_error: 0.3425\n",
      "Epoch 21/50\n",
      "610/610 [==============================] - 1s 800us/step - loss: 0.4724 - mean_squared_error: 0.4724 - val_loss: 0.3647 - val_mean_squared_error: 0.3647\n",
      "Epoch 22/50\n",
      "610/610 [==============================] - 1s 820us/step - loss: 0.4658 - mean_squared_error: 0.4658 - val_loss: 0.3323 - val_mean_squared_error: 0.3323\n",
      "Epoch 23/50\n",
      "610/610 [==============================] - 1s 777us/step - loss: 0.4804 - mean_squared_error: 0.4804 - val_loss: 0.3496 - val_mean_squared_error: 0.3496\n",
      "Epoch 24/50\n",
      "610/610 [==============================] - 1s 766us/step - loss: 0.4774 - mean_squared_error: 0.4774 - val_loss: 0.3501 - val_mean_squared_error: 0.3501\n",
      "Epoch 25/50\n",
      "610/610 [==============================] - 1s 802us/step - loss: 0.4822 - mean_squared_error: 0.4822 - val_loss: 0.3355 - val_mean_squared_error: 0.3355\n",
      "Epoch 26/50\n",
      "610/610 [==============================] - 1s 817us/step - loss: 0.4733 - mean_squared_error: 0.4733 - val_loss: 0.3513 - val_mean_squared_error: 0.3513\n",
      "Epoch 27/50\n",
      "610/610 [==============================] - 1s 808us/step - loss: 0.4601 - mean_squared_error: 0.4601 - val_loss: 0.3582 - val_mean_squared_error: 0.3582\n",
      "Epoch 28/50\n",
      "610/610 [==============================] - 1s 809us/step - loss: 0.4813 - mean_squared_error: 0.4813 - val_loss: 0.3531 - val_mean_squared_error: 0.3531\n",
      "Epoch 29/50\n",
      "610/610 [==============================] - 1s 799us/step - loss: 0.4579 - mean_squared_error: 0.4579 - val_loss: 0.3218 - val_mean_squared_error: 0.3218\n",
      "Epoch 30/50\n",
      "610/610 [==============================] - 1s 818us/step - loss: 0.4649 - mean_squared_error: 0.4649 - val_loss: 0.3159 - val_mean_squared_error: 0.3159\n",
      "Epoch 31/50\n",
      "610/610 [==============================] - 1s 808us/step - loss: 0.4545 - mean_squared_error: 0.4545 - val_loss: 0.3178 - val_mean_squared_error: 0.3178\n",
      "Epoch 32/50\n",
      "610/610 [==============================] - 1s 771us/step - loss: 0.4597 - mean_squared_error: 0.4597 - val_loss: 0.3265 - val_mean_squared_error: 0.3265\n",
      "Epoch 33/50\n",
      "610/610 [==============================] - 1s 814us/step - loss: 0.4563 - mean_squared_error: 0.4563 - val_loss: 0.3715 - val_mean_squared_error: 0.3715\n",
      "Epoch 34/50\n",
      "610/610 [==============================] - 1s 782us/step - loss: 0.4598 - mean_squared_error: 0.4598 - val_loss: 0.3329 - val_mean_squared_error: 0.3329\n",
      "Epoch 35/50\n",
      "610/610 [==============================] - 1s 792us/step - loss: 0.4655 - mean_squared_error: 0.4655 - val_loss: 0.3717 - val_mean_squared_error: 0.3717\n",
      "Epoch 36/50\n",
      "610/610 [==============================] - 1s 818us/step - loss: 0.4713 - mean_squared_error: 0.4713 - val_loss: 0.3519 - val_mean_squared_error: 0.3519\n",
      "Epoch 37/50\n",
      "610/610 [==============================] - 1s 791us/step - loss: 0.4591 - mean_squared_error: 0.4591 - val_loss: 0.3440 - val_mean_squared_error: 0.3440\n",
      "Epoch 38/50\n",
      "610/610 [==============================] - 1s 810us/step - loss: 0.4560 - mean_squared_error: 0.4560 - val_loss: 0.3490 - val_mean_squared_error: 0.3490\n",
      "Epoch 39/50\n",
      "610/610 [==============================] - 1s 813us/step - loss: 0.4489 - mean_squared_error: 0.4489 - val_loss: 0.3859 - val_mean_squared_error: 0.3859\n",
      "Epoch 40/50\n",
      "610/610 [==============================] - 1s 804us/step - loss: 0.4557 - mean_squared_error: 0.4557 - val_loss: 0.4467 - val_mean_squared_error: 0.4467\n",
      "Epoch 41/50\n",
      "610/610 [==============================] - 1s 837us/step - loss: 0.4483 - mean_squared_error: 0.4483 - val_loss: 0.3234 - val_mean_squared_error: 0.3234\n",
      "Epoch 42/50\n",
      "610/610 [==============================] - 1s 772us/step - loss: 0.4495 - mean_squared_error: 0.4495 - val_loss: 0.3378 - val_mean_squared_error: 0.3378\n",
      "Epoch 43/50\n",
      "610/610 [==============================] - 1s 778us/step - loss: 0.4656 - mean_squared_error: 0.4656 - val_loss: 0.3445 - val_mean_squared_error: 0.3445\n",
      "Epoch 44/50\n",
      "610/610 [==============================] - 1s 821us/step - loss: 0.4447 - mean_squared_error: 0.4447 - val_loss: 0.3477 - val_mean_squared_error: 0.3477\n",
      "Epoch 45/50\n",
      "610/610 [==============================] - 1s 786us/step - loss: 0.4545 - mean_squared_error: 0.4545 - val_loss: 0.3572 - val_mean_squared_error: 0.3572\n",
      "Epoch 46/50\n",
      "610/610 [==============================] - 1s 806us/step - loss: 0.4485 - mean_squared_error: 0.4485 - val_loss: 0.3387 - val_mean_squared_error: 0.3387\n",
      "Epoch 47/50\n",
      "610/610 [==============================] - 1s 790us/step - loss: 0.4560 - mean_squared_error: 0.4560 - val_loss: 0.3442 - val_mean_squared_error: 0.3442\n",
      "Epoch 48/50\n",
      "610/610 [==============================] - 1s 811us/step - loss: 0.4448 - mean_squared_error: 0.4448 - val_loss: 0.3761 - val_mean_squared_error: 0.3761\n",
      "Epoch 49/50\n",
      "610/610 [==============================] - 1s 818us/step - loss: 0.4441 - mean_squared_error: 0.4441 - val_loss: 0.3613 - val_mean_squared_error: 0.3613\n",
      "Epoch 50/50\n",
      "610/610 [==============================] - 1s 764us/step - loss: 0.4444 - mean_squared_error: 0.4444 - val_loss: 0.3054 - val_mean_squared_error: 0.3054\n"
     ]
    },
    {
     "data": {
      "text/plain": [
       "<keras.callbacks.History at 0x7f8920254b50>"
      ]
     },
     "execution_count": 49,
     "metadata": {},
     "output_type": "execute_result"
    }
   ],
   "source": [
    "model.fit(train_ds, epochs=50, validation_data=val_ds)"
   ]
  },
  {
   "cell_type": "markdown",
   "metadata": {},
   "source": [
    "# Somewhat better"
   ]
  },
  {
   "cell_type": "markdown",
   "metadata": {},
   "source": [
    "# Let us evaluate our model"
   ]
  },
  {
   "cell_type": "code",
   "execution_count": 51,
   "metadata": {},
   "outputs": [],
   "source": [
    "test_ds = dataframe_to_dataset(test)\n",
    "test_ds = test_ds.batch(32)"
   ]
  },
  {
   "cell_type": "code",
   "execution_count": 54,
   "metadata": {},
   "outputs": [
    {
     "name": "stdout",
     "output_type": "stream",
     "text": [
      "Evaluate on test data\n",
      "85/85 [==============================] - 0s 610us/step - loss: 0.2933 - mean_squared_error: 0.2933\n",
      "test loss, test mean_squared_error: [0.29332077503204346, 0.29332077503204346]\n",
      "Generate predictions for 3 samples\n",
      "predictions shape: (2708, 1)\n"
     ]
    }
   ],
   "source": [
    "# Evaluate the model on the test data using `evaluate`\n",
    "print(\"Evaluate on test data\")\n",
    "results = model.evaluate(test_ds)\n",
    "print(\"test loss, test mean_squared_error:\", results)\n",
    "\n",
    "# Generate predictions (probabilities -- the output of the last layer)\n",
    "# on new data using `predict`\n",
    "print(\"Generate predictions for 3 samples\")\n",
    "predictions = model.predict(test_ds)\n",
    "print(\"predictions shape:\", predictions.shape)"
   ]
  },
  {
   "cell_type": "code",
   "execution_count": 67,
   "metadata": {},
   "outputs": [
    {
     "name": "stdout",
     "output_type": "stream",
     "text": [
      "label          predicted\n",
      "value          value\n",
      "in original   in original\n",
      "--------------------------------------\n",
      "3.000000 2.992354\n",
      "1.000000 1.115811\n",
      "1.000000 1.192207\n",
      "1.000000 2.616232\n",
      "1.000000 1.220362\n",
      "1.000000 1.092408\n",
      "1.000000 1.189553\n",
      "3.000000 1.108123\n",
      "1.000000 3.548675\n",
      "1.000000 1.117940\n",
      "4.000000 1.177535\n",
      "2.000000 4.128572\n",
      "1.000000 4.449903\n",
      "1.000000 1.146051\n",
      "1.000000 1.193996\n",
      "1.000000 2.397537\n",
      "1.000000 3.128413\n",
      "3.000000 1.278032\n",
      "1.000000 3.065299\n",
      "1.000000 1.075129\n",
      "1.000000 1.146791\n",
      "2.000000 1.094634\n",
      "4.000000 0.998720\n",
      "1.000000 3.037426\n",
      "1.000000 2.760513\n",
      "3.000000 1.203378\n",
      "2.000000 2.312987\n",
      "1.000000 1.309136\n",
      "1.000000 1.142322\n",
      "3.000000 1.818723\n"
     ]
    }
   ],
   "source": [
    "print(\"label          predicted\")\n",
    "print(\"value          value\")\n",
    "print(\"in original   in original\")\n",
    "print(\"--------------------------------------\")\n",
    "\n",
    "for i in range(30):\n",
    "    print (\"%f %f\" % ( test['owners'].iloc[i], predictions[i] ))"
   ]
  },
  {
   "cell_type": "markdown",
   "metadata": {},
   "source": [
    "## I used bucketized label and designed regression model, not classification model. It's because the numer of owner is actually not a 'class' but 'scalar'. As a result, the prediction gives 'float' number. This is not perfect model, which is due to lack of good information. Also, positive and negative rate cannot be collected before they are released. Thus, this model is not good for prediction model."
   ]
  }
 ],
 "metadata": {
  "kernelspec": {
   "display_name": "Python 3",
   "language": "python",
   "name": "python3"
  },
  "language_info": {
   "codemirror_mode": {
    "name": "ipython",
    "version": 3
   },
   "file_extension": ".py",
   "mimetype": "text/x-python",
   "name": "python",
   "nbconvert_exporter": "python",
   "pygments_lexer": "ipython3",
   "version": "3.8.5"
  }
 },
 "nbformat": 4,
 "nbformat_minor": 4
}
