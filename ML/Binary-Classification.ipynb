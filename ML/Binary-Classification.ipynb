{
 "cells": [
  {
   "cell_type": "markdown",
   "metadata": {},
   "source": [
    "# Copyright 2020 Google LLC.\n",
    " Licensed under the Apache License, Version 2.0 (the \"License\");\n",
    " you may not use this file except in compliance with the License.\n",
    " You may obtain a copy of the License at\n",
    "\n",
    " https://www.apache.org/licenses/LICENSE-2.0\n",
    "\n",
    " Unless required by applicable law or agreed to in writing, software\n",
    " distributed under the License is distributed on an \"AS IS\" BASIS,\n",
    " WITHOUT WARRANTIES OR CONDITIONS OF ANY KIND, either express or implied.\n",
    " See the License for the specific language governing permissions and\n",
    " limitations under the License."
   ]
  },
  {
   "cell_type": "code",
   "execution_count": 1,
   "metadata": {},
   "outputs": [
    {
     "name": "stdout",
     "output_type": "stream",
     "text": [
      "Ran the import statements.\n"
     ]
    }
   ],
   "source": [
    "import numpy as np\n",
    "import pandas as pd\n",
    "import tensorflow as tf\n",
    "from tensorflow.keras import layers\n",
    "from matplotlib import pyplot as plt\n",
    "\n",
    "# The following lines adjust the granularity of reporting.\n",
    "pd.options.display.max_rows = 10\n",
    "pd.options.display.float_format = \"{:.1f}\".format\n",
    "# tf.keras.backend.set_floatx('float32')\n",
    "\n",
    "print(\"Ran the import statements.\")"
   ]
  },
  {
   "cell_type": "code",
   "execution_count": 2,
   "metadata": {},
   "outputs": [],
   "source": [
    "train_df = pd.read_csv(\"https://download.mlcc.google.com/mledu-datasets/california_housing_train.csv\")\n",
    "test_df = pd.read_csv(\"https://download.mlcc.google.com/mledu-datasets/california_housing_test.csv\")\n",
    "train_df = train_df.reindex(np.random.permutation(train_df.index)) # shuffle the training set"
   ]
  },
  {
   "cell_type": "markdown",
   "metadata": {},
   "source": [
    "When creating a model with multiple features, the values of each feature should cover roughly the same range. For example, if one feature's range spans 500 to 100,000 and another feature's range spans 2 to 12, then the model will be difficult or impossible to train. Therefore, you should normalize features in a multi-feature model.\n",
    "\n",
    "The following code cell normalizes datasets by converting each raw value (including the label) to its Z-score. A Z-score is the number of standard deviations from the mean for a particular raw value."
   ]
  },
  {
   "cell_type": "code",
   "execution_count": 3,
   "metadata": {},
   "outputs": [
    {
     "data": {
      "text/html": [
       "<div>\n",
       "<style scoped>\n",
       "    .dataframe tbody tr th:only-of-type {\n",
       "        vertical-align: middle;\n",
       "    }\n",
       "\n",
       "    .dataframe tbody tr th {\n",
       "        vertical-align: top;\n",
       "    }\n",
       "\n",
       "    .dataframe thead th {\n",
       "        text-align: right;\n",
       "    }\n",
       "</style>\n",
       "<table border=\"1\" class=\"dataframe\">\n",
       "  <thead>\n",
       "    <tr style=\"text-align: right;\">\n",
       "      <th></th>\n",
       "      <th>longitude</th>\n",
       "      <th>latitude</th>\n",
       "      <th>housing_median_age</th>\n",
       "      <th>total_rooms</th>\n",
       "      <th>total_bedrooms</th>\n",
       "      <th>population</th>\n",
       "      <th>households</th>\n",
       "      <th>median_income</th>\n",
       "      <th>median_house_value</th>\n",
       "    </tr>\n",
       "  </thead>\n",
       "  <tbody>\n",
       "    <tr>\n",
       "      <th>9369</th>\n",
       "      <td>0.2</td>\n",
       "      <td>-0.7</td>\n",
       "      <td>0.5</td>\n",
       "      <td>0.7</td>\n",
       "      <td>0.5</td>\n",
       "      <td>1.6</td>\n",
       "      <td>0.5</td>\n",
       "      <td>0.2</td>\n",
       "      <td>-0.2</td>\n",
       "    </tr>\n",
       "    <tr>\n",
       "      <th>7183</th>\n",
       "      <td>0.6</td>\n",
       "      <td>-0.7</td>\n",
       "      <td>-0.4</td>\n",
       "      <td>-0.3</td>\n",
       "      <td>-0.3</td>\n",
       "      <td>-0.6</td>\n",
       "      <td>-0.3</td>\n",
       "      <td>1.1</td>\n",
       "      <td>2.5</td>\n",
       "    </tr>\n",
       "    <tr>\n",
       "      <th>13108</th>\n",
       "      <td>-1.2</td>\n",
       "      <td>0.8</td>\n",
       "      <td>1.6</td>\n",
       "      <td>-0.4</td>\n",
       "      <td>-0.4</td>\n",
       "      <td>-0.2</td>\n",
       "      <td>-0.3</td>\n",
       "      <td>-0.2</td>\n",
       "      <td>-0.1</td>\n",
       "    </tr>\n",
       "    <tr>\n",
       "      <th>1329</th>\n",
       "      <td>1.2</td>\n",
       "      <td>-1.3</td>\n",
       "      <td>0.7</td>\n",
       "      <td>-1.0</td>\n",
       "      <td>-1.1</td>\n",
       "      <td>-1.1</td>\n",
       "      <td>-1.1</td>\n",
       "      <td>-0.4</td>\n",
       "      <td>-0.4</td>\n",
       "    </tr>\n",
       "    <tr>\n",
       "      <th>11348</th>\n",
       "      <td>-0.8</td>\n",
       "      <td>1.4</td>\n",
       "      <td>-0.0</td>\n",
       "      <td>0.1</td>\n",
       "      <td>-0.2</td>\n",
       "      <td>-0.0</td>\n",
       "      <td>-0.1</td>\n",
       "      <td>0.2</td>\n",
       "      <td>-0.7</td>\n",
       "    </tr>\n",
       "  </tbody>\n",
       "</table>\n",
       "</div>"
      ],
      "text/plain": [
       "       longitude  latitude  housing_median_age  total_rooms  total_bedrooms  \\\n",
       "9369         0.2      -0.7                 0.5          0.7             0.5   \n",
       "7183         0.6      -0.7                -0.4         -0.3            -0.3   \n",
       "13108       -1.2       0.8                 1.6         -0.4            -0.4   \n",
       "1329         1.2      -1.3                 0.7         -1.0            -1.1   \n",
       "11348       -0.8       1.4                -0.0          0.1            -0.2   \n",
       "\n",
       "       population  households  median_income  median_house_value  \n",
       "9369          1.6         0.5            0.2                -0.2  \n",
       "7183         -0.6        -0.3            1.1                 2.5  \n",
       "13108        -0.2        -0.3           -0.2                -0.1  \n",
       "1329         -1.1        -1.1           -0.4                -0.4  \n",
       "11348        -0.0        -0.1            0.2                -0.7  "
      ]
     },
     "execution_count": 3,
     "metadata": {},
     "output_type": "execute_result"
    }
   ],
   "source": [
    "# Calculate the Z-scores of each column in the training set and\n",
    "# write those Z-scores into a new pandas DataFrame named train_df_norm.\n",
    "train_df_mean = train_df.mean()\n",
    "train_df_std = train_df.std()\n",
    "train_df_norm = (train_df - train_df_mean)/train_df_std\n",
    "\n",
    "# Examine some of the values of the normalized training set. Notice that most \n",
    "# Z-scores fall between -2 and +2.\n",
    "train_df_norm.head()"
   ]
  },
  {
   "cell_type": "code",
   "execution_count": 5,
   "metadata": {},
   "outputs": [],
   "source": [
    "# Calculate the Z-scores of each column in the test set and\n",
    "# write those Z-scores into a new pandas DataFrame named test_df_norm.\n",
    "test_df_mean = test_df.mean()\n",
    "test_df_std  = test_df.std()\n",
    "test_df_norm = (test_df - test_df_mean)/test_df_std"
   ]
  },
  {
   "cell_type": "markdown",
   "metadata": {},
   "source": [
    "In classification problems, the label for every example must be either 0 or 1. Unfortunately, the natural label in the California Housing Dataset, median_house_value, contains floating-point values like 80,100 or 85,700 rather than 0s and 1s, while the normalized version of median_house_values contains floating-point values primarily between -3 and +3.\n",
    "\n",
    "Your task is to create a new column named median_house_value_is_high in both the training set and the test set . If the median_house_value is higher than a certain arbitrary value (defined by threshold), then set median_house_value_is_high to 1. Otherwise, set median_house_value_is_high to 0."
   ]
  },
  {
   "cell_type": "code",
   "execution_count": 6,
   "metadata": {},
   "outputs": [
    {
     "data": {
      "text/plain": [
       "9369    0.0\n",
       "7183    1.0\n",
       "13108   0.0\n",
       "1329    0.0\n",
       "11348   0.0\n",
       "         ..\n",
       "2597    0.0\n",
       "16189   0.0\n",
       "4578    0.0\n",
       "13571   0.0\n",
       "11019   0.0\n",
       "Name: median_house_value_is_high, Length: 8000, dtype: float64"
      ]
     },
     "execution_count": 6,
     "metadata": {},
     "output_type": "execute_result"
    }
   ],
   "source": [
    "# We arbitrarily set the threshold to 265,000, which is \n",
    "# the 75th percentile for median house values.  Every neighborhood\n",
    "# with a median house price above 265,000 will be labeled 1, \n",
    "# and all other neighborhoods will be labeled 0.\n",
    "\n",
    "# threshold = 265000\n",
    "# train_df_norm[\"median_house_value_is_high\"] = (train_df[\"median_house_value\"] > threshold).astype(float)\n",
    "# test_df_norm[\"median_house_value_is_high\"] = (test_df[\"median_house_value\"] > threshold).astype(float) \n",
    "# train_df_norm[\"median_house_value_is_high\"].head(8000)\n",
    "\n",
    "\n",
    "# Alternatively, instead of picking the threshold\n",
    "# based on raw house values, you can work with Z-scores.\n",
    "# For example, the following possible solution uses a Z-score\n",
    "# of +1.0 as the threshold, meaning that no more\n",
    "# than 16% of the values in median_house_value_is_high\n",
    "# will be labeled 1.\n",
    "\n",
    "threshold_in_Z = 1.0 \n",
    "train_df_norm[\"median_house_value_is_high\"] = (train_df_norm[\"median_house_value\"] > threshold_in_Z).astype(float)\n",
    "test_df_norm[\"median_house_value_is_high\"] = (test_df_norm[\"median_house_value\"] > threshold_in_Z).astype(float)\n",
    "train_df_norm[\"median_house_value_is_high\"].head(8000)"
   ]
  },
  {
   "cell_type": "markdown",
   "metadata": {},
   "source": [
    "This code cell specifies the features that you'll ultimately train the model on and how each of those features will be represented. The transformations (collected in feature_layer) don't actually get applied until you pass a DataFrame to it, which will happen when we train the model."
   ]
  },
  {
   "cell_type": "code",
   "execution_count": 7,
   "metadata": {},
   "outputs": [
    {
     "data": {
      "text/plain": [
       "<tf.Tensor: shape=(17000, 2), dtype=float32, numpy=\n",
       "array([[ 0.19637902,  0.748796  ],\n",
       "       [ 1.127592  , -0.3438911 ],\n",
       "       [-0.1600907 , -0.42003974],\n",
       "       ...,\n",
       "       [-0.37569144,  0.42401746],\n",
       "       [-0.11680284, -0.84757304],\n",
       "       [-0.397545  , -0.59343845]], dtype=float32)>"
      ]
     },
     "execution_count": 7,
     "metadata": {},
     "output_type": "execute_result"
    }
   ],
   "source": [
    "# Create an empty list that will eventually hold all created feature columns.\n",
    "feature_columns = []\n",
    "\n",
    "# Create a numerical feature column to represent median_income.\n",
    "median_income = tf.feature_column.numeric_column(\"median_income\")\n",
    "feature_columns.append(median_income)\n",
    "\n",
    "# Create a numerical feature column to represent total_rooms.\n",
    "tr = tf.feature_column.numeric_column(\"total_rooms\")\n",
    "feature_columns.append(tr)\n",
    "\n",
    "# Convert the list of feature columns into a layer that will later be fed into\n",
    "# the model. \n",
    "feature_layer = layers.DenseFeatures(feature_columns)\n",
    "\n",
    "# Print the first 3 and last 3 rows of the feature_layer's output when applied\n",
    "# to train_df_norm:\n",
    "feature_layer(dict(train_df_norm))"
   ]
  },
  {
   "cell_type": "code",
   "execution_count": 16,
   "metadata": {},
   "outputs": [
    {
     "name": "stdout",
     "output_type": "stream",
     "text": [
      "Defined the create_model and train_model functions.\n"
     ]
    }
   ],
   "source": [
    "def create_model(my_learning_rate, feature_layer, my_metrics):\n",
    "    \"\"\"Create and compile a simple classification model.\"\"\"\n",
    "    # Most simple tf.keras models are sequential.\n",
    "    model = tf.keras.models.Sequential()\n",
    "\n",
    "    # Add the feature layer (the list of features and how they are represented)\n",
    "    # to the model.\n",
    "    model.add(feature_layer)\n",
    "\n",
    "    # Funnel the regression value through a sigmoid function.\n",
    "    model.add(tf.keras.layers.Dense(units=1, input_shape=(1,),\n",
    "                                  activation=tf.sigmoid),)\n",
    "\n",
    "    # Call the compile method to construct the layers into a model that\n",
    "    # TensorFlow can execute.  Notice that we're using a different loss\n",
    "    # function for classification than for regression.    \n",
    "    model.compile(optimizer=tf.keras.optimizers.RMSprop(learning_rate=my_learning_rate),                                                   \n",
    "                loss=tf.keras.losses.BinaryCrossentropy(),\n",
    "                metrics=my_metrics)\n",
    "\n",
    "    return model        \n",
    "\n",
    "\n",
    "def train_model(model, dataset, epochs, label_name,\n",
    "                batch_size=None, shuffle=True):\n",
    "    \"\"\"Feed a dataset into the model in order to train it.\"\"\"\n",
    "\n",
    "    # The x parameter of tf.keras.Model.fit can be a list of arrays, where\n",
    "    # each array contains the data for one feature.  Here, we're passing\n",
    "    # every column in the dataset. Note that the feature_layer will filter\n",
    "    # away most of those columns, leaving only the desired columns and their\n",
    "    # representations as features.\n",
    "    features = {name:np.array(value) for name, value in dataset.items()}\n",
    "    label = np.array(features.pop(label_name)) \n",
    "    history = model.fit(x=features, y=label, batch_size=batch_size,\n",
    "                      epochs=epochs, shuffle=shuffle)\n",
    "\n",
    "    # The list of epochs is stored separately from the rest of history.\n",
    "    epochs = history.epoch\n",
    "\n",
    "    # Isolate the classification metric for each epoch.\n",
    "    hist = pd.DataFrame(history.history)\n",
    "\n",
    "    return epochs, hist  \n",
    "\n",
    "print(\"Defined the create_model and train_model functions.\")"
   ]
  },
  {
   "cell_type": "code",
   "execution_count": 17,
   "metadata": {},
   "outputs": [
    {
     "name": "stdout",
     "output_type": "stream",
     "text": [
      "Defined the plot_curve function.\n"
     ]
    }
   ],
   "source": [
    "def plot_curve(epochs, hist, list_of_metrics):\n",
    "    \"\"\"Plot a curve of one or more classification metrics vs. epoch.\"\"\"  \n",
    "    # list_of_metrics should be one of the names shown in:\n",
    "    # https://www.tensorflow.org/tutorials/structured_data/imbalanced_data#define_the_model_and_metrics  \n",
    "\n",
    "    plt.figure()\n",
    "    plt.xlabel(\"Epoch\")\n",
    "    plt.ylabel(\"Value\")\n",
    "\n",
    "    for m in list_of_metrics:\n",
    "        x = hist[m]\n",
    "        plt.plot(epochs[1:], x[1:], label=m)\n",
    "\n",
    "    plt.legend()\n",
    "\n",
    "print(\"Defined the plot_curve function.\")"
   ]
  },
  {
   "cell_type": "code",
   "execution_count": 18,
   "metadata": {},
   "outputs": [
    {
     "name": "stdout",
     "output_type": "stream",
     "text": [
      "Epoch 1/20\n",
      "WARNING:tensorflow:Layers in a Sequential model should only have a single input tensor, but we receive a <class 'dict'> input: {'longitude': <tf.Tensor 'ExpandDims_3:0' shape=(100, 1) dtype=float32>, 'latitude': <tf.Tensor 'ExpandDims_2:0' shape=(100, 1) dtype=float32>, 'housing_median_age': <tf.Tensor 'ExpandDims_1:0' shape=(100, 1) dtype=float32>, 'total_rooms': <tf.Tensor 'ExpandDims_8:0' shape=(100, 1) dtype=float32>, 'total_bedrooms': <tf.Tensor 'ExpandDims_7:0' shape=(100, 1) dtype=float32>, 'population': <tf.Tensor 'ExpandDims_6:0' shape=(100, 1) dtype=float32>, 'households': <tf.Tensor 'ExpandDims:0' shape=(100, 1) dtype=float32>, 'median_income': <tf.Tensor 'ExpandDims_5:0' shape=(100, 1) dtype=float32>, 'median_house_value': <tf.Tensor 'ExpandDims_4:0' shape=(100, 1) dtype=float32>}\n",
      "Consider rewriting this model with the Functional API.\n",
      "WARNING:tensorflow:Layers in a Sequential model should only have a single input tensor, but we receive a <class 'dict'> input: {'longitude': <tf.Tensor 'ExpandDims_3:0' shape=(100, 1) dtype=float32>, 'latitude': <tf.Tensor 'ExpandDims_2:0' shape=(100, 1) dtype=float32>, 'housing_median_age': <tf.Tensor 'ExpandDims_1:0' shape=(100, 1) dtype=float32>, 'total_rooms': <tf.Tensor 'ExpandDims_8:0' shape=(100, 1) dtype=float32>, 'total_bedrooms': <tf.Tensor 'ExpandDims_7:0' shape=(100, 1) dtype=float32>, 'population': <tf.Tensor 'ExpandDims_6:0' shape=(100, 1) dtype=float32>, 'households': <tf.Tensor 'ExpandDims:0' shape=(100, 1) dtype=float32>, 'median_income': <tf.Tensor 'ExpandDims_5:0' shape=(100, 1) dtype=float32>, 'median_house_value': <tf.Tensor 'ExpandDims_4:0' shape=(100, 1) dtype=float32>}\n",
      "Consider rewriting this model with the Functional API.\n",
      "170/170 [==============================] - 0s 459us/step - loss: 0.7127 - accuracy: 0.1704\n",
      "Epoch 2/20\n",
      "170/170 [==============================] - 0s 498us/step - loss: 0.6175 - accuracy: 0.1726\n",
      "Epoch 3/20\n",
      "170/170 [==============================] - 0s 449us/step - loss: 0.5429 - accuracy: 0.2793\n",
      "Epoch 4/20\n",
      "170/170 [==============================] - 0s 523us/step - loss: 0.4848 - accuracy: 0.6449\n",
      "Epoch 5/20\n",
      "170/170 [==============================] - 0s 444us/step - loss: 0.4389 - accuracy: 0.7641\n",
      "Epoch 6/20\n",
      "170/170 [==============================] - 0s 463us/step - loss: 0.4031 - accuracy: 0.8061\n",
      "Epoch 7/20\n",
      "170/170 [==============================] - 0s 441us/step - loss: 0.3758 - accuracy: 0.8276\n",
      "Epoch 8/20\n",
      "170/170 [==============================] - 0s 500us/step - loss: 0.3554 - accuracy: 0.8429\n",
      "Epoch 9/20\n",
      "170/170 [==============================] - 0s 461us/step - loss: 0.3406 - accuracy: 0.8541\n",
      "Epoch 10/20\n",
      "170/170 [==============================] - 0s 518us/step - loss: 0.3302 - accuracy: 0.8601\n",
      "Epoch 11/20\n",
      "170/170 [==============================] - 0s 447us/step - loss: 0.3232 - accuracy: 0.8659\n",
      "Epoch 12/20\n",
      "170/170 [==============================] - 0s 436us/step - loss: 0.3189 - accuracy: 0.8703\n",
      "Epoch 13/20\n",
      "170/170 [==============================] - 0s 454us/step - loss: 0.3163 - accuracy: 0.8724\n",
      "Epoch 14/20\n",
      "170/170 [==============================] - 0s 468us/step - loss: 0.3147 - accuracy: 0.8733\n",
      "Epoch 15/20\n",
      "170/170 [==============================] - 0s 579us/step - loss: 0.3138 - accuracy: 0.8738\n",
      "Epoch 16/20\n",
      "170/170 [==============================] - 0s 646us/step - loss: 0.3133 - accuracy: 0.8741\n",
      "Epoch 17/20\n",
      "170/170 [==============================] - 0s 588us/step - loss: 0.3130 - accuracy: 0.8738\n",
      "Epoch 18/20\n",
      "170/170 [==============================] - 0s 566us/step - loss: 0.3128 - accuracy: 0.8744\n",
      "Epoch 19/20\n",
      "170/170 [==============================] - 0s 434us/step - loss: 0.3127 - accuracy: 0.8738\n",
      "Epoch 20/20\n",
      "170/170 [==============================] - 0s 527us/step - loss: 0.3126 - accuracy: 0.8737\n"
     ]
    },
    {
     "data": {
      "image/png": "[encoded data removed]",
      "text/plain": [
       "<Figure size 432x288 with 1 Axes>"
      ]
     },
     "metadata": {
      "needs_background": "light"
     },
     "output_type": "display_data"
    }
   ],
   "source": [
    "# The following variables are the hyperparameters.\n",
    "learning_rate = 0.001\n",
    "epochs = 20\n",
    "batch_size = 100\n",
    "label_name = \"median_house_value_is_high\"\n",
    "classification_threshold = 0.35\n",
    "\n",
    "# Establish the metrics the model will measure.\n",
    "METRICS = [\n",
    "           tf.keras.metrics.BinaryAccuracy(name='accuracy', \n",
    "                                           threshold=classification_threshold),\n",
    "          ]\n",
    "\n",
    "# Establish the model's topography.\n",
    "my_model = create_model(learning_rate, feature_layer, METRICS)\n",
    "\n",
    "# Train the model on the training set.\n",
    "epochs, hist = train_model(my_model, train_df_norm, epochs, \n",
    "                           label_name, batch_size)\n",
    "\n",
    "# Plot a graph of the metric(s) vs. epochs.\n",
    "list_of_metrics_to_plot = ['accuracy'] \n",
    "\n",
    "plot_curve(epochs, hist, list_of_metrics_to_plot)"
   ]
  },
  {
   "cell_type": "code",
   "execution_count": 19,
   "metadata": {},
   "outputs": [
    {
     "name": "stdout",
     "output_type": "stream",
     "text": [
      "WARNING:tensorflow:Layers in a Sequential model should only have a single input tensor, but we receive a <class 'dict'> input: {'longitude': <tf.Tensor 'ExpandDims_3:0' shape=(100, 1) dtype=float32>, 'latitude': <tf.Tensor 'ExpandDims_2:0' shape=(100, 1) dtype=float32>, 'housing_median_age': <tf.Tensor 'ExpandDims_1:0' shape=(100, 1) dtype=float32>, 'total_rooms': <tf.Tensor 'ExpandDims_8:0' shape=(100, 1) dtype=float32>, 'total_bedrooms': <tf.Tensor 'ExpandDims_7:0' shape=(100, 1) dtype=float32>, 'population': <tf.Tensor 'ExpandDims_6:0' shape=(100, 1) dtype=float32>, 'households': <tf.Tensor 'ExpandDims:0' shape=(100, 1) dtype=float32>, 'median_income': <tf.Tensor 'ExpandDims_5:0' shape=(100, 1) dtype=float32>, 'median_house_value': <tf.Tensor 'ExpandDims_4:0' shape=(100, 1) dtype=float32>}\n",
      "Consider rewriting this model with the Functional API.\n",
      "30/30 [==============================] - 0s 471us/step - loss: 0.3131 - accuracy: 0.8680\n"
     ]
    },
    {
     "data": {
      "text/plain": [
       "[0.31309449672698975, 0.8679999709129333]"
      ]
     },
     "execution_count": 19,
     "metadata": {},
     "output_type": "execute_result"
    }
   ],
   "source": [
    "features = {name:np.array(value) for name, value in test_df_norm.items()}\n",
    "label = np.array(features.pop(label_name))\n",
    "\n",
    "my_model.evaluate(x = features, y = label, batch_size=batch_size)"
   ]
  },
  {
   "cell_type": "code",
   "execution_count": 20,
   "metadata": {},
   "outputs": [
    {
     "name": "stdout",
     "output_type": "stream",
     "text": [
      "Epoch 1/20\n",
      "WARNING:tensorflow:Layers in a Sequential model should only have a single input tensor, but we receive a <class 'dict'> input: {'longitude': <tf.Tensor 'ExpandDims_3:0' shape=(100, 1) dtype=float32>, 'latitude': <tf.Tensor 'ExpandDims_2:0' shape=(100, 1) dtype=float32>, 'housing_median_age': <tf.Tensor 'ExpandDims_1:0' shape=(100, 1) dtype=float32>, 'total_rooms': <tf.Tensor 'ExpandDims_8:0' shape=(100, 1) dtype=float32>, 'total_bedrooms': <tf.Tensor 'ExpandDims_7:0' shape=(100, 1) dtype=float32>, 'population': <tf.Tensor 'ExpandDims_6:0' shape=(100, 1) dtype=float32>, 'households': <tf.Tensor 'ExpandDims:0' shape=(100, 1) dtype=float32>, 'median_income': <tf.Tensor 'ExpandDims_5:0' shape=(100, 1) dtype=float32>, 'median_house_value': <tf.Tensor 'ExpandDims_4:0' shape=(100, 1) dtype=float32>}\n",
      "Consider rewriting this model with the Functional API.\n",
      "WARNING:tensorflow:Layers in a Sequential model should only have a single input tensor, but we receive a <class 'dict'> input: {'longitude': <tf.Tensor 'ExpandDims_3:0' shape=(100, 1) dtype=float32>, 'latitude': <tf.Tensor 'ExpandDims_2:0' shape=(100, 1) dtype=float32>, 'housing_median_age': <tf.Tensor 'ExpandDims_1:0' shape=(100, 1) dtype=float32>, 'total_rooms': <tf.Tensor 'ExpandDims_8:0' shape=(100, 1) dtype=float32>, 'total_bedrooms': <tf.Tensor 'ExpandDims_7:0' shape=(100, 1) dtype=float32>, 'population': <tf.Tensor 'ExpandDims_6:0' shape=(100, 1) dtype=float32>, 'households': <tf.Tensor 'ExpandDims:0' shape=(100, 1) dtype=float32>, 'median_income': <tf.Tensor 'ExpandDims_5:0' shape=(100, 1) dtype=float32>, 'median_house_value': <tf.Tensor 'ExpandDims_4:0' shape=(100, 1) dtype=float32>}\n",
      "Consider rewriting this model with the Functional API.\n",
      "170/170 [==============================] - 0s 531us/step - loss: 0.5919 - accuracy: 0.5059 - precision: 0.2391 - recall: 0.9276\n",
      "Epoch 2/20\n",
      "170/170 [==============================] - 0s 533us/step - loss: 0.5350 - accuracy: 0.5594 - precision: 0.2573 - recall: 0.8999\n",
      "Epoch 3/20\n",
      "170/170 [==============================] - 0s 514us/step - loss: 0.4868 - accuracy: 0.6178 - precision: 0.2822 - recall: 0.8682\n",
      "Epoch 4/20\n",
      "170/170 [==============================] - 0s 547us/step - loss: 0.4469 - accuracy: 0.6771 - precision: 0.3138 - recall: 0.8236\n",
      "Epoch 5/20\n",
      "170/170 [==============================] - 0s 557us/step - loss: 0.4146 - accuracy: 0.7288 - precision: 0.3506 - recall: 0.7749\n",
      "Epoch 6/20\n",
      "170/170 [==============================] - 0s 543us/step - loss: 0.3884 - accuracy: 0.7705 - precision: 0.3913 - recall: 0.7292\n",
      "Epoch 7/20\n",
      "170/170 [==============================] - 0s 627us/step - loss: 0.3673 - accuracy: 0.8018 - precision: 0.4326 - recall: 0.6849\n",
      "Epoch 8/20\n",
      "170/170 [==============================] - 0s 711us/step - loss: 0.3505 - accuracy: 0.8244 - precision: 0.4725 - recall: 0.6464\n",
      "Epoch 9/20\n",
      "170/170 [==============================] - 0s 702us/step - loss: 0.3379 - accuracy: 0.8416 - precision: 0.5127 - recall: 0.6165\n",
      "Epoch 10/20\n",
      "170/170 [==============================] - 0s 551us/step - loss: 0.3285 - accuracy: 0.8560 - precision: 0.5566 - recall: 0.5823\n",
      "Epoch 11/20\n",
      "170/170 [==============================] - 0s 728us/step - loss: 0.3222 - accuracy: 0.8631 - precision: 0.5854 - recall: 0.5553\n",
      "Epoch 12/20\n",
      "170/170 [==============================] - 0s 724us/step - loss: 0.3181 - accuracy: 0.8678 - precision: 0.6076 - recall: 0.5387\n",
      "Epoch 13/20\n",
      "170/170 [==============================] - 0s 692us/step - loss: 0.3157 - accuracy: 0.8716 - precision: 0.6266 - recall: 0.5293\n",
      "Epoch 14/20\n",
      "170/170 [==============================] - 0s 581us/step - loss: 0.3144 - accuracy: 0.8732 - precision: 0.6359 - recall: 0.5239\n",
      "Epoch 15/20\n",
      "170/170 [==============================] - 0s 741us/step - loss: 0.3136 - accuracy: 0.8740 - precision: 0.6408 - recall: 0.5203\n",
      "Epoch 16/20\n",
      "170/170 [==============================] - 0s 727us/step - loss: 0.3132 - accuracy: 0.8740 - precision: 0.6407 - recall: 0.5207\n",
      "Epoch 17/20\n",
      "170/170 [==============================] - 0s 556us/step - loss: 0.3129 - accuracy: 0.8739 - precision: 0.6406 - recall: 0.5193\n",
      "Epoch 18/20\n",
      "170/170 [==============================] - 0s 764us/step - loss: 0.3127 - accuracy: 0.8745 - precision: 0.6433 - recall: 0.5196\n",
      "Epoch 19/20\n",
      "170/170 [==============================] - 0s 733us/step - loss: 0.3127 - accuracy: 0.8740 - precision: 0.6414 - recall: 0.5185\n",
      "Epoch 20/20\n",
      "170/170 [==============================] - 0s 541us/step - loss: 0.3126 - accuracy: 0.8739 - precision: 0.6401 - recall: 0.5207\n"
     ]
    },
    {
     "data": {
      "image/png": "[encoded data removed]",
      "text/plain": [
       "<Figure size 432x288 with 1 Axes>"
      ]
     },
     "metadata": {
      "needs_background": "light"
     },
     "output_type": "display_data"
    }
   ],
   "source": [
    "# The following variables are the hyperparameters.\n",
    "learning_rate = 0.001\n",
    "epochs = 20\n",
    "batch_size = 100\n",
    "classification_threshold = 0.35\n",
    "label_name = \"median_house_value_is_high\"\n",
    "\n",
    "# Here is the updated definition of METRICS:\n",
    "METRICS = [\n",
    "      tf.keras.metrics.BinaryAccuracy(name='accuracy', \n",
    "                                      threshold=classification_threshold),\n",
    "      tf.keras.metrics.Precision(thresholds=classification_threshold,\n",
    "                                 name='precision' \n",
    "                                 ),\n",
    "      tf.keras.metrics.Recall(thresholds=classification_threshold,\n",
    "                              name=\"recall\"),\n",
    "]\n",
    "\n",
    "# Establish the model's topography.\n",
    "my_model = create_model(learning_rate, feature_layer, METRICS)\n",
    "\n",
    "# Train the model on the training set.\n",
    "epochs, hist = train_model(my_model, train_df_norm, epochs, \n",
    "                           label_name, batch_size)\n",
    "\n",
    "# Plot metrics vs. epochs\n",
    "list_of_metrics_to_plot = ['accuracy', \"precision\", \"recall\"] \n",
    "plot_curve(epochs, hist, list_of_metrics_to_plot)\n",
    "\n",
    "\n",
    "# The new graphs suggest that precision and recall are \n",
    "# somewhat in conflict. That is, improvements to one of\n",
    "# those metrics may hurt the other metric."
   ]
  },
  {
   "cell_type": "code",
   "execution_count": 21,
   "metadata": {},
   "outputs": [
    {
     "name": "stdout",
     "output_type": "stream",
     "text": [
      "Epoch 1/20\n",
      "WARNING:tensorflow:Layers in a Sequential model should only have a single input tensor, but we receive a <class 'dict'> input: {'longitude': <tf.Tensor 'ExpandDims_3:0' shape=(100, 1) dtype=float32>, 'latitude': <tf.Tensor 'ExpandDims_2:0' shape=(100, 1) dtype=float32>, 'housing_median_age': <tf.Tensor 'ExpandDims_1:0' shape=(100, 1) dtype=float32>, 'total_rooms': <tf.Tensor 'ExpandDims_8:0' shape=(100, 1) dtype=float32>, 'total_bedrooms': <tf.Tensor 'ExpandDims_7:0' shape=(100, 1) dtype=float32>, 'population': <tf.Tensor 'ExpandDims_6:0' shape=(100, 1) dtype=float32>, 'households': <tf.Tensor 'ExpandDims:0' shape=(100, 1) dtype=float32>, 'median_income': <tf.Tensor 'ExpandDims_5:0' shape=(100, 1) dtype=float32>, 'median_house_value': <tf.Tensor 'ExpandDims_4:0' shape=(100, 1) dtype=float32>}\n",
      "Consider rewriting this model with the Functional API.\n",
      "WARNING:tensorflow:Layers in a Sequential model should only have a single input tensor, but we receive a <class 'dict'> input: {'longitude': <tf.Tensor 'ExpandDims_3:0' shape=(100, 1) dtype=float32>, 'latitude': <tf.Tensor 'ExpandDims_2:0' shape=(100, 1) dtype=float32>, 'housing_median_age': <tf.Tensor 'ExpandDims_1:0' shape=(100, 1) dtype=float32>, 'total_rooms': <tf.Tensor 'ExpandDims_8:0' shape=(100, 1) dtype=float32>, 'total_bedrooms': <tf.Tensor 'ExpandDims_7:0' shape=(100, 1) dtype=float32>, 'population': <tf.Tensor 'ExpandDims_6:0' shape=(100, 1) dtype=float32>, 'households': <tf.Tensor 'ExpandDims:0' shape=(100, 1) dtype=float32>, 'median_income': <tf.Tensor 'ExpandDims_5:0' shape=(100, 1) dtype=float32>, 'median_house_value': <tf.Tensor 'ExpandDims_4:0' shape=(100, 1) dtype=float32>}\n",
      "Consider rewriting this model with the Functional API.\n",
      "170/170 [==============================] - 0s 552us/step - loss: 1.1986 - accuracy: 0.3518 - precision: 0.0543 - recall: 0.1808\n",
      "Epoch 2/20\n",
      "170/170 [==============================] - 0s 557us/step - loss: 1.0449 - accuracy: 0.4031 - precision: 0.0479 - recall: 0.1404\n",
      "Epoch 3/20\n",
      "170/170 [==============================] - 0s 543us/step - loss: 0.9067 - accuracy: 0.4761 - precision: 0.0390 - recall: 0.0933\n",
      "Epoch 4/20\n",
      "170/170 [==============================] - 0s 547us/step - loss: 0.7831 - accuracy: 0.5925 - precision: 0.0324 - recall: 0.0519\n",
      "Epoch 5/20\n",
      "170/170 [==============================] - 0s 542us/step - loss: 0.6771 - accuracy: 0.7538 - precision: 0.0313 - recall: 0.0169\n",
      "Epoch 6/20\n",
      "170/170 [==============================] - 0s 738us/step - loss: 0.5886 - accuracy: 0.8335 - precision: 0.0781 - recall: 0.0018\n",
      "Epoch 7/20\n",
      "170/170 [==============================] - 0s 689us/step - loss: 0.5182 - accuracy: 0.8366 - precision: 0.0000e+00 - recall: 0.0000e+00\n",
      "Epoch 8/20\n",
      "170/170 [==============================] - 0s 637us/step - loss: 0.4635 - accuracy: 0.8366 - precision: 0.0000e+00 - recall: 0.0000e+00\n",
      "Epoch 9/20\n",
      "170/170 [==============================] - 0s 704us/step - loss: 0.4228 - accuracy: 0.8366 - precision: 0.0000e+00 - recall: 0.0000e+00\n",
      "Epoch 10/20\n",
      "170/170 [==============================] - 0s 661us/step - loss: 0.3930 - accuracy: 0.8402 - precision: 0.9841 - recall: 0.0223\n",
      "Epoch 11/20\n",
      "170/170 [==============================] - 0s 657us/step - loss: 0.3705 - accuracy: 0.8481 - precision: 0.9802 - recall: 0.0713\n",
      "Epoch 12/20\n",
      "170/170 [==============================] - 0s 704us/step - loss: 0.3535 - accuracy: 0.8562 - precision: 0.9716 - recall: 0.1232\n",
      "Epoch 13/20\n",
      "170/170 [==============================] - 0s 726us/step - loss: 0.3402 - accuracy: 0.8645 - precision: 0.9574 - recall: 0.1782\n",
      "Epoch 14/20\n",
      "170/170 [==============================] - 0s 601us/step - loss: 0.3308 - accuracy: 0.8740 - precision: 0.9379 - recall: 0.2449\n",
      "Epoch 15/20\n",
      "170/170 [==============================] - 0s 719us/step - loss: 0.3240 - accuracy: 0.8781 - precision: 0.9046 - recall: 0.2834\n",
      "Epoch 16/20\n",
      "170/170 [==============================] - 0s 709us/step - loss: 0.3193 - accuracy: 0.8808 - precision: 0.8750 - recall: 0.3151\n",
      "Epoch 17/20\n",
      "170/170 [==============================] - 0s 680us/step - loss: 0.3165 - accuracy: 0.8831 - precision: 0.8583 - recall: 0.3403\n",
      "Epoch 18/20\n",
      "170/170 [==============================] - 0s 586us/step - loss: 0.3149 - accuracy: 0.8835 - precision: 0.8511 - recall: 0.3479\n",
      "Epoch 19/20\n",
      "170/170 [==============================] - 0s 536us/step - loss: 0.3139 - accuracy: 0.8836 - precision: 0.8299 - recall: 0.3619\n",
      "Epoch 20/20\n",
      "170/170 [==============================] - 0s 520us/step - loss: 0.3134 - accuracy: 0.8839 - precision: 0.8206 - recall: 0.3705\n"
     ]
    },
    {
     "data": {
      "image/png": "[encoded data removed]",
      "text/plain": [
       "<Figure size 432x288 with 1 Axes>"
      ]
     },
     "metadata": {
      "needs_background": "light"
     },
     "output_type": "display_data"
    }
   ],
   "source": [
    "# The following variables are the hyperparameters.\n",
    "learning_rate = 0.001\n",
    "epochs = 20\n",
    "batch_size = 100\n",
    "classification_threshold = 0.52\n",
    "label_name = \"median_house_value_is_high\"\n",
    "\n",
    "# Here is the updated definition of METRICS:\n",
    "METRICS = [\n",
    "      tf.keras.metrics.BinaryAccuracy(name='accuracy', \n",
    "                                      threshold=classification_threshold),\n",
    "      tf.keras.metrics.Precision(thresholds=classification_threshold,\n",
    "                                 name='precision' \n",
    "                                 ),\n",
    "      tf.keras.metrics.Recall(thresholds=classification_threshold,\n",
    "                              name=\"recall\"),\n",
    "]\n",
    "\n",
    "# Establish the model's topography.\n",
    "my_model = create_model(learning_rate, feature_layer, METRICS)\n",
    "\n",
    "# Train the model on the training set.\n",
    "epochs, hist = train_model(my_model, train_df_norm, epochs, \n",
    "                           label_name, batch_size)\n",
    "\n",
    "# Plot metrics vs. epochs\n",
    "list_of_metrics_to_plot = ['accuracy', \"precision\", \"recall\"] \n",
    "plot_curve(epochs, hist, list_of_metrics_to_plot)\n",
    "\n",
    "# A `classification_threshold` of slightly over 0.5\n",
    "# appears to produce the highest accuracy (about 83%).\n",
    "# Raising the `classification_threshold` to 0.9 drops \n",
    "# accuracy by about 5%.  Lowering the \n",
    "# `classification_threshold` to 0.3 drops accuracy by \n",
    "# about 3%. "
   ]
  },
  {
   "cell_type": "code",
   "execution_count": 22,
   "metadata": {},
   "outputs": [
    {
     "name": "stdout",
     "output_type": "stream",
     "text": [
      "Epoch 1/20\n",
      "WARNING:tensorflow:Layers in a Sequential model should only have a single input tensor, but we receive a <class 'dict'> input: {'longitude': <tf.Tensor 'ExpandDims_3:0' shape=(100, 1) dtype=float32>, 'latitude': <tf.Tensor 'ExpandDims_2:0' shape=(100, 1) dtype=float32>, 'housing_median_age': <tf.Tensor 'ExpandDims_1:0' shape=(100, 1) dtype=float32>, 'total_rooms': <tf.Tensor 'ExpandDims_8:0' shape=(100, 1) dtype=float32>, 'total_bedrooms': <tf.Tensor 'ExpandDims_7:0' shape=(100, 1) dtype=float32>, 'population': <tf.Tensor 'ExpandDims_6:0' shape=(100, 1) dtype=float32>, 'households': <tf.Tensor 'ExpandDims:0' shape=(100, 1) dtype=float32>, 'median_income': <tf.Tensor 'ExpandDims_5:0' shape=(100, 1) dtype=float32>, 'median_house_value': <tf.Tensor 'ExpandDims_4:0' shape=(100, 1) dtype=float32>}\n",
      "Consider rewriting this model with the Functional API.\n",
      "WARNING:tensorflow:Layers in a Sequential model should only have a single input tensor, but we receive a <class 'dict'> input: {'longitude': <tf.Tensor 'ExpandDims_3:0' shape=(100, 1) dtype=float32>, 'latitude': <tf.Tensor 'ExpandDims_2:0' shape=(100, 1) dtype=float32>, 'housing_median_age': <tf.Tensor 'ExpandDims_1:0' shape=(100, 1) dtype=float32>, 'total_rooms': <tf.Tensor 'ExpandDims_8:0' shape=(100, 1) dtype=float32>, 'total_bedrooms': <tf.Tensor 'ExpandDims_7:0' shape=(100, 1) dtype=float32>, 'population': <tf.Tensor 'ExpandDims_6:0' shape=(100, 1) dtype=float32>, 'households': <tf.Tensor 'ExpandDims:0' shape=(100, 1) dtype=float32>, 'median_income': <tf.Tensor 'ExpandDims_5:0' shape=(100, 1) dtype=float32>, 'median_house_value': <tf.Tensor 'ExpandDims_4:0' shape=(100, 1) dtype=float32>}\n",
      "Consider rewriting this model with the Functional API.\n",
      "170/170 [==============================] - 0s 495us/step - loss: 0.6141 - auc: 0.7856\n",
      "Epoch 2/20\n",
      "170/170 [==============================] - 0s 534us/step - loss: 0.5450 - auc: 0.8105\n",
      "Epoch 3/20\n",
      "170/170 [==============================] - 0s 554us/step - loss: 0.4908 - auc: 0.8258\n",
      "Epoch 4/20\n",
      "170/170 [==============================] - 0s 572us/step - loss: 0.4486 - auc: 0.8337\n",
      "Epoch 5/20\n",
      "170/170 [==============================] - 0s 491us/step - loss: 0.4150 - auc: 0.8379\n",
      "Epoch 6/20\n",
      "170/170 [==============================] - 0s 495us/step - loss: 0.3885 - auc: 0.8398\n",
      "Epoch 7/20\n",
      "170/170 [==============================] - 0s 537us/step - loss: 0.3674 - auc: 0.8392\n",
      "Epoch 8/20\n",
      "170/170 [==============================] - 0s 531us/step - loss: 0.3502 - auc: 0.8401\n",
      "Epoch 9/20\n",
      "170/170 [==============================] - 0s 553us/step - loss: 0.3376 - auc: 0.8394\n",
      "Epoch 10/20\n",
      "170/170 [==============================] - 0s 536us/step - loss: 0.3284 - auc: 0.8395\n",
      "Epoch 11/20\n",
      "170/170 [==============================] - 0s 499us/step - loss: 0.3221 - auc: 0.8396\n",
      "Epoch 12/20\n",
      "170/170 [==============================] - 0s 509us/step - loss: 0.3181 - auc: 0.8394\n",
      "Epoch 13/20\n",
      "170/170 [==============================] - 0s 497us/step - loss: 0.3158 - auc: 0.8394\n",
      "Epoch 14/20\n",
      "170/170 [==============================] - 0s 510us/step - loss: 0.3145 - auc: 0.8396\n",
      "Epoch 15/20\n",
      "170/170 [==============================] - 0s 529us/step - loss: 0.3136 - auc: 0.8395\n",
      "Epoch 16/20\n",
      "170/170 [==============================] - 0s 539us/step - loss: 0.3132 - auc: 0.8396\n",
      "Epoch 17/20\n",
      "170/170 [==============================] - 0s 576us/step - loss: 0.3129 - auc: 0.8395\n",
      "Epoch 18/20\n",
      "170/170 [==============================] - 0s 708us/step - loss: 0.3128 - auc: 0.8395\n",
      "Epoch 19/20\n",
      "170/170 [==============================] - 0s 661us/step - loss: 0.3127 - auc: 0.8396\n",
      "Epoch 20/20\n",
      "170/170 [==============================] - 0s 505us/step - loss: 0.3126 - auc: 0.8396\n"
     ]
    },
    {
     "data": {
      "image/png": "[encoded data removed]",
      "text/plain": [
       "<Figure size 432x288 with 1 Axes>"
      ]
     },
     "metadata": {
      "needs_background": "light"
     },
     "output_type": "display_data"
    }
   ],
   "source": [
    "# The following variables are the hyperparameters.\n",
    "learning_rate = 0.001\n",
    "epochs = 20\n",
    "batch_size = 100\n",
    "label_name = \"median_house_value_is_high\"\n",
    "\n",
    "# AUC is a reasonable \"summary\" metric for \n",
    "# classification models.\n",
    "# Here is the updated definition of METRICS to \n",
    "# measure AUC:\n",
    "METRICS = [\n",
    "      tf.keras.metrics.AUC(num_thresholds=100, name='auc'),\n",
    "]\n",
    "\n",
    "# Establish the model's topography.\n",
    "my_model = create_model(learning_rate, feature_layer, METRICS)\n",
    "\n",
    "# Train the model on the training set.\n",
    "epochs, hist = train_model(my_model, train_df_norm, epochs, \n",
    "                           label_name, batch_size)\n",
    "\n",
    "# Plot metrics vs. epochs\n",
    "list_of_metrics_to_plot = ['auc'] \n",
    "plot_curve(epochs, hist, list_of_metrics_to_plot)"
   ]
  },
  {
   "cell_type": "code",
   "execution_count": null,
   "metadata": {},
   "outputs": [],
   "source": []
  }
 ],
 "metadata": {
  "kernelspec": {
   "display_name": "Python 3",
   "language": "python",
   "name": "python3"
  },
  "language_info": {
   "codemirror_mode": {
    "name": "ipython",
    "version": 3
   },
   "file_extension": ".py",
   "mimetype": "text/x-python",
   "name": "python",
   "nbconvert_exporter": "python",
   "pygments_lexer": "ipython3",
   "version": "3.8.5"
  }
 },
 "nbformat": 4,
 "nbformat_minor": 4
}
