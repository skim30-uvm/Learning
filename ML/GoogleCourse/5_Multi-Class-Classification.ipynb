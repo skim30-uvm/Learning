{
 "cells": [
  {
   "cell_type": "markdown",
   "metadata": {},
   "source": [
    "# Copyright 2020 Google LLC. Double-click here for license information.\n",
    "Licensed under the Apache License, Version 2.0 (the \"License\");\n",
    "you may not use this file except in compliance with the License.\n",
    "You may obtain a copy of the License at\n",
    "\n",
    "https://www.apache.org/licenses/LICENSE-2.0\n",
    "\n",
    "Unless required by applicable law or agreed to in writing, software\n",
    "distributed under the License is distributed on an \"AS IS\" BASIS,\n",
    "WITHOUT WARRANTIES OR CONDITIONS OF ANY KIND, either express or implied.\n",
    "See the License for the specific language governing permissions and\n",
    "limitations under the License.\n",
    "\n",
    "Yann LeCun and Corinna Cortes hold the copyright of MNIST dataset,\n",
    "which is a derivative work from original NIST datasets. \n",
    "MNIST dataset is made available under the terms of the \n",
    "Creative Commons Attribution-Share Alike 3.0 license."
   ]
  },
  {
   "cell_type": "markdown",
   "metadata": {},
   "source": [
    "Learning Objectives:\n",
    "After doing this Colab, you'll know how to do the following:\n",
    "\n",
    "Understand the classic MNIST problem.\n",
    "Create a deep neural network that performs multi-class classification.\n",
    "Tune the deep neural network.\n",
    "This exercise introduces image classification with machine learning."
   ]
  },
  {
   "cell_type": "markdown",
   "metadata": {},
   "source": [
    "The Dataset\n",
    "This MNIST dataset contains a lot of examples:\n",
    "\n",
    "The MNIST training set contains 60,000 examples.\n",
    "The MNIST test set contains 10,000 examples.\n",
    "Each example contains a pixel map showing how a person wrote a digit.\n",
    "\n",
    "Each example in the MNIST dataset consists of:\n",
    "\n",
    "A label specified by a rater. Each label must be an integer from 0 to 9. For example, in the preceding image, the rater would almost certainly assign the label 1 to the example.\n",
    "A 28x28 pixel map, where each pixel is an integer between 0 and 255. The pixel values are on a gray scale in which 0 represents white, 255 represents black, and values between 0 and 255 represent various shades of gray.\n",
    "This is a multi-class classification problem with 10 output classes, one for each digit."
   ]
  },
  {
   "cell_type": "code",
   "execution_count": 1,
   "metadata": {},
   "outputs": [],
   "source": [
    "# Import relevant modules\n",
    "import numpy as np\n",
    "import pandas as pd\n",
    "import tensorflow as tf\n",
    "from tensorflow.keras import layers\n",
    "from matplotlib import pyplot as plt\n",
    "\n",
    "# The following lines adjust the granularity of reporting. \n",
    "pd.options.display.max_rows = 10\n",
    "pd.options.display.float_format = \"{:.1f}\".format\n",
    "\n",
    "# The following line improves formatting when ouputting NumPy arrays.\n",
    "np.set_printoptions(linewidth = 200)"
   ]
  },
  {
   "cell_type": "code",
   "execution_count": 2,
   "metadata": {},
   "outputs": [
    {
     "name": "stdout",
     "output_type": "stream",
     "text": [
      "2.6.0\n"
     ]
    }
   ],
   "source": [
    "print(tf.__version__)"
   ]
  },
  {
   "cell_type": "markdown",
   "metadata": {},
   "source": [
    "Load the dataset\n",
    "tf.keras provides a set of convenience functions for loading well-known datasets. Each of these convenience functions does the following:\n",
    "\n",
    "Loads both the training set and the test set.\n",
    "Separates each set into features and labels.\n",
    "The relevant convenience function for MNIST is called mnist.load_data():"
   ]
  },
  {
   "cell_type": "code",
   "execution_count": 3,
   "metadata": {},
   "outputs": [],
   "source": [
    "(x_train, y_train),(x_test, y_test) = tf.keras.datasets.mnist.load_data()"
   ]
  },
  {
   "cell_type": "code",
   "execution_count": 4,
   "metadata": {},
   "outputs": [
    {
     "data": {
      "text/plain": [
       "array([[  0,   0,   0,   0,   0,   0,   0,   0,   0,   0,   0,   0,   0,   0,   0,   0,   0,   0,   0,   0,   0,   0,   0,   0,   0,   0,   0,   0],\n",
       "       [  0,   0,   0,   0,   0,   0,   0,   0,   0,   0,   0,   0,   0,   0,   0,   0,   0,   0,   0,   0,   0,   0,   0,   0,   0,   0,   0,   0],\n",
       "       [  0,   0,   0,   0,   0,   0,   0,   0,   0,   0,   0,   0,   0,   0,   0,   0,   0,   0,   0,   0,   0,   0,   0,   0,   0,   0,   0,   0],\n",
       "       [  0,   0,   0,   0,   0,   0,   0,   0,   0,   0,   0,   0,   0,   0,   0,   0,   0,   0,   0,   0,   0,   0,   0,   0,   0,   0,   0,   0],\n",
       "       [  0,   0,   0,   0,   0,   0,   0,   0,   0,   0,   0,   0,   0,   0,   0,   0,   0,   0,   0,   0,   0,   0,   0,   0,   0,   0,   0,   0],\n",
       "       [  0,   0,   0,   0,   0,   0,   0,   0,   0,   0,   0,   0,   0,   0,   0,   0,   0,   0,   0,   0,   0,   0,   0,   0,   0,   0,   0,   0],\n",
       "       [  0,   0,   0,   0,   0,   0,   0,   0, 127, 100, 156, 239, 224, 177, 213, 159,  70,  13,   0,   0,   0,   0,   0,   0,   0,   0,   0,   0],\n",
       "       [  0,   0,   0,   0,   0,   0,   0, 110, 250, 254, 254, 254, 254, 254, 254, 254, 254, 184,  10,   0,   0,   0,   0,   0,   0,   0,   0,   0],\n",
       "       [  0,   0,   0,   0,   0,   0,   0, 216, 254, 254, 254, 254, 254, 254, 254, 254, 254, 251,  54,   0,   0,   0,   0,   0,   0,   0,   0,   0],\n",
       "       [  0,   0,   0,   0,   0,   0,   0,   3, 131, 197,  68, 137, 101,  83,  41,  70, 221, 254, 108,   0,   0,   0,   0,   0,   0,   0,   0,   0],\n",
       "       [  0,   0,   0,   0,   0,   0,   0,   0,   0,   0,   0,   0,   0,   0,   0,   0,  58, 254, 216,  11,   0,   0,   0,   0,   0,   0,   0,   0],\n",
       "       [  0,   0,   0,   0,   0,   0,   0,   0,   0,   0,   0,   0,   0,   0,   0,   0, 110, 254, 254,  24,   0,   0,   0,   0,   0,   0,   0,   0],\n",
       "       [  0,   0,   0,   0,   0,   0,   0,   0,   0,   0,   0,   0,   0,   0,   4,  83, 247, 254, 192,  10,   0,   0,   0,   0,   0,   0,   0,   0],\n",
       "       [  0,   0,   0,   0,   0,   0,   0,   0,   0,   0,   0,   0,   0,  37, 124, 254, 254, 250,  47,   0,   0,   0,   0,   0,   0,   0,   0,   0],\n",
       "       [  0,   0,   0,   0,   0,   0,   0,   0,   0,   0,   0, 113, 178, 250, 254, 254, 254, 252, 178, 128,  50,   0,   0,   0,   0,   0,   0,   0],\n",
       "       [  0,   0,   0,   0,   0,   0,   0,   0,   0,   0,  69, 252, 254, 254, 254, 254, 254, 254, 254, 254, 153,   0,   0,   0,   0,   0,   0,   0],\n",
       "       [  0,   0,   0,   0,   0,   0,   0,   0,   0,   0, 141, 252, 254, 241, 241, 254, 247, 252, 254, 254, 153,   0,   0,   0,   0,   0,   0,   0],\n",
       "       [  0,   0,   0,   0,   0,   0,   0,   0,   0,   0,   0,  68,  82,   5,   5,  82,  37,  65, 167, 254, 190,   0,   0,   0,   0,   0,   0,   0],\n",
       "       [  0,   0,   0,   0,   0,   0,   0,   0,   0,   0,   0,   0,   0,   0,   0,   0,   0,   0, 162, 254, 153,   0,   0,   0,   0,   0,   0,   0],\n",
       "       [  0,   0,   0,   0,   0,   0,   0,   0,   0,   0,   0,   0,   0,   0,   0,   0,   0,   1, 172, 253,  75,   0,   0,   0,   0,   0,   0,   0],\n",
       "       [  0,   0,   0,   0,   0,   0,   0,   0,   0,   0,   0,   0,   0,   0,   0,   0,   0, 102, 254, 152,   0,   0,   0,   0,   0,   0,   0,   0],\n",
       "       [  0,   0,   0,   0,   0,   0,   0,   0,   0,   0,   0,   0,   0,   0,   0,   0,  38, 230, 216,  20,   0,   0,   0,   0,   0,   0,   0,   0],\n",
       "       [  0,   0,   0,   0,   0,   0,   0,   0,   0,   0,   0,   0,   0,   0,   1,  71, 222, 254, 142,   0,   0,   0,   0,   0,   0,   0,   0,   0],\n",
       "       [  0,   0,   0,   0,   0,   0,   0,   0,   0,   0,   0,   0,   0,   0,  66, 254, 254, 157,   0,   0,   0,   0,   0,   0,   0,   0,   0,   0],\n",
       "       [  0,   0,   0,   0,   0,   0,   0,   0,   4,  34,  34,  78, 161, 226, 249, 254, 154,   6,   0,   0,   0,   0,   0,   0,   0,   0,   0,   0],\n",
       "       [  0,   0,   0,   0,   0,   0,   0,  96, 184, 254, 254, 254, 254, 254, 249,  93,   5,   0,   0,   0,   0,   0,   0,   0,   0,   0,   0,   0],\n",
       "       [  0,   0,   0,   0,   0,   0,   0,   0,   0,   0,   0,   0,   0,   0,   0,   0,   0,   0,   0,   0,   0,   0,   0,   0,   0,   0,   0,   0],\n",
       "       [  0,   0,   0,   0,   0,   0,   0,   0,   0,   0,   0,   0,   0,   0,   0,   0,   0,   0,   0,   0,   0,   0,   0,   0,   0,   0,   0,   0]], dtype=uint8)"
      ]
     },
     "execution_count": 4,
     "metadata": {},
     "output_type": "execute_result"
    }
   ],
   "source": [
    "# Output example #2917 of the training set.\n",
    "x_train[2917]"
   ]
  },
  {
   "cell_type": "code",
   "execution_count": 5,
   "metadata": {},
   "outputs": [
    {
     "data": {
      "text/plain": [
       "<matplotlib.image.AxesImage at 0x7fa8d3517b80>"
      ]
     },
     "execution_count": 5,
     "metadata": {},
     "output_type": "execute_result"
    },
    {
     "data": {
      "image/png": "[encoded data removed]",
      "text/plain": [
       "<Figure size 432x288 with 1 Axes>"
      ]
     },
     "metadata": {
      "needs_background": "light"
     },
     "output_type": "display_data"
    }
   ],
   "source": [
    "# Alternatively, you can call matplotlib.pyplot.imshow to interpret the preceding numeric array as an image.\n",
    "# Use false colors to visualize the array.\n",
    "plt.imshow(x_train[2917])"
   ]
  },
  {
   "cell_type": "code",
   "execution_count": 6,
   "metadata": {},
   "outputs": [],
   "source": [
    "# map each feature value from its current representation (an integer between 0 and 255) \n",
    "#to a floating-point value between 0 and 1.0.\n",
    "x_train_normalized = x_train / 255.0\n",
    "x_test_normalized = x_test / 255.0"
   ]
  },
  {
   "cell_type": "code",
   "execution_count": 8,
   "metadata": {},
   "outputs": [
    {
     "name": "stdout",
     "output_type": "stream",
     "text": [
      "Loaded the plot_curve function.\n"
     ]
    }
   ],
   "source": [
    "# Define the plotting function\n",
    "def plot_curve(epochs, hist, list_of_metrics):\n",
    "    \"\"\"Plot a curve of one or more classification metrics vs. epoch.\"\"\"  \n",
    "    # list_of_metrics should be one of the names shown in:\n",
    "    # https://www.tensorflow.org/tutorials/structured_data/imbalanced_data#define_the_model_and_metrics  \n",
    "\n",
    "    plt.figure()\n",
    "    plt.xlabel(\"Epoch\")\n",
    "    plt.ylabel(\"Value\")\n",
    "\n",
    "    for m in list_of_metrics:\n",
    "        x = hist[m]\n",
    "        plt.plot(epochs[1:], x[1:], label=m)\n",
    "\n",
    "    plt.legend()\n",
    "\n",
    "print(\"Loaded the plot_curve function.\")"
   ]
  },
  {
   "cell_type": "markdown",
   "metadata": {},
   "source": [
    "The create_model function defines the topography of the deep neural net, specifying the following:\n",
    "\n",
    "The number of layers in the deep neural net.\n",
    "The number of nodes in each layer.\n",
    "Any regularization layers.\n",
    "The create_model function also defines the activation function of each layer. The activation function of the output layer is softmax, which will yield 10 different outputs for each example. Each of the 10 outputs provides the probability that the input example is a certain digit."
   ]
  },
  {
   "cell_type": "code",
   "execution_count": 13,
   "metadata": {},
   "outputs": [],
   "source": [
    "def create_model(my_learning_rate):\n",
    "    \"\"\"Create and compile a deep neural net.\"\"\"\n",
    "\n",
    "    # All models in this course are sequential.\n",
    "    model = tf.keras.models.Sequential()\n",
    "\n",
    "    # The features are stored in a two-dimensional 28X28 array. \n",
    "    # Flatten that two-dimensional array into a a one-dimensional \n",
    "    # 784-element array.\n",
    "    model.add(tf.keras.layers.Flatten(input_shape=(28, 28)))\n",
    "\n",
    "    # Define the first hidden layer.   \n",
    "    model.add(tf.keras.layers.Dense(units=256, activation='relu'))\n",
    "    \n",
    "    # Define the second hidden layer?   \n",
    "    model.add(tf.keras.layers.Dense(units=128, activation='relu'))\n",
    "\n",
    "    # Define a dropout regularization layer. \n",
    "    model.add(tf.keras.layers.Dropout(rate=0.3))\n",
    "\n",
    "    # Define the output layer. The units parameter is set to 10 because\n",
    "    # the model must choose among 10 possible output values (representing\n",
    "    # the digits from 0 to 9, inclusive).\n",
    "    #\n",
    "    # Don't change this layer.\n",
    "    model.add(tf.keras.layers.Dense(units=10, activation='softmax'))     \n",
    "\n",
    "    # Construct the layers into a model that TensorFlow can execute.  \n",
    "    # Notice that the loss function for multi-class classification\n",
    "    # is different than the loss function for binary classification.  \n",
    "    model.compile(optimizer=tf.keras.optimizers.Adam(learning_rate=my_learning_rate),\n",
    "                loss=\"sparse_categorical_crossentropy\",\n",
    "                metrics=['accuracy'])\n",
    "\n",
    "    return model    \n",
    "\n",
    "\n",
    "def train_model(model, train_features, train_label, epochs,\n",
    "                batch_size=None, validation_split=0.1):\n",
    "    \"\"\"Train the model by feeding it data.\"\"\"\n",
    "\n",
    "    history = model.fit(x=train_features, y=train_label, batch_size=batch_size,\n",
    "                      epochs=epochs, shuffle=True, \n",
    "                      validation_split=validation_split)\n",
    "\n",
    "    # To track the progression of training, gather a snapshot\n",
    "    # of the model's metrics at each epoch. \n",
    "    epochs = history.epoch\n",
    "    hist = pd.DataFrame(history.history)\n",
    "\n",
    "    return epochs, hist    "
   ]
  },
  {
   "cell_type": "code",
   "execution_count": 14,
   "metadata": {},
   "outputs": [
    {
     "name": "stdout",
     "output_type": "stream",
     "text": [
      "Epoch 1/50\n",
      "12/12 [==============================] - 0s 19ms/step - loss: 1.0615 - accuracy: 0.6747 - val_loss: 0.3527 - val_accuracy: 0.8963\n",
      "Epoch 2/50\n",
      "12/12 [==============================] - 0s 14ms/step - loss: 0.3736 - accuracy: 0.8896 - val_loss: 0.2458 - val_accuracy: 0.9288\n",
      "Epoch 3/50\n",
      "12/12 [==============================] - 0s 14ms/step - loss: 0.2607 - accuracy: 0.9232 - val_loss: 0.1878 - val_accuracy: 0.9434\n",
      "Epoch 4/50\n",
      "12/12 [==============================] - 0s 13ms/step - loss: 0.1994 - accuracy: 0.9410 - val_loss: 0.1523 - val_accuracy: 0.9544\n",
      "Epoch 5/50\n",
      "12/12 [==============================] - 0s 14ms/step - loss: 0.1657 - accuracy: 0.9504 - val_loss: 0.1346 - val_accuracy: 0.9592\n",
      "Epoch 6/50\n",
      "12/12 [==============================] - 0s 15ms/step - loss: 0.1389 - accuracy: 0.9592 - val_loss: 0.1238 - val_accuracy: 0.9637\n",
      "Epoch 7/50\n",
      "12/12 [==============================] - 0s 15ms/step - loss: 0.1189 - accuracy: 0.9651 - val_loss: 0.1122 - val_accuracy: 0.9658\n",
      "Epoch 8/50\n",
      "12/12 [==============================] - 0s 14ms/step - loss: 0.1043 - accuracy: 0.9697 - val_loss: 0.1073 - val_accuracy: 0.9676\n",
      "Epoch 9/50\n",
      "12/12 [==============================] - 0s 14ms/step - loss: 0.0918 - accuracy: 0.9728 - val_loss: 0.1001 - val_accuracy: 0.9696\n",
      "Epoch 10/50\n",
      "12/12 [==============================] - 0s 13ms/step - loss: 0.0791 - accuracy: 0.9763 - val_loss: 0.0938 - val_accuracy: 0.9716\n",
      "Epoch 11/50\n",
      "12/12 [==============================] - 0s 13ms/step - loss: 0.0706 - accuracy: 0.9785 - val_loss: 0.0915 - val_accuracy: 0.9723\n",
      "Epoch 12/50\n",
      "12/12 [==============================] - 0s 14ms/step - loss: 0.0630 - accuracy: 0.9810 - val_loss: 0.0884 - val_accuracy: 0.9743\n",
      "Epoch 13/50\n",
      "12/12 [==============================] - 0s 15ms/step - loss: 0.0573 - accuracy: 0.9834 - val_loss: 0.0853 - val_accuracy: 0.9760\n",
      "Epoch 14/50\n",
      "12/12 [==============================] - 0s 15ms/step - loss: 0.0499 - accuracy: 0.9847 - val_loss: 0.0853 - val_accuracy: 0.9746\n",
      "Epoch 15/50\n",
      "12/12 [==============================] - 0s 15ms/step - loss: 0.0447 - accuracy: 0.9870 - val_loss: 0.0832 - val_accuracy: 0.9758\n",
      "Epoch 16/50\n",
      "12/12 [==============================] - 0s 14ms/step - loss: 0.0408 - accuracy: 0.9877 - val_loss: 0.0807 - val_accuracy: 0.9773\n",
      "Epoch 17/50\n",
      "12/12 [==============================] - 0s 14ms/step - loss: 0.0367 - accuracy: 0.9897 - val_loss: 0.0806 - val_accuracy: 0.9762\n",
      "Epoch 18/50\n",
      "12/12 [==============================] - 0s 16ms/step - loss: 0.0321 - accuracy: 0.9910 - val_loss: 0.0811 - val_accuracy: 0.9779\n",
      "Epoch 19/50\n",
      "12/12 [==============================] - 0s 16ms/step - loss: 0.0292 - accuracy: 0.9912 - val_loss: 0.0797 - val_accuracy: 0.9773\n",
      "Epoch 20/50\n",
      "12/12 [==============================] - 0s 14ms/step - loss: 0.0266 - accuracy: 0.9923 - val_loss: 0.0832 - val_accuracy: 0.9770\n",
      "Epoch 21/50\n",
      "12/12 [==============================] - 0s 15ms/step - loss: 0.0246 - accuracy: 0.9926 - val_loss: 0.0839 - val_accuracy: 0.9768\n",
      "Epoch 22/50\n",
      "12/12 [==============================] - 0s 14ms/step - loss: 0.0224 - accuracy: 0.9935 - val_loss: 0.0831 - val_accuracy: 0.9759\n",
      "Epoch 23/50\n",
      "12/12 [==============================] - 0s 14ms/step - loss: 0.0218 - accuracy: 0.9936 - val_loss: 0.0841 - val_accuracy: 0.9772\n",
      "Epoch 24/50\n",
      "12/12 [==============================] - 0s 15ms/step - loss: 0.0188 - accuracy: 0.9944 - val_loss: 0.0825 - val_accuracy: 0.9779\n",
      "Epoch 25/50\n",
      "12/12 [==============================] - 0s 15ms/step - loss: 0.0164 - accuracy: 0.9955 - val_loss: 0.0834 - val_accuracy: 0.9772\n",
      "Epoch 26/50\n",
      "12/12 [==============================] - 0s 15ms/step - loss: 0.0146 - accuracy: 0.9961 - val_loss: 0.0850 - val_accuracy: 0.9778\n",
      "Epoch 27/50\n",
      "12/12 [==============================] - 0s 14ms/step - loss: 0.0136 - accuracy: 0.9962 - val_loss: 0.0872 - val_accuracy: 0.9786\n",
      "Epoch 28/50\n",
      "12/12 [==============================] - 0s 14ms/step - loss: 0.0123 - accuracy: 0.9969 - val_loss: 0.0862 - val_accuracy: 0.9783\n",
      "Epoch 29/50\n",
      "12/12 [==============================] - 0s 15ms/step - loss: 0.0114 - accuracy: 0.9970 - val_loss: 0.0850 - val_accuracy: 0.9786\n",
      "Epoch 30/50\n",
      "12/12 [==============================] - 0s 16ms/step - loss: 0.0099 - accuracy: 0.9976 - val_loss: 0.0857 - val_accuracy: 0.9778\n",
      "Epoch 31/50\n",
      "12/12 [==============================] - 0s 15ms/step - loss: 0.0099 - accuracy: 0.9974 - val_loss: 0.0849 - val_accuracy: 0.9790\n",
      "Epoch 32/50\n",
      "12/12 [==============================] - 0s 15ms/step - loss: 0.0090 - accuracy: 0.9979 - val_loss: 0.0878 - val_accuracy: 0.9787\n",
      "Epoch 33/50\n",
      "12/12 [==============================] - 0s 15ms/step - loss: 0.0088 - accuracy: 0.9978 - val_loss: 0.0884 - val_accuracy: 0.9784\n",
      "Epoch 34/50\n",
      "12/12 [==============================] - 0s 16ms/step - loss: 0.0081 - accuracy: 0.9981 - val_loss: 0.0898 - val_accuracy: 0.9778\n",
      "Epoch 35/50\n",
      "12/12 [==============================] - 0s 15ms/step - loss: 0.0076 - accuracy: 0.9980 - val_loss: 0.0870 - val_accuracy: 0.9787\n",
      "Epoch 36/50\n",
      "12/12 [==============================] - 0s 16ms/step - loss: 0.0077 - accuracy: 0.9981 - val_loss: 0.0886 - val_accuracy: 0.9787\n",
      "Epoch 37/50\n",
      "12/12 [==============================] - 0s 14ms/step - loss: 0.0067 - accuracy: 0.9983 - val_loss: 0.0884 - val_accuracy: 0.9792\n",
      "Epoch 38/50\n",
      "12/12 [==============================] - 0s 13ms/step - loss: 0.0058 - accuracy: 0.9989 - val_loss: 0.0942 - val_accuracy: 0.9785\n",
      "Epoch 39/50\n",
      "12/12 [==============================] - 0s 15ms/step - loss: 0.0046 - accuracy: 0.9993 - val_loss: 0.0918 - val_accuracy: 0.9795\n",
      "Epoch 40/50\n",
      "12/12 [==============================] - 0s 15ms/step - loss: 0.0050 - accuracy: 0.9991 - val_loss: 0.0956 - val_accuracy: 0.9791\n",
      "Epoch 41/50\n",
      "12/12 [==============================] - 0s 14ms/step - loss: 0.0048 - accuracy: 0.9991 - val_loss: 0.0923 - val_accuracy: 0.9787\n",
      "Epoch 42/50\n",
      "12/12 [==============================] - 0s 15ms/step - loss: 0.0046 - accuracy: 0.9992 - val_loss: 0.0943 - val_accuracy: 0.9787\n",
      "Epoch 43/50\n",
      "12/12 [==============================] - 0s 16ms/step - loss: 0.0049 - accuracy: 0.9987 - val_loss: 0.0927 - val_accuracy: 0.9800\n",
      "Epoch 44/50\n",
      "12/12 [==============================] - 0s 15ms/step - loss: 0.0042 - accuracy: 0.9990 - val_loss: 0.0964 - val_accuracy: 0.9797\n",
      "Epoch 45/50\n",
      "12/12 [==============================] - 0s 15ms/step - loss: 0.0043 - accuracy: 0.9990 - val_loss: 0.0999 - val_accuracy: 0.9787\n",
      "Epoch 46/50\n",
      "12/12 [==============================] - 0s 14ms/step - loss: 0.0038 - accuracy: 0.9991 - val_loss: 0.0984 - val_accuracy: 0.9784\n",
      "Epoch 47/50\n",
      "12/12 [==============================] - 0s 14ms/step - loss: 0.0036 - accuracy: 0.9994 - val_loss: 0.0964 - val_accuracy: 0.9791\n",
      "Epoch 48/50\n",
      "12/12 [==============================] - 0s 15ms/step - loss: 0.0033 - accuracy: 0.9993 - val_loss: 0.0981 - val_accuracy: 0.9799\n",
      "Epoch 49/50\n",
      "12/12 [==============================] - 0s 14ms/step - loss: 0.0031 - accuracy: 0.9994 - val_loss: 0.0981 - val_accuracy: 0.9794\n",
      "Epoch 50/50\n",
      "12/12 [==============================] - 0s 14ms/step - loss: 0.0027 - accuracy: 0.9995 - val_loss: 0.0966 - val_accuracy: 0.9792\n",
      "\n",
      " Evaluate the new model against the test set:\n",
      "3/3 [==============================] - 0s 4ms/step - loss: 0.0821 - accuracy: 0.9816\n"
     ]
    },
    {
     "data": {
      "text/plain": [
       "[0.08209041506052017, 0.9815999865531921]"
      ]
     },
     "execution_count": 14,
     "metadata": {},
     "output_type": "execute_result"
    },
    {
     "data": {
      "image/png": "[encoded data removed]",
      "text/plain": [
       "<Figure size 432x288 with 1 Axes>"
      ]
     },
     "metadata": {
      "needs_background": "light"
     },
     "output_type": "display_data"
    }
   ],
   "source": [
    "# The following variables are the hyperparameters.\n",
    "learning_rate = 0.003\n",
    "epochs = 50\n",
    "batch_size = 4000\n",
    "validation_split = 0.2\n",
    "\n",
    "# Establish the model's topography.\n",
    "my_model = create_model(learning_rate)\n",
    "\n",
    "# Train the model on the normalized training set.\n",
    "epochs, hist = train_model(my_model, x_train_normalized, y_train, \n",
    "                           epochs, batch_size, validation_split)\n",
    "\n",
    "# Plot a graph of the metric vs. epochs.\n",
    "list_of_metrics_to_plot = ['accuracy']\n",
    "plot_curve(epochs, hist, list_of_metrics_to_plot)\n",
    "\n",
    "# Evaluate against the test set.\n",
    "print(\"\\n Evaluate the new model against the test set:\")\n",
    "my_model.evaluate(x=x_test_normalized, y=y_test, batch_size=batch_size)"
   ]
  }
 ],
 "metadata": {
  "kernelspec": {
   "display_name": "Python 3",
   "language": "python",
   "name": "python3"
  },
  "language_info": {
   "codemirror_mode": {
    "name": "ipython",
    "version": 3
   },
   "file_extension": ".py",
   "mimetype": "text/x-python",
   "name": "python",
   "nbconvert_exporter": "python",
   "pygments_lexer": "ipython3",
   "version": "3.8.5"
  }
 },
 "nbformat": 4,
 "nbformat_minor": 4
}
